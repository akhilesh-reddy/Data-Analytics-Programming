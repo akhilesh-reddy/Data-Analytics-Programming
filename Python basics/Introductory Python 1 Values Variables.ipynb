{
 "cells": [
  {
   "cell_type": "markdown",
   "metadata": {
    "slideshow": {
     "slide_type": "slide"
    }
   },
   "source": [
    "<h1>Introductory Python 1</h1>\n",
    "\n",
    "Values, Variables, and Control Flow"
   ]
  },
  {
   "cell_type": "markdown",
   "metadata": {
    "slideshow": {
     "slide_type": "slide"
    }
   },
   "source": [
    "The basic constituents of a language are _values_ and _variables_.\n",
    "\n",
    "Python allows for different _types_ of values, starting with the basic types:\n",
    "\n",
    "* Integers, such as 1, 2, 3\n",
    "* Floating point, such as 1.0, 2.53\n",
    "* String, such as 'wassup' or \"this is a longer string\"\n",
    "\n",
    "Note that you can use either single quotes or double quotes for a string."
   ]
  },
  {
   "cell_type": "code",
   "execution_count": 1,
   "metadata": {
    "slideshow": {
     "slide_type": "-"
    }
   },
   "outputs": [
    {
     "data": {
      "text/plain": [
       "'this is a string'"
      ]
     },
     "execution_count": 1,
     "metadata": {},
     "output_type": "execute_result"
    }
   ],
   "source": [
    "\"this is a string\""
   ]
  },
  {
   "cell_type": "code",
   "execution_count": 2,
   "metadata": {
    "slideshow": {
     "slide_type": "fragment"
    }
   },
   "outputs": [
    {
     "data": {
      "text/plain": [
       "\"What's up?\""
      ]
     },
     "execution_count": 2,
     "metadata": {},
     "output_type": "execute_result"
    }
   ],
   "source": [
    "# A string with quotes inside it\n",
    "\"What's up?\""
   ]
  },
  {
   "cell_type": "markdown",
   "metadata": {
    "slideshow": {
     "slide_type": "slide"
    }
   },
   "source": [
    "You can check that double-quotes versus single-quotes makes no difference."
   ]
  },
  {
   "cell_type": "code",
   "execution_count": 3,
   "metadata": {
    "slideshow": {
     "slide_type": "-"
    }
   },
   "outputs": [
    {
     "data": {
      "text/plain": [
       "True"
      ]
     },
     "execution_count": 3,
     "metadata": {},
     "output_type": "execute_result"
    }
   ],
   "source": [
    "\"string quotes\" == 'string quotes'"
   ]
  },
  {
   "cell_type": "markdown",
   "metadata": {
    "slideshow": {
     "slide_type": "fragment"
    }
   },
   "source": [
    "The string \"1\" and the integer 1 are **not** the same"
   ]
  },
  {
   "cell_type": "code",
   "execution_count": 4,
   "metadata": {
    "slideshow": {
     "slide_type": "fragment"
    }
   },
   "outputs": [
    {
     "data": {
      "text/plain": [
       "False"
      ]
     },
     "execution_count": 4,
     "metadata": {},
     "output_type": "execute_result"
    }
   ],
   "source": [
    "1 == \"1\""
   ]
  },
  {
   "cell_type": "markdown",
   "metadata": {
    "slideshow": {
     "slide_type": "fragment"
    }
   },
   "source": [
    "The \"==\" (double equal-to sign) we used is an _operator_. This particular operator checks for equality of the left-hand side and the right-hand side. The comparison is False in this case because an integer cannot equal a string.\n",
    "\n",
    "You can check the types of these values using the _type_ function."
   ]
  },
  {
   "cell_type": "code",
   "execution_count": 5,
   "metadata": {
    "slideshow": {
     "slide_type": "slide"
    }
   },
   "outputs": [
    {
     "data": {
      "text/plain": [
       "str"
      ]
     },
     "execution_count": 5,
     "metadata": {},
     "output_type": "execute_result"
    }
   ],
   "source": [
    "type('1')"
   ]
  },
  {
   "cell_type": "code",
   "execution_count": 6,
   "metadata": {},
   "outputs": [
    {
     "data": {
      "text/plain": [
       "int"
      ]
     },
     "execution_count": 6,
     "metadata": {},
     "output_type": "execute_result"
    }
   ],
   "source": [
    "type(1)"
   ]
  },
  {
   "cell_type": "markdown",
   "metadata": {
    "slideshow": {
     "slide_type": "fragment"
    }
   },
   "source": [
    "<br />\n",
    "<br />\n",
    "There are many other operators. Let's see a few."
   ]
  },
  {
   "cell_type": "code",
   "execution_count": 7,
   "metadata": {
    "slideshow": {
     "slide_type": "slide"
    }
   },
   "outputs": [
    {
     "name": "stdout",
     "output_type": "stream",
     "text": [
      "4\n"
     ]
    }
   ],
   "source": [
    "# addition\n",
    "print 2+2"
   ]
  },
  {
   "cell_type": "code",
   "execution_count": 8,
   "metadata": {
    "slideshow": {
     "slide_type": "fragment"
    }
   },
   "outputs": [
    {
     "data": {
      "text/plain": [
       "False"
      ]
     },
     "execution_count": 8,
     "metadata": {},
     "output_type": "execute_result"
    }
   ],
   "source": [
    "2 + 2 != 4  # check for inequality"
   ]
  },
  {
   "cell_type": "code",
   "execution_count": 9,
   "metadata": {
    "slideshow": {
     "slide_type": "fragment"
    }
   },
   "outputs": [
    {
     "data": {
      "text/plain": [
       "True"
      ]
     },
     "execution_count": 9,
     "metadata": {},
     "output_type": "execute_result"
    }
   ],
   "source": [
    "2 < 3"
   ]
  },
  {
   "cell_type": "code",
   "execution_count": 10,
   "metadata": {
    "slideshow": {
     "slide_type": "fragment"
    }
   },
   "outputs": [
    {
     "data": {
      "text/plain": [
       "True"
      ]
     },
     "execution_count": 10,
     "metadata": {},
     "output_type": "execute_result"
    }
   ],
   "source": [
    "2 < 3 and 3 < 4  # Boolean operators include and, or, not"
   ]
  },
  {
   "cell_type": "code",
   "execution_count": 11,
   "metadata": {
    "slideshow": {
     "slide_type": "fragment"
    }
   },
   "outputs": [
    {
     "data": {
      "text/plain": [
       "True"
      ]
     },
     "execution_count": 11,
     "metadata": {},
     "output_type": "execute_result"
    }
   ],
   "source": [
    "(2 + 2 > 4) or (2 < 3)  # Use parentheses to fix the order of operations"
   ]
  },
  {
   "cell_type": "code",
   "execution_count": 12,
   "metadata": {
    "slideshow": {
     "slide_type": "slide"
    }
   },
   "outputs": [
    {
     "name": "stdout",
     "output_type": "stream",
     "text": [
      "Division needs more care! 1/2= 0\n"
     ]
    }
   ],
   "source": [
    "print 'Division needs more care! 1/2=', 1/2"
   ]
  },
  {
   "cell_type": "markdown",
   "metadata": {
    "slideshow": {
     "slide_type": "-"
    }
   },
   "source": [
    "Integer division is not directly converted to floating point. To get the right answer, at least one of the numbers must be floating point."
   ]
  },
  {
   "cell_type": "code",
   "execution_count": 13,
   "metadata": {},
   "outputs": [
    {
     "name": "stdout",
     "output_type": "stream",
     "text": [
      "1.0/2= 0.5  same as 1.0/2.0= 0.5\n"
     ]
    }
   ],
   "source": [
    "# Division with floating point\n",
    "print \"1.0/2=\", 1.0/2, \" same as 1.0/2.0=\", 1.0/2.0"
   ]
  },
  {
   "cell_type": "markdown",
   "metadata": {
    "slideshow": {
     "slide_type": "fragment"
    }
   },
   "source": [
    "When faced with an operation on one integer and one floating point number, python acts as if both are floating point.\n",
    "\n",
    "    What is (1 * 1.0) / 2?"
   ]
  },
  {
   "cell_type": "code",
   "execution_count": 14,
   "metadata": {
    "slideshow": {
     "slide_type": "fragment"
    }
   },
   "outputs": [
    {
     "data": {
      "text/plain": [
       "0.5"
      ]
     },
     "execution_count": 14,
     "metadata": {},
     "output_type": "execute_result"
    }
   ],
   "source": [
    "(1 * 1.0)/2"
   ]
  },
  {
   "cell_type": "markdown",
   "metadata": {
    "slideshow": {
     "slide_type": "slide"
    }
   },
   "source": [
    "<br />\n",
    "There's another trap for the unwary."
   ]
  },
  {
   "cell_type": "code",
   "execution_count": 15,
   "metadata": {},
   "outputs": [
    {
     "name": "stdout",
     "output_type": "stream",
     "text": [
      "1227\n"
     ]
    }
   ],
   "source": [
    "# the zipcode trap\n",
    "print 02313"
   ]
  },
  {
   "cell_type": "markdown",
   "metadata": {
    "slideshow": {
     "slide_type": "fragment"
    }
   },
   "source": [
    "What happened? Python doesn't expect you to start integers with 0, it takes them to be _octal_ (base-8) representation instead of the usual decimal representation.\n",
    "\n",
    "How do we avoid it? Save the zipcode as a string, and use the int() function to convert it to an integer."
   ]
  },
  {
   "cell_type": "code",
   "execution_count": 16,
   "metadata": {
    "slideshow": {
     "slide_type": "fragment"
    }
   },
   "outputs": [
    {
     "name": "stdout",
     "output_type": "stream",
     "text": [
      "zipcode is  02313\n",
      "Extract to integer: 2313\n"
     ]
    }
   ],
   "source": [
    "print 'zipcode is ', '02313'\n",
    "print 'Extract to integer:', int('02313')"
   ]
  },
  {
   "cell_type": "markdown",
   "metadata": {
    "slideshow": {
     "slide_type": "slide"
    }
   },
   "source": [
    "int() is a conversion function; it converts from some other type to integer."
   ]
  },
  {
   "cell_type": "code",
   "execution_count": 17,
   "metadata": {},
   "outputs": [
    {
     "name": "stdout",
     "output_type": "stream",
     "text": [
      "1\n",
      "12321\n"
     ]
    }
   ],
   "source": [
    "print int(1.2)        # Convert from floating point (rounds the floating point number)\n",
    "print int('12321')    # Convert from string"
   ]
  },
  {
   "cell_type": "markdown",
   "metadata": {
    "slideshow": {
     "slide_type": "fragment"
    }
   },
   "source": [
    "**float()** converts to floating point."
   ]
  },
  {
   "cell_type": "code",
   "execution_count": 18,
   "metadata": {
    "slideshow": {
     "slide_type": "fragment"
    }
   },
   "outputs": [
    {
     "name": "stdout",
     "output_type": "stream",
     "text": [
      "1.0\n",
      "1.23\n"
     ]
    }
   ],
   "source": [
    "print float(1)       # Convert from integer\n",
    "print float('1.23')  # Convert from string"
   ]
  },
  {
   "cell_type": "markdown",
   "metadata": {
    "slideshow": {
     "slide_type": "fragment"
    }
   },
   "source": [
    "**str()** converts to string."
   ]
  },
  {
   "cell_type": "code",
   "execution_count": 19,
   "metadata": {
    "slideshow": {
     "slide_type": "fragment"
    }
   },
   "outputs": [
    {
     "name": "stdout",
     "output_type": "stream",
     "text": [
      "1\n",
      "1.54\n"
     ]
    }
   ],
   "source": [
    "print str(1)      # Convert from integer\n",
    "print str(1.54)   # Convert from floating point"
   ]
  },
  {
   "cell_type": "code",
   "execution_count": 20,
   "metadata": {
    "slideshow": {
     "slide_type": "fragment"
    }
   },
   "outputs": [
    {
     "data": {
      "text/plain": [
       "str"
      ]
     },
     "execution_count": 20,
     "metadata": {},
     "output_type": "execute_result"
    }
   ],
   "source": [
    "type(str(1.54))"
   ]
  },
  {
   "cell_type": "markdown",
   "metadata": {
    "slideshow": {
     "slide_type": "slide"
    }
   },
   "source": [
    "## Variables\n",
    "Variables hold information as values."
   ]
  },
  {
   "cell_type": "code",
   "execution_count": 21,
   "metadata": {},
   "outputs": [
    {
     "name": "stdout",
     "output_type": "stream",
     "text": [
      "The value of variable x is 1.34\n"
     ]
    }
   ],
   "source": [
    "# variable assignment\n",
    "x = 1.34\n",
    "greeting = 'The value of variable x is'\n",
    "print greeting, x"
   ]
  },
  {
   "cell_type": "code",
   "execution_count": 22,
   "metadata": {
    "slideshow": {
     "slide_type": "fragment"
    }
   },
   "outputs": [
    {
     "name": "stdout",
     "output_type": "stream",
     "text": [
      "The type of x is <type 'float'>\n",
      "The type of greeting is <type 'str'>\n"
     ]
    }
   ],
   "source": [
    "print 'The type of x is', type(x)\n",
    "print 'The type of greeting is', type(greeting)"
   ]
  },
  {
   "cell_type": "markdown",
   "metadata": {
    "slideshow": {
     "slide_type": "slide"
    }
   },
   "source": [
    "Remember: variables are case-sensitive!"
   ]
  },
  {
   "cell_type": "code",
   "execution_count": 23,
   "metadata": {},
   "outputs": [
    {
     "name": "stdout",
     "output_type": "stream",
     "text": [
      "x= 1.2 and X= 3.4 are different\n"
     ]
    }
   ],
   "source": [
    "x = 1.2\n",
    "X = 3.4\n",
    "print 'x=', x, 'and X=', X, 'are different'"
   ]
  },
  {
   "cell_type": "markdown",
   "metadata": {
    "slideshow": {
     "slide_type": "slide"
    }
   },
   "source": [
    "The values in variables can change (after, they are called \"variable\"). For instance:"
   ]
  },
  {
   "cell_type": "code",
   "execution_count": 24,
   "metadata": {},
   "outputs": [
    {
     "name": "stdout",
     "output_type": "stream",
     "text": [
      "Current value of x= 1.2 of type <type 'float'>\n",
      "Changed value of x= ABC of type <type 'str'>\n"
     ]
    }
   ],
   "source": [
    "print 'Current value of x=', x, 'of type', type(x)\n",
    "x = 'ABC'\n",
    "print 'Changed value of x=', x, 'of type', type(x)"
   ]
  },
  {
   "cell_type": "markdown",
   "metadata": {
    "slideshow": {
     "slide_type": "fragment"
    }
   },
   "source": [
    "More interesting: do operations using variables."
   ]
  },
  {
   "cell_type": "code",
   "execution_count": 25,
   "metadata": {
    "slideshow": {
     "slide_type": "fragment"
    }
   },
   "outputs": [
    {
     "name": "stdout",
     "output_type": "stream",
     "text": [
      "In year 2015 price = 1000.0\n",
      "In year 2016 price = 1030.0\n"
     ]
    }
   ],
   "source": [
    "year = 2015\n",
    "price = 1000.0\n",
    "print 'In year', year, 'price =', price\n",
    "\n",
    "# The clock ticks\n",
    "year = year + 1\n",
    "price = price * 1.03  # inflation of 3%\n",
    "print 'In year', year, 'price =', price"
   ]
  },
  {
   "cell_type": "markdown",
   "metadata": {
    "slideshow": {
     "slide_type": "slide"
    }
   },
   "source": [
    "Doing simple operations and assigning to the same variable is so common, there's a shortcut."
   ]
  },
  {
   "cell_type": "code",
   "execution_count": 26,
   "metadata": {
    "slideshow": {
     "slide_type": "-"
    }
   },
   "outputs": [
    {
     "name": "stdout",
     "output_type": "stream",
     "text": [
      "In year 2017 price = 1060.9\n"
     ]
    }
   ],
   "source": [
    "# The clock ticks again\n",
    "year += 1        # Shortcut for year = year + 1\n",
    "price *= 1.03    # Shortcut for price = price * 1.03\n",
    "print 'In year', year, 'price =', price"
   ]
  },
  {
   "cell_type": "markdown",
   "metadata": {
    "slideshow": {
     "slide_type": "slide"
    }
   },
   "source": [
    "#### Getting user input\n",
    "\n",
    "The quintessential variable is user input.\n",
    "\n",
    "To get input, use the **raw_input()** function"
   ]
  },
  {
   "cell_type": "code",
   "execution_count": 27,
   "metadata": {
    "slideshow": {
     "slide_type": "fragment"
    }
   },
   "outputs": [
    {
     "name": "stdout",
     "output_type": "stream",
     "text": [
      "Please enter your name: Deepayan\n",
      "Hey Deepayan !\n"
     ]
    }
   ],
   "source": [
    "x = raw_input('Please enter your name: ')\n",
    "print 'Hey', x, '!'"
   ]
  },
  {
   "cell_type": "markdown",
   "metadata": {
    "slideshow": {
     "slide_type": "fragment"
    }
   },
   "source": [
    "* **raw_input(string)** prints the string and waits for the user's input.\n",
    "* This input is returned in the variable x\n",
    "* What is the type of x?"
   ]
  },
  {
   "cell_type": "code",
   "execution_count": 28,
   "metadata": {
    "slideshow": {
     "slide_type": "fragment"
    }
   },
   "outputs": [
    {
     "data": {
      "text/plain": [
       "str"
      ]
     },
     "execution_count": 28,
     "metadata": {},
     "output_type": "execute_result"
    }
   ],
   "source": [
    "type(x)"
   ]
  },
  {
   "cell_type": "markdown",
   "metadata": {
    "slideshow": {
     "slide_type": "slide"
    }
   },
   "source": [
    "Suppose I want to get the inflation estimate from the user.\n",
    "\n",
    "How do I get it?"
   ]
  },
  {
   "cell_type": "code",
   "execution_count": 29,
   "metadata": {
    "slideshow": {
     "slide_type": "fragment"
    }
   },
   "outputs": [
    {
     "name": "stdout",
     "output_type": "stream",
     "text": [
      "Please enter your inflation estimate (in percentage): 3.2\n",
      "Inflation is 3.2 percent\n"
     ]
    }
   ],
   "source": [
    "inflation = float(raw_input('Please enter your inflation estimate (in percentage): '))\n",
    "print 'Inflation is', inflation, 'percent'"
   ]
  },
  {
   "cell_type": "code",
   "execution_count": 30,
   "metadata": {
    "slideshow": {
     "slide_type": "fragment"
    }
   },
   "outputs": [
    {
     "name": "stdout",
     "output_type": "stream",
     "text": [
      "inflation is a variable of type <type 'float'>\n"
     ]
    }
   ],
   "source": [
    "print 'inflation is a variable of type', type(inflation)"
   ]
  },
  {
   "cell_type": "markdown",
   "metadata": {
    "slideshow": {
     "slide_type": "fragment"
    }
   },
   "source": [
    "One other thing to notice: we strung two functions together.\n",
    "\n",
    "    float(raw_input('question to ask the user'))\n",
    "\n",
    "Python executes this from the **inside-out**:\n",
    "\n",
    "* First, do raw_input()\n",
    "    * This returns a string\n",
    "* Then, do float() on this string\n",
    "    * This returns a floating-point number"
   ]
  },
  {
   "cell_type": "markdown",
   "metadata": {
    "slideshow": {
     "slide_type": "slide"
    }
   },
   "source": [
    "## Statements and Expressions\n",
    "\n",
    "It's useful to differentiate between _statements_ and _expressions_. \n",
    "\n",
    "* An **expression** has a value; you can print it.\n",
    "* A **statement**, on the other hand, does some work, but doesn't necessarily have a value."
   ]
  },
  {
   "cell_type": "code",
   "execution_count": 31,
   "metadata": {
    "slideshow": {
     "slide_type": "-"
    }
   },
   "outputs": [
    {
     "name": "stdout",
     "output_type": "stream",
     "text": [
      "value of the expression x * 3 is 15.0\n"
     ]
    }
   ],
   "source": [
    "x = 5.0  # statement\n",
    "x * 3    # expression\n",
    "print \"value of the expression x * 3 is\", x * 3"
   ]
  },
  {
   "cell_type": "markdown",
   "metadata": {
    "slideshow": {
     "slide_type": "slide"
    }
   },
   "source": [
    "#### String expressions\n",
    "The usual operators '+' and '\\*' have different meanings for strings. '+' performs **concatenation**, i.e., it joins strings together end-to-end."
   ]
  },
  {
   "cell_type": "code",
   "execution_count": 32,
   "metadata": {},
   "outputs": [
    {
     "data": {
      "text/plain": [
       "'abcdef'"
      ]
     },
     "execution_count": 32,
     "metadata": {},
     "output_type": "execute_result"
    }
   ],
   "source": [
    "'abc' + 'def' # string concatenation using '+'"
   ]
  },
  {
   "cell_type": "code",
   "execution_count": 33,
   "metadata": {},
   "outputs": [
    {
     "name": "stdout",
     "output_type": "stream",
     "text": [
      "ladybird\n"
     ]
    }
   ],
   "source": [
    "first_string = 'lady'\n",
    "second_string = 'bird'\n",
    "print first_string + second_string"
   ]
  },
  {
   "cell_type": "markdown",
   "metadata": {
    "slideshow": {
     "slide_type": "fragment"
    }
   },
   "source": [
    "The '\\*' performs **repetition**, i.e., it repeats the same string several times over. Think of the analogy to numbers: \n",
    "\n",
    "* 4 \\* 3 is the same as 4 + 4 + 4\n",
    "* Similarly, 'abc' \\* 3 acts like 'abc' + 'abc' + 'abc'."
   ]
  },
  {
   "cell_type": "code",
   "execution_count": 34,
   "metadata": {
    "slideshow": {
     "slide_type": "fragment"
    }
   },
   "outputs": [
    {
     "data": {
      "text/plain": [
       "'abcabcabc'"
      ]
     },
     "execution_count": 34,
     "metadata": {},
     "output_type": "execute_result"
    }
   ],
   "source": [
    "'abc' * 3"
   ]
  },
  {
   "cell_type": "markdown",
   "metadata": {
    "slideshow": {
     "slide_type": "slide"
    }
   },
   "source": [
    "## Control Flow\n",
    "There are several standard ways of placing conditions on control flow:\n",
    "\n",
    "* if-then-else\n",
    "* for loops\n",
    "* while loops\n",
    "\n",
    "Let us see some examples of these."
   ]
  },
  {
   "cell_type": "markdown",
   "metadata": {
    "slideshow": {
     "slide_type": "slide"
    }
   },
   "source": [
    "**If-then-else:**\n",
    "The if-then-else paradigm goes as follows:\n",
    "\n",
    "    if some-condition:\n",
    "        statements if the condition is true\n",
    "    else:\n",
    "        statements if the condition is false"
   ]
  },
  {
   "cell_type": "code",
   "execution_count": 35,
   "metadata": {
    "slideshow": {
     "slide_type": "fragment"
    }
   },
   "outputs": [
    {
     "name": "stdout",
     "output_type": "stream",
     "text": [
      "Freezing!\n"
     ]
    }
   ],
   "source": [
    "temperature = 30\n",
    "if temperature <= 32:\n",
    "    print 'Freezing!'\n",
    "else:\n",
    "    print 'Beach weather, dude.'"
   ]
  },
  {
   "cell_type": "markdown",
   "metadata": {
    "slideshow": {
     "slide_type": "fragment"
    }
   },
   "source": [
    "Two points are critical:\n",
    "\n",
    "* At the end of each condition, you put the colon sign (the **:** sign)\n",
    "* The statements are indented from the if/elif/else."
   ]
  },
  {
   "cell_type": "markdown",
   "metadata": {
    "slideshow": {
     "slide_type": "slide"
    }
   },
   "source": [
    "A more general version include the \"elif\" keyword, which is short for \"else if\".\n",
    "\n",
    "    if condition-1:\n",
    "        statements if condition-1 holds\n",
    "    elif condition-2:\n",
    "        statements if condition-2 holds but NOT condition-1\n",
    "    elif condition-3:\n",
    "        statements if condition-3 holds but NEITHER condition-1 NOR condition-2 hold\n",
    "    else:\n",
    "        statements if none of the above conditions holds"
   ]
  },
  {
   "cell_type": "markdown",
   "metadata": {
    "slideshow": {
     "slide_type": "slide"
    }
   },
   "source": [
    "Let's introduce the **len()** function:\n",
    "\n",
    "*  Given a string, it returns the length of the string\n",
    "    * len('Advanced') is 8"
   ]
  },
  {
   "cell_type": "code",
   "execution_count": 36,
   "metadata": {
    "slideshow": {
     "slide_type": "fragment"
    }
   },
   "outputs": [
    {
     "name": "stdout",
     "output_type": "stream",
     "text": [
      "Doable\n"
     ]
    }
   ],
   "source": [
    "name = 'Deepayan'\n",
    "if len(name) <= 4:\n",
    "    print \"Short 'n sweet\"\n",
    "elif len(name) <= 10:\n",
    "    print \"Doable\"\n",
    "else:\n",
    "    print \"Tongue-twister\""
   ]
  },
  {
   "cell_type": "markdown",
   "metadata": {
    "slideshow": {
     "slide_type": "slide"
    }
   },
   "source": [
    "One important use-case of if-then-else statements is **error checking**.\n",
    "\n",
    "Let's go back to the problem of getting user input about inflation. How do we enforce that the user enters a valid percentage?"
   ]
  },
  {
   "cell_type": "code",
   "execution_count": 37,
   "metadata": {
    "slideshow": {
     "slide_type": "fragment"
    }
   },
   "outputs": [
    {
     "name": "stdout",
     "output_type": "stream",
     "text": [
      "Enter inflation (in percentage): -23\n",
      "Are you sure you meant deflation?\n"
     ]
    }
   ],
   "source": [
    "inflation = float(raw_input('Enter inflation (in percentage): '))\n",
    "if inflation > 100.0:\n",
    "    print 'Too high!'\n",
    "elif inflation < -100.0:\n",
    "    print 'Too low!'\n",
    "elif inflation < 0.0:\n",
    "    print 'Are you sure you meant deflation?'\n",
    "else:\n",
    "    print 'OK. Inflation =', inflation"
   ]
  },
  {
   "cell_type": "markdown",
   "metadata": {
    "slideshow": {
     "slide_type": "slide"
    }
   },
   "source": [
    "**for loops:**\n",
    "For loops allow statements to be run over a list of items."
   ]
  },
  {
   "cell_type": "code",
   "execution_count": 38,
   "metadata": {
    "slideshow": {
     "slide_type": "fragment"
    }
   },
   "outputs": [
    {
     "name": "stdout",
     "output_type": "stream",
     "text": [
      "cat 3\n",
      "window 6\n",
      "deforestation 13\n"
     ]
    }
   ],
   "source": [
    "# Measure lengths of strings\n",
    "words = ['cat', 'window', 'deforestation']  # This is the syntax for a \"list\"\n",
    "for w in words:\n",
    "    print w, len(w)   # len(w) is the length of string w"
   ]
  },
  {
   "cell_type": "markdown",
   "metadata": {
    "slideshow": {
     "slide_type": "fragment"
    }
   },
   "source": [
    "The statements within the for loop (here, just the print statement) are run with the variable w set to each list item in turn. This is the same as if we'd written:\n",
    "\n",
    "    w = 'cat'\n",
    "    print w, len(w)\n",
    "    w = 'window'\n",
    "    print w, len(w)\n",
    "    w = 'deforestation'\n",
    "    print w, len(w)\n"
   ]
  },
  {
   "cell_type": "markdown",
   "metadata": {
    "slideshow": {
     "slide_type": "fragment"
    }
   },
   "source": [
    "Once again, note that\n",
    "\n",
    "* the **for** statement ends with a colon (**:**), and\n",
    "* the statements within the for loop are indented."
   ]
  },
  {
   "cell_type": "markdown",
   "metadata": {
    "slideshow": {
     "slide_type": "slide"
    }
   },
   "source": [
    "One particularly common use of a for loop is to run some statements a given number of times, say 5 times."
   ]
  },
  {
   "cell_type": "code",
   "execution_count": 39,
   "metadata": {},
   "outputs": [
    {
     "name": "stdout",
     "output_type": "stream",
     "text": [
      "range(5) gives the list [0, 1, 2, 3, 4]\n",
      "Iteration 0\n",
      "Iteration 1\n",
      "Iteration 2\n",
      "Iteration 3\n",
      "Iteration 4\n"
     ]
    }
   ],
   "source": [
    "print \"range(5) gives the list\", range(5)\n",
    "\n",
    "# Using the range() function in a for loop\n",
    "for i in range(5):\n",
    "    print \"Iteration\", i"
   ]
  },
  {
   "cell_type": "markdown",
   "metadata": {
    "slideshow": {
     "slide_type": "slide"
    }
   },
   "source": [
    "_Example_: Inflation adjustment over the next 10 years."
   ]
  },
  {
   "cell_type": "code",
   "execution_count": 40,
   "metadata": {
    "slideshow": {
     "slide_type": "fragment"
    }
   },
   "outputs": [
    {
     "name": "stdout",
     "output_type": "stream",
     "text": [
      "In year 2015 price will be 1000.0\n",
      "In year 2016 price will be 1030.0\n",
      "In year 2017 price will be 1060.9\n",
      "In year 2018 price will be 1092.727\n",
      "In year 2019 price will be 1125.50881\n",
      "In year 2020 price will be 1159.2740743\n",
      "In year 2021 price will be 1194.05229653\n",
      "In year 2022 price will be 1229.87386542\n",
      "In year 2023 price will be 1266.77008139\n",
      "In year 2024 price will be 1304.77318383\n"
     ]
    }
   ],
   "source": [
    "inflation = 3.0\n",
    "year = 2015\n",
    "price = 1000.0\n",
    "for iteration_number in range(10):\n",
    "    print 'In year', year, 'price will be', price\n",
    "    year += 1\n",
    "    price *= 1.0 + inflation / 100.0   "
   ]
  },
  {
   "cell_type": "markdown",
   "metadata": {
    "slideshow": {
     "slide_type": "slide"
    }
   },
   "source": [
    "**while loop:** This is similar to for loops."
   ]
  },
  {
   "cell_type": "code",
   "execution_count": 41,
   "metadata": {},
   "outputs": [
    {
     "name": "stdout",
     "output_type": "stream",
     "text": [
      "5\n",
      "4\n",
      "3\n",
      "2\n",
      "1\n",
      "Blastoff!\n"
     ]
    }
   ],
   "source": [
    "n = 5\n",
    "while n > 0: # This sets the condition\n",
    "    print n\n",
    "    n -= 1  # The value of n is being modified using its own value\n",
    "print 'Blastoff!'"
   ]
  },
  {
   "cell_type": "markdown",
   "metadata": {
    "slideshow": {
     "slide_type": "fragment"
    }
   },
   "source": [
    "Here's what happens in a while loop:\n",
    "\n",
    "* Evaluate the conditional statement (n > 0), yielding True or False\n",
    "* If the condition is False:\n",
    "    * exit the while loop and skip to any statement after the while loop\n",
    "* If the condition is True:\n",
    "    * execute the statements in the body of the while loop, and\n",
    "    * repeat the loop."
   ]
  },
  {
   "cell_type": "markdown",
   "metadata": {
    "slideshow": {
     "slide_type": "slide"
    }
   },
   "source": [
    "## Functions\n",
    "Functions operate on expressions, and generate new values. We've already seen some of them:\n",
    "\n",
    "* the _type_ function, which takes an expression and returns its type\n",
    "* the _int_ function, which extracts the integer part of an expression\n",
    "\n",
    "Other common type-conversion functions are _float_ and _str_."
   ]
  },
  {
   "cell_type": "code",
   "execution_count": 42,
   "metadata": {},
   "outputs": [
    {
     "data": {
      "text/plain": [
       "2.0"
      ]
     },
     "execution_count": 42,
     "metadata": {},
     "output_type": "execute_result"
    }
   ],
   "source": [
    "float(2)  # convert integer to floating point"
   ]
  },
  {
   "cell_type": "code",
   "execution_count": 43,
   "metadata": {},
   "outputs": [
    {
     "data": {
      "text/plain": [
       "2.33"
      ]
     },
     "execution_count": 43,
     "metadata": {},
     "output_type": "execute_result"
    }
   ],
   "source": [
    "float('2.33')  # convert string to floating point"
   ]
  },
  {
   "cell_type": "code",
   "execution_count": 44,
   "metadata": {},
   "outputs": [
    {
     "data": {
      "text/plain": [
       "'2.34'"
      ]
     },
     "execution_count": 44,
     "metadata": {},
     "output_type": "execute_result"
    }
   ],
   "source": [
    "str(2.34)  # convert floating point to string"
   ]
  },
  {
   "cell_type": "markdown",
   "metadata": {
    "slideshow": {
     "slide_type": "slide"
    }
   },
   "source": [
    "There are many built-in functions, which often reside in _modules_. In fact, for much of our data analysis, we will use specialized modules such as pandas, numpy, and scikit-learn. As an example, consider the _math_ module."
   ]
  },
  {
   "cell_type": "code",
   "execution_count": 45,
   "metadata": {},
   "outputs": [
    {
     "name": "stdout",
     "output_type": "stream",
     "text": [
      "The square-root of 2 is 1.41421356237\n"
     ]
    }
   ],
   "source": [
    "import math  # think of this as loading a module so its functions become available\n",
    "print 'The square-root of 2 is', math.sqrt(2)"
   ]
  },
  {
   "cell_type": "markdown",
   "metadata": {
    "slideshow": {
     "slide_type": "slide"
    }
   },
   "source": [
    "Note the function call format: modulename.function. This allows you to access different functions with the same name from different modules."
   ]
  },
  {
   "cell_type": "code",
   "execution_count": 46,
   "metadata": {
    "slideshow": {
     "slide_type": "-"
    }
   },
   "outputs": [
    {
     "name": "stdout",
     "output_type": "stream",
     "text": [
      "The absolute difference between the two square roots is 0.0\n"
     ]
    }
   ],
   "source": [
    "import math\n",
    "import numpy\n",
    "x = math.sqrt(2)\n",
    "y = numpy.sqrt(2)\n",
    "absolute_diff = abs(x - y)  # Get the absolute value of the difference\n",
    "print 'The absolute difference between the two square roots is', absolute_diff"
   ]
  },
  {
   "cell_type": "markdown",
   "metadata": {
    "slideshow": {
     "slide_type": "slide"
    }
   },
   "source": [
    "What functions does a module provide?"
   ]
  },
  {
   "cell_type": "code",
   "execution_count": 47,
   "metadata": {
    "slideshow": {
     "slide_type": "fragment"
    }
   },
   "outputs": [
    {
     "name": "stdout",
     "output_type": "stream",
     "text": [
      "Help on built-in module math:\n",
      "\n",
      "NAME\n",
      "    math\n",
      "\n",
      "FILE\n",
      "    (built-in)\n",
      "\n",
      "DESCRIPTION\n",
      "    This module is always available.  It provides access to the\n",
      "    mathematical functions defined by the C standard.\n",
      "\n",
      "FUNCTIONS\n",
      "    acos(...)\n",
      "        acos(x)\n",
      "        \n",
      "        Return the arc cosine (measured in radians) of x.\n",
      "    \n",
      "    acosh(...)\n",
      "        acosh(x)\n",
      "        \n",
      "        Return the inverse hyperbolic cosine of x.\n",
      "    \n",
      "    asin(...)\n",
      "        asin(x)\n",
      "        \n",
      "        Return the arc sine (measured in radians) of x.\n",
      "    \n",
      "    asinh(...)\n",
      "        asinh(x)\n",
      "        \n",
      "        Return the inverse hyperbolic sine of x.\n",
      "    \n",
      "    atan(...)\n",
      "        atan(x)\n",
      "        \n",
      "        Return the arc tangent (measured in radians) of x.\n",
      "    \n",
      "    atan2(...)\n",
      "        atan2(y, x)\n",
      "        \n",
      "        Return the arc tangent (measured in radians) of y/x.\n",
      "        Unlike atan(y/x), the signs of both x and y are considered.\n",
      "    \n",
      "    atanh(...)\n",
      "        atanh(x)\n",
      "        \n",
      "        Return the inverse hyperbolic tangent of x.\n",
      "    \n",
      "    ceil(...)\n",
      "        ceil(x)\n",
      "        \n",
      "        Return the ceiling of x as a float.\n",
      "        This is the smallest integral value >= x.\n",
      "    \n",
      "    copysign(...)\n",
      "        copysign(x, y)\n",
      "        \n",
      "        Return x with the sign of y.\n",
      "    \n",
      "    cos(...)\n",
      "        cos(x)\n",
      "        \n",
      "        Return the cosine of x (measured in radians).\n",
      "    \n",
      "    cosh(...)\n",
      "        cosh(x)\n",
      "        \n",
      "        Return the hyperbolic cosine of x.\n",
      "    \n",
      "    degrees(...)\n",
      "        degrees(x)\n",
      "        \n",
      "        Convert angle x from radians to degrees.\n",
      "    \n",
      "    erf(...)\n",
      "        erf(x)\n",
      "        \n",
      "        Error function at x.\n",
      "    \n",
      "    erfc(...)\n",
      "        erfc(x)\n",
      "        \n",
      "        Complementary error function at x.\n",
      "    \n",
      "    exp(...)\n",
      "        exp(x)\n",
      "        \n",
      "        Return e raised to the power of x.\n",
      "    \n",
      "    expm1(...)\n",
      "        expm1(x)\n",
      "        \n",
      "        Return exp(x)-1.\n",
      "        This function avoids the loss of precision involved in the direct evaluation of exp(x)-1 for small x.\n",
      "    \n",
      "    fabs(...)\n",
      "        fabs(x)\n",
      "        \n",
      "        Return the absolute value of the float x.\n",
      "    \n",
      "    factorial(...)\n",
      "        factorial(x) -> Integral\n",
      "        \n",
      "        Find x!. Raise a ValueError if x is negative or non-integral.\n",
      "    \n",
      "    floor(...)\n",
      "        floor(x)\n",
      "        \n",
      "        Return the floor of x as a float.\n",
      "        This is the largest integral value <= x.\n",
      "    \n",
      "    fmod(...)\n",
      "        fmod(x, y)\n",
      "        \n",
      "        Return fmod(x, y), according to platform C.  x % y may differ.\n",
      "    \n",
      "    frexp(...)\n",
      "        frexp(x)\n",
      "        \n",
      "        Return the mantissa and exponent of x, as pair (m, e).\n",
      "        m is a float and e is an int, such that x = m * 2.**e.\n",
      "        If x is 0, m and e are both 0.  Else 0.5 <= abs(m) < 1.0.\n",
      "    \n",
      "    fsum(...)\n",
      "        fsum(iterable)\n",
      "        \n",
      "        Return an accurate floating point sum of values in the iterable.\n",
      "        Assumes IEEE-754 floating point arithmetic.\n",
      "    \n",
      "    gamma(...)\n",
      "        gamma(x)\n",
      "        \n",
      "        Gamma function at x.\n",
      "    \n",
      "    hypot(...)\n",
      "        hypot(x, y)\n",
      "        \n",
      "        Return the Euclidean distance, sqrt(x*x + y*y).\n",
      "    \n",
      "    isinf(...)\n",
      "        isinf(x) -> bool\n",
      "        \n",
      "        Check if float x is infinite (positive or negative).\n",
      "    \n",
      "    isnan(...)\n",
      "        isnan(x) -> bool\n",
      "        \n",
      "        Check if float x is not a number (NaN).\n",
      "    \n",
      "    ldexp(...)\n",
      "        ldexp(x, i)\n",
      "        \n",
      "        Return x * (2**i).\n",
      "    \n",
      "    lgamma(...)\n",
      "        lgamma(x)\n",
      "        \n",
      "        Natural logarithm of absolute value of Gamma function at x.\n",
      "    \n",
      "    log(...)\n",
      "        log(x[, base])\n",
      "        \n",
      "        Return the logarithm of x to the given base.\n",
      "        If the base not specified, returns the natural logarithm (base e) of x.\n",
      "    \n",
      "    log10(...)\n",
      "        log10(x)\n",
      "        \n",
      "        Return the base 10 logarithm of x.\n",
      "    \n",
      "    log1p(...)\n",
      "        log1p(x)\n",
      "        \n",
      "        Return the natural logarithm of 1+x (base e).\n",
      "        The result is computed in a way which is accurate for x near zero.\n",
      "    \n",
      "    modf(...)\n",
      "        modf(x)\n",
      "        \n",
      "        Return the fractional and integer parts of x.  Both results carry the sign\n",
      "        of x and are floats.\n",
      "    \n",
      "    pow(...)\n",
      "        pow(x, y)\n",
      "        \n",
      "        Return x**y (x to the power of y).\n",
      "    \n",
      "    radians(...)\n",
      "        radians(x)\n",
      "        \n",
      "        Convert angle x from degrees to radians.\n",
      "    \n",
      "    sin(...)\n",
      "        sin(x)\n",
      "        \n",
      "        Return the sine of x (measured in radians).\n",
      "    \n",
      "    sinh(...)\n",
      "        sinh(x)\n",
      "        \n",
      "        Return the hyperbolic sine of x.\n",
      "    \n",
      "    sqrt(...)\n",
      "        sqrt(x)\n",
      "        \n",
      "        Return the square root of x.\n",
      "    \n",
      "    tan(...)\n",
      "        tan(x)\n",
      "        \n",
      "        Return the tangent of x (measured in radians).\n",
      "    \n",
      "    tanh(...)\n",
      "        tanh(x)\n",
      "        \n",
      "        Return the hyperbolic tangent of x.\n",
      "    \n",
      "    trunc(...)\n",
      "        trunc(x:Real) -> Integral\n",
      "        \n",
      "        Truncates x to the nearest Integral toward 0. Uses the __trunc__ magic method.\n",
      "\n",
      "DATA\n",
      "    e = 2.718281828459045\n",
      "    pi = 3.141592653589793\n",
      "\n",
      "\n"
     ]
    }
   ],
   "source": [
    "help(math)"
   ]
  },
  {
   "cell_type": "markdown",
   "metadata": {
    "slideshow": {
     "slide_type": "slide"
    }
   },
   "source": [
    "We can define our own functions, and it is very useful for building re-usable code. If some code will need to be used twice or more, it is better to create a function."
   ]
  },
  {
   "cell_type": "markdown",
   "metadata": {},
   "source": [
    "    def function_name(parameter_1, parameter_2, parameter_3):\n",
    "        # Do\n",
    "        # Some\n",
    "        # Processing\n",
    "        \n",
    "        return result"
   ]
  },
  {
   "cell_type": "markdown",
   "metadata": {
    "slideshow": {
     "slide_type": "fragment"
    }
   },
   "source": [
    "There are several points to note:\n",
    "\n",
    "* A function is created using the **def** keyword, again ending with a colon.\n",
    "* All indented statements below the def statement form the body of the function.\n",
    "* A function can accept **parameters**, so that the function can be called repeatedly with different values for its parameters.\n",
    "* A function can return values to the caller using the **return** keyword."
   ]
  },
  {
   "cell_type": "markdown",
   "metadata": {
    "slideshow": {
     "slide_type": "slide"
    }
   },
   "source": [
    "_Example_: Define a function **integer_division** that\n",
    "\n",
    "* takes two positive integers a and b, and \n",
    "* returns the quotient and the remainder of a / b.\n",
    "\n",
    "\n",
    "* integer_division(20, 3) should return 6, 2 \n",
    "    * since 20 / 3 gives 6 with remainder 2\n",
    "* integer_division(16, 9) should return 1, 7 \n",
    "    * since 16 / 9 gives 1 with remainder 7"
   ]
  },
  {
   "cell_type": "code",
   "execution_count": 48,
   "metadata": {
    "slideshow": {
     "slide_type": "slide"
    }
   },
   "outputs": [
    {
     "name": "stdout",
     "output_type": "stream",
     "text": [
      "16 = 5 * 3 + 1\n"
     ]
    },
    {
     "data": {
      "text/plain": [
       "(5, 1)"
      ]
     },
     "execution_count": 48,
     "metadata": {},
     "output_type": "execute_result"
    }
   ],
   "source": [
    "def integer_division(a, b):\n",
    "    # The function has two parameters a and b\n",
    "    quotient = a / b\n",
    "    remainder = a - quotient * b\n",
    "    print a, '=', quotient, '*', b, '+', remainder\n",
    "    \n",
    "    # Finally, we can return results. Here, we return both quotient and remainder\n",
    "    return quotient, remainder\n",
    "\n",
    "# All statements above were indented, so they form the function body.\n",
    "# We now call the function with some parameter values.\n",
    "integer_division(16, 3)"
   ]
  },
  {
   "cell_type": "code",
   "execution_count": 49,
   "metadata": {
    "slideshow": {
     "slide_type": "slide"
    }
   },
   "outputs": [
    {
     "name": "stdout",
     "output_type": "stream",
     "text": [
      "23 = 4 * 5 + 3\n"
     ]
    },
    {
     "data": {
      "text/plain": [
       "(4, 3)"
      ]
     },
     "execution_count": 49,
     "metadata": {},
     "output_type": "execute_result"
    }
   ],
   "source": [
    "# Re-use the function with different parameter values\n",
    "integer_division(23, 5) "
   ]
  },
  {
   "cell_type": "code",
   "execution_count": 50,
   "metadata": {
    "slideshow": {
     "slide_type": "fragment"
    }
   },
   "outputs": [
    {
     "name": "stdout",
     "output_type": "stream",
     "text": [
      "32 = 6 * 5 + 2\n"
     ]
    },
    {
     "data": {
      "text/plain": [
       "(6, 2)"
      ]
     },
     "execution_count": 50,
     "metadata": {},
     "output_type": "execute_result"
    }
   ],
   "source": [
    "# Another way of calling a function is by naming the parameters\n",
    "integer_division(b=5, a=32)"
   ]
  },
  {
   "cell_type": "code",
   "execution_count": 51,
   "metadata": {
    "slideshow": {
     "slide_type": "fragment"
    }
   },
   "outputs": [
    {
     "name": "stdout",
     "output_type": "stream",
     "text": [
      "Enter first parameter:35\n",
      "Enter second parameter:7\n",
      "35 = 5 * 7 + 0\n",
      "quotient = 5 and remainder = 0\n"
     ]
    }
   ],
   "source": [
    "# Get input from user, using the built-in raw_input() function\n",
    "a = int(raw_input(\"Enter first parameter:\"))\n",
    "b = int(raw_input(\"Enter second parameter:\"))\n",
    "\n",
    "# The results of the function can be used by the function caller.\n",
    "# Our function returns quotient and remainder.\n",
    "q, r = integer_division(a, b)\n",
    "print 'quotient =', q, 'and remainder =', r"
   ]
  },
  {
   "cell_type": "markdown",
   "metadata": {
    "slideshow": {
     "slide_type": "slide"
    }
   },
   "source": [
    "### Example: calculator\n",
    "Let us combine all we've learnt into a calculator program (adapted from [here](http://en.wikibooks.org/wiki/A_Beginner%27s_Python_Tutorial/Functions)). We'll add one extra wrinkle:\n",
    "\n",
    "* For each function, write a \"docstring\", within three double-quotes. This will be printed if the user says _help(function_name)_.\n",
    "\n",
    "Docstrings are not necessary, but they are good practice."
   ]
  },
  {
   "cell_type": "markdown",
   "metadata": {
    "slideshow": {
     "slide_type": "slide"
    }
   },
   "source": [
    "What are the steps in building a calculator?"
   ]
  },
  {
   "cell_type": "markdown",
   "metadata": {
    "slideshow": {
     "slide_type": "fragment"
    }
   },
   "source": [
    "1. We need to prompt the user about whether he/she wants to add/subtract/multiply/divide, or exit.\n",
    "2. We need to write functions that do each of these operations, given two numbers.\n",
    "3. We need to loop over the first two steps until the user exits."
   ]
  },
  {
   "cell_type": "markdown",
   "metadata": {
    "slideshow": {
     "slide_type": "slide"
    }
   },
   "source": [
    "**Step 1:** Let us write the first function, which prompts the user to input his or her choice."
   ]
  },
  {
   "cell_type": "code",
   "execution_count": 52,
   "metadata": {
    "slideshow": {
     "slide_type": "fragment"
    }
   },
   "outputs": [],
   "source": [
    "def get_number(prompt):\n",
    "    \"\"\"Prompt the user for a number\"\"\"\n",
    "    return int(raw_input(prompt))\n",
    "\n",
    "def menu():\n",
    "    \"\"\"print what calculations this calculator can perform\n",
    "       and ask the user to choose.\n",
    "       This function takes no parameters as input.\n",
    "       It returns the user's choice.\"\"\"\n",
    "    print\n",
    "    print \"Your options are:\"\n",
    "    print \"1) Addition\"\n",
    "    print \"2) Subtraction\"\n",
    "    print \"3) Multiplication\"\n",
    "    print \"4) Division\"\n",
    "    print \"5) Quit calculator\"\n",
    "    print\n",
    "    return get_number(\"Choose your option: \")"
   ]
  },
  {
   "cell_type": "markdown",
   "metadata": {
    "slideshow": {
     "slide_type": "slide"
    }
   },
   "source": [
    "**Step 2:** We will write each of the functions our calculator must support."
   ]
  },
  {
   "cell_type": "code",
   "execution_count": 53,
   "metadata": {
    "slideshow": {
     "slide_type": "fragment"
    }
   },
   "outputs": [],
   "source": [
    "def add(a,b):\n",
    "    \"\"\"this adds two numbers given\"\"\"\n",
    "    print a, \"+\", b, \"=\", a + b\n",
    " \n",
    "def sub(a,b):\n",
    "    \"\"\"this subtracts two numbers given\"\"\"\n",
    "    print b, \"-\", a, \"=\", b - a\n",
    " \n",
    "def mul(a,b):\n",
    "    \"\"\"this multiplies two numbers given\"\"\"\n",
    "    print a, \"*\", b, \"=\", a * b\n",
    " \n",
    "def div(a,b):\n",
    "    \"\"\"this divides two numbers given\"\"\"\n",
    "    print a, \"/\", b, \"=\", a / b"
   ]
  },
  {
   "cell_type": "markdown",
   "metadata": {
    "slideshow": {
     "slide_type": "slide"
    }
   },
   "source": [
    "**Step 3:** Bring it all together by repeating the first two steps until the user exits."
   ]
  },
  {
   "cell_type": "code",
   "execution_count": 54,
   "metadata": {
    "slideshow": {
     "slide_type": "fragment"
    }
   },
   "outputs": [],
   "source": [
    "def operate_calculator():\n",
    "    \"\"\"The glue function that calls the other functions\"\"\"\n",
    "    \n",
    "    choice = menu()\n",
    "    while choice != 5:  # choice 5 was to quit the calculator\n",
    "        \n",
    "        # Process this choice\n",
    "        if choice == 1:\n",
    "            add(get_number(\"Add this: \"), get_number(\"to this: \"))\n",
    "        elif choice == 2:\n",
    "            sub(get_number(\"Subtract this: \"), get_number(\"from this: \"))\n",
    "        elif choice == 3:\n",
    "            mul(get_number(\"Multiply this: \"), get_number(\"by this: \"))\n",
    "        elif choice == 4:\n",
    "            div(get_number(\"Divide this: \"), get_number(\"by this: \"))\n",
    "        else:\n",
    "            print \"Invalid choice\", choice\n",
    "            print \"Please choose again\"\n",
    "        \n",
    "        # Get a new choice\n",
    "        choice = menu()\n",
    " \n",
    "    print \"Thank you for using the calculator!\""
   ]
  },
  {
   "cell_type": "code",
   "execution_count": 55,
   "metadata": {
    "slideshow": {
     "slide_type": "slide"
    }
   },
   "outputs": [
    {
     "name": "stdout",
     "output_type": "stream",
     "text": [
      "\n",
      "Your options are:\n",
      "1) Addition\n",
      "2) Subtraction\n",
      "3) Multiplication\n",
      "4) Division\n",
      "5) Quit calculator\n",
      "\n",
      "Choose your option: 1\n",
      "Add this: 2\n",
      "to this: 3\n",
      "2 + 3 = 5\n",
      "\n",
      "Your options are:\n",
      "1) Addition\n",
      "2) Subtraction\n",
      "3) Multiplication\n",
      "4) Division\n",
      "5) Quit calculator\n",
      "\n",
      "Choose your option: 5\n",
      "Thank you for using the calculator!\n"
     ]
    }
   ],
   "source": [
    "### Now all functions are declared, and we finally run the code\n",
    "operate_calculator()"
   ]
  },
  {
   "cell_type": "code",
   "execution_count": 56,
   "metadata": {
    "slideshow": {
     "slide_type": "slide"
    }
   },
   "outputs": [
    {
     "name": "stdout",
     "output_type": "stream",
     "text": [
      "Help on function menu in module __main__:\n",
      "\n",
      "menu()\n",
      "    print what calculations this calculator can perform\n",
      "    and ask the user to choose.\n",
      "    This function takes no parameters as input.\n",
      "    It returns the user's choice.\n",
      "\n"
     ]
    }
   ],
   "source": [
    "help(menu)"
   ]
  },
  {
   "cell_type": "markdown",
   "metadata": {
    "slideshow": {
     "slide_type": "slide"
    }
   },
   "source": [
    "## Example: Find cube root\n",
    "\n",
    "Given a positive integer a, find it's cube root.\n",
    "\n",
    "How do we do it?"
   ]
  },
  {
   "cell_type": "markdown",
   "metadata": {
    "slideshow": {
     "slide_type": "fragment"
    }
   },
   "source": [
    "#### The bisection algorithm\n",
    "\n",
    "* Suppose you knew the square root was in the interval [lower, upper]\n",
    "* Take the midpoint m = (lower + upper ) / 2.0\n",
    "* Take its cube\n",
    "    * m_cubed = m \\* m \\* m\n",
    "* Is m_cubed greater than a?\n",
    "    * The cube root of a is smaller than m\n",
    "    * Reduce upper to m\n",
    "* Is m_cubed less than a?\n",
    "    * The cube root of a is greater than m\n",
    "    * Increase lower to m\n",
    "* Repeat"
   ]
  },
  {
   "cell_type": "code",
   "execution_count": 57,
   "metadata": {
    "slideshow": {
     "slide_type": "slide"
    }
   },
   "outputs": [],
   "source": [
    "def our_cube_root(a):\n",
    "    lower = 0\n",
    "    upper = a\n",
    "    \n",
    "    for i in range(20):  # iterate 20 times\n",
    "        m = (lower + upper) / 2.0\n",
    "        m_cubed = m * m * m\n",
    "        if m_cubed < a:\n",
    "            lower = m\n",
    "        else:\n",
    "            upper = m\n",
    "    print 'Best estimate cube root of', a, 'is', m\n",
    "    return m"
   ]
  },
  {
   "cell_type": "code",
   "execution_count": 58,
   "metadata": {},
   "outputs": [
    {
     "name": "stdout",
     "output_type": "stream",
     "text": [
      "Best estimate cube root of 8 is 1.99999237061\n"
     ]
    },
    {
     "data": {
      "text/plain": [
       "1.9999923706054688"
      ]
     },
     "execution_count": 58,
     "metadata": {},
     "output_type": "execute_result"
    }
   ],
   "source": [
    "our_cube_root(8)"
   ]
  },
  {
   "cell_type": "code",
   "execution_count": 59,
   "metadata": {},
   "outputs": [
    {
     "name": "stdout",
     "output_type": "stream",
     "text": [
      "Best estimate cube root of 27 is 3.00001430511\n"
     ]
    },
    {
     "data": {
      "text/plain": [
       "3.000014305114746"
      ]
     },
     "execution_count": 59,
     "metadata": {},
     "output_type": "execute_result"
    }
   ],
   "source": [
    "our_cube_root(27)"
   ]
  },
  {
   "cell_type": "markdown",
   "metadata": {
    "slideshow": {
     "slide_type": "slide"
    }
   },
   "source": [
    "## Summary\n",
    "\n",
    "* Python allows three basic kinds of **values** (integer, floating-point, and string),\n",
    "* on which we can run **operations** (addition, subtraction, less-than, greater-than, ==), and\n",
    "* which can be stored and processed in **variables**.\n",
    "\n",
    "\n",
    "* The statements of a program and run one after another\n",
    "* but the flow can be changed by **if-then-else** statements, **for-loops**, and **while-loops**\n",
    "\n",
    "\n",
    "* Define **functions** to reuse code"
   ]
  }
 ],
 "metadata": {
  "celltoolbar": "Slideshow",
  "kernelspec": {
   "display_name": "Python 2",
   "language": "python",
   "name": "python2"
  },
  "language_info": {
   "codemirror_mode": {
    "name": "ipython",
    "version": 2
   },
   "file_extension": ".py",
   "mimetype": "text/x-python",
   "name": "python",
   "nbconvert_exporter": "python",
   "pygments_lexer": "ipython2",
   "version": "2.7.15"
  }
 },
 "nbformat": 4,
 "nbformat_minor": 1
}
