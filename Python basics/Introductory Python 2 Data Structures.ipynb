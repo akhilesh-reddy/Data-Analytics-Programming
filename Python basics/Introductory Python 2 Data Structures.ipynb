{
 "cells": [
  {
   "cell_type": "markdown",
   "metadata": {
    "slideshow": {
     "slide_type": "slide"
    }
   },
   "source": [
    "# Introductory Python 2\n",
    "In the previous lectures, we saw _variables, control flow, and functions_. Among variables, we only looked at the basic types: integers, floating point numbers, and strings. Here, we will discuss more complex types:\n",
    "\n",
    "* Lists\n",
    "* Tuples\n",
    "* Dictionaries"
   ]
  },
  {
   "cell_type": "markdown",
   "metadata": {
    "slideshow": {
     "slide_type": "slide"
    }
   },
   "source": [
    "## Lists\n",
    "A list is a sequence of items, just like a string is a sequence of characters. The difference is that a list can have items of arbitrary type."
   ]
  },
  {
   "cell_type": "code",
   "execution_count": 1,
   "metadata": {
    "slideshow": {
     "slide_type": "fragment"
    }
   },
   "outputs": [
    {
     "name": "stdout",
     "output_type": "stream",
     "text": [
      "x = [10, 20, 30]\n",
      "y = ['a', 'list', 'of', 'strings']\n",
      "z = [1, 'composite', 'list']\n"
     ]
    }
   ],
   "source": [
    "# A list of numbers\n",
    "x = [10, 20, 30]\n",
    "\n",
    "# A list of strings\n",
    "y = ['a', 'list', 'of', 'strings']\n",
    "\n",
    "# A composite list\n",
    "z = [1, 'composite', 'list']\n",
    "\n",
    "print 'x =', x\n",
    "print 'y =', y\n",
    "print 'z =', z"
   ]
  },
  {
   "cell_type": "code",
   "execution_count": 2,
   "metadata": {
    "slideshow": {
     "slide_type": "fragment"
    }
   },
   "outputs": [
    {
     "name": "stdout",
     "output_type": "stream",
     "text": [
      "The combined list is [[10, 20, 30], ['a', 'list', 'of', 'strings'], [1, 'composite', 'list']]\n",
      "The length of w is 3\n"
     ]
    }
   ],
   "source": [
    "# You can even have a list of lists\n",
    "w = [x, y, z]\n",
    "print 'The combined list is', w\n",
    "# Each item of w is a list, so w only has 3 items\n",
    "print 'The length of w is', len(w)"
   ]
  },
  {
   "cell_type": "markdown",
   "metadata": {
    "slideshow": {
     "slide_type": "slide"
    }
   },
   "source": [
    "What use is a list?\n",
    "\n",
    "* Lists are mainly to organize a set of items on which you plan to do further processing\n",
    "    * A list of item prices, on which you will do an inflation adjustment\n",
    "    * A list of share prices for a company, from which you want to figure out daily returns\n",
    "    * A list of investment accounts on which you want to do detailed portfolio analysis\n",
    "* Lists are _efficient_\n",
    "    * List storage is cheap, and processing is fast"
   ]
  },
  {
   "cell_type": "markdown",
   "metadata": {
    "slideshow": {
     "slide_type": "slide"
    }
   },
   "source": [
    "We will discuss lists a lot:\n",
    "\n",
    "* How to access individual items in a list\n",
    "* How to modify a list\n",
    "* What are the common operations on lists, and tools for the same\n",
    "* How do we iterate over all list items\n",
    "* How do we copy lists\n",
    "\n",
    "Lists are a critical data structure, so it will be worth our while to spend time on them."
   ]
  },
  {
   "cell_type": "markdown",
   "metadata": {
    "slideshow": {
     "slide_type": "slide"
    }
   },
   "source": [
    "### How can we access items in a list\n",
    "\n",
    "Lists are _indexed_ from 0 onwards:\n",
    "\n",
    "* the first element of a list x is x[0],\n",
    "* the second element is x[1],\n",
    "* and so on..."
   ]
  },
  {
   "cell_type": "code",
   "execution_count": 3,
   "metadata": {},
   "outputs": [
    {
     "name": "stdout",
     "output_type": "stream",
     "text": [
      "x = [10, 20, 30]\n"
     ]
    }
   ],
   "source": [
    "print 'x =', x"
   ]
  },
  {
   "cell_type": "code",
   "execution_count": 4,
   "metadata": {
    "slideshow": {
     "slide_type": "fragment"
    }
   },
   "outputs": [
    {
     "name": "stdout",
     "output_type": "stream",
     "text": [
      "The first element is x[0] = 10\n",
      "The length of the list is 3\n",
      "The last element is 30\n"
     ]
    }
   ],
   "source": [
    "print 'The first element is x[0] =', x[0]\n",
    "print 'The length of the list is', len(x)\n",
    "print 'The last element is', x[len(x) - 1]  # NOT x[len(x)]"
   ]
  },
  {
   "cell_type": "markdown",
   "metadata": {
    "slideshow": {
     "slide_type": "slide"
    }
   },
   "source": [
    "There is a simpler way to access the last elements of a list..."
   ]
  },
  {
   "cell_type": "code",
   "execution_count": 5,
   "metadata": {},
   "outputs": [
    {
     "name": "stdout",
     "output_type": "stream",
     "text": [
      "The last element is 30\n",
      "The second-last element is 20\n"
     ]
    }
   ],
   "source": [
    "# A short-form for x[len(x) - 1] is x[-1]\n",
    "print 'The last element is', x[-1]\n",
    "print 'The second-last element is', x[-2]"
   ]
  },
  {
   "cell_type": "markdown",
   "metadata": {
    "slideshow": {
     "slide_type": "slide"
    }
   },
   "source": [
    "Finally, instead of individual items, you can get _slices_ of a list."
   ]
  },
  {
   "cell_type": "code",
   "execution_count": 6,
   "metadata": {},
   "outputs": [
    {
     "name": "stdout",
     "output_type": "stream",
     "text": [
      "t[1:4] = ['b', 'c', 'd']\n"
     ]
    }
   ],
   "source": [
    "t = ['a', 'b', 'c', 'd', 'e', 'f']\n",
    "print 't[1:4] =', t[1:4]"
   ]
  },
  {
   "cell_type": "markdown",
   "metadata": {
    "slideshow": {
     "slide_type": "-"
    }
   },
   "source": [
    "Here, t[1:4] means: create a new list whose first element is t[1], the second is t[2], all the way up to t[4-1]=t[3]."
   ]
  },
  {
   "cell_type": "code",
   "execution_count": 7,
   "metadata": {
    "slideshow": {
     "slide_type": "fragment"
    }
   },
   "outputs": [
    {
     "data": {
      "text/plain": [
       "[]"
      ]
     },
     "execution_count": 7,
     "metadata": {},
     "output_type": "execute_result"
    }
   ],
   "source": [
    "t[1:1] # empty slice"
   ]
  },
  {
   "cell_type": "code",
   "execution_count": 8,
   "metadata": {
    "slideshow": {
     "slide_type": "fragment"
    }
   },
   "outputs": [
    {
     "data": {
      "text/plain": [
       "['a', 'b', 'c', 'd', 'e', 'f']"
      ]
     },
     "execution_count": 8,
     "metadata": {},
     "output_type": "execute_result"
    }
   ],
   "source": [
    "t[0:len(t)] # full list"
   ]
  },
  {
   "cell_type": "code",
   "execution_count": 9,
   "metadata": {
    "slideshow": {
     "slide_type": "fragment"
    }
   },
   "outputs": [
    {
     "data": {
      "text/plain": [
       "['b', 'c', 'd', 'e']"
      ]
     },
     "execution_count": 9,
     "metadata": {},
     "output_type": "execute_result"
    }
   ],
   "source": [
    "t[1:-1]"
   ]
  },
  {
   "cell_type": "code",
   "execution_count": 10,
   "metadata": {
    "slideshow": {
     "slide_type": "fragment"
    }
   },
   "outputs": [
    {
     "data": {
      "text/plain": [
       "['a', 'c', 'e']"
      ]
     },
     "execution_count": 10,
     "metadata": {},
     "output_type": "execute_result"
    }
   ],
   "source": [
    "t[0:len(t):2]  # get every second item"
   ]
  },
  {
   "cell_type": "markdown",
   "metadata": {
    "slideshow": {
     "slide_type": "slide"
    }
   },
   "source": [
    "We often need _the first few items_ or _the last few items_ of a list, so there's a special short-form for these."
   ]
  },
  {
   "cell_type": "code",
   "execution_count": 11,
   "metadata": {},
   "outputs": [
    {
     "name": "stdout",
     "output_type": "stream",
     "text": [
      "['a', 'b', 'c', 'd', 'e']\n",
      "['d', 'e', 'f']\n",
      "['a', 'b', 'c', 'd', 'e', 'f']\n"
     ]
    }
   ],
   "source": [
    "print t[:5]   # Same as t[0:5]\n",
    "print t[3:]   # Same as t[3:len(t)]\n",
    "print t[:]    # Same as t[0:len(t)]"
   ]
  },
  {
   "cell_type": "markdown",
   "metadata": {
    "slideshow": {
     "slide_type": "fragment"
    }
   },
   "source": [
    "Last three elements of a list?"
   ]
  },
  {
   "cell_type": "code",
   "execution_count": 12,
   "metadata": {
    "slideshow": {
     "slide_type": "fragment"
    }
   },
   "outputs": [
    {
     "name": "stdout",
     "output_type": "stream",
     "text": [
      "['d', 'e', 'f']\n"
     ]
    }
   ],
   "source": [
    "print t[-3:]"
   ]
  },
  {
   "cell_type": "markdown",
   "metadata": {
    "slideshow": {
     "slide_type": "slide"
    }
   },
   "source": [
    "### How do we modify a list?\n",
    "\n",
    "We can modify any items we can access in a list."
   ]
  },
  {
   "cell_type": "code",
   "execution_count": 13,
   "metadata": {},
   "outputs": [
    {
     "name": "stdout",
     "output_type": "stream",
     "text": [
      "t = ['a', 'b', 'c', 'd', 'e', 'f']\n",
      "modified t = ['A', 'b', 'C', 'D', 'e', 'F']\n"
     ]
    }
   ],
   "source": [
    "print 't =', t\n",
    "t[0] = 'A'          # Modify first item\n",
    "t[-1] = 'F'         # Modify last item\n",
    "t[2:4] = ['C', 'D'] # Modify a slice\n",
    "print 'modified t =', t"
   ]
  },
  {
   "cell_type": "markdown",
   "metadata": {
    "slideshow": {
     "slide_type": "slide"
    }
   },
   "source": [
    "### Common list operations\n",
    "\n",
    "Remember how the + operator on strings _concatenated_ strings?"
   ]
  },
  {
   "cell_type": "code",
   "execution_count": 14,
   "metadata": {},
   "outputs": [
    {
     "name": "stdout",
     "output_type": "stream",
     "text": [
      "MisterBrown\n"
     ]
    }
   ],
   "source": [
    "print 'Mister' + 'Brown'"
   ]
  },
  {
   "cell_type": "markdown",
   "metadata": {
    "slideshow": {
     "slide_type": "fragment"
    }
   },
   "source": [
    "It has the same effect on lists."
   ]
  },
  {
   "cell_type": "code",
   "execution_count": 15,
   "metadata": {
    "slideshow": {
     "slide_type": "fragment"
    }
   },
   "outputs": [
    {
     "name": "stdout",
     "output_type": "stream",
     "text": [
      "['The', 'brown', 'fox', 'jumped', 'over', 'the', 'fence']\n"
     ]
    }
   ],
   "source": [
    "print ['The', 'brown'] + ['fox', 'jumped'] + ['over', 'the', 'fence']"
   ]
  },
  {
   "cell_type": "markdown",
   "metadata": {
    "slideshow": {
     "slide_type": "fragment"
    }
   },
   "source": [
    "Similarly, the \\* operator _repeats_ items."
   ]
  },
  {
   "cell_type": "code",
   "execution_count": 16,
   "metadata": {
    "slideshow": {
     "slide_type": "fragment"
    }
   },
   "outputs": [
    {
     "name": "stdout",
     "output_type": "stream",
     "text": [
      "hey hey hey \n",
      "[1, 2, 3, 1, 2, 3, 1, 2, 3]\n"
     ]
    }
   ],
   "source": [
    "print 'hey ' * 3\n",
    "print [1, 2, 3] * 3"
   ]
  },
  {
   "cell_type": "code",
   "execution_count": 17,
   "metadata": {
    "slideshow": {
     "slide_type": "slide"
    }
   },
   "outputs": [
    {
     "name": "stdout",
     "output_type": "stream",
     "text": [
      "['a', 'b', 'c', 'd', 'e']\n"
     ]
    }
   ],
   "source": [
    "# sort arranges elements from low to high\n",
    "t = ['d', 'c', 'e', 'b', 'a']\n",
    "t.sort()\n",
    "print t"
   ]
  },
  {
   "cell_type": "markdown",
   "metadata": {
    "slideshow": {
     "slide_type": "fragment"
    }
   },
   "source": [
    "Something interesting happened here. We called the sort _method_ on the list _object_ t. The list is not just a sequence of items; it also comes with a bunch of built-in functions to modify or operate on that list. So the list t is really a combination of\n",
    "\n",
    "* the list items, that we provide, and\n",
    "* the functions (also called _methods_)\n",
    "\n",
    "To emphasize this, we sometimes say that a list is an _object_."
   ]
  },
  {
   "cell_type": "markdown",
   "metadata": {
    "slideshow": {
     "slide_type": "fragment"
    }
   },
   "source": [
    "Note that **sort() actually changes the list**. If we don't want to change the list, we can use _sorted()_."
   ]
  },
  {
   "cell_type": "code",
   "execution_count": 18,
   "metadata": {
    "slideshow": {
     "slide_type": "fragment"
    }
   },
   "outputs": [
    {
     "name": "stdout",
     "output_type": "stream",
     "text": [
      "Sorted version of t = ['a', 'b', 'c', 'd', 'e']\n",
      "t remains untouched: t = ['d', 'c', 'e', 'b', 'a']\n"
     ]
    }
   ],
   "source": [
    "t = ['d', 'c', 'e', 'b', 'a']\n",
    "print 'Sorted version of t =', sorted(t)\n",
    "print 't remains untouched: t =', t"
   ]
  },
  {
   "cell_type": "markdown",
   "metadata": {
    "slideshow": {
     "slide_type": "slide"
    }
   },
   "source": [
    "Both _sort()_ and _sorted()_ default to sorting in ascending order, but they have an option to sort in descending order."
   ]
  },
  {
   "cell_type": "code",
   "execution_count": 19,
   "metadata": {},
   "outputs": [
    {
     "name": "stdout",
     "output_type": "stream",
     "text": [
      "t = ['d', 'c', 'e', 'b', 'a']\n",
      "Descending via sorted = ['e', 'd', 'c', 'b', 'a']\n"
     ]
    }
   ],
   "source": [
    "print 't =', t\n",
    "print 'Descending via sorted =', sorted(t, reverse=True)"
   ]
  },
  {
   "cell_type": "code",
   "execution_count": 20,
   "metadata": {
    "slideshow": {
     "slide_type": "fragment"
    }
   },
   "outputs": [
    {
     "name": "stdout",
     "output_type": "stream",
     "text": [
      "['e', 'd', 'c', 'b', 'a']\n"
     ]
    }
   ],
   "source": [
    "t.sort(reverse=True)\n",
    "print t"
   ]
  },
  {
   "cell_type": "markdown",
   "metadata": {
    "slideshow": {
     "slide_type": "fragment"
    }
   },
   "source": [
    "But how do we sort if the list has more complicated items? Say, a list of lists..."
   ]
  },
  {
   "cell_type": "code",
   "execution_count": 21,
   "metadata": {
    "slideshow": {
     "slide_type": "slide"
    }
   },
   "outputs": [
    {
     "name": "stdout",
     "output_type": "stream",
     "text": [
      "[[100000, 3.4], [30000, 2.9], [80000, 2.1], [110000, 2.8]]\n"
     ]
    }
   ],
   "source": [
    "t = []\n",
    "t.append([100000, 3.4])   # mortgage, and mortgage rate (percentage)\n",
    "t.append([30000, 2.9])\n",
    "t.append([80000, 2.1])\n",
    "t.append([110000, 2.8])\n",
    "print t"
   ]
  },
  {
   "cell_type": "markdown",
   "metadata": {
    "slideshow": {
     "slide_type": "fragment"
    }
   },
   "source": [
    "Suppose we want to sort by mortgage rate. We need to write a function that\n",
    "\n",
    "* can take any item of the list t as input\n",
    "    * i.e., something like [100000, 3.4]\n",
    "* and returns the value on which we want to sort\n",
    "    * from [100000, 3.4], return 3.4"
   ]
  },
  {
   "cell_type": "code",
   "execution_count": 22,
   "metadata": {
    "slideshow": {
     "slide_type": "fragment"
    }
   },
   "outputs": [],
   "source": [
    "def getMortgageRate(list_item):\n",
    "    \"\"\"Given a list_item of type [mortgage_amount, mortgage_rate],\n",
    "       return the mortgage_rate.\"\"\"\n",
    "    return list_item[1]"
   ]
  },
  {
   "cell_type": "code",
   "execution_count": 23,
   "metadata": {
    "slideshow": {
     "slide_type": "fragment"
    }
   },
   "outputs": [
    {
     "data": {
      "text/plain": [
       "[[80000, 2.1], [110000, 2.8], [30000, 2.9], [100000, 3.4]]"
      ]
     },
     "execution_count": 23,
     "metadata": {},
     "output_type": "execute_result"
    }
   ],
   "source": [
    "sorted(t, key=getMortgageRate)"
   ]
  },
  {
   "cell_type": "markdown",
   "metadata": {
    "slideshow": {
     "slide_type": "slide"
    }
   },
   "source": [
    "_Example_: Sort by descending order of yearly mortgage interest."
   ]
  },
  {
   "cell_type": "code",
   "execution_count": 24,
   "metadata": {
    "slideshow": {
     "slide_type": "fragment"
    }
   },
   "outputs": [],
   "source": [
    "def yearly_interest(list_item):\n",
    "    \"\"\"list_item is [mortgage_amount, mortgage_rate]\n",
    "       Yearly payment = amount * rate / 100.0\"\"\"\n",
    "    return list_item[0] * (list_item[1] / 100.0)"
   ]
  },
  {
   "cell_type": "code",
   "execution_count": 25,
   "metadata": {
    "slideshow": {
     "slide_type": "fragment"
    }
   },
   "outputs": [
    {
     "name": "stdout",
     "output_type": "stream",
     "text": [
      "amount = 100000  rate = 3.4 yearly interest = 3400.0\n",
      "amount = 110000  rate = 2.8 yearly interest = 3080.0\n",
      "amount = 80000  rate = 2.1 yearly interest = 1680.0\n",
      "amount = 30000  rate = 2.9 yearly interest = 870.0\n"
     ]
    }
   ],
   "source": [
    "sorted_list = sorted(t, key=yearly_interest, reverse=True)\n",
    "for i in sorted_list:\n",
    "    print 'amount =', i[0], ' rate =', i[1], 'yearly interest =', i[0] * (i[1] / 100.0)"
   ]
  },
  {
   "cell_type": "markdown",
   "metadata": {
    "slideshow": {
     "slide_type": "slide"
    }
   },
   "source": [
    "### Appending and deleting items"
   ]
  },
  {
   "cell_type": "code",
   "execution_count": 26,
   "metadata": {},
   "outputs": [
    {
     "name": "stdout",
     "output_type": "stream",
     "text": [
      "After appending: ['a', 'b', 'c']\n",
      "Deleted item c from end of the list\n",
      "New list = ['a', 'b']\n"
     ]
    }
   ],
   "source": [
    "# Some common methods\n",
    "t = []  # empty list\n",
    "\n",
    "# Appending elements\n",
    "t.append('a')\n",
    "t.append('b')\n",
    "t.append('c')\n",
    "print 'After appending:', t\n",
    "\n",
    "# Deleting elements\n",
    "item = t.pop()\n",
    "print 'Deleted item', item, 'from end of the list'\n",
    "print 'New list =', t"
   ]
  },
  {
   "cell_type": "markdown",
   "metadata": {
    "slideshow": {
     "slide_type": "slide"
    }
   },
   "source": [
    "There are several such methods, not just for lists but also for strings and other data types. Just call help() on the object you wish to study."
   ]
  },
  {
   "cell_type": "code",
   "execution_count": 27,
   "metadata": {},
   "outputs": [
    {
     "name": "stdout",
     "output_type": "stream",
     "text": [
      "Help on list object:\n",
      "\n",
      "class list(object)\n",
      " |  list() -> new empty list\n",
      " |  list(iterable) -> new list initialized from iterable's items\n",
      " |  \n",
      " |  Methods defined here:\n",
      " |  \n",
      " |  __add__(...)\n",
      " |      x.__add__(y) <==> x+y\n",
      " |  \n",
      " |  __contains__(...)\n",
      " |      x.__contains__(y) <==> y in x\n",
      " |  \n",
      " |  __delitem__(...)\n",
      " |      x.__delitem__(y) <==> del x[y]\n",
      " |  \n",
      " |  __delslice__(...)\n",
      " |      x.__delslice__(i, j) <==> del x[i:j]\n",
      " |      \n",
      " |      Use of negative indices is not supported.\n",
      " |  \n",
      " |  __eq__(...)\n",
      " |      x.__eq__(y) <==> x==y\n",
      " |  \n",
      " |  __ge__(...)\n",
      " |      x.__ge__(y) <==> x>=y\n",
      " |  \n",
      " |  __getattribute__(...)\n",
      " |      x.__getattribute__('name') <==> x.name\n",
      " |  \n",
      " |  __getitem__(...)\n",
      " |      x.__getitem__(y) <==> x[y]\n",
      " |  \n",
      " |  __getslice__(...)\n",
      " |      x.__getslice__(i, j) <==> x[i:j]\n",
      " |      \n",
      " |      Use of negative indices is not supported.\n",
      " |  \n",
      " |  __gt__(...)\n",
      " |      x.__gt__(y) <==> x>y\n",
      " |  \n",
      " |  __iadd__(...)\n",
      " |      x.__iadd__(y) <==> x+=y\n",
      " |  \n",
      " |  __imul__(...)\n",
      " |      x.__imul__(y) <==> x*=y\n",
      " |  \n",
      " |  __init__(...)\n",
      " |      x.__init__(...) initializes x; see help(type(x)) for signature\n",
      " |  \n",
      " |  __iter__(...)\n",
      " |      x.__iter__() <==> iter(x)\n",
      " |  \n",
      " |  __le__(...)\n",
      " |      x.__le__(y) <==> x<=y\n",
      " |  \n",
      " |  __len__(...)\n",
      " |      x.__len__() <==> len(x)\n",
      " |  \n",
      " |  __lt__(...)\n",
      " |      x.__lt__(y) <==> x<y\n",
      " |  \n",
      " |  __mul__(...)\n",
      " |      x.__mul__(n) <==> x*n\n",
      " |  \n",
      " |  __ne__(...)\n",
      " |      x.__ne__(y) <==> x!=y\n",
      " |  \n",
      " |  __repr__(...)\n",
      " |      x.__repr__() <==> repr(x)\n",
      " |  \n",
      " |  __reversed__(...)\n",
      " |      L.__reversed__() -- return a reverse iterator over the list\n",
      " |  \n",
      " |  __rmul__(...)\n",
      " |      x.__rmul__(n) <==> n*x\n",
      " |  \n",
      " |  __setitem__(...)\n",
      " |      x.__setitem__(i, y) <==> x[i]=y\n",
      " |  \n",
      " |  __setslice__(...)\n",
      " |      x.__setslice__(i, j, y) <==> x[i:j]=y\n",
      " |      \n",
      " |      Use  of negative indices is not supported.\n",
      " |  \n",
      " |  __sizeof__(...)\n",
      " |      L.__sizeof__() -- size of L in memory, in bytes\n",
      " |  \n",
      " |  append(...)\n",
      " |      L.append(object) -- append object to end\n",
      " |  \n",
      " |  count(...)\n",
      " |      L.count(value) -> integer -- return number of occurrences of value\n",
      " |  \n",
      " |  extend(...)\n",
      " |      L.extend(iterable) -- extend list by appending elements from the iterable\n",
      " |  \n",
      " |  index(...)\n",
      " |      L.index(value, [start, [stop]]) -> integer -- return first index of value.\n",
      " |      Raises ValueError if the value is not present.\n",
      " |  \n",
      " |  insert(...)\n",
      " |      L.insert(index, object) -- insert object before index\n",
      " |  \n",
      " |  pop(...)\n",
      " |      L.pop([index]) -> item -- remove and return item at index (default last).\n",
      " |      Raises IndexError if list is empty or index is out of range.\n",
      " |  \n",
      " |  remove(...)\n",
      " |      L.remove(value) -- remove first occurrence of value.\n",
      " |      Raises ValueError if the value is not present.\n",
      " |  \n",
      " |  reverse(...)\n",
      " |      L.reverse() -- reverse *IN PLACE*\n",
      " |  \n",
      " |  sort(...)\n",
      " |      L.sort(cmp=None, key=None, reverse=False) -- stable sort *IN PLACE*;\n",
      " |      cmp(x, y) -> -1, 0, 1\n",
      " |  \n",
      " |  ----------------------------------------------------------------------\n",
      " |  Data and other attributes defined here:\n",
      " |  \n",
      " |  __hash__ = None\n",
      " |  \n",
      " |  __new__ = <built-in method __new__ of type object>\n",
      " |      T.__new__(S, ...) -> a new object with type S, a subtype of T\n",
      "\n"
     ]
    }
   ],
   "source": [
    "help(t)"
   ]
  },
  {
   "cell_type": "markdown",
   "metadata": {
    "slideshow": {
     "slide_type": "slide"
    }
   },
   "source": [
    "### Iterating on a list\n",
    "\n",
    "A common idiom is to process every item in a list. We've already seen how the _for-loop_ does this."
   ]
  },
  {
   "cell_type": "code",
   "execution_count": 28,
   "metadata": {},
   "outputs": [
    {
     "name": "stdout",
     "output_type": "stream",
     "text": [
      "item = a capitalized item = A\n",
      "item = B capitalized item = B\n",
      "item = c capitalized item = C\n",
      "item = D capitalized item = D\n"
     ]
    }
   ],
   "source": [
    "t = ['a', 'B', 'c', 'D']\n",
    "for item in t:\n",
    "    print 'item =', item, 'capitalized item =', item.upper()"
   ]
  },
  {
   "cell_type": "code",
   "execution_count": 29,
   "metadata": {
    "slideshow": {
     "slide_type": "fragment"
    }
   },
   "outputs": [
    {
     "name": "stdout",
     "output_type": "stream",
     "text": [
      "Item number  0 is  a\n",
      "Item number  1 is  B\n",
      "Item number  2 is  c\n",
      "Item number  3 is  D\n"
     ]
    }
   ],
   "source": [
    "# enumerate() gives the list index and list item together\n",
    "for index, item in enumerate(t):\n",
    "    print 'Item number ', index, 'is ', item"
   ]
  },
  {
   "cell_type": "code",
   "execution_count": 30,
   "metadata": {
    "slideshow": {
     "slide_type": "slide"
    }
   },
   "outputs": [
    {
     "name": "stdout",
     "output_type": "stream",
     "text": [
      "Does 'a' belong to the list? True\n",
      "Does 'z' belong to the list? False\n"
     ]
    }
   ],
   "source": [
    "# The \"in\" operator checks if an item belongs to the list\n",
    "print \"Does 'a' belong to the list?\", ('a' in t) # Note use of parentheses\n",
    "print \"Does 'z' belong to the list?\", ('z' in t)"
   ]
  },
  {
   "cell_type": "markdown",
   "metadata": {
    "slideshow": {
     "slide_type": "slide"
    }
   },
   "source": [
    "### Copying lists\n",
    "\n",
    "Making a copy of a list has traps for the unwary!"
   ]
  },
  {
   "cell_type": "code",
   "execution_count": 31,
   "metadata": {},
   "outputs": [
    {
     "name": "stdout",
     "output_type": "stream",
     "text": [
      "[1, 100, 3, 4]\n",
      "[1, 100, 3, 4]\n"
     ]
    }
   ],
   "source": [
    "a = [1, 2, 3, 4]\n",
    "b = a       # Create a \"copy\"\n",
    "a[1] = 100  # Modify one list\n",
    "print a\n",
    "print b"
   ]
  },
  {
   "cell_type": "markdown",
   "metadata": {
    "slideshow": {
     "slide_type": "fragment"
    }
   },
   "source": [
    "Both lists were modified! This is because, internally, 'a' is a pointer to a memory location where the list is stored, and 'b=a' just sets b to point to the same location. So modifying a also modifies b."
   ]
  },
  {
   "cell_type": "markdown",
   "metadata": {
    "slideshow": {
     "slide_type": "slide"
    }
   },
   "source": [
    "If you want to create a completely independent copy of a, use the following:"
   ]
  },
  {
   "cell_type": "code",
   "execution_count": 32,
   "metadata": {},
   "outputs": [
    {
     "name": "stdout",
     "output_type": "stream",
     "text": [
      "a = [1, 500, 3, 4]\n",
      "b = [1, 100, 3, 4]\n"
     ]
    }
   ],
   "source": [
    "b = list(a)\n",
    "a[1] = 500  # This updates a, but not b\n",
    "print 'a =', a\n",
    "print 'b =', b"
   ]
  },
  {
   "cell_type": "markdown",
   "metadata": {
    "slideshow": {
     "slide_type": "fragment"
    }
   },
   "source": [
    "It gets more difficult when the object you are copying is more complicated, so we can also use a special tool just to make such completely independent copies (called _deep_ copies)."
   ]
  },
  {
   "cell_type": "code",
   "execution_count": 33,
   "metadata": {
    "slideshow": {
     "slide_type": "fragment"
    }
   },
   "outputs": [
    {
     "name": "stdout",
     "output_type": "stream",
     "text": [
      "a= [1, 500, 3, 4] and c= [1, 500, 3, 4]\n",
      "After updating a: a= [1, 500, 10, 4] and c= [1, 500, 3, 4]\n"
     ]
    }
   ],
   "source": [
    "# import a special module, called the \"copy\" module\n",
    "import copy\n",
    "\n",
    "# create the independent copy using the deepcopy() method\n",
    "c = copy.deepcopy(a)\n",
    "\n",
    "print 'a=', a, 'and c=', c\n",
    "\n",
    "# change a\n",
    "a[2] = 10\n",
    "\n",
    "# check that this did not change c\n",
    "print 'After updating a: a=', a, 'and c=', c"
   ]
  },
  {
   "cell_type": "markdown",
   "metadata": {
    "slideshow": {
     "slide_type": "slide"
    }
   },
   "source": [
    "#### Summary of Lists\n",
    "\n",
    "* **Creation:** We can create lists using\n",
    "    * _square brackets_: x = [1,2,3]\n",
    "    * _list_: x = list(some_other_list)"
   ]
  },
  {
   "cell_type": "markdown",
   "metadata": {
    "slideshow": {
     "slide_type": "fragment"
    }
   },
   "source": [
    "* **Access:** We can access and modify list items\n",
    "    * x[0:2] = ['a', 'b']"
   ]
  },
  {
   "cell_type": "markdown",
   "metadata": {
    "slideshow": {
     "slide_type": "fragment"
    }
   },
   "source": [
    "* **Common operations:**\n",
    "    * inclusion via _in_\n",
    "    * iteration via _for_\n",
    "    * _sort_\n",
    "    * _append_ and _pop_"
   ]
  },
  {
   "cell_type": "markdown",
   "metadata": {
    "slideshow": {
     "slide_type": "fragment"
    }
   },
   "source": [
    "Careful with _sort_! It changes the list!"
   ]
  },
  {
   "cell_type": "markdown",
   "metadata": {
    "slideshow": {
     "slide_type": "slide"
    }
   },
   "source": [
    "### Percentage changes in list\n",
    "\n",
    "You are given a list of stock prices over days. Compute the return for each day.\n",
    "\n",
    "$$\\text{today's return} = \\dfrac{\\text{today's price} - \\text{yesterday's price}}{\\text{yesterday's price}}$$\n",
    "\n",
    "Assume the first day's return is 0.0"
   ]
  },
  {
   "cell_type": "code",
   "execution_count": 34,
   "metadata": {
    "slideshow": {
     "slide_type": "fragment"
    }
   },
   "outputs": [
    {
     "data": {
      "text/plain": [
       "[0.0,\n",
       " 0.01,\n",
       " 0.009900990099009901,\n",
       " 0.00980392156862745,\n",
       " -0.009708737864077669,\n",
       " -0.00980392156862745,\n",
       " -0.009900990099009901]"
      ]
     },
     "execution_count": 34,
     "metadata": {},
     "output_type": "execute_result"
    }
   ],
   "source": [
    "def returns(prices):\n",
    "    \"\"\"Daily returns on prices\"\"\"\n",
    "    daily_returns = [0.0] \n",
    "    for i in range(len(prices) - 1):\n",
    "        return_for_day_i_plus_1 = (prices[i + 1] - prices[i]) * 1.0 / prices[i]  # What happens without the 1.0?\n",
    "        daily_returns.append(return_for_day_i_plus_1)\n",
    "    return daily_returns\n",
    "\n",
    "# Test\n",
    "returns([100, 101, 102, 103, 102, 101, 100])"
   ]
  },
  {
   "cell_type": "markdown",
   "metadata": {
    "slideshow": {
     "slide_type": "slide"
    }
   },
   "source": [
    "## Tuples\n",
    "\n",
    "Tuples are just like lists, except the values of their items are fixed."
   ]
  },
  {
   "cell_type": "code",
   "execution_count": 35,
   "metadata": {},
   "outputs": [
    {
     "name": "stdout",
     "output_type": "stream",
     "text": [
      "('John', 'Doe', 123)\n"
     ]
    }
   ],
   "source": [
    "# Create a tuple\n",
    "x = ('John', 'Doe', 123)\n",
    "print x"
   ]
  },
  {
   "cell_type": "code",
   "execution_count": 36,
   "metadata": {},
   "outputs": [
    {
     "name": "stdout",
     "output_type": "stream",
     "text": [
      "Welcome  John Doe !\n"
     ]
    }
   ],
   "source": [
    "# Tuple assignment\n",
    "firstname, lastname, employee_id = x\n",
    "print 'Welcome ', firstname, lastname, '!'"
   ]
  },
  {
   "cell_type": "code",
   "execution_count": 37,
   "metadata": {
    "slideshow": {
     "slide_type": "fragment"
    }
   },
   "outputs": [
    {
     "name": "stdout",
     "output_type": "stream",
     "text": [
      "Employee name is John Doe\n",
      "ID = 123\n",
      "Employee name is Alice Bach\n",
      "ID = 35\n"
     ]
    }
   ],
   "source": [
    "def employee_data(t):\n",
    "    \"\"\"Gets a tuple of the form (firstname, lastname, ID).\n",
    "       Prints these out separately.\"\"\"\n",
    "    print 'Employee name is', t[0], t[1]\n",
    "    print 'ID =', t[2]\n",
    "\n",
    "x = ('John', 'Doe', 123)\n",
    "employee_data(x)\n",
    "\n",
    "employee_data(('Alice', 'Bach', 35))\n",
    "# Note, we need two sets of parentheses, one for the function employee_data(),\n",
    "# and one for the tuple ('Alice', 'Bach', 35)"
   ]
  },
  {
   "cell_type": "markdown",
   "metadata": {
    "slideshow": {
     "slide_type": "slide"
    }
   },
   "source": [
    "Remember that tuples cannot be modified.\n",
    "\n",
    "    x = ('John', 'Doe', '123')\n",
    "    x[0] = 'Johnny'  # is wrong!"
   ]
  },
  {
   "cell_type": "markdown",
   "metadata": {
    "slideshow": {
     "slide_type": "fragment"
    }
   },
   "source": [
    "Why ever use tuples and not just lists?\n",
    "\n",
    "* Can't lists hold the same items that tuples can?\n",
    "    * Yes\n",
    "* Can't lists be updated whenever we want?\n",
    "    * Yes"
   ]
  },
  {
   "cell_type": "markdown",
   "metadata": {
    "slideshow": {
     "slide_type": "fragment"
    }
   },
   "source": [
    "But tuples might be better for _error checking_\n",
    "\n",
    "* Maybe I _know_ the number of items beforehand\n",
    "    * I will only store (latitude, longitude)\n",
    "    * My tuples will only have a person's (name, age, gender)\n",
    "* Maybe these values are fixed forever\n",
    "    * I want my code to _ensure_ that they never change"
   ]
  },
  {
   "cell_type": "markdown",
   "metadata": {
    "slideshow": {
     "slide_type": "slide"
    }
   },
   "source": [
    "Why ever use tuples and not just lists?\n",
    "\n",
    "* With great power comes great responsibility\n",
    "* (and sometimes responsibility sucks)"
   ]
  },
  {
   "cell_type": "markdown",
   "metadata": {
    "slideshow": {
     "slide_type": "slide"
    }
   },
   "source": [
    "## Dictionaries\n",
    "\n",
    "Suppose I want to convert English to Spanish. How do I do it?"
   ]
  },
  {
   "cell_type": "markdown",
   "metadata": {
    "slideshow": {
     "slide_type": "fragment"
    }
   },
   "source": [
    "* I look up a dictionary that contains, for each English word, the equivalent Spanish word."
   ]
  },
  {
   "cell_type": "markdown",
   "metadata": {
    "slideshow": {
     "slide_type": "fragment"
    }
   },
   "source": [
    "\n",
    "More generally, a dictionary is a map from _keys_ to _values_\n",
    "\n",
    "* _key_ = an English word, _value_ = corresponding Spanish word\n",
    "* _key_ = bank customer's ID, _value_ = the customer's balance\n",
    "* _key_ = a date, _value_ = Google's stock price on that date"
   ]
  },
  {
   "cell_type": "code",
   "execution_count": 38,
   "metadata": {
    "slideshow": {
     "slide_type": "slide"
    }
   },
   "outputs": [
    {
     "name": "stdout",
     "output_type": "stream",
     "text": [
      "{'two': 'dos', 'one': 'uno'}\n"
     ]
    }
   ],
   "source": [
    "eng2sp = {} # empty dictionary\n",
    "eng2sp['one'] = 'uno'\n",
    "eng2sp['two'] = 'dos'\n",
    "print eng2sp\n",
    "\n",
    "# We could also have initialized this as follows\n",
    "eng2sp = {'one':'uno', 'two':'dos'}"
   ]
  },
  {
   "cell_type": "markdown",
   "metadata": {
    "slideshow": {
     "slide_type": "slide"
    }
   },
   "source": [
    "There is _one_ difference between a Python dictionary and a real English-to-Spanish dictionary.\n",
    "\n",
    "* In the real world, the keys of a dictionary are ordered (the dictionary goes from Aardvark to Zymosan).\n",
    "* In Python dictionaries, the order of the keys is garbled\n",
    "    * the order in which you add items to a dictionary does not matter\n",
    "    * there is no \"first item\" or \"last item\" of a dictionary,\n",
    "    * unlike for a list or tuple.\n"
   ]
  },
  {
   "cell_type": "markdown",
   "metadata": {
    "slideshow": {
     "slide_type": "slide"
    }
   },
   "source": [
    "### Accessing items in a dictionary\n",
    "\n",
    "If the key is known, getting the dictionary value is trivial"
   ]
  },
  {
   "cell_type": "code",
   "execution_count": 39,
   "metadata": {},
   "outputs": [
    {
     "name": "stdout",
     "output_type": "stream",
     "text": [
      "The Spanish for two is dos\n",
      "dos is not a recognized English word\n"
     ]
    }
   ],
   "source": [
    "def english_to_spanish(eng2sp, word):\n",
    "    \"\"\"Convert an English word to Spanish\"\"\"\n",
    "    if word in eng2sp:\n",
    "        print 'The Spanish for', word, 'is', eng2sp[word]\n",
    "    else:\n",
    "        print word, 'is not a recognized English word'\n",
    "\n",
    "english_to_spanish(eng2sp, 'two')\n",
    "english_to_spanish(eng2sp, 'dos')  # will not work; 'dos' is a value, not a key!"
   ]
  },
  {
   "cell_type": "markdown",
   "metadata": {
    "slideshow": {
     "slide_type": "fragment"
    }
   },
   "source": [
    "We used the \"in\" operator (word in eng2sp) to check if word is a valid key of the eng2sp dictionary. Once we knew that it is a valid key, we used eng2sp[word] to access its value."
   ]
  },
  {
   "cell_type": "markdown",
   "metadata": {
    "slideshow": {
     "slide_type": "fragment"
    }
   },
   "source": [
    "**NOTE:** It is easy to go from key to value, but hard to go from value to the corresponding key(s). Think about the real English-to-Spanish dictionary."
   ]
  },
  {
   "cell_type": "markdown",
   "metadata": {
    "slideshow": {
     "slide_type": "slide"
    }
   },
   "source": [
    "We can get lists of\n",
    "\n",
    "* all the keys via the _keys()_ method\n",
    "* all the values via the _values()_ method\n",
    "* all (key, value) pairs via the _items()_ method"
   ]
  },
  {
   "cell_type": "code",
   "execution_count": 40,
   "metadata": {},
   "outputs": [
    {
     "name": "stdout",
     "output_type": "stream",
     "text": [
      "['two', 'one']\n"
     ]
    }
   ],
   "source": [
    "print eng2sp.keys()  # Returns a list of keys"
   ]
  },
  {
   "cell_type": "code",
   "execution_count": 41,
   "metadata": {},
   "outputs": [
    {
     "name": "stdout",
     "output_type": "stream",
     "text": [
      "['dos', 'uno']\n"
     ]
    }
   ],
   "source": [
    "print eng2sp.values() # Returns the list of values"
   ]
  },
  {
   "cell_type": "code",
   "execution_count": 42,
   "metadata": {},
   "outputs": [
    {
     "name": "stdout",
     "output_type": "stream",
     "text": [
      "[('two', 'dos'), ('one', 'uno')]\n"
     ]
    }
   ],
   "source": [
    "print eng2sp.items() # Returns all (key, value) pairs as a list of tuples."
   ]
  },
  {
   "cell_type": "markdown",
   "metadata": {
    "slideshow": {
     "slide_type": "slide"
    }
   },
   "source": [
    "### Iterating over a dictionary\n",
    "\n",
    "Say we want to create a new dictionary that capitalizes the Spanish words. There are several ways to do it."
   ]
  },
  {
   "cell_type": "code",
   "execution_count": 43,
   "metadata": {},
   "outputs": [
    {
     "name": "stdout",
     "output_type": "stream",
     "text": [
      "Capitalized dictionary: {'two': 'DOS', 'one': 'UNO'}\n"
     ]
    }
   ],
   "source": [
    "# FIRST WAY: Iterate over the list of keys\n",
    "eng2sp_cap = {}\n",
    "for key in eng2sp.keys():\n",
    "    value = eng2sp[key]\n",
    "    capitalized_value = value.upper()  # value is a string, and we use the upper() method\n",
    "    eng2sp_cap[key] = capitalized_value\n",
    "print 'Capitalized dictionary:', eng2sp_cap"
   ]
  },
  {
   "cell_type": "markdown",
   "metadata": {
    "slideshow": {
     "slide_type": "fragment"
    }
   },
   "source": [
    "What we did was:\n",
    "\n",
    "1. we iterated over the keys\n",
    "2. for each key, we found the corresponding value\n",
    "3. we processed this key-value pair.\n",
    "\n",
    "This is so common that there is a short-form for doing this."
   ]
  },
  {
   "cell_type": "code",
   "execution_count": 44,
   "metadata": {
    "slideshow": {
     "slide_type": "slide"
    }
   },
   "outputs": [
    {
     "name": "stdout",
     "output_type": "stream",
     "text": [
      "Capitalized dictionary: {'two': 'DOS', 'one': 'UNO'}\n"
     ]
    }
   ],
   "source": [
    "# SECOND WAY: Iterate over key-value pairs\n",
    "eng2sp_cap = {}\n",
    "for key, value in eng2sp.items(): # this iterates over (key, value) tuples\n",
    "    capitalized_value = value.upper()\n",
    "    eng2sp_cap[key] = capitalized_value\n",
    "print 'Capitalized dictionary:', eng2sp_cap"
   ]
  },
  {
   "cell_type": "markdown",
   "metadata": {
    "slideshow": {
     "slide_type": "slide"
    }
   },
   "source": [
    "The difference between the two methods is in eng2sp.keys() versus eng2sp.items().\n",
    "\n",
    "* eng2sp.keys() gives a _list_ of the keys\n",
    "* eng2sp.items() gives a _list_ of (key, value) tuples\n",
    "* eng2sp.iteritems() produces one (key, value) tuple in each iteration (faster for big dictionaries).\n",
    "\n",
    "When we say\n",
    "\n",
    "    for key, value in eng2sp.items():\n",
    "\n",
    "we are assigning the variables key and value using this tuple."
   ]
  },
  {
   "cell_type": "markdown",
   "metadata": {
    "slideshow": {
     "slide_type": "slide"
    }
   },
   "source": [
    "## Word-counting example\n",
    "\n",
    "We will do an application where we find the most frequent characters in a string. \n",
    "\n",
    "This is very similar to a common real-world application: counting frequencies of words in a block of text.\n",
    "\n",
    "What are the steps?"
   ]
  },
  {
   "cell_type": "markdown",
   "metadata": {
    "slideshow": {
     "slide_type": "slide"
    }
   },
   "source": [
    "Possible set of steps:\n",
    "\n",
    "* A function that counts the number of occurrences of any given character,\n",
    "* a function that sorts the character frequencies in descending order before reporting them to us, and\n",
    "* the \"glue\" function that\n",
    "    * gets an input string,\n",
    "    * splits it into its individual characters,\n",
    "    * passes each character to the frequency counting function, and finally\n",
    "    * calls the frequency sorting function to produce the output"
   ]
  },
  {
   "cell_type": "markdown",
   "metadata": {
    "slideshow": {
     "slide_type": "slide"
    }
   },
   "source": [
    "**Step 1:** Count the number of occurrences of any given character"
   ]
  },
  {
   "cell_type": "code",
   "execution_count": 45,
   "metadata": {},
   "outputs": [],
   "source": [
    "def update_histogram(frequency_hist, character):\n",
    "    \"\"\"Increase the count of character in the histogram frequency_hist\"\"\"\n",
    "    \n",
    "    if character in frequency_hist:\n",
    "        frequency_hist[character] += 1  \n",
    "        # This is short-form for:\n",
    "        # frequency_hist[character] = frequency_hist[character] + 1\n",
    "        \n",
    "    else:\n",
    "        frequency_hist[character] = 1"
   ]
  },
  {
   "cell_type": "markdown",
   "metadata": {
    "slideshow": {
     "slide_type": "slide"
    }
   },
   "source": [
    "**Step 2:** Sort the character frequencies in descending order"
   ]
  },
  {
   "cell_type": "code",
   "execution_count": 46,
   "metadata": {},
   "outputs": [],
   "source": [
    "def get_frequency_from_hist_item(hist_item):\n",
    "    \"\"\"hist_item is a tuple of the form (key, value),\n",
    "       where key is a character, and value is its frequency.\n",
    "       We want to return the frequency.\"\"\"\n",
    "    \n",
    "    return hist_item[1]\n",
    "\n",
    "def sort_frequency(hist):\n",
    "    \"\"\"Sort the keys of a histogram (hist) by descending order of value\"\"\"\n",
    "    \n",
    "    return sorted(hist.items(), key=get_frequency_from_hist_item, reverse=True)"
   ]
  },
  {
   "cell_type": "markdown",
   "metadata": {
    "slideshow": {
     "slide_type": "slide"
    }
   },
   "source": [
    "**Step 3:** The \"glue\" function"
   ]
  },
  {
   "cell_type": "code",
   "execution_count": 47,
   "metadata": {},
   "outputs": [
    {
     "name": "stdout",
     "output_type": "stream",
     "text": [
      "Enter string: international\n",
      "n has frequency 3\n",
      "a has frequency 2\n",
      "i has frequency 2\n",
      "t has frequency 2\n",
      "e has frequency 1\n",
      "l has frequency 1\n",
      "o has frequency 1\n",
      "r has frequency 1\n"
     ]
    }
   ],
   "source": [
    "def count_characters(s):\n",
    "    \"\"\"Count the frequency of occurrence of each character\n",
    "       in string s.\"\"\"\n",
    "    \n",
    "    char_list = list(s)  # This returns the list of characters in string s\n",
    "    \n",
    "    frequency_hist = {}  # creates an empty dictionary\n",
    "    for c in char_list:\n",
    "        update_histogram(frequency_hist, c)\n",
    "        \n",
    "    sorted_result = sort_frequency(frequency_hist)\n",
    "    \n",
    "    for char, freq in sorted_result:\n",
    "        print char, 'has frequency', freq\n",
    "\n",
    "count_characters(str(raw_input('Enter string: ')))"
   ]
  },
  {
   "cell_type": "markdown",
   "metadata": {
    "slideshow": {
     "slide_type": "slide"
    }
   },
   "source": [
    "### Summary of dictionaries versus lists\n",
    "\n",
    " Operation | Dictionary | List |\n",
    ":---------:|:---------:|:----:|\n",
    "**access item** | dict[key] | list[index] \n",
    "**update item** | dict[key] = value | list[index] = value\n",
    "**check if item exists** | if key in dict | index >= 0 and index < len(list)\n",
    "**slices** | _not possible_ | list[3:5]\n",
    "\n",
    "You use dictionaries when\n",
    "\n",
    "* you will need to access individual items\n",
    "    * and not just iterate over all items\n",
    "* there is some key for each item, and the value can be arbitrary\n",
    "\n",
    "You use lists when\n",
    "\n",
    "* you have a particular ordering of items in mind, or\n",
    "* you just want to iterate over a bunch of items"
   ]
  },
  {
   "cell_type": "markdown",
   "metadata": {
    "slideshow": {
     "slide_type": "slide"
    }
   },
   "source": [
    "## List comprehensions\n",
    "\n",
    "A common coding paradigm is the following:\n",
    "\n",
    "    new_list = []\n",
    "    for item in old_list:\n",
    "        new_list.append( some_function(item) )\n",
    "\n",
    "There is a short-form for this sequence:\n",
    "\n",
    "    new_list = [ some_function(item) for item in old_list ]"
   ]
  },
  {
   "cell_type": "markdown",
   "metadata": {
    "slideshow": {
     "slide_type": "slide"
    }
   },
   "source": [
    "### Given a list, create a new list of the squares of the items"
   ]
  },
  {
   "cell_type": "code",
   "execution_count": 48,
   "metadata": {},
   "outputs": [
    {
     "name": "stdout",
     "output_type": "stream",
     "text": [
      "[1, 2, 3, -1, -2]\n",
      "[1, 4, 9, 1, 4]\n"
     ]
    }
   ],
   "source": [
    "orig_list = [1, 2, 3, -1, -2]\n",
    "new_list = [item * item for item in orig_list]\n",
    "print orig_list\n",
    "print new_list"
   ]
  },
  {
   "cell_type": "markdown",
   "metadata": {
    "slideshow": {
     "slide_type": "slide"
    }
   },
   "source": [
    "Another variant involves an if-statement:\n",
    "\n",
    "    new_list = []\n",
    "    for item in old_list:\n",
    "        if some_condition(item):\n",
    "            new_list.append( some_function(item) )\n",
    "\n",
    "The short form is\n",
    "\n",
    "    new_list = [ some_function(item) for item in old_list if some_condition(item) ]"
   ]
  },
  {
   "cell_type": "markdown",
   "metadata": {
    "slideshow": {
     "slide_type": "fragment"
    }
   },
   "source": [
    "### Create a list of square-roots of the positive elements in a given list"
   ]
  },
  {
   "cell_type": "code",
   "execution_count": 49,
   "metadata": {
    "slideshow": {
     "slide_type": "fragment"
    }
   },
   "outputs": [
    {
     "name": "stdout",
     "output_type": "stream",
     "text": [
      "[(1, 1.0), (2, 1.4142135623730951), (3, 1.7320508075688772)]\n"
     ]
    }
   ],
   "source": [
    "import math\n",
    "new_list = [(item, math.sqrt(item)) for item in orig_list if item > 0]\n",
    "print new_list"
   ]
  },
  {
   "cell_type": "markdown",
   "metadata": {
    "slideshow": {
     "slide_type": "slide"
    }
   },
   "source": [
    "### Find the smallest number in a list that is bigger than a query number\n",
    "\n",
    "If the list is [5, 3, 4, 9, 1] and the query is 2.1, return 3.\n",
    "\n",
    "If there's no such item, return -1."
   ]
  },
  {
   "cell_type": "markdown",
   "metadata": {
    "slideshow": {
     "slide_type": "fragment"
    }
   },
   "source": [
    "Here's the easy way:\n",
    "\n",
    "* Sort the list in ascending order\n",
    "* Iterate over it\n",
    "    * until you hit the first item greater than the query"
   ]
  },
  {
   "cell_type": "code",
   "execution_count": 50,
   "metadata": {
    "slideshow": {
     "slide_type": "fragment"
    }
   },
   "outputs": [
    {
     "name": "stdout",
     "output_type": "stream",
     "text": [
      "3\n",
      "-1\n"
     ]
    }
   ],
   "source": [
    "def smallest_larger_than(number_list, query):\n",
    "    \"\"\"Return the smallest number in number_list that is\n",
    "    greater than the query number.\"\"\"\n",
    "    \n",
    "    for item in sorted(number_list):\n",
    "        if item > query:\n",
    "            return item\n",
    "    \n",
    "    # We went through the list, and nothing was greater than query\n",
    "    return -1\n",
    "\n",
    "# Test\n",
    "print smallest_larger_than([5,4,3,9,1], 2.1)   # Should give 3\n",
    "print smallest_larger_than([], 2.1)            # Should give -1"
   ]
  },
  {
   "cell_type": "markdown",
   "metadata": {
    "slideshow": {
     "slide_type": "slide"
    }
   },
   "source": [
    "However, sorting is more than we needed! How do we do it without sorting?"
   ]
  },
  {
   "cell_type": "markdown",
   "metadata": {
    "slideshow": {
     "slide_type": "fragment"
    }
   },
   "source": [
    "We will have a tracker variable that keeps the smallest number seen so far greater than the query.\n",
    "\n",
    "* Iterate over list\n",
    "* Update the tracker whenever some item is greater than query AND\n",
    "    * either tracker hasn't been initialized yet, OR\n",
    "    * the new item is smaller than the tracker value (best answer seen so far)"
   ]
  },
  {
   "cell_type": "code",
   "execution_count": 51,
   "metadata": {
    "slideshow": {
     "slide_type": "fragment"
    }
   },
   "outputs": [
    {
     "name": "stdout",
     "output_type": "stream",
     "text": [
      "3\n",
      "-1\n"
     ]
    }
   ],
   "source": [
    "def smallest_try_2(number_list, query):\n",
    "    # tracker hasn't been initialized to a valid value until we\n",
    "    # see some list item greater than query\n",
    "    tracker_initialized = False\n",
    "    tracker = 0\n",
    "    \n",
    "    # Iterate over the list\n",
    "    for i in number_list:\n",
    "        if i > query:\n",
    "            if not(tracker_initialized) or (i < tracker):\n",
    "                tracker = i\n",
    "                tracker_initialized = True\n",
    "    \n",
    "    if tracker_initialized:\n",
    "        return tracker\n",
    "    else:\n",
    "        return -1\n",
    "\n",
    "# Test\n",
    "print smallest_try_2([5,4,3,9,1], 2.1)   # Should give 3\n",
    "print smallest_try_2([], 2.1)            # Should give -1"
   ]
  }
 ],
 "metadata": {
  "celltoolbar": "Slideshow",
  "kernelspec": {
   "display_name": "Python 2",
   "language": "python",
   "name": "python2"
  },
  "language_info": {
   "codemirror_mode": {
    "name": "ipython",
    "version": 2
   },
   "file_extension": ".py",
   "mimetype": "text/x-python",
   "name": "python",
   "nbconvert_exporter": "python",
   "pygments_lexer": "ipython2",
   "version": "2.7.15"
  }
 },
 "nbformat": 4,
 "nbformat_minor": 1
}
