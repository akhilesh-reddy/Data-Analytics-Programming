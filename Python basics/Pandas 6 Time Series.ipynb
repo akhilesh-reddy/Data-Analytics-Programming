{
 "cells": [
  {
   "cell_type": "markdown",
   "metadata": {
    "slideshow": {
     "slide_type": "slide"
    }
   },
   "source": [
    "# Pandas 6"
   ]
  },
  {
   "cell_type": "markdown",
   "metadata": {
    "slideshow": {
     "slide_type": "slide"
    }
   },
   "source": [
    "Pandas handles timestamps in a special way that makes it easy to work with time series. As this is particularly important for financial applications, this lecture will concentrate on time series processing.\n",
    "\n",
    "We will look at:\n",
    "\n",
    "* the datetime object,\n",
    "* indexing and slicing by time,\n",
    "* various operations on time series,\n",
    "* and, time permitting, we'll build a trading simulator."
   ]
  },
  {
   "cell_type": "code",
   "execution_count": 1,
   "metadata": {
    "slideshow": {
     "slide_type": "slide"
    }
   },
   "outputs": [
    {
     "name": "stdout",
     "output_type": "stream",
     "text": [
      "Populating the interactive namespace from numpy and matplotlib\n"
     ]
    }
   ],
   "source": [
    "from pandas import Series, DataFrame\n",
    "import pandas as pd\n",
    "%pylab inline"
   ]
  },
  {
   "cell_type": "code",
   "execution_count": 2,
   "metadata": {},
   "outputs": [],
   "source": [
    "# For time series analysis, we also need another module\n",
    "from datetime import datetime"
   ]
  },
  {
   "cell_type": "markdown",
   "metadata": {
    "slideshow": {
     "slide_type": "slide"
    }
   },
   "source": [
    "## Loading financial time series data"
   ]
  },
  {
   "cell_type": "code",
   "execution_count": 3,
   "metadata": {},
   "outputs": [
    {
     "data": {
      "text/html": [
       "<div>\n",
       "<style scoped>\n",
       "    .dataframe tbody tr th:only-of-type {\n",
       "        vertical-align: middle;\n",
       "    }\n",
       "\n",
       "    .dataframe tbody tr th {\n",
       "        vertical-align: top;\n",
       "    }\n",
       "\n",
       "    .dataframe thead th {\n",
       "        text-align: right;\n",
       "    }\n",
       "</style>\n",
       "<table border=\"1\" class=\"dataframe\">\n",
       "  <thead>\n",
       "    <tr style=\"text-align: right;\">\n",
       "      <th></th>\n",
       "      <th>Open</th>\n",
       "      <th>High</th>\n",
       "      <th>Low</th>\n",
       "      <th>Close</th>\n",
       "      <th>Volume</th>\n",
       "      <th>Adj Close</th>\n",
       "    </tr>\n",
       "    <tr>\n",
       "      <th>Date</th>\n",
       "      <th></th>\n",
       "      <th></th>\n",
       "      <th></th>\n",
       "      <th></th>\n",
       "      <th></th>\n",
       "      <th></th>\n",
       "    </tr>\n",
       "  </thead>\n",
       "  <tbody>\n",
       "    <tr>\n",
       "      <th>2011-01-03</th>\n",
       "      <td>325.64</td>\n",
       "      <td>330.26</td>\n",
       "      <td>324.84</td>\n",
       "      <td>329.57</td>\n",
       "      <td>111284600</td>\n",
       "      <td>44.59</td>\n",
       "    </tr>\n",
       "    <tr>\n",
       "      <th>2011-01-04</th>\n",
       "      <td>332.44</td>\n",
       "      <td>332.50</td>\n",
       "      <td>328.15</td>\n",
       "      <td>331.29</td>\n",
       "      <td>77270200</td>\n",
       "      <td>44.82</td>\n",
       "    </tr>\n",
       "    <tr>\n",
       "      <th>2011-01-05</th>\n",
       "      <td>329.55</td>\n",
       "      <td>334.34</td>\n",
       "      <td>329.50</td>\n",
       "      <td>334.00</td>\n",
       "      <td>63879900</td>\n",
       "      <td>45.18</td>\n",
       "    </tr>\n",
       "    <tr>\n",
       "      <th>2011-01-06</th>\n",
       "      <td>334.72</td>\n",
       "      <td>335.25</td>\n",
       "      <td>332.90</td>\n",
       "      <td>333.73</td>\n",
       "      <td>75107200</td>\n",
       "      <td>45.15</td>\n",
       "    </tr>\n",
       "    <tr>\n",
       "      <th>2011-01-07</th>\n",
       "      <td>333.99</td>\n",
       "      <td>336.35</td>\n",
       "      <td>331.90</td>\n",
       "      <td>336.12</td>\n",
       "      <td>77982800</td>\n",
       "      <td>45.47</td>\n",
       "    </tr>\n",
       "  </tbody>\n",
       "</table>\n",
       "</div>"
      ],
      "text/plain": [
       "              Open    High     Low   Close     Volume  Adj Close\n",
       "Date                                                            \n",
       "2011-01-03  325.64  330.26  324.84  329.57  111284600      44.59\n",
       "2011-01-04  332.44  332.50  328.15  331.29   77270200      44.82\n",
       "2011-01-05  329.55  334.34  329.50  334.00   63879900      45.18\n",
       "2011-01-06  334.72  335.25  332.90  333.73   75107200      45.15\n",
       "2011-01-07  333.99  336.35  331.90  336.12   77982800      45.47"
      ]
     },
     "execution_count": 3,
     "metadata": {},
     "output_type": "execute_result"
    }
   ],
   "source": [
    "# Data downloaded from Yahoo! Finance\n",
    "df = pd.read_csv('Pandas_6_data/aapl.csv') \n",
    "\n",
    "# Convert the 'Date' column into a datetime object\n",
    "df['Date'] = pd.to_datetime(df['Date'])\n",
    "\n",
    "# Set 'Date' as the index\n",
    "df.set_index('Date', inplace=True)\n",
    "df[:5]"
   ]
  },
  {
   "cell_type": "markdown",
   "metadata": {
    "slideshow": {
     "slide_type": "fragment"
    }
   },
   "source": [
    "Pandas also provides convenience functions to get data directly from web sources. For this, we need the _pandas-datareader_ module."
   ]
  },
  {
   "cell_type": "markdown",
   "metadata": {
    "slideshow": {
     "slide_type": "slide"
    }
   },
   "source": [
    "We need to install pandas-datareader.\n",
    "\n",
    "* Typically, just installing it from the GUI works, but there's currently a bug whose fix is in the \"dev\" version, but not in the version installed by default.\n",
    "\n",
    "* Install git  (this is a commonly used version control software). Then try\n",
    "> pip install git+https://github.com/pydata/pandas-datareader.git\n",
    "\n",
    "OR, try this:\n",
    "> git clone https://github.com/pydata/pandas-datareader.git\n",
    "\n",
    "> cd pandas-datareader\n",
    "\n",
    "> python setup.py install"
   ]
  },
  {
   "cell_type": "code",
   "execution_count": 4,
   "metadata": {
    "slideshow": {
     "slide_type": "slide"
    }
   },
   "outputs": [
    {
     "data": {
      "text/html": [
       "<div>\n",
       "<style scoped>\n",
       "    .dataframe tbody tr th:only-of-type {\n",
       "        vertical-align: middle;\n",
       "    }\n",
       "\n",
       "    .dataframe tbody tr th {\n",
       "        vertical-align: top;\n",
       "    }\n",
       "\n",
       "    .dataframe thead th {\n",
       "        text-align: right;\n",
       "    }\n",
       "</style>\n",
       "<table border=\"1\" class=\"dataframe\">\n",
       "  <thead>\n",
       "    <tr style=\"text-align: right;\">\n",
       "      <th></th>\n",
       "      <th>Close</th>\n",
       "      <th>High</th>\n",
       "      <th>Low</th>\n",
       "      <th>Open</th>\n",
       "      <th>Volume</th>\n",
       "    </tr>\n",
       "    <tr>\n",
       "      <th>Date</th>\n",
       "      <th></th>\n",
       "      <th></th>\n",
       "      <th></th>\n",
       "      <th></th>\n",
       "      <th></th>\n",
       "    </tr>\n",
       "  </thead>\n",
       "  <tbody>\n",
       "    <tr>\n",
       "      <th>2011-01-03</th>\n",
       "      <td>47.0814</td>\n",
       "      <td>47.1800</td>\n",
       "      <td>46.4052</td>\n",
       "      <td>46.5571</td>\n",
       "      <td>111280407</td>\n",
       "    </tr>\n",
       "    <tr>\n",
       "      <th>2011-01-04</th>\n",
       "      <td>47.3271</td>\n",
       "      <td>47.5000</td>\n",
       "      <td>46.8786</td>\n",
       "      <td>47.5000</td>\n",
       "      <td>77337001</td>\n",
       "    </tr>\n",
       "    <tr>\n",
       "      <th>2011-01-05</th>\n",
       "      <td>47.7143</td>\n",
       "      <td>47.7629</td>\n",
       "      <td>47.0714</td>\n",
       "      <td>47.0786</td>\n",
       "      <td>63879193</td>\n",
       "    </tr>\n",
       "    <tr>\n",
       "      <th>2011-01-06</th>\n",
       "      <td>47.6757</td>\n",
       "      <td>47.8929</td>\n",
       "      <td>47.5571</td>\n",
       "      <td>47.8571</td>\n",
       "      <td>75106626</td>\n",
       "    </tr>\n",
       "    <tr>\n",
       "      <th>2011-01-07</th>\n",
       "      <td>48.0171</td>\n",
       "      <td>48.0500</td>\n",
       "      <td>47.4143</td>\n",
       "      <td>47.7314</td>\n",
       "      <td>77982212</td>\n",
       "    </tr>\n",
       "  </tbody>\n",
       "</table>\n",
       "</div>"
      ],
      "text/plain": [
       "              Close     High      Low     Open     Volume\n",
       "Date                                                     \n",
       "2011-01-03  47.0814  47.1800  46.4052  46.5571  111280407\n",
       "2011-01-04  47.3271  47.5000  46.8786  47.5000   77337001\n",
       "2011-01-05  47.7143  47.7629  47.0714  47.0786   63879193\n",
       "2011-01-06  47.6757  47.8929  47.5571  47.8571   75106626\n",
       "2011-01-07  48.0171  48.0500  47.4143  47.7314   77982212"
      ]
     },
     "execution_count": 4,
     "metadata": {},
     "output_type": "execute_result"
    }
   ],
   "source": [
    "# Import the module for web downloads\n",
    "# (You will need to install the package \"pandas-datareader\")\n",
    "import pandas_datareader.data as web\n",
    "\n",
    "# Specify start and end dates to download\n",
    "start_date = datetime(2011, 1, 1) # January 1, 2011\n",
    "end_date = datetime(2014, 1, 1)   # January 1, 2014\n",
    "\n",
    "# Get Apple stock from Morningstar for these dates\n",
    "df = web.DataReader('AAPL', 'morningstar', start_date, end_date).loc['AAPL']\n",
    "df[:5]"
   ]
  },
  {
   "cell_type": "markdown",
   "metadata": {
    "slideshow": {
     "slide_type": "slide"
    }
   },
   "source": [
    "Note that this DataFrame has a special kind of index."
   ]
  },
  {
   "cell_type": "code",
   "execution_count": 5,
   "metadata": {
    "slideshow": {
     "slide_type": "-"
    }
   },
   "outputs": [
    {
     "data": {
      "text/plain": [
       "DatetimeIndex(['2011-01-03', '2011-01-04', '2011-01-05', '2011-01-06',\n",
       "               '2011-01-07', '2011-01-10', '2011-01-11', '2011-01-12',\n",
       "               '2011-01-13', '2011-01-14',\n",
       "               ...\n",
       "               '2013-12-19', '2013-12-20', '2013-12-23', '2013-12-24',\n",
       "               '2013-12-25', '2013-12-26', '2013-12-27', '2013-12-30',\n",
       "               '2013-12-31', '2014-01-01'],\n",
       "              dtype='datetime64[ns]', name=u'Date', length=783, freq=None)"
      ]
     },
     "execution_count": 5,
     "metadata": {},
     "output_type": "execute_result"
    }
   ],
   "source": [
    "df.index"
   ]
  },
  {
   "cell_type": "code",
   "execution_count": 6,
   "metadata": {
    "slideshow": {
     "slide_type": "fragment"
    }
   },
   "outputs": [
    {
     "data": {
      "text/plain": [
       "Timestamp('2011-01-10 00:00:00')"
      ]
     },
     "execution_count": 6,
     "metadata": {},
     "output_type": "execute_result"
    }
   ],
   "source": [
    "sixth_date = df.index[5]\n",
    "sixth_date"
   ]
  },
  {
   "cell_type": "code",
   "execution_count": 7,
   "metadata": {
    "slideshow": {
     "slide_type": "fragment"
    }
   },
   "outputs": [
    {
     "name": "stdout",
     "output_type": "stream",
     "text": [
      "2011-01-10 00:00:00 corresponds to\n",
      "year 2011\n",
      "month 1\n",
      "day 10\n",
      "day of the week 0\n",
      "quarter 1\n"
     ]
    }
   ],
   "source": [
    "# We can extract year, month, etc.\n",
    "print sixth_date, 'corresponds to'\n",
    "print 'year', sixth_date.year\n",
    "print 'month', sixth_date.month\n",
    "print 'day', sixth_date.day\n",
    "print 'day of the week', sixth_date.dayofweek  # Monday=0, ..., Sunday=6\n",
    "print 'quarter', sixth_date.quarter"
   ]
  },
  {
   "cell_type": "markdown",
   "metadata": {
    "slideshow": {
     "slide_type": "slide"
    }
   },
   "source": [
    "## Indexing in TimeSeries\n",
    "\n",
    "We can index into this DataFrame using such Timestamp objects."
   ]
  },
  {
   "cell_type": "code",
   "execution_count": 8,
   "metadata": {},
   "outputs": [
    {
     "data": {
      "text/plain": [
       "Close     4.892210e+01\n",
       "High      4.903290e+01\n",
       "Low       4.816710e+01\n",
       "Open      4.840430e+01\n",
       "Volume    1.121395e+08\n",
       "Name: 2011-01-10 00:00:00, dtype: float64"
      ]
     },
     "execution_count": 8,
     "metadata": {},
     "output_type": "execute_result"
    }
   ],
   "source": [
    "df.loc[sixth_date]"
   ]
  },
  {
   "cell_type": "code",
   "execution_count": 9,
   "metadata": {
    "slideshow": {
     "slide_type": "fragment"
    }
   },
   "outputs": [
    {
     "data": {
      "text/plain": [
       "Close     4.801710e+01\n",
       "High      4.805000e+01\n",
       "Low       4.741430e+01\n",
       "Open      4.773140e+01\n",
       "Volume    7.798221e+07\n",
       "Name: 2011-01-07 00:00:00, dtype: float64"
      ]
     },
     "execution_count": 9,
     "metadata": {},
     "output_type": "execute_result"
    }
   ],
   "source": [
    "df.loc['1/7/2011']"
   ]
  },
  {
   "cell_type": "code",
   "execution_count": 10,
   "metadata": {
    "slideshow": {
     "slide_type": "slide"
    }
   },
   "outputs": [
    {
     "data": {
      "text/plain": [
       "Close     4.771430e+01\n",
       "High      4.776290e+01\n",
       "Low       4.707140e+01\n",
       "Open      4.707860e+01\n",
       "Volume    6.387919e+07\n",
       "Name: 2011-01-05 00:00:00, dtype: float64"
      ]
     },
     "execution_count": 10,
     "metadata": {},
     "output_type": "execute_result"
    }
   ],
   "source": [
    "df.loc['2011-01-05']"
   ]
  },
  {
   "cell_type": "code",
   "execution_count": 11,
   "metadata": {
    "slideshow": {
     "slide_type": "fragment"
    }
   },
   "outputs": [
    {
     "data": {
      "text/plain": [
       "Close     4.771430e+01\n",
       "High      4.776290e+01\n",
       "Low       4.707140e+01\n",
       "Open      4.707860e+01\n",
       "Volume    6.387919e+07\n",
       "Name: 2011-01-05 00:00:00, dtype: float64"
      ]
     },
     "execution_count": 11,
     "metadata": {},
     "output_type": "execute_result"
    }
   ],
   "source": [
    "df.loc[datetime(year=2011, month=1, day=5)]"
   ]
  },
  {
   "cell_type": "markdown",
   "metadata": {
    "slideshow": {
     "slide_type": "slide"
    }
   },
   "source": [
    "## Slicing in Time Series\n",
    "\n",
    "We can also use any of the indexing methods above to select out slices of a time series."
   ]
  },
  {
   "cell_type": "code",
   "execution_count": 12,
   "metadata": {
    "slideshow": {
     "slide_type": "fragment"
    }
   },
   "outputs": [
    {
     "data": {
      "text/html": [
       "<div>\n",
       "<style scoped>\n",
       "    .dataframe tbody tr th:only-of-type {\n",
       "        vertical-align: middle;\n",
       "    }\n",
       "\n",
       "    .dataframe tbody tr th {\n",
       "        vertical-align: top;\n",
       "    }\n",
       "\n",
       "    .dataframe thead th {\n",
       "        text-align: right;\n",
       "    }\n",
       "</style>\n",
       "<table border=\"1\" class=\"dataframe\">\n",
       "  <thead>\n",
       "    <tr style=\"text-align: right;\">\n",
       "      <th></th>\n",
       "      <th>Close</th>\n",
       "      <th>High</th>\n",
       "      <th>Low</th>\n",
       "      <th>Open</th>\n",
       "      <th>Volume</th>\n",
       "    </tr>\n",
       "    <tr>\n",
       "      <th>Date</th>\n",
       "      <th></th>\n",
       "      <th></th>\n",
       "      <th></th>\n",
       "      <th></th>\n",
       "      <th></th>\n",
       "    </tr>\n",
       "  </thead>\n",
       "  <tbody>\n",
       "    <tr>\n",
       "      <th>2013-01-01</th>\n",
       "      <td>76.0247</td>\n",
       "      <td>76.0247</td>\n",
       "      <td>76.0247</td>\n",
       "      <td>76.0247</td>\n",
       "      <td>0</td>\n",
       "    </tr>\n",
       "    <tr>\n",
       "      <th>2013-01-02</th>\n",
       "      <td>78.4329</td>\n",
       "      <td>79.2857</td>\n",
       "      <td>77.3757</td>\n",
       "      <td>79.1429</td>\n",
       "      <td>140124866</td>\n",
       "    </tr>\n",
       "    <tr>\n",
       "      <th>2013-01-03</th>\n",
       "      <td>77.4423</td>\n",
       "      <td>78.5243</td>\n",
       "      <td>77.2857</td>\n",
       "      <td>78.2786</td>\n",
       "      <td>88240950</td>\n",
       "    </tr>\n",
       "    <tr>\n",
       "      <th>2013-01-04</th>\n",
       "      <td>75.2857</td>\n",
       "      <td>76.9471</td>\n",
       "      <td>75.1184</td>\n",
       "      <td>76.7357</td>\n",
       "      <td>148581860</td>\n",
       "    </tr>\n",
       "    <tr>\n",
       "      <th>2013-01-07</th>\n",
       "      <td>74.8429</td>\n",
       "      <td>75.6143</td>\n",
       "      <td>73.6000</td>\n",
       "      <td>74.5786</td>\n",
       "      <td>121038176</td>\n",
       "    </tr>\n",
       "    <tr>\n",
       "      <th>2013-01-08</th>\n",
       "      <td>75.0443</td>\n",
       "      <td>75.9843</td>\n",
       "      <td>74.4643</td>\n",
       "      <td>75.5529</td>\n",
       "      <td>114676751</td>\n",
       "    </tr>\n",
       "    <tr>\n",
       "      <th>2013-01-09</th>\n",
       "      <td>73.8714</td>\n",
       "      <td>75.0008</td>\n",
       "      <td>73.7129</td>\n",
       "      <td>74.6729</td>\n",
       "      <td>101899959</td>\n",
       "    </tr>\n",
       "    <tr>\n",
       "      <th>2013-01-10</th>\n",
       "      <td>74.7871</td>\n",
       "      <td>75.5314</td>\n",
       "      <td>73.6457</td>\n",
       "      <td>75.5000</td>\n",
       "      <td>150285296</td>\n",
       "    </tr>\n",
       "  </tbody>\n",
       "</table>\n",
       "</div>"
      ],
      "text/plain": [
       "              Close     High      Low     Open     Volume\n",
       "Date                                                     \n",
       "2013-01-01  76.0247  76.0247  76.0247  76.0247          0\n",
       "2013-01-02  78.4329  79.2857  77.3757  79.1429  140124866\n",
       "2013-01-03  77.4423  78.5243  77.2857  78.2786   88240950\n",
       "2013-01-04  75.2857  76.9471  75.1184  76.7357  148581860\n",
       "2013-01-07  74.8429  75.6143  73.6000  74.5786  121038176\n",
       "2013-01-08  75.0443  75.9843  74.4643  75.5529  114676751\n",
       "2013-01-09  73.8714  75.0008  73.7129  74.6729  101899959\n",
       "2013-01-10  74.7871  75.5314  73.6457  75.5000  150285296"
      ]
     },
     "execution_count": 12,
     "metadata": {},
     "output_type": "execute_result"
    }
   ],
   "source": [
    "df.loc['1/1/2013':'1/10/2013']"
   ]
  },
  {
   "cell_type": "markdown",
   "metadata": {
    "slideshow": {
     "slide_type": "slide"
    }
   },
   "source": [
    "In addition, Pandas allows us to easily slice by month or year as well."
   ]
  },
  {
   "cell_type": "code",
   "execution_count": 13,
   "metadata": {},
   "outputs": [
    {
     "data": {
      "text/plain": [
       "Date\n",
       "2013-05-01    62.7557\n",
       "2013-05-02    63.6457\n",
       "2013-05-03    64.2829\n",
       "2013-05-06    65.8157\n",
       "2013-05-07    65.5226\n",
       "2013-05-08    66.2629\n",
       "2013-05-09    65.2529\n",
       "2013-05-10    64.7100\n",
       "2013-05-13    64.9629\n",
       "2013-05-14    63.4086\n",
       "2013-05-15    61.2643\n",
       "2013-05-16    62.0826\n",
       "2013-05-17    61.8943\n",
       "2013-05-20    63.2757\n",
       "2013-05-21    62.8086\n",
       "2013-05-22    63.0506\n",
       "2013-05-23    63.1629\n",
       "2013-05-24    63.5929\n",
       "2013-05-27    63.5929\n",
       "2013-05-28    63.0627\n",
       "2013-05-29    63.5643\n",
       "2013-05-30    64.5114\n",
       "2013-05-31    64.2479\n",
       "Name: Close, dtype: float64"
      ]
     },
     "execution_count": 13,
     "metadata": {},
     "output_type": "execute_result"
    }
   ],
   "source": [
    "closings = df['Close']  # Select one column from our DataFrame; this is a Series\n",
    "closings['2013-05']"
   ]
  },
  {
   "cell_type": "code",
   "execution_count": 14,
   "metadata": {
    "slideshow": {
     "slide_type": "slide"
    }
   },
   "outputs": [
    {
     "data": {
      "text/plain": [
       "Date\n",
       "2012-01-02    57.8571\n",
       "2012-01-03    58.7471\n",
       "2012-01-04    59.0629\n",
       "2012-01-05    59.7186\n",
       "2012-01-06    60.3429\n",
       "2012-01-09    60.2471\n",
       "2012-01-10    60.4629\n",
       "2012-01-11    60.3643\n",
       "2012-01-12    60.1986\n",
       "2012-01-13    59.9729\n",
       "2012-01-16    59.9729\n",
       "2012-01-17    60.6714\n",
       "2012-01-18    61.3014\n",
       "2012-01-19    61.1071\n",
       "2012-01-20    60.0429\n",
       "2012-01-23    61.0584\n",
       "2012-01-24    60.0586\n",
       "2012-01-25    63.8086\n",
       "2012-01-26    63.5186\n",
       "2012-01-27    63.8971\n",
       "2012-01-30    64.7157\n",
       "2012-01-31    65.2114\n",
       "2012-02-01    65.1700\n",
       "2012-02-02    65.0171\n",
       "2012-02-03    65.6686\n",
       "2012-02-06    66.2814\n",
       "2012-02-07    66.9757\n",
       "2012-02-08    68.0971\n",
       "2012-02-09    70.4529\n",
       "2012-02-10    70.4886\n",
       "               ...   \n",
       "2012-11-20    80.1305\n",
       "2012-11-21    80.2429\n",
       "2012-11-22    80.2429\n",
       "2012-11-23    81.6429\n",
       "2012-11-26    84.2186\n",
       "2012-11-27    83.5400\n",
       "2012-11-28    83.2771\n",
       "2012-11-29    84.1943\n",
       "2012-11-30    83.6114\n",
       "2012-12-03    83.7414\n",
       "2012-12-04    82.2636\n",
       "2012-12-05    76.9703\n",
       "2012-12-06    78.1778\n",
       "2012-12-07    76.1786\n",
       "2012-12-10    75.6887\n",
       "2012-12-11    77.3411\n",
       "2012-12-12    76.9671\n",
       "2012-12-13    75.6700\n",
       "2012-12-14    72.8277\n",
       "2012-12-17    74.1186\n",
       "2012-12-18    76.2714\n",
       "2012-12-19    75.1871\n",
       "2012-12-20    74.5329\n",
       "2012-12-21    74.1900\n",
       "2012-12-24    74.3097\n",
       "2012-12-25    74.3097\n",
       "2012-12-26    73.2856\n",
       "2012-12-27    73.5800\n",
       "2012-12-28    72.7985\n",
       "2012-12-31    76.0247\n",
       "Name: Close, Length: 261, dtype: float64"
      ]
     },
     "execution_count": 14,
     "metadata": {},
     "output_type": "execute_result"
    }
   ],
   "source": [
    "closings['2012']"
   ]
  },
  {
   "cell_type": "markdown",
   "metadata": {
    "slideshow": {
     "slide_type": "slide"
    }
   },
   "source": [
    "The general solution to slicing is to create a range of dates and select a slice using that range. There are many options:\n",
    "\n",
    "* For calendar dates, use _date\\_range()_, with a common case being:\n",
    "\n",
    "   > date_range(start_date, end_date, freq)\n",
    "\n",
    "\n",
    "* The \"freq\" can be:\n",
    "    * 'D' for daily\n",
    "    * 'B' for each business day\n",
    "    * 'W-MON', 'W-TUE', ... for once a week on Monday, Tuesday, ...\n",
    "    * 'M' for monthly\n",
    "    * ...\n",
    "    * 'WOM-3FRI' for third Friday of the month (usual for option expiry dates)"
   ]
  },
  {
   "cell_type": "code",
   "execution_count": 15,
   "metadata": {
    "slideshow": {
     "slide_type": "fragment"
    }
   },
   "outputs": [
    {
     "data": {
      "text/plain": [
       "[Timestamp('2013-01-08 00:00:00', freq='W-TUE'),\n",
       " Timestamp('2013-01-15 00:00:00', freq='W-TUE'),\n",
       " Timestamp('2013-01-22 00:00:00', freq='W-TUE'),\n",
       " Timestamp('2013-01-29 00:00:00', freq='W-TUE')]"
      ]
     },
     "execution_count": 15,
     "metadata": {},
     "output_type": "execute_result"
    }
   ],
   "source": [
    "dates = pd.date_range(start='1/3/2013', end='2/3/2013', freq='W-TUE')\n",
    "list(dates)"
   ]
  },
  {
   "cell_type": "code",
   "execution_count": 16,
   "metadata": {
    "slideshow": {
     "slide_type": "slide"
    }
   },
   "outputs": [
    {
     "data": {
      "text/html": [
       "<div>\n",
       "<style scoped>\n",
       "    .dataframe tbody tr th:only-of-type {\n",
       "        vertical-align: middle;\n",
       "    }\n",
       "\n",
       "    .dataframe tbody tr th {\n",
       "        vertical-align: top;\n",
       "    }\n",
       "\n",
       "    .dataframe thead th {\n",
       "        text-align: right;\n",
       "    }\n",
       "</style>\n",
       "<table border=\"1\" class=\"dataframe\">\n",
       "  <thead>\n",
       "    <tr style=\"text-align: right;\">\n",
       "      <th></th>\n",
       "      <th>Close</th>\n",
       "      <th>High</th>\n",
       "      <th>Low</th>\n",
       "      <th>Open</th>\n",
       "      <th>Volume</th>\n",
       "    </tr>\n",
       "  </thead>\n",
       "  <tbody>\n",
       "    <tr>\n",
       "      <th>2013-01-08</th>\n",
       "      <td>75.0443</td>\n",
       "      <td>75.9843</td>\n",
       "      <td>74.4643</td>\n",
       "      <td>75.5529</td>\n",
       "      <td>114676751</td>\n",
       "    </tr>\n",
       "    <tr>\n",
       "      <th>2013-01-15</th>\n",
       "      <td>69.4171</td>\n",
       "      <td>71.2843</td>\n",
       "      <td>69.0543</td>\n",
       "      <td>71.1486</td>\n",
       "      <td>219192932</td>\n",
       "    </tr>\n",
       "    <tr>\n",
       "      <th>2013-01-22</th>\n",
       "      <td>72.1100</td>\n",
       "      <td>72.5543</td>\n",
       "      <td>70.9471</td>\n",
       "      <td>72.0786</td>\n",
       "      <td>115386173</td>\n",
       "    </tr>\n",
       "    <tr>\n",
       "      <th>2013-01-29</th>\n",
       "      <td>65.4671</td>\n",
       "      <td>65.7429</td>\n",
       "      <td>64.5886</td>\n",
       "      <td>65.4814</td>\n",
       "      <td>142768017</td>\n",
       "    </tr>\n",
       "  </tbody>\n",
       "</table>\n",
       "</div>"
      ],
      "text/plain": [
       "              Close     High      Low     Open     Volume\n",
       "2013-01-08  75.0443  75.9843  74.4643  75.5529  114676751\n",
       "2013-01-15  69.4171  71.2843  69.0543  71.1486  219192932\n",
       "2013-01-22  72.1100  72.5543  70.9471  72.0786  115386173\n",
       "2013-01-29  65.4671  65.7429  64.5886  65.4814  142768017"
      ]
     },
     "execution_count": 16,
     "metadata": {},
     "output_type": "execute_result"
    }
   ],
   "source": [
    "df.loc[dates]"
   ]
  },
  {
   "cell_type": "markdown",
   "metadata": {
    "slideshow": {
     "slide_type": "slide"
    }
   },
   "source": [
    "## Shifting time series\n",
    "\n",
    "One special operation with time series is to move backward or forward in time. For instance:\n",
    "\n",
    "### What is the percentage daily change in closing price?"
   ]
  },
  {
   "cell_type": "code",
   "execution_count": 17,
   "metadata": {
    "slideshow": {
     "slide_type": "fragment"
    }
   },
   "outputs": [
    {
     "data": {
      "text/plain": [
       "Date\n",
       "2011-01-03    47.0814\n",
       "2011-01-04    47.3271\n",
       "2011-01-05    47.7143\n",
       "2011-01-06    47.6757\n",
       "2011-01-07    48.0171\n",
       "2011-01-10    48.9221\n",
       "2011-01-11    48.8057\n",
       "2011-01-12    49.2029\n",
       "2011-01-13    49.3829\n",
       "2011-01-14    49.7829\n",
       "Name: Close, dtype: float64"
      ]
     },
     "execution_count": 17,
     "metadata": {},
     "output_type": "execute_result"
    }
   ],
   "source": [
    "closes = df['Close']\n",
    "closes[:10]"
   ]
  },
  {
   "cell_type": "code",
   "execution_count": 18,
   "metadata": {
    "slideshow": {
     "slide_type": "slide"
    }
   },
   "outputs": [
    {
     "data": {
      "text/plain": [
       "Date\n",
       "2011-01-03        NaN\n",
       "2011-01-04    47.0814\n",
       "2011-01-05    47.3271\n",
       "2011-01-06    47.7143\n",
       "2011-01-07    47.6757\n",
       "Name: Close, dtype: float64"
      ]
     },
     "execution_count": 18,
     "metadata": {},
     "output_type": "execute_result"
    }
   ],
   "source": [
    "yesterdays_closes = closes.shift(1)\n",
    "yesterdays_closes[:5]"
   ]
  },
  {
   "cell_type": "code",
   "execution_count": 19,
   "metadata": {
    "slideshow": {
     "slide_type": "fragment"
    }
   },
   "outputs": [
    {
     "data": {
      "text/plain": [
       "Date\n",
       "2011-01-03         NaN\n",
       "2011-01-04    0.521862\n",
       "2011-01-05    0.818136\n",
       "2011-01-06   -0.080898\n",
       "2011-01-07    0.716088\n",
       "Name: percent change, dtype: float64"
      ]
     },
     "execution_count": 19,
     "metadata": {},
     "output_type": "execute_result"
    }
   ],
   "source": [
    "df['percent change'] = (closes / yesterdays_closes - 1) * 100\n",
    "df['percent change'][:5]"
   ]
  },
  {
   "cell_type": "markdown",
   "metadata": {
    "slideshow": {
     "slide_type": "slide"
    }
   },
   "source": [
    "## Aggregate total trading volume by month\n",
    "\n",
    "This is accomplished using the _resample()_ method. For example:"
   ]
  },
  {
   "cell_type": "code",
   "execution_count": 20,
   "metadata": {
    "slideshow": {
     "slide_type": "fragment"
    }
   },
   "outputs": [
    {
     "data": {
      "text/plain": [
       "Date\n",
       "2011-01    2710648612\n",
       "2011-02    2323973658\n",
       "2011-03    2825236862\n",
       "2011-04    2313630256\n",
       "2011-05    1728012110\n",
       "2011-06    2316622364\n",
       "2011-07    2663639874\n",
       "2011-08    4034292871\n",
       "2011-09    2994842431\n",
       "2011-10    3285606996\n",
       "Freq: M, Name: Volume, dtype: int64"
      ]
     },
     "execution_count": 20,
     "metadata": {},
     "output_type": "execute_result"
    }
   ],
   "source": [
    "df['Volume'].resample('M', kind='period').sum()[:10]"
   ]
  },
  {
   "cell_type": "markdown",
   "metadata": {
    "slideshow": {
     "slide_type": "fragment"
    }
   },
   "source": [
    "Let us understand the details of this function.\n",
    "\n",
    "    df['Volume'].resample('M', kind='period').sum()\n",
    "\n",
    "* This takes the Volume series, which is indexed on a daily basis,\n",
    "* _\"resamples\"_ it on a monthly basis (the 'M'),\n",
    "*  using the corresponding period as the index, e.g., the month '2011-01',\n",
    "* and aggregates the volumes on all days in the month using the 'sum' function."
   ]
  },
  {
   "cell_type": "markdown",
   "metadata": {
    "slideshow": {
     "slide_type": "slide"
    }
   },
   "source": [
    "### Find the average closing price every week"
   ]
  },
  {
   "cell_type": "code",
   "execution_count": 21,
   "metadata": {
    "slideshow": {
     "slide_type": "fragment"
    }
   },
   "outputs": [
    {
     "data": {
      "text/plain": [
       "Date\n",
       "2011-01-03/2011-01-09    47.56312\n",
       "2011-01-10/2011-01-16    49.21930\n",
       "2011-01-17/2011-01-23    48.21058\n",
       "2011-01-24/2011-01-30    48.62884\n",
       "2011-01-31/2011-02-06    49.10316\n",
       "2011-02-07/2011-02-13    50.76088\n",
       "2011-02-14/2011-02-20    51.17342\n",
       "2011-02-21/2011-02-27    49.22372\n",
       "2011-02-28/2011-03-06    50.69144\n",
       "2011-03-07/2011-03-13    50.35002\n",
       "Freq: W-SUN, Name: Close, dtype: float64"
      ]
     },
     "execution_count": 21,
     "metadata": {},
     "output_type": "execute_result"
    }
   ],
   "source": [
    "df['Close'].resample('W', kind='period').mean()[:10]"
   ]
  },
  {
   "cell_type": "markdown",
   "metadata": {
    "slideshow": {
     "slide_type": "slide"
    }
   },
   "source": [
    "## Moving averages\n",
    "\n",
    "A common statistical technique is to smooth a time series by averaging over a time window. For example, a weekly moving average of a time series has, for each day, the average value of the time series over the previous week.\n",
    "\n",
    "### Get the 30-day moving average"
   ]
  },
  {
   "cell_type": "code",
   "execution_count": 22,
   "metadata": {
    "slideshow": {
     "slide_type": "fragment"
    }
   },
   "outputs": [
    {
     "data": {
      "text/plain": [
       "Date\n",
       "2011-01-10          NaN\n",
       "2011-01-11          NaN\n",
       "2011-01-12          NaN\n",
       "2011-01-13          NaN\n",
       "2011-01-14    48.391210\n",
       "2011-01-17    48.517727\n",
       "2011-01-18    48.529942\n",
       "Name: Close, dtype: float64"
      ]
     },
     "execution_count": 22,
     "metadata": {},
     "output_type": "execute_result"
    }
   ],
   "source": [
    "moving_avg_30 = df['Close'].rolling(window=30, min_periods=10).mean()\n",
    "moving_avg_30[5:12]"
   ]
  },
  {
   "cell_type": "markdown",
   "metadata": {
    "slideshow": {
     "slide_type": "slide"
    }
   },
   "source": [
    "What does this mean?\n",
    "\n",
    "    df['Close'].rolling(window=30, min_periods=10).mean()\n",
    "\n",
    "* **df['Close']**: use this time series\n",
    "\n",
    "* **window=30**: take a window of closes over the past 30 days\n",
    "\n",
    "* **min_periods=10**: If the past 30 days don't exist (say, today is the 25th day from the start of the time series), what do we do? This option says:\n",
    "    * for the first 10 days of the time series, the moving average doesn't exist (NaN)\n",
    "    * from the 10th to 30th day, take the average of as many days as are available (so for the 25th day, we average the past 25 days)\n",
    "    * from the 30th day onwards, take the average of the past 30 days\n",
    "\n",
    "* **mean()**: Compute the mean for this rolling window"
   ]
  },
  {
   "cell_type": "markdown",
   "metadata": {
    "slideshow": {
     "slide_type": "slide"
    }
   },
   "source": [
    "### Plot the daily closes and the 30-day moving average"
   ]
  },
  {
   "cell_type": "code",
   "execution_count": 23,
   "metadata": {
    "slideshow": {
     "slide_type": "fragment"
    }
   },
   "outputs": [
    {
     "data": {
      "image/png": "[encoded data removed]",
      "text/plain": [
       "<Figure size 432x288 with 1 Axes>"
      ]
     },
     "metadata": {},
     "output_type": "display_data"
    }
   ],
   "source": [
    "df['Close'].plot(label='Daily close')\n",
    "df['Close'].rolling(window=30, min_periods=10).mean().plot(label='30-day average')\n",
    "ylabel('Stock price')\n",
    "legend(loc='best')\n",
    "show()"
   ]
  },
  {
   "cell_type": "markdown",
   "metadata": {
    "slideshow": {
     "slide_type": "fragment"
    }
   },
   "source": [
    "Notice how the x-axis labels automatically say the name of the month, not the ugly \"2011-05-01\" stuff."
   ]
  },
  {
   "cell_type": "markdown",
   "metadata": {
    "slideshow": {
     "slide_type": "slide"
    }
   },
   "source": [
    "## Trading simulator\n",
    "\n",
    "A common trading rule says: buy when the 30-day moving average goes above the 180-day moving average (the BUY rule), and sell when it goes below (the SELL rule)."
   ]
  },
  {
   "cell_type": "markdown",
   "metadata": {
    "slideshow": {
     "slide_type": "fragment"
    }
   },
   "source": [
    "Let us assume you buy 1 share at the closing price the very day the BUY rule triggers, and sell that 1 share the day the SELL rule triggers. (This is cheating a little because we need that day's closing price to compute the averages, but let's gloss over that.) At the end, we want the overall return.\n",
    "\n",
    "How do we do this?"
   ]
  },
  {
   "cell_type": "markdown",
   "metadata": {
    "slideshow": {
     "slide_type": "slide"
    }
   },
   "source": [
    "* Step 1: Compute the daily return ratio, i.e., the ratio of today's closing price to yesterday's closing price.\n",
    "* Step 2: Create a mask of the days when I hold the share, i.e., the BUY rule has triggered, but the SELL rule has not.\n",
    "* Step 3: Compute the cumulative return ratio over the days of the mask. This is the product of the return ratios on the days I hold the share.\n",
    "\n"
   ]
  },
  {
   "cell_type": "markdown",
   "metadata": {
    "slideshow": {
     "slide_type": "slide"
    }
   },
   "source": [
    "**Step 1: Daily returns**\n",
    "\n",
    "We've already seen this."
   ]
  },
  {
   "cell_type": "code",
   "execution_count": 24,
   "metadata": {
    "slideshow": {
     "slide_type": "fragment"
    }
   },
   "outputs": [
    {
     "data": {
      "text/plain": [
       "Date\n",
       "2011-01-03         NaN\n",
       "2011-01-04    1.005219\n",
       "2011-01-05    1.008181\n",
       "2011-01-06    0.999191\n",
       "2011-01-07    1.007161\n",
       "2011-01-10    1.018847\n",
       "2011-01-11    0.997621\n",
       "2011-01-12    1.008138\n",
       "2011-01-13    1.003658\n",
       "2011-01-14    1.008100\n",
       "Name: Close, dtype: float64"
      ]
     },
     "execution_count": 24,
     "metadata": {},
     "output_type": "execute_result"
    }
   ],
   "source": [
    "closes = df['Close']\n",
    "daily_return_ratio = closes / closes.shift(1)\n",
    "daily_return_ratio[:10]"
   ]
  },
  {
   "cell_type": "markdown",
   "metadata": {
    "slideshow": {
     "slide_type": "slide"
    }
   },
   "source": [
    "**Step 2: Mask of days when we hold share**\n",
    "\n",
    "How do we do this?"
   ]
  },
  {
   "cell_type": "markdown",
   "metadata": {
    "slideshow": {
     "slide_type": "fragment"
    }
   },
   "source": [
    "* Compute the 30-day and 180-day moving averages"
   ]
  },
  {
   "cell_type": "markdown",
   "metadata": {
    "slideshow": {
     "slide_type": "fragment"
    }
   },
   "source": [
    "* Find the days when the 30-day average is greater than the 180-day average."
   ]
  },
  {
   "cell_type": "markdown",
   "metadata": {
    "slideshow": {
     "slide_type": "fragment"
    }
   },
   "source": [
    "* On which days do I hold the share?"
   ]
  },
  {
   "cell_type": "markdown",
   "metadata": {
    "slideshow": {
     "slide_type": "slide"
    }
   },
   "source": [
    " Consider the following example:\n",
    "\n",
    "* The 30-day average is greater than the 180-day average on 5th Jan, 6th Jan, ..., 11th Jan. It falls below the 180-day average on 12th Jan."
   ]
  },
  {
   "cell_type": "markdown",
   "metadata": {
    "slideshow": {
     "slide_type": "fragment"
    }
   },
   "source": [
    "* So we buy the share at close of 5th Jan, sell at the close of 12th Jan."
   ]
  },
  {
   "cell_type": "markdown",
   "metadata": {
    "slideshow": {
     "slide_type": "fragment"
    }
   },
   "source": [
    "* Hence we _held_ the share (and got its returns) for 6th Jan, 7th Jan, ..., 12th Jan."
   ]
  },
  {
   "cell_type": "markdown",
   "metadata": {
    "slideshow": {
     "slide_type": "fragment"
    }
   },
   "source": [
    "* On which days do I hold the share?\n",
    "    * The days we hold the share is shifted one day from the period the 30-day moving average is higher."
   ]
  },
  {
   "cell_type": "markdown",
   "metadata": {
    "slideshow": {
     "slide_type": "slide"
    }
   },
   "source": [
    "**Step 2: Mask of days when we hold share**\n",
    "\n",
    "1. Compute the 30-day and 180-day moving averages\n",
    "2. Find the days when the 30-day average is greater than the 180-day average.\n",
    "3. The days we hold the share is shifted one day from the periods found in Step 2."
   ]
  },
  {
   "cell_type": "markdown",
   "metadata": {
    "slideshow": {
     "slide_type": "slide"
    }
   },
   "source": [
    "**Step 2.1:** Moving averages"
   ]
  },
  {
   "cell_type": "code",
   "execution_count": 25,
   "metadata": {
    "slideshow": {
     "slide_type": "fragment"
    }
   },
   "outputs": [
    {
     "data": {
      "image/png": "[encoded data removed]",
      "text/plain": [
       "<Figure size 432x288 with 1 Axes>"
      ]
     },
     "metadata": {},
     "output_type": "display_data"
    }
   ],
   "source": [
    "mavg_30 = closes.rolling(window=30, min_periods=10).mean()\n",
    "mavg_180 = closes.rolling(window=180, min_periods=10).mean()\n",
    "\n",
    "closes.plot(label='Daily close')\n",
    "mavg_30.plot(label='30-day average')\n",
    "mavg_180.plot(label='180-day average')\n",
    "ylabel('Stock price')\n",
    "legend(loc='best')\n",
    "figsize(8,6)"
   ]
  },
  {
   "cell_type": "markdown",
   "metadata": {
    "slideshow": {
     "slide_type": "slide"
    }
   },
   "source": [
    "**Step 2.2:** Find the days the 30-day average is greater."
   ]
  },
  {
   "cell_type": "code",
   "execution_count": 26,
   "metadata": {
    "slideshow": {
     "slide_type": "fragment"
    }
   },
   "outputs": [
    {
     "data": {
      "text/plain": [
       "Date\n",
       "2011-02-08    False\n",
       "2011-02-09    False\n",
       "2011-02-10    False\n",
       "2011-02-11    False\n",
       "2011-02-14     True\n",
       "2011-02-15     True\n",
       "2011-02-16     True\n",
       "2011-02-17     True\n",
       "2011-02-18     True\n",
       "2011-02-21     True\n",
       "2011-02-22     True\n",
       "Name: Close, dtype: bool"
      ]
     },
     "execution_count": 26,
     "metadata": {},
     "output_type": "execute_result"
    }
   ],
   "source": [
    "mavg_30_is_greater = (mavg_30 > mavg_180)\n",
    "mavg_30_is_greater['2011-02-08':'2011-02-22']"
   ]
  },
  {
   "cell_type": "markdown",
   "metadata": {
    "slideshow": {
     "slide_type": "slide"
    }
   },
   "source": [
    "**Step 2.3:** Hold on the days the 30-day moving average is greater, but shifted by 1."
   ]
  },
  {
   "cell_type": "code",
   "execution_count": 27,
   "metadata": {
    "slideshow": {
     "slide_type": "fragment"
    }
   },
   "outputs": [
    {
     "data": {
      "text/plain": [
       "Date\n",
       "2011-02-08    False\n",
       "2011-02-09    False\n",
       "2011-02-10    False\n",
       "2011-02-11    False\n",
       "2011-02-14    False\n",
       "2011-02-15     True\n",
       "2011-02-16     True\n",
       "2011-02-17     True\n",
       "2011-02-18     True\n",
       "2011-02-21     True\n",
       "2011-02-22     True\n",
       "Name: Close, dtype: object"
      ]
     },
     "execution_count": 27,
     "metadata": {},
     "output_type": "execute_result"
    }
   ],
   "source": [
    "hold_days = mavg_30_is_greater.shift(1)\n",
    "hold_days['2011-02-08':'2011-02-22']"
   ]
  },
  {
   "cell_type": "markdown",
   "metadata": {
    "slideshow": {
     "slide_type": "slide"
    }
   },
   "source": [
    "The story so far:\n",
    "\n",
    "* We computed daily returns\n",
    "* We computed the days on which we hold the share\n",
    "\n",
    "What's left?"
   ]
  },
  {
   "cell_type": "markdown",
   "metadata": {
    "slideshow": {
     "slide_type": "fragment"
    }
   },
   "source": [
    "* Compute daily returns just on the days we hold the share\n",
    "    * and take the product of these daily returns"
   ]
  },
  {
   "cell_type": "code",
   "execution_count": 28,
   "metadata": {
    "slideshow": {
     "slide_type": "slide"
    }
   },
   "outputs": [
    {
     "data": {
      "text/plain": [
       "Date\n",
       "2011-01-03      NaN\n",
       "2011-01-04    False\n",
       "2011-01-05    False\n",
       "Name: Close, dtype: object"
      ]
     },
     "execution_count": 28,
     "metadata": {},
     "output_type": "execute_result"
    }
   ],
   "source": [
    "# One little problem\n",
    "hold_days[0:3]"
   ]
  },
  {
   "cell_type": "markdown",
   "metadata": {},
   "source": [
    "The first date is NaN, because of the shift(). We cannot use hold_days as a mask for daily_return_ratio because the mask must contain only False or True. So let's fix it."
   ]
  },
  {
   "cell_type": "code",
   "execution_count": 29,
   "metadata": {
    "slideshow": {
     "slide_type": "fragment"
    }
   },
   "outputs": [
    {
     "data": {
      "text/plain": [
       "Date\n",
       "2011-01-03    False\n",
       "2011-01-04    False\n",
       "2011-01-05    False\n",
       "Name: Close, dtype: bool"
      ]
     },
     "execution_count": 29,
     "metadata": {},
     "output_type": "execute_result"
    }
   ],
   "source": [
    "hold_days = hold_days.fillna(False)  # we don't hold shares on the first day\n",
    "hold_days[0:3]"
   ]
  },
  {
   "cell_type": "markdown",
   "metadata": {
    "slideshow": {
     "slide_type": "fragment"
    }
   },
   "source": [
    "Let's see the period when we hold the share"
   ]
  },
  {
   "cell_type": "code",
   "execution_count": 30,
   "metadata": {
    "slideshow": {
     "slide_type": "slide"
    }
   },
   "outputs": [
    {
     "data": {
      "text/plain": [
       "[]"
      ]
     },
     "execution_count": 30,
     "metadata": {},
     "output_type": "execute_result"
    },
    {
     "data": {
      "image/png": "[encoded data removed]",
      "text/plain": [
       "<Figure size 576x432 with 2 Axes>"
      ]
     },
     "metadata": {},
     "output_type": "display_data"
    }
   ],
   "source": [
    "fig, (ax1, ax2) = subplots(nrows=2,\n",
    "                           ncols=1,\n",
    "                           sharex=True,\n",
    "                           figsize=(8, 6))\n",
    "\n",
    "closes.plot(ax=ax1, label='Daily close')\n",
    "mavg_30.plot(ax=ax1, label='30-day average')\n",
    "mavg_180.plot(ax=ax1, label='180-day average')\n",
    "ax1.legend(loc='best')\n",
    "ax1.set_ylabel('Stock price')\n",
    "\n",
    "hold_days.astype(int).plot(ax=ax2, ylim=[0,2], label='Moving average signal')\n",
    "ax2.legend(loc='best')\n",
    "ax2.yaxis.set_ticklabels([])"
   ]
  },
  {
   "cell_type": "markdown",
   "metadata": {
    "slideshow": {
     "slide_type": "slide"
    }
   },
   "source": [
    "**Finally: Compute cumulative return**"
   ]
  },
  {
   "cell_type": "code",
   "execution_count": 31,
   "metadata": {},
   "outputs": [
    {
     "data": {
      "text/plain": [
       "Date\n",
       "2011-02-15    1.002005\n",
       "2011-02-16    1.008974\n",
       "2011-02-17    0.986699\n",
       "2011-02-18    0.978398\n",
       "2011-02-21    1.000000\n",
       "Name: Close, dtype: float64"
      ]
     },
     "execution_count": 31,
     "metadata": {},
     "output_type": "execute_result"
    }
   ],
   "source": [
    "# What are the returns on the days we hold the share?\n",
    "s = daily_return_ratio[hold_days]\n",
    "s[:5]"
   ]
  },
  {
   "cell_type": "code",
   "execution_count": 32,
   "metadata": {},
   "outputs": [
    {
     "name": "stdout",
     "output_type": "stream",
     "text": [
      "Overall return ratio = 1.4363823320999483\n"
     ]
    }
   ],
   "source": [
    "# Overall return is the product of the returns on each day we held a share.\n",
    "print 'Overall return ratio =', s.prod()"
   ]
  },
  {
   "cell_type": "markdown",
   "metadata": {
    "slideshow": {
     "slide_type": "fragment"
    }
   },
   "source": [
    "Is this good? Let's compare to a buy-and-hold strategy, where we buy on the first day and sell on the last."
   ]
  },
  {
   "cell_type": "code",
   "execution_count": 33,
   "metadata": {
    "slideshow": {
     "slide_type": "fragment"
    }
   },
   "outputs": [
    {
     "name": "stdout",
     "output_type": "stream",
     "text": [
      "Return of buy-and-hold = 1.7022794564307748\n"
     ]
    }
   ],
   "source": [
    "print 'Return of buy-and-hold =', daily_return_ratio.prod()"
   ]
  },
  {
   "cell_type": "markdown",
   "metadata": {
    "slideshow": {
     "slide_type": "slide"
    }
   },
   "source": [
    "Let's see how the cumulative return of the moving average strategy compares to buy-and-hold."
   ]
  },
  {
   "cell_type": "code",
   "execution_count": 34,
   "metadata": {
    "slideshow": {
     "slide_type": "fragment"
    }
   },
   "outputs": [
    {
     "data": {
      "image/png": "[encoded data removed]",
      "text/plain": [
       "<Figure size 576x432 with 1 Axes>"
      ]
     },
     "metadata": {},
     "output_type": "display_data"
    }
   ],
   "source": [
    "s.cumprod().plot(label='Moving average strategy')\n",
    "daily_return_ratio.cumprod().plot(label='Buy and hold strategy')\n",
    "ylabel('Return ratio')\n",
    "legend(loc='best')\n",
    "figsize(12,8)"
   ]
  },
  {
   "cell_type": "markdown",
   "metadata": {
    "slideshow": {
     "slide_type": "fragment"
    }
   },
   "source": [
    "* By the time the moving average strategy sells, the downturn has already hit hard.\n",
    "* By the time it buys, prices have already gone up quite a bit."
   ]
  }
 ],
 "metadata": {
  "celltoolbar": "Slideshow",
  "kernelspec": {
   "display_name": "Python 2",
   "language": "python",
   "name": "python2"
  },
  "language_info": {
   "codemirror_mode": {
    "name": "ipython",
    "version": 2
   },
   "file_extension": ".py",
   "mimetype": "text/x-python",
   "name": "python",
   "nbconvert_exporter": "python",
   "pygments_lexer": "ipython2",
   "version": "2.7.15"
  }
 },
 "nbformat": 4,
 "nbformat_minor": 1
}
