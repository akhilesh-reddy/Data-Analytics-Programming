{
 "cells": [
  {
   "cell_type": "markdown",
   "metadata": {
    "slideshow": {
     "slide_type": "slide"
    }
   },
   "source": [
    "# Pandas 5 (GroupBy)\n"
   ]
  },
  {
   "cell_type": "markdown",
   "metadata": {
    "slideshow": {
     "slide_type": "slide"
    }
   },
   "source": [
    "Think back to the cars example in the previous lecture, where we had 4-cylinder, 6-cylinder, and 8-cylinder cars, alongside their weights, their speeds, their horsepower, etc."
   ]
  },
  {
   "cell_type": "code",
   "execution_count": 1,
   "metadata": {
    "slideshow": {
     "slide_type": "-"
    }
   },
   "outputs": [
    {
     "name": "stdout",
     "output_type": "stream",
     "text": [
      "Populating the interactive namespace from numpy and matplotlib\n"
     ]
    }
   ],
   "source": [
    "from pandas import Series, DataFrame\n",
    "import pandas as pd\n",
    "%pylab inline"
   ]
  },
  {
   "cell_type": "code",
   "execution_count": 2,
   "metadata": {},
   "outputs": [
    {
     "data": {
      "text/html": [
       "<div>\n",
       "<style scoped>\n",
       "    .dataframe tbody tr th:only-of-type {\n",
       "        vertical-align: middle;\n",
       "    }\n",
       "\n",
       "    .dataframe tbody tr th {\n",
       "        vertical-align: top;\n",
       "    }\n",
       "\n",
       "    .dataframe thead th {\n",
       "        text-align: right;\n",
       "    }\n",
       "</style>\n",
       "<table border=\"1\" class=\"dataframe\">\n",
       "  <thead>\n",
       "    <tr style=\"text-align: right;\">\n",
       "      <th></th>\n",
       "      <th>type</th>\n",
       "      <th>mpg</th>\n",
       "      <th>cyl</th>\n",
       "      <th>disp</th>\n",
       "      <th>hp</th>\n",
       "      <th>wt</th>\n",
       "      <th>speed</th>\n",
       "      <th>wt.1</th>\n",
       "    </tr>\n",
       "  </thead>\n",
       "  <tbody>\n",
       "    <tr>\n",
       "      <th>0</th>\n",
       "      <td>AMC Ambassador Brougham</td>\n",
       "      <td>13.0</td>\n",
       "      <td>8</td>\n",
       "      <td>360.0</td>\n",
       "      <td>175.0</td>\n",
       "      <td>3821</td>\n",
       "      <td>11.0</td>\n",
       "      <td>73</td>\n",
       "    </tr>\n",
       "    <tr>\n",
       "      <th>1</th>\n",
       "      <td>AMC Ambassador DPL</td>\n",
       "      <td>15.0</td>\n",
       "      <td>8</td>\n",
       "      <td>390.0</td>\n",
       "      <td>190.0</td>\n",
       "      <td>3850</td>\n",
       "      <td>8.5</td>\n",
       "      <td>70</td>\n",
       "    </tr>\n",
       "    <tr>\n",
       "      <th>2</th>\n",
       "      <td>AMC Ambassador SST</td>\n",
       "      <td>17.0</td>\n",
       "      <td>8</td>\n",
       "      <td>304.0</td>\n",
       "      <td>150.0</td>\n",
       "      <td>3672</td>\n",
       "      <td>11.5</td>\n",
       "      <td>72</td>\n",
       "    </tr>\n",
       "    <tr>\n",
       "      <th>3</th>\n",
       "      <td>AMC Concord DL 6</td>\n",
       "      <td>20.2</td>\n",
       "      <td>6</td>\n",
       "      <td>232.0</td>\n",
       "      <td>90.0</td>\n",
       "      <td>3265</td>\n",
       "      <td>18.2</td>\n",
       "      <td>79</td>\n",
       "    </tr>\n",
       "    <tr>\n",
       "      <th>4</th>\n",
       "      <td>AMC Concord DL</td>\n",
       "      <td>18.1</td>\n",
       "      <td>6</td>\n",
       "      <td>258.0</td>\n",
       "      <td>120.0</td>\n",
       "      <td>3410</td>\n",
       "      <td>15.1</td>\n",
       "      <td>78</td>\n",
       "    </tr>\n",
       "  </tbody>\n",
       "</table>\n",
       "</div>"
      ],
      "text/plain": [
       "                      type   mpg  cyl   disp     hp    wt  speed  wt.1\n",
       "0  AMC Ambassador Brougham  13.0    8  360.0  175.0  3821   11.0    73\n",
       "1       AMC Ambassador DPL  15.0    8  390.0  190.0  3850    8.5    70\n",
       "2       AMC Ambassador SST  17.0    8  304.0  150.0  3672   11.5    72\n",
       "3         AMC Concord DL 6  20.2    6  232.0   90.0  3265   18.2    79\n",
       "4           AMC Concord DL  18.1    6  258.0  120.0  3410   15.1    78"
      ]
     },
     "execution_count": 2,
     "metadata": {},
     "output_type": "execute_result"
    }
   ],
   "source": [
    "cars = pd.read_csv('Pandas_4_data/cars.csv').dropna()\n",
    "cars[:5]"
   ]
  },
  {
   "cell_type": "markdown",
   "metadata": {
    "slideshow": {
     "slide_type": "slide"
    }
   },
   "source": [
    "If we wanted the average speed of all 4-cylinder, 6-cylinder, and 8-cylinder cars, how would we do it?"
   ]
  },
  {
   "cell_type": "code",
   "execution_count": 3,
   "metadata": {
    "slideshow": {
     "slide_type": "fragment"
    }
   },
   "outputs": [
    {
     "data": {
      "text/html": [
       "<div>\n",
       "<style scoped>\n",
       "    .dataframe tbody tr th:only-of-type {\n",
       "        vertical-align: middle;\n",
       "    }\n",
       "\n",
       "    .dataframe tbody tr th {\n",
       "        vertical-align: top;\n",
       "    }\n",
       "\n",
       "    .dataframe thead th {\n",
       "        text-align: right;\n",
       "    }\n",
       "</style>\n",
       "<table border=\"1\" class=\"dataframe\">\n",
       "  <thead>\n",
       "    <tr style=\"text-align: right;\">\n",
       "      <th></th>\n",
       "      <th>speed</th>\n",
       "    </tr>\n",
       "    <tr>\n",
       "      <th>cyl</th>\n",
       "      <th></th>\n",
       "    </tr>\n",
       "  </thead>\n",
       "  <tbody>\n",
       "    <tr>\n",
       "      <th>3</th>\n",
       "      <td>13.250000</td>\n",
       "    </tr>\n",
       "    <tr>\n",
       "      <th>4</th>\n",
       "      <td>16.581910</td>\n",
       "    </tr>\n",
       "    <tr>\n",
       "      <th>5</th>\n",
       "      <td>18.633333</td>\n",
       "    </tr>\n",
       "    <tr>\n",
       "      <th>6</th>\n",
       "      <td>16.254217</td>\n",
       "    </tr>\n",
       "    <tr>\n",
       "      <th>8</th>\n",
       "      <td>12.955340</td>\n",
       "    </tr>\n",
       "  </tbody>\n",
       "</table>\n",
       "</div>"
      ],
      "text/plain": [
       "         speed\n",
       "cyl           \n",
       "3    13.250000\n",
       "4    16.581910\n",
       "5    18.633333\n",
       "6    16.254217\n",
       "8    12.955340"
      ]
     },
     "execution_count": 3,
     "metadata": {},
     "output_type": "execute_result"
    }
   ],
   "source": [
    "cylinder_speed_pivot = pd.pivot_table(cars, \n",
    "                                      index='cyl',\n",
    "                                      columns=None,\n",
    "                                      values='speed',\n",
    "                                      aggfunc='mean')\n",
    "cylinder_speed_pivot"
   ]
  },
  {
   "cell_type": "markdown",
   "metadata": {
    "slideshow": {
     "slide_type": "slide"
    }
   },
   "source": [
    "The pivot table is really just a convenient shorthand for a basic operation called a _groupby_. This is such an important concept that we'll go into detail into the basics of:\n",
    "\n",
    "* groupby,\n",
    "* group aggregations, and\n",
    "* group transformations.\n",
    "\n",
    "This lecture borrows a lot from [this other lecture](http://nbviewer.ipython.org/github/ResearchComputing/Meetup-Fall-2013/blob/master/python/lecture_12_pandas_groupby.ipynb)."
   ]
  },
  {
   "cell_type": "markdown",
   "metadata": {
    "slideshow": {
     "slide_type": "slide"
    }
   },
   "source": [
    "## Main Idea\n",
    "\n",
    "Conceptually, the basic steps are as follows:\n",
    "\n",
    "* **split** the data into several _groups_\n",
    "    * e.g., split all cars into the \"4-cylinder\", \"6-cylinder\", \"8-cylinder\" groups\n",
    "\n",
    "\n",
    "* **apply** some function independently to each of the groups\n",
    "    * e.g., average the speed of all cars in each group\n",
    "\n",
    "\n",
    "* and then **merge** the results for all groups together\n",
    "    * e.g., get back one Series with the average speed indexed by number of cylinders.\n",
    "\n",
    "Hadoop MapReduce is based on the same concept."
   ]
  },
  {
   "cell_type": "markdown",
   "metadata": {
    "slideshow": {
     "slide_type": "slide"
    }
   },
   "source": [
    "## GroupBy\n",
    "\n",
    "Let us just look at the number of cylinders and speeds of all cars."
   ]
  },
  {
   "cell_type": "code",
   "execution_count": 4,
   "metadata": {},
   "outputs": [
    {
     "data": {
      "text/html": [
       "<div>\n",
       "<style scoped>\n",
       "    .dataframe tbody tr th:only-of-type {\n",
       "        vertical-align: middle;\n",
       "    }\n",
       "\n",
       "    .dataframe tbody tr th {\n",
       "        vertical-align: top;\n",
       "    }\n",
       "\n",
       "    .dataframe thead th {\n",
       "        text-align: right;\n",
       "    }\n",
       "</style>\n",
       "<table border=\"1\" class=\"dataframe\">\n",
       "  <thead>\n",
       "    <tr style=\"text-align: right;\">\n",
       "      <th></th>\n",
       "      <th>cyl</th>\n",
       "      <th>speed</th>\n",
       "    </tr>\n",
       "  </thead>\n",
       "  <tbody>\n",
       "    <tr>\n",
       "      <th>0</th>\n",
       "      <td>8</td>\n",
       "      <td>11.0</td>\n",
       "    </tr>\n",
       "    <tr>\n",
       "      <th>1</th>\n",
       "      <td>8</td>\n",
       "      <td>8.5</td>\n",
       "    </tr>\n",
       "    <tr>\n",
       "      <th>2</th>\n",
       "      <td>8</td>\n",
       "      <td>11.5</td>\n",
       "    </tr>\n",
       "    <tr>\n",
       "      <th>3</th>\n",
       "      <td>6</td>\n",
       "      <td>18.2</td>\n",
       "    </tr>\n",
       "    <tr>\n",
       "      <th>4</th>\n",
       "      <td>6</td>\n",
       "      <td>15.1</td>\n",
       "    </tr>\n",
       "  </tbody>\n",
       "</table>\n",
       "</div>"
      ],
      "text/plain": [
       "   cyl  speed\n",
       "0    8   11.0\n",
       "1    8    8.5\n",
       "2    8   11.5\n",
       "3    6   18.2\n",
       "4    6   15.1"
      ]
     },
     "execution_count": 4,
     "metadata": {},
     "output_type": "execute_result"
    }
   ],
   "source": [
    "cylinder_speeds = cars[['cyl', 'speed']]\n",
    "cylinder_speeds[:5]"
   ]
  },
  {
   "cell_type": "markdown",
   "metadata": {
    "slideshow": {
     "slide_type": "slide"
    }
   },
   "source": [
    "**Step 1: Split**"
   ]
  },
  {
   "cell_type": "code",
   "execution_count": 5,
   "metadata": {
    "slideshow": {
     "slide_type": "fragment"
    }
   },
   "outputs": [
    {
     "name": "stdout",
     "output_type": "stream",
     "text": [
      "5\n"
     ]
    }
   ],
   "source": [
    "grps = cylinder_speeds.groupby('cyl')\n",
    "print len(grps)"
   ]
  },
  {
   "cell_type": "markdown",
   "metadata": {
    "slideshow": {
     "slide_type": "fragment"
    }
   },
   "source": [
    "What does 'grps' look like?"
   ]
  },
  {
   "cell_type": "code",
   "execution_count": 6,
   "metadata": {
    "slideshow": {
     "slide_type": "fragment"
    }
   },
   "outputs": [
    {
     "name": "stdout",
     "output_type": "stream",
     "text": [
      "<class 'pandas.core.groupby.groupby.DataFrameGroupBy'>\n"
     ]
    }
   ],
   "source": [
    "print type(grps)"
   ]
  },
  {
   "cell_type": "markdown",
   "metadata": {
    "slideshow": {
     "slide_type": "fragment"
    }
   },
   "source": [
    "This is not a DataFrame, or any object we have seen so far. However, in many respects, it acts as a _dictionary_."
   ]
  },
  {
   "cell_type": "code",
   "execution_count": 7,
   "metadata": {
    "slideshow": {
     "slide_type": "slide"
    }
   },
   "outputs": [
    {
     "name": "stdout",
     "output_type": "stream",
     "text": [
      "group name = 3\n",
      "     cyl  speed\n",
      "240    3   13.5\n",
      "248    3   13.5\n",
      "249    3   13.5\n",
      "250    3   12.5\n",
      "group name = 4\n",
      "    cyl  speed\n",
      "7     4   20.1\n",
      "28    4   15.0\n",
      "29    4   14.0\n",
      "30    4   15.0\n",
      "31    4   14.5\n",
      "group name = 5\n",
      "     cyl  speed\n",
      "33     5   15.9\n",
      "34     5   19.9\n",
      "253    5   20.1\n",
      "group name = 6\n",
      "   cyl  speed\n",
      "3    6   18.2\n",
      "4    6   15.1\n",
      "6    6   17.2\n",
      "8    6   15.0\n",
      "9    6   13.0\n",
      "group name = 8\n",
      "    cyl  speed\n",
      "0     8   11.0\n",
      "1     8    8.5\n",
      "2     8   11.5\n",
      "17    8   15.5\n",
      "18    8   12.5\n"
     ]
    }
   ],
   "source": [
    "# Let us iterate over the keys and values of this groupby object\n",
    "for key, group in grps:\n",
    "    print 'group name =', key\n",
    "    print group[:5]"
   ]
  },
  {
   "cell_type": "markdown",
   "metadata": {
    "slideshow": {
     "slide_type": "slide"
    }
   },
   "source": [
    "_Summary_: We can think of the result of groupby() as a dictionary\n",
    "\n",
    "* whose keys are the groups on which we split the data, and\n",
    "* whose values are the DataFrame parts corresponding to those groups"
   ]
  },
  {
   "cell_type": "markdown",
   "metadata": {
    "slideshow": {
     "slide_type": "slide"
    }
   },
   "source": [
    "**Step 2: Apply**"
   ]
  },
  {
   "cell_type": "markdown",
   "metadata": {},
   "source": [
    "How do we find the average speed for each group of cars?"
   ]
  },
  {
   "cell_type": "code",
   "execution_count": 8,
   "metadata": {
    "slideshow": {
     "slide_type": "fragment"
    }
   },
   "outputs": [
    {
     "name": "stdout",
     "output_type": "stream",
     "text": [
      "mean for 3 is 13.25\n",
      "mean for 4 is 16.581909547738693\n",
      "mean for 5 is 18.633333333333333\n",
      "mean for 6 is 16.25421686746988\n",
      "mean for 8 is 12.955339805825243\n"
     ]
    }
   ],
   "source": [
    "# Let us find the mean speed in each group\n",
    "group_names = []\n",
    "group_means = []\n",
    "for name, group in grps:\n",
    "    mean = group['speed'].mean()\n",
    "    print 'mean for', name, 'is', mean\n",
    "    \n",
    "    group_names.append(name)\n",
    "    group_means.append(mean)\n",
    "    "
   ]
  },
  {
   "cell_type": "markdown",
   "metadata": {
    "slideshow": {
     "slide_type": "slide"
    }
   },
   "source": [
    "**Step 3: Merge**"
   ]
  },
  {
   "cell_type": "markdown",
   "metadata": {},
   "source": [
    "How do we merge the means for all the groups into one Series?"
   ]
  },
  {
   "cell_type": "code",
   "execution_count": 9,
   "metadata": {
    "slideshow": {
     "slide_type": "fragment"
    }
   },
   "outputs": [
    {
     "data": {
      "text/plain": [
       "3    13.250000\n",
       "4    16.581910\n",
       "5    18.633333\n",
       "6    16.254217\n",
       "8    12.955340\n",
       "dtype: float64"
      ]
     },
     "execution_count": 9,
     "metadata": {},
     "output_type": "execute_result"
    }
   ],
   "source": [
    "# Merge the means\n",
    "Series(group_means, index=group_names)"
   ]
  },
  {
   "cell_type": "markdown",
   "metadata": {
    "slideshow": {
     "slide_type": "slide"
    }
   },
   "source": [
    "**Groupby:**\n",
    "\n",
    "All of these steps can be compressed into one."
   ]
  },
  {
   "cell_type": "code",
   "execution_count": 10,
   "metadata": {},
   "outputs": [
    {
     "data": {
      "text/html": [
       "<div>\n",
       "<style scoped>\n",
       "    .dataframe tbody tr th:only-of-type {\n",
       "        vertical-align: middle;\n",
       "    }\n",
       "\n",
       "    .dataframe tbody tr th {\n",
       "        vertical-align: top;\n",
       "    }\n",
       "\n",
       "    .dataframe thead th {\n",
       "        text-align: right;\n",
       "    }\n",
       "</style>\n",
       "<table border=\"1\" class=\"dataframe\">\n",
       "  <thead>\n",
       "    <tr style=\"text-align: right;\">\n",
       "      <th></th>\n",
       "      <th>cyl</th>\n",
       "      <th>speed</th>\n",
       "    </tr>\n",
       "  </thead>\n",
       "  <tbody>\n",
       "    <tr>\n",
       "      <th>0</th>\n",
       "      <td>8</td>\n",
       "      <td>11.0</td>\n",
       "    </tr>\n",
       "    <tr>\n",
       "      <th>1</th>\n",
       "      <td>8</td>\n",
       "      <td>8.5</td>\n",
       "    </tr>\n",
       "    <tr>\n",
       "      <th>2</th>\n",
       "      <td>8</td>\n",
       "      <td>11.5</td>\n",
       "    </tr>\n",
       "    <tr>\n",
       "      <th>3</th>\n",
       "      <td>6</td>\n",
       "      <td>18.2</td>\n",
       "    </tr>\n",
       "    <tr>\n",
       "      <th>4</th>\n",
       "      <td>6</td>\n",
       "      <td>15.1</td>\n",
       "    </tr>\n",
       "  </tbody>\n",
       "</table>\n",
       "</div>"
      ],
      "text/plain": [
       "   cyl  speed\n",
       "0    8   11.0\n",
       "1    8    8.5\n",
       "2    8   11.5\n",
       "3    6   18.2\n",
       "4    6   15.1"
      ]
     },
     "execution_count": 10,
     "metadata": {},
     "output_type": "execute_result"
    }
   ],
   "source": [
    "cylinder_speeds[:5]"
   ]
  },
  {
   "cell_type": "code",
   "execution_count": 11,
   "metadata": {
    "slideshow": {
     "slide_type": "fragment"
    }
   },
   "outputs": [
    {
     "data": {
      "text/html": [
       "<div>\n",
       "<style scoped>\n",
       "    .dataframe tbody tr th:only-of-type {\n",
       "        vertical-align: middle;\n",
       "    }\n",
       "\n",
       "    .dataframe tbody tr th {\n",
       "        vertical-align: top;\n",
       "    }\n",
       "\n",
       "    .dataframe thead th {\n",
       "        text-align: right;\n",
       "    }\n",
       "</style>\n",
       "<table border=\"1\" class=\"dataframe\">\n",
       "  <thead>\n",
       "    <tr style=\"text-align: right;\">\n",
       "      <th></th>\n",
       "      <th>speed</th>\n",
       "    </tr>\n",
       "    <tr>\n",
       "      <th>cyl</th>\n",
       "      <th></th>\n",
       "    </tr>\n",
       "  </thead>\n",
       "  <tbody>\n",
       "    <tr>\n",
       "      <th>3</th>\n",
       "      <td>13.250000</td>\n",
       "    </tr>\n",
       "    <tr>\n",
       "      <th>4</th>\n",
       "      <td>16.581910</td>\n",
       "    </tr>\n",
       "    <tr>\n",
       "      <th>5</th>\n",
       "      <td>18.633333</td>\n",
       "    </tr>\n",
       "    <tr>\n",
       "      <th>6</th>\n",
       "      <td>16.254217</td>\n",
       "    </tr>\n",
       "    <tr>\n",
       "      <th>8</th>\n",
       "      <td>12.955340</td>\n",
       "    </tr>\n",
       "  </tbody>\n",
       "</table>\n",
       "</div>"
      ],
      "text/plain": [
       "         speed\n",
       "cyl           \n",
       "3    13.250000\n",
       "4    16.581910\n",
       "5    18.633333\n",
       "6    16.254217\n",
       "8    12.955340"
      ]
     },
     "execution_count": 11,
     "metadata": {},
     "output_type": "execute_result"
    }
   ],
   "source": [
    "cylinder_speeds.groupby('cyl').mean()"
   ]
  },
  {
   "cell_type": "markdown",
   "metadata": {
    "slideshow": {
     "slide_type": "slide"
    }
   },
   "source": [
    "While we grouped together all cars with the same number of cylinders, perhaps different manufacturers have different technology? This leads to the following question.\n",
    "\n",
    "### Find the mean speed of cars grouped by number of cylinders _and_ manufacturer.\n",
    "\n",
    "How do we do this?"
   ]
  },
  {
   "cell_type": "markdown",
   "metadata": {
    "slideshow": {
     "slide_type": "fragment"
    }
   },
   "source": [
    "1. Extract the manufacturer from the car's name.\n",
    "2. Run groupby() on both cylinders and manufacturer"
   ]
  },
  {
   "cell_type": "markdown",
   "metadata": {
    "slideshow": {
     "slide_type": "slide"
    }
   },
   "source": [
    "**Step 1: Extract the manufacturer**"
   ]
  },
  {
   "cell_type": "code",
   "execution_count": 12,
   "metadata": {},
   "outputs": [
    {
     "data": {
      "text/plain": [
       "0    AMC Ambassador Brougham\n",
       "1         AMC Ambassador DPL\n",
       "2         AMC Ambassador SST\n",
       "3           AMC Concord DL 6\n",
       "4             AMC Concord DL\n",
       "Name: type, dtype: object"
      ]
     },
     "execution_count": 12,
     "metadata": {},
     "output_type": "execute_result"
    }
   ],
   "source": [
    "cars['type'][:5]"
   ]
  },
  {
   "cell_type": "markdown",
   "metadata": {},
   "source": [
    "How do we extract the manufacturer from the car name series?"
   ]
  },
  {
   "cell_type": "code",
   "execution_count": 13,
   "metadata": {
    "slideshow": {
     "slide_type": "fragment"
    }
   },
   "outputs": [
    {
     "data": {
      "text/plain": [
       "'AMC'"
      ]
     },
     "execution_count": 13,
     "metadata": {},
     "output_type": "execute_result"
    }
   ],
   "source": [
    "def get_manufacturer(s):\n",
    "    \"\"\"Extract manufacturer from car name\"\"\"\n",
    "    # Split the string by spaces, and pick the first\n",
    "    words_in_car_name = s.split()\n",
    "    manufacturer = words_in_car_name[0]\n",
    "    return manufacturer\n",
    "\n",
    "# Test it\n",
    "get_manufacturer('AMC Ambassador Brougham')"
   ]
  },
  {
   "cell_type": "markdown",
   "metadata": {
    "slideshow": {
     "slide_type": "slide"
    }
   },
   "source": [
    "Let us create a new column in cars for the car manufacturer."
   ]
  },
  {
   "cell_type": "code",
   "execution_count": 14,
   "metadata": {
    "slideshow": {
     "slide_type": "fragment"
    }
   },
   "outputs": [
    {
     "data": {
      "text/html": [
       "<div>\n",
       "<style scoped>\n",
       "    .dataframe tbody tr th:only-of-type {\n",
       "        vertical-align: middle;\n",
       "    }\n",
       "\n",
       "    .dataframe tbody tr th {\n",
       "        vertical-align: top;\n",
       "    }\n",
       "\n",
       "    .dataframe thead th {\n",
       "        text-align: right;\n",
       "    }\n",
       "</style>\n",
       "<table border=\"1\" class=\"dataframe\">\n",
       "  <thead>\n",
       "    <tr style=\"text-align: right;\">\n",
       "      <th></th>\n",
       "      <th>type</th>\n",
       "      <th>manufacturer</th>\n",
       "    </tr>\n",
       "  </thead>\n",
       "  <tbody>\n",
       "    <tr>\n",
       "      <th>0</th>\n",
       "      <td>AMC Ambassador Brougham</td>\n",
       "      <td>AMC</td>\n",
       "    </tr>\n",
       "    <tr>\n",
       "      <th>1</th>\n",
       "      <td>AMC Ambassador DPL</td>\n",
       "      <td>AMC</td>\n",
       "    </tr>\n",
       "    <tr>\n",
       "      <th>2</th>\n",
       "      <td>AMC Ambassador SST</td>\n",
       "      <td>AMC</td>\n",
       "    </tr>\n",
       "    <tr>\n",
       "      <th>3</th>\n",
       "      <td>AMC Concord DL 6</td>\n",
       "      <td>AMC</td>\n",
       "    </tr>\n",
       "    <tr>\n",
       "      <th>4</th>\n",
       "      <td>AMC Concord DL</td>\n",
       "      <td>AMC</td>\n",
       "    </tr>\n",
       "    <tr>\n",
       "      <th>6</th>\n",
       "      <td>AMC Concord</td>\n",
       "      <td>AMC</td>\n",
       "    </tr>\n",
       "    <tr>\n",
       "      <th>7</th>\n",
       "      <td>AMC Concord</td>\n",
       "      <td>AMC</td>\n",
       "    </tr>\n",
       "    <tr>\n",
       "      <th>8</th>\n",
       "      <td>AMC Gremlin</td>\n",
       "      <td>AMC</td>\n",
       "    </tr>\n",
       "    <tr>\n",
       "      <th>9</th>\n",
       "      <td>AMC Gremlin</td>\n",
       "      <td>AMC</td>\n",
       "    </tr>\n",
       "    <tr>\n",
       "      <th>10</th>\n",
       "      <td>AMC Gremlin</td>\n",
       "      <td>AMC</td>\n",
       "    </tr>\n",
       "  </tbody>\n",
       "</table>\n",
       "</div>"
      ],
      "text/plain": [
       "                       type manufacturer\n",
       "0   AMC Ambassador Brougham          AMC\n",
       "1        AMC Ambassador DPL          AMC\n",
       "2        AMC Ambassador SST          AMC\n",
       "3          AMC Concord DL 6          AMC\n",
       "4            AMC Concord DL          AMC\n",
       "6               AMC Concord          AMC\n",
       "7               AMC Concord          AMC\n",
       "8               AMC Gremlin          AMC\n",
       "9               AMC Gremlin          AMC\n",
       "10              AMC Gremlin          AMC"
      ]
     },
     "execution_count": 14,
     "metadata": {},
     "output_type": "execute_result"
    }
   ],
   "source": [
    "cars['manufacturer'] = cars['type'].map(get_manufacturer)\n",
    "cars[['type', 'manufacturer']][:10]"
   ]
  },
  {
   "cell_type": "markdown",
   "metadata": {
    "slideshow": {
     "slide_type": "slide"
    }
   },
   "source": [
    "**Step 2: Run the groupby()**"
   ]
  },
  {
   "cell_type": "code",
   "execution_count": 15,
   "metadata": {
    "slideshow": {
     "slide_type": "fragment"
    }
   },
   "outputs": [
    {
     "data": {
      "text/html": [
       "<div>\n",
       "<style scoped>\n",
       "    .dataframe tbody tr th:only-of-type {\n",
       "        vertical-align: middle;\n",
       "    }\n",
       "\n",
       "    .dataframe tbody tr th {\n",
       "        vertical-align: top;\n",
       "    }\n",
       "\n",
       "    .dataframe thead th {\n",
       "        text-align: right;\n",
       "    }\n",
       "</style>\n",
       "<table border=\"1\" class=\"dataframe\">\n",
       "  <thead>\n",
       "    <tr style=\"text-align: right;\">\n",
       "      <th></th>\n",
       "      <th></th>\n",
       "      <th>speed</th>\n",
       "    </tr>\n",
       "    <tr>\n",
       "      <th>cyl</th>\n",
       "      <th>manufacturer</th>\n",
       "      <th></th>\n",
       "    </tr>\n",
       "  </thead>\n",
       "  <tbody>\n",
       "    <tr>\n",
       "      <th rowspan=\"2\" valign=\"top\">3</th>\n",
       "      <th>Maxda</th>\n",
       "      <td>13.500000</td>\n",
       "    </tr>\n",
       "    <tr>\n",
       "      <th>Mazda</th>\n",
       "      <td>13.166667</td>\n",
       "    </tr>\n",
       "    <tr>\n",
       "      <th rowspan=\"6\" valign=\"top\">4</th>\n",
       "      <th>AMC</th>\n",
       "      <td>17.550000</td>\n",
       "    </tr>\n",
       "    <tr>\n",
       "      <th>Audi</th>\n",
       "      <td>15.160000</td>\n",
       "    </tr>\n",
       "    <tr>\n",
       "      <th>BMW</th>\n",
       "      <td>12.650000</td>\n",
       "    </tr>\n",
       "    <tr>\n",
       "      <th>Buick</th>\n",
       "      <td>15.733333</td>\n",
       "    </tr>\n",
       "    <tr>\n",
       "      <th>Chevrolet</th>\n",
       "      <td>18.253333</td>\n",
       "    </tr>\n",
       "    <tr>\n",
       "      <th>Chevy</th>\n",
       "      <td>19.400000</td>\n",
       "    </tr>\n",
       "  </tbody>\n",
       "</table>\n",
       "</div>"
      ],
      "text/plain": [
       "                      speed\n",
       "cyl manufacturer           \n",
       "3   Maxda         13.500000\n",
       "    Mazda         13.166667\n",
       "4   AMC           17.550000\n",
       "    Audi          15.160000\n",
       "    BMW           12.650000\n",
       "    Buick         15.733333\n",
       "    Chevrolet     18.253333\n",
       "    Chevy         19.400000"
      ]
     },
     "execution_count": 15,
     "metadata": {},
     "output_type": "execute_result"
    }
   ],
   "source": [
    "mean_group_speed = cars.groupby(['cyl', 'manufacturer'])[['speed']].mean()\n",
    "mean_group_speed[:8]"
   ]
  },
  {
   "cell_type": "code",
   "execution_count": 16,
   "metadata": {
    "slideshow": {
     "slide_type": "fragment"
    }
   },
   "outputs": [
    {
     "data": {
      "text/plain": [
       "speed    13.166667\n",
       "Name: (3, Mazda), dtype: float64"
      ]
     },
     "execution_count": 16,
     "metadata": {},
     "output_type": "execute_result"
    }
   ],
   "source": [
    "# How do you access a hierarchical index? As a _tuple_\n",
    "mean_group_speed.loc[(3, 'Mazda')]"
   ]
  },
  {
   "cell_type": "markdown",
   "metadata": {
    "slideshow": {
     "slide_type": "slide"
    }
   },
   "source": [
    "Let us run through this groupby() in detail.\n",
    "\n",
    "> cars.groupby(['cyl', 'manufacturer'])[['speed']].mean()\n",
    "\n",
    "* **cars**: Obvious; run on the cars DataFrame\n",
    "\n",
    "\n",
    "* **groupby(['cyl', 'manufacturer'])**: Group together all cars with the same number of cylinders _and_ manufacturer\n",
    "\n",
    "\n",
    "* **[['speed']]**: Recall that for each of the groups, we get a DataFrame of cars in that group. By specifying [[column1, column2, ...]], we _select_ those columns of the group DataFrames. Here, we select just the speed column.\n",
    "\n",
    "\n",
    "* **mean()**: Apply the mean() function on the selected columns (here, 'speed') of each group's DataFrame.\n",
    "\n",
    "The result of this groupby() is a DataFrame with a _hierarchical_ index with two levels. The first level of the index is number of cylinders, and the second level is the manufacturer."
   ]
  },
  {
   "cell_type": "markdown",
   "metadata": {
    "slideshow": {
     "slide_type": "slide"
    }
   },
   "source": [
    "## Group Aggregations"
   ]
  },
  {
   "cell_type": "markdown",
   "metadata": {
    "slideshow": {
     "slide_type": "fragment"
    }
   },
   "source": [
    "In addition to mean(), there are several standard functions such as count(), min(), max(), etc. But we aren't restricted to these; we can define our own functions as well.\n",
    "\n",
    "### Find the range of speeds for these car groups.\n",
    "\n",
    "How will we do this?"
   ]
  },
  {
   "cell_type": "markdown",
   "metadata": {
    "slideshow": {
     "slide_type": "fragment"
    }
   },
   "source": [
    "1. Define a special **aggregation** function for the range of speeds.\n",
    "2. Apply this function to the groups found by groupby()."
   ]
  },
  {
   "cell_type": "markdown",
   "metadata": {
    "slideshow": {
     "slide_type": "slide"
    }
   },
   "source": [
    "**Step 1: Define aggregation function.**"
   ]
  },
  {
   "cell_type": "markdown",
   "metadata": {},
   "source": [
    "What should the aggregation function look like? Consider several examples:\n",
    "\n",
    "* mean(): It takes a Series of speeds, and returns one number (the mean speed).\n",
    "* max(): It takes a Series of speeds, and returns one number (the max speed).\n",
    "\n",
    "So that is the pattern we must follow in designing our own aggregation function. "
   ]
  },
  {
   "cell_type": "markdown",
   "metadata": {
    "slideshow": {
     "slide_type": "fragment"
    }
   },
   "source": [
    "We need to define a function\n",
    "\n",
    "* speed_range(): Take a Series of speeds, and return one number (the max - min speed)"
   ]
  },
  {
   "cell_type": "code",
   "execution_count": 17,
   "metadata": {
    "slideshow": {
     "slide_type": "fragment"
    }
   },
   "outputs": [],
   "source": [
    "def speed_range(s):\n",
    "    \"\"\"Given a series of speeds (called s), get the range\"\"\"\n",
    "    return s.max() - s.min()"
   ]
  },
  {
   "cell_type": "markdown",
   "metadata": {
    "slideshow": {
     "slide_type": "slide"
    }
   },
   "source": [
    "**Step 2: Apply this function to the groups in groupby()**"
   ]
  },
  {
   "cell_type": "code",
   "execution_count": 18,
   "metadata": {
    "slideshow": {
     "slide_type": "-"
    }
   },
   "outputs": [
    {
     "data": {
      "text/html": [
       "<div>\n",
       "<style scoped>\n",
       "    .dataframe tbody tr th:only-of-type {\n",
       "        vertical-align: middle;\n",
       "    }\n",
       "\n",
       "    .dataframe tbody tr th {\n",
       "        vertical-align: top;\n",
       "    }\n",
       "\n",
       "    .dataframe thead th {\n",
       "        text-align: right;\n",
       "    }\n",
       "</style>\n",
       "<table border=\"1\" class=\"dataframe\">\n",
       "  <thead>\n",
       "    <tr style=\"text-align: right;\">\n",
       "      <th></th>\n",
       "      <th></th>\n",
       "      <th>speed</th>\n",
       "    </tr>\n",
       "    <tr>\n",
       "      <th>cyl</th>\n",
       "      <th>manufacturer</th>\n",
       "      <th></th>\n",
       "    </tr>\n",
       "  </thead>\n",
       "  <tbody>\n",
       "    <tr>\n",
       "      <th rowspan=\"2\" valign=\"top\">3</th>\n",
       "      <th>Maxda</th>\n",
       "      <td>0.0</td>\n",
       "    </tr>\n",
       "    <tr>\n",
       "      <th>Mazda</th>\n",
       "      <td>1.0</td>\n",
       "    </tr>\n",
       "    <tr>\n",
       "      <th rowspan=\"8\" valign=\"top\">4</th>\n",
       "      <th>AMC</th>\n",
       "      <td>5.1</td>\n",
       "    </tr>\n",
       "    <tr>\n",
       "      <th>Audi</th>\n",
       "      <td>2.5</td>\n",
       "    </tr>\n",
       "    <tr>\n",
       "      <th>BMW</th>\n",
       "      <td>0.3</td>\n",
       "    </tr>\n",
       "    <tr>\n",
       "      <th>Buick</th>\n",
       "      <td>1.6</td>\n",
       "    </tr>\n",
       "    <tr>\n",
       "      <th>Chevrolet</th>\n",
       "      <td>6.7</td>\n",
       "    </tr>\n",
       "    <tr>\n",
       "      <th>Chevy</th>\n",
       "      <td>0.0</td>\n",
       "    </tr>\n",
       "    <tr>\n",
       "      <th>Chrysler</th>\n",
       "      <td>0.0</td>\n",
       "    </tr>\n",
       "    <tr>\n",
       "      <th>Datsun</th>\n",
       "      <td>4.9</td>\n",
       "    </tr>\n",
       "  </tbody>\n",
       "</table>\n",
       "</div>"
      ],
      "text/plain": [
       "                  speed\n",
       "cyl manufacturer       \n",
       "3   Maxda           0.0\n",
       "    Mazda           1.0\n",
       "4   AMC             5.1\n",
       "    Audi            2.5\n",
       "    BMW             0.3\n",
       "    Buick           1.6\n",
       "    Chevrolet       6.7\n",
       "    Chevy           0.0\n",
       "    Chrysler        0.0\n",
       "    Datsun          4.9"
      ]
     },
     "execution_count": 18,
     "metadata": {},
     "output_type": "execute_result"
    }
   ],
   "source": [
    "# Apply our aggregator using the agg() function\n",
    "cars.groupby(['cyl', 'manufacturer'])[['speed']].agg(speed_range)[:10]"
   ]
  },
  {
   "cell_type": "markdown",
   "metadata": {
    "slideshow": {
     "slide_type": "slide"
    }
   },
   "source": [
    "In the groupby() calls we just saw, we just called one aggregation function on each group's DataFrame\n",
    "\n",
    "* the mean(), or\n",
    "* our own speed_range().\n",
    "\n",
    "What if we want multiple aggregate statistics?\n"
   ]
  },
  {
   "cell_type": "markdown",
   "metadata": {
    "slideshow": {
     "slide_type": "slide"
    }
   },
   "source": [
    "### Find number of cars, their average speed, and speed range for the various car groups."
   ]
  },
  {
   "cell_type": "code",
   "execution_count": 19,
   "metadata": {
    "slideshow": {
     "slide_type": "fragment"
    }
   },
   "outputs": [
    {
     "data": {
      "text/html": [
       "<div>\n",
       "<style scoped>\n",
       "    .dataframe tbody tr th:only-of-type {\n",
       "        vertical-align: middle;\n",
       "    }\n",
       "\n",
       "    .dataframe tbody tr th {\n",
       "        vertical-align: top;\n",
       "    }\n",
       "\n",
       "    .dataframe thead tr th {\n",
       "        text-align: left;\n",
       "    }\n",
       "\n",
       "    .dataframe thead tr:last-of-type th {\n",
       "        text-align: right;\n",
       "    }\n",
       "</style>\n",
       "<table border=\"1\" class=\"dataframe\">\n",
       "  <thead>\n",
       "    <tr>\n",
       "      <th></th>\n",
       "      <th></th>\n",
       "      <th colspan=\"3\" halign=\"left\">speed</th>\n",
       "    </tr>\n",
       "    <tr>\n",
       "      <th></th>\n",
       "      <th></th>\n",
       "      <th>mean</th>\n",
       "      <th>count</th>\n",
       "      <th>speed_range</th>\n",
       "    </tr>\n",
       "    <tr>\n",
       "      <th>cyl</th>\n",
       "      <th>manufacturer</th>\n",
       "      <th></th>\n",
       "      <th></th>\n",
       "      <th></th>\n",
       "    </tr>\n",
       "  </thead>\n",
       "  <tbody>\n",
       "    <tr>\n",
       "      <th rowspan=\"2\" valign=\"top\">3</th>\n",
       "      <th>Maxda</th>\n",
       "      <td>13.500000</td>\n",
       "      <td>1</td>\n",
       "      <td>0.0</td>\n",
       "    </tr>\n",
       "    <tr>\n",
       "      <th>Mazda</th>\n",
       "      <td>13.166667</td>\n",
       "      <td>3</td>\n",
       "      <td>1.0</td>\n",
       "    </tr>\n",
       "    <tr>\n",
       "      <th rowspan=\"8\" valign=\"top\">4</th>\n",
       "      <th>AMC</th>\n",
       "      <td>17.550000</td>\n",
       "      <td>2</td>\n",
       "      <td>5.1</td>\n",
       "    </tr>\n",
       "    <tr>\n",
       "      <th>Audi</th>\n",
       "      <td>15.160000</td>\n",
       "      <td>5</td>\n",
       "      <td>2.5</td>\n",
       "    </tr>\n",
       "    <tr>\n",
       "      <th>BMW</th>\n",
       "      <td>12.650000</td>\n",
       "      <td>2</td>\n",
       "      <td>0.3</td>\n",
       "    </tr>\n",
       "    <tr>\n",
       "      <th>Buick</th>\n",
       "      <td>15.733333</td>\n",
       "      <td>3</td>\n",
       "      <td>1.6</td>\n",
       "    </tr>\n",
       "    <tr>\n",
       "      <th>Chevrolet</th>\n",
       "      <td>18.253333</td>\n",
       "      <td>15</td>\n",
       "      <td>6.7</td>\n",
       "    </tr>\n",
       "    <tr>\n",
       "      <th>Chevy</th>\n",
       "      <td>19.400000</td>\n",
       "      <td>1</td>\n",
       "      <td>0.0</td>\n",
       "    </tr>\n",
       "    <tr>\n",
       "      <th>Chrysler</th>\n",
       "      <td>14.500000</td>\n",
       "      <td>1</td>\n",
       "      <td>0.0</td>\n",
       "    </tr>\n",
       "    <tr>\n",
       "      <th>Datsun</th>\n",
       "      <td>16.885000</td>\n",
       "      <td>20</td>\n",
       "      <td>4.9</td>\n",
       "    </tr>\n",
       "  </tbody>\n",
       "</table>\n",
       "</div>"
      ],
      "text/plain": [
       "                      speed                  \n",
       "                       mean count speed_range\n",
       "cyl manufacturer                             \n",
       "3   Maxda         13.500000     1         0.0\n",
       "    Mazda         13.166667     3         1.0\n",
       "4   AMC           17.550000     2         5.1\n",
       "    Audi          15.160000     5         2.5\n",
       "    BMW           12.650000     2         0.3\n",
       "    Buick         15.733333     3         1.6\n",
       "    Chevrolet     18.253333    15         6.7\n",
       "    Chevy         19.400000     1         0.0\n",
       "    Chrysler      14.500000     1         0.0\n",
       "    Datsun        16.885000    20         4.9"
      ]
     },
     "execution_count": 19,
     "metadata": {},
     "output_type": "execute_result"
    }
   ],
   "source": [
    "cars.groupby(['cyl', 'manufacturer'])[['speed']].agg(['mean', 'count', speed_range])[:10]"
   ]
  },
  {
   "cell_type": "markdown",
   "metadata": {
    "slideshow": {
     "slide_type": "slide"
    }
   },
   "source": [
    "The story so far in this lecture.\n",
    "\n",
    "* We've learnt groupby()."
   ]
  },
  {
   "cell_type": "markdown",
   "metadata": {
    "slideshow": {
     "slide_type": "fragment"
    }
   },
   "source": [
    "* We haven't been good data scientists."
   ]
  },
  {
   "cell_type": "code",
   "execution_count": 20,
   "metadata": {
    "slideshow": {
     "slide_type": "fragment"
    }
   },
   "outputs": [
    {
     "data": {
      "text/html": [
       "<div>\n",
       "<style scoped>\n",
       "    .dataframe tbody tr th:only-of-type {\n",
       "        vertical-align: middle;\n",
       "    }\n",
       "\n",
       "    .dataframe tbody tr th {\n",
       "        vertical-align: top;\n",
       "    }\n",
       "\n",
       "    .dataframe thead th {\n",
       "        text-align: right;\n",
       "    }\n",
       "</style>\n",
       "<table border=\"1\" class=\"dataframe\">\n",
       "  <thead>\n",
       "    <tr style=\"text-align: right;\">\n",
       "      <th></th>\n",
       "      <th></th>\n",
       "      <th>speed</th>\n",
       "    </tr>\n",
       "    <tr>\n",
       "      <th>cyl</th>\n",
       "      <th>manufacturer</th>\n",
       "      <th></th>\n",
       "    </tr>\n",
       "  </thead>\n",
       "  <tbody>\n",
       "    <tr>\n",
       "      <th rowspan=\"2\" valign=\"top\">3</th>\n",
       "      <th>Maxda</th>\n",
       "      <td>13.500000</td>\n",
       "    </tr>\n",
       "    <tr>\n",
       "      <th>Mazda</th>\n",
       "      <td>13.166667</td>\n",
       "    </tr>\n",
       "    <tr>\n",
       "      <th rowspan=\"3\" valign=\"top\">4</th>\n",
       "      <th>AMC</th>\n",
       "      <td>17.550000</td>\n",
       "    </tr>\n",
       "    <tr>\n",
       "      <th>Audi</th>\n",
       "      <td>15.160000</td>\n",
       "    </tr>\n",
       "    <tr>\n",
       "      <th>BMW</th>\n",
       "      <td>12.650000</td>\n",
       "    </tr>\n",
       "  </tbody>\n",
       "</table>\n",
       "</div>"
      ],
      "text/plain": [
       "                      speed\n",
       "cyl manufacturer           \n",
       "3   Maxda         13.500000\n",
       "    Mazda         13.166667\n",
       "4   AMC           17.550000\n",
       "    Audi          15.160000\n",
       "    BMW           12.650000"
      ]
     },
     "execution_count": 20,
     "metadata": {},
     "output_type": "execute_result"
    }
   ],
   "source": [
    "cars.groupby(['cyl', 'manufacturer'])[['speed']].mean()[:5]"
   ]
  },
  {
   "cell_type": "markdown",
   "metadata": {
    "slideshow": {
     "slide_type": "fragment"
    }
   },
   "source": [
    "\n",
    "\n",
    "\n",
    "Why?\n",
    "\n",
    "* 'Mazda' and 'Maxda'\n",
    "* 'Chevy' and 'Chevrolet'\n",
    "\n",
    "Who knows how many such errors exist? Can we even trust these results?\n",
    "\n",
    "So let's take a little digression and fix this stuff."
   ]
  },
  {
   "cell_type": "code",
   "execution_count": 21,
   "metadata": {
    "slideshow": {
     "slide_type": "slide"
    }
   },
   "outputs": [
    {
     "data": {
      "text/plain": [
       "Ford             49\n",
       "Chevrolet        43\n",
       "Plymouth         31\n",
       "Dodge            28\n",
       "AMC              27\n",
       "Toyota           25\n",
       "Datsun           23\n",
       "Volkswagen       21\n",
       "Buick            17\n",
       "Pontiac          16\n",
       "Honda            13\n",
       "Mercury          11\n",
       "Mazda            10\n",
       "Oldsmobile       10\n",
       "Fiat              8\n",
       "Peugeot           8\n",
       "Audi              7\n",
       "Volvo             6\n",
       "Chrysler          6\n",
       "Opel              4\n",
       "Subaru            4\n",
       "Saab              4\n",
       "Mercedes-Benz     3\n",
       "Renault           3\n",
       "Chevy             3\n",
       "BMW               2\n",
       "Cadillac          2\n",
       "Maxda             2\n",
       "Toyouta           1\n",
       "Nissan            1\n",
       "Chevroelt         1\n",
       "Vokswagen         1\n",
       "Triumph           1\n",
       "Hi                1\n",
       "Name: manufacturer, dtype: int64"
      ]
     },
     "execution_count": 21,
     "metadata": {},
     "output_type": "execute_result"
    }
   ],
   "source": [
    "# Let's get all the manufacturers and their frequencies\n",
    "# The infrequent ones are probably misspellings.\n",
    "cars['manufacturer'].value_counts()"
   ]
  },
  {
   "cell_type": "markdown",
   "metadata": {
    "slideshow": {
     "slide_type": "slide"
    }
   },
   "source": [
    "I see the following sets of synonyms:\n",
    "\n",
    "* Chevrolet, Chevy, and Chevroelt\n",
    "* Toyota and Toyouta\n",
    "* Mazda and Maxda\n",
    "* Volkswagen and Vokswagen\n",
    "\n",
    "How do we merge these together?"
   ]
  },
  {
   "cell_type": "code",
   "execution_count": 22,
   "metadata": {
    "slideshow": {
     "slide_type": "slide"
    }
   },
   "outputs": [
    {
     "name": "stdout",
     "output_type": "stream",
     "text": [
      "Chevy mapped to Chevrolet\n",
      "Mazda should remain Mazda\n"
     ]
    }
   ],
   "source": [
    "def merge_manufacturers(s):\n",
    "    \"\"\"Map some manufacturers together.\"\"\"\n",
    "    \n",
    "    # Create a map of misspellings to correct spelling\n",
    "    misspellings = {'Chevy':'Chevrolet',\n",
    "                    'Chevroelt':'Chevrolet',\n",
    "                    'Toyouta':'Toyota',\n",
    "                    'Maxda':'Mazda',\n",
    "                    'Vokswagen':'Volkswagen'}\n",
    "    \n",
    "    if s in misspellings:\n",
    "        return misspellings[s]\n",
    "    else:\n",
    "        return s\n",
    "\n",
    "# Test it\n",
    "print 'Chevy mapped to', merge_manufacturers('Chevy')\n",
    "print 'Mazda should remain', merge_manufacturers('Mazda')"
   ]
  },
  {
   "cell_type": "code",
   "execution_count": 23,
   "metadata": {
    "slideshow": {
     "slide_type": "fragment"
    }
   },
   "outputs": [
    {
     "data": {
      "text/plain": [
       "Series([], Name: manufacturer, dtype: object)"
      ]
     },
     "execution_count": 23,
     "metadata": {},
     "output_type": "execute_result"
    }
   ],
   "source": [
    "# Apply the function to the Series\n",
    "cars['manufacturer'] = cars['manufacturer'].map(merge_manufacturers)\n",
    "\n",
    "# Check that it worked\n",
    "mask = (cars['manufacturer'] == 'Chevy')\n",
    "cars['manufacturer'][mask]  # should be empty"
   ]
  },
  {
   "cell_type": "markdown",
   "metadata": {
    "slideshow": {
     "slide_type": "slide"
    }
   },
   "source": [
    "This is such a common requirement that these is a special function for this:"
   ]
  },
  {
   "cell_type": "code",
   "execution_count": 24,
   "metadata": {},
   "outputs": [],
   "source": [
    "# cars['manufacturer'].replace(['Chevy', 'Chevroelt', 'Toyouta', 'Maxda', 'Vokswagen'],\n",
    "#                              ['Chevrolet', 'Chevrolet', 'Toyota', 'Mazda', 'Volkswagen'])"
   ]
  },
  {
   "cell_type": "markdown",
   "metadata": {
    "slideshow": {
     "slide_type": "slide"
    }
   },
   "source": [
    "### Summary so far\n",
    "\n",
    "    df.groupby([groupby-columns])[[aggregation-columns]].agg([aggregation-functions])\n",
    "\n",
    "* Split the data according to the list of groupby-columns\n",
    "* Each split corresponds to a piece of the full DataFrame\n",
    "* Select just the aggregation-columns from these DataFrame pieces\n",
    "* Apply each of the aggregation functions to these columns\n",
    "\n",
    "Final result:\n",
    "\n",
    "* A DataFrame\n",
    "* The groupby columns form the index (possibly a hierarchical index)\n",
    "* A column for each (aggregation-column, aggregation-function)"
   ]
  },
  {
   "cell_type": "markdown",
   "metadata": {
    "slideshow": {
     "slide_type": "slide"
    }
   },
   "source": [
    "Let us analyze an example movies dataset.\n",
    "\n",
    "From the README:\n",
    "\n",
    "> These files contain 1,000,209 anonymous ratings of approximately\n",
    "> 3,900 movies made by 6,040 MovieLens users who joined MovieLens in 2000."
   ]
  },
  {
   "cell_type": "code",
   "execution_count": 25,
   "metadata": {
    "slideshow": {
     "slide_type": "fragment"
    }
   },
   "outputs": [
    {
     "name": "stdout",
     "output_type": "stream",
     "text": [
      "1::F::1::10::48067\n",
      "2::M::56::16::70072\n",
      "3::M::25::15::55117\n",
      "4::M::45::7::02460\n",
      "5::M::25::20::55455\n",
      "6::F::50::9::55117\n",
      "7::M::35::1::06810\n",
      "8::M::25::12::11413\n",
      "9::M::25::17::61614\n",
      "10::F::35::1::95370\n"
     ]
    }
   ],
   "source": [
    "!head Pandas_5_data/users.dat"
   ]
  },
  {
   "cell_type": "markdown",
   "metadata": {
    "slideshow": {
     "slide_type": "fragment"
    }
   },
   "source": [
    "How do we read in the data?\n",
    "\n",
    "* Fields are separated by '::' instead of ',' as in a CSV.\n",
    "* We can _still_ use pd.read_csv()"
   ]
  },
  {
   "cell_type": "code",
   "execution_count": 26,
   "metadata": {
    "slideshow": {
     "slide_type": "slide"
    }
   },
   "outputs": [
    {
     "name": "stderr",
     "output_type": "stream",
     "text": [
      "C:\\Users\\deepay\\Miniconda\\lib\\site-packages\\ipykernel_launcher.py:4: ParserWarning: Falling back to the 'python' engine because the 'c' engine does not support regex separators (separators > 1 char and different from '\\s+' are interpreted as regex); you can avoid this warning by specifying engine='python'.\n",
      "  after removing the cwd from sys.path.\n"
     ]
    },
    {
     "data": {
      "text/html": [
       "<div>\n",
       "<style scoped>\n",
       "    .dataframe tbody tr th:only-of-type {\n",
       "        vertical-align: middle;\n",
       "    }\n",
       "\n",
       "    .dataframe tbody tr th {\n",
       "        vertical-align: top;\n",
       "    }\n",
       "\n",
       "    .dataframe thead th {\n",
       "        text-align: right;\n",
       "    }\n",
       "</style>\n",
       "<table border=\"1\" class=\"dataframe\">\n",
       "  <thead>\n",
       "    <tr style=\"text-align: right;\">\n",
       "      <th></th>\n",
       "      <th>user_id</th>\n",
       "      <th>gender</th>\n",
       "      <th>age</th>\n",
       "      <th>occupation</th>\n",
       "      <th>zip</th>\n",
       "    </tr>\n",
       "  </thead>\n",
       "  <tbody>\n",
       "    <tr>\n",
       "      <th>0</th>\n",
       "      <td>1</td>\n",
       "      <td>F</td>\n",
       "      <td>1</td>\n",
       "      <td>10</td>\n",
       "      <td>48067</td>\n",
       "    </tr>\n",
       "    <tr>\n",
       "      <th>1</th>\n",
       "      <td>2</td>\n",
       "      <td>M</td>\n",
       "      <td>56</td>\n",
       "      <td>16</td>\n",
       "      <td>70072</td>\n",
       "    </tr>\n",
       "    <tr>\n",
       "      <th>2</th>\n",
       "      <td>3</td>\n",
       "      <td>M</td>\n",
       "      <td>25</td>\n",
       "      <td>15</td>\n",
       "      <td>55117</td>\n",
       "    </tr>\n",
       "    <tr>\n",
       "      <th>3</th>\n",
       "      <td>4</td>\n",
       "      <td>M</td>\n",
       "      <td>45</td>\n",
       "      <td>7</td>\n",
       "      <td>02460</td>\n",
       "    </tr>\n",
       "    <tr>\n",
       "      <th>4</th>\n",
       "      <td>5</td>\n",
       "      <td>M</td>\n",
       "      <td>25</td>\n",
       "      <td>20</td>\n",
       "      <td>55455</td>\n",
       "    </tr>\n",
       "  </tbody>\n",
       "</table>\n",
       "</div>"
      ],
      "text/plain": [
       "   user_id gender  age  occupation    zip\n",
       "0        1      F    1          10  48067\n",
       "1        2      M   56          16  70072\n",
       "2        3      M   25          15  55117\n",
       "3        4      M   45           7  02460\n",
       "4        5      M   25          20  55455"
      ]
     },
     "execution_count": 26,
     "metadata": {},
     "output_type": "execute_result"
    }
   ],
   "source": [
    "users = pd.read_csv('Pandas_5_data/users.dat',\n",
    "                      sep='::',      # use this field separator\n",
    "                      header=None,   # do not use the first line as a header\n",
    "                      names=['user_id', 'gender', 'age', 'occupation', 'zip'])\n",
    "users[:5]"
   ]
  },
  {
   "cell_type": "code",
   "execution_count": 27,
   "metadata": {
    "slideshow": {
     "slide_type": "slide"
    }
   },
   "outputs": [
    {
     "name": "stdout",
     "output_type": "stream",
     "text": [
      "   movie_id                    title                        genres\n",
      "0         1         Toy Story (1995)   Animation|Children's|Comedy\n",
      "1         2           Jumanji (1995)  Adventure|Children's|Fantasy\n",
      "2         3  Grumpier Old Men (1995)                Comedy|Romance\n",
      "\n",
      "   user_id  movie_id  rating  timestamp\n",
      "0        1      1193       5  978300760\n",
      "1        1       661       3  978302109\n",
      "2        1       914       3  978301968\n"
     ]
    }
   ],
   "source": [
    "# Similarly, we read in the other data\n",
    "movies = pd.read_csv('Pandas_5_data/movies.dat',\n",
    "                       sep='::',\n",
    "                       header=None,\n",
    "                       names=['movie_id', 'title', 'genres'],\n",
    "                       engine='python')\n",
    "ratings = pd.read_csv('Pandas_5_data/ratings.dat',\n",
    "                        sep='::',\n",
    "                        header=None,\n",
    "                        names=['user_id', 'movie_id', 'rating', 'timestamp'],\n",
    "                        engine='python')\n",
    "\n",
    "print movies[:3]\n",
    "print\n",
    "print ratings[:3]"
   ]
  },
  {
   "cell_type": "markdown",
   "metadata": {
    "slideshow": {
     "slide_type": "slide"
    }
   },
   "source": [
    "### Find the top-rated movies with at least 1000 ratings\n",
    "\n",
    "We need to combine information from the ratings and movies DataFrames."
   ]
  },
  {
   "cell_type": "markdown",
   "metadata": {
    "slideshow": {
     "slide_type": "fragment"
    }
   },
   "source": [
    "It will be good to just build a merged DataFrame and work with that."
   ]
  },
  {
   "cell_type": "code",
   "execution_count": 28,
   "metadata": {
    "slideshow": {
     "slide_type": "fragment"
    }
   },
   "outputs": [
    {
     "name": "stdout",
     "output_type": "stream",
     "text": [
      "The ratings DataFrame has ['user_id' 'movie_id' 'rating' 'timestamp']\n",
      "The movies DataFrame has ['movie_id' 'title' 'genres']\n",
      "The users DataFrame has ['user_id' 'gender' 'age' 'occupation' 'zip']\n"
     ]
    }
   ],
   "source": [
    "print 'The ratings DataFrame has', ratings.columns.values\n",
    "print 'The movies DataFrame has', movies.columns.values\n",
    "print 'The users DataFrame has', users.columns.values"
   ]
  },
  {
   "cell_type": "markdown",
   "metadata": {
    "slideshow": {
     "slide_type": "fragment"
    }
   },
   "source": [
    "On what fields will we do the merge?"
   ]
  },
  {
   "cell_type": "code",
   "execution_count": 29,
   "metadata": {
    "slideshow": {
     "slide_type": "slide"
    }
   },
   "outputs": [
    {
     "data": {
      "text/plain": [
       "array(['user_id', 'movie_id', 'rating', 'timestamp', 'title', 'genres',\n",
       "       'gender', 'age', 'occupation', 'zip'], dtype=object)"
      ]
     },
     "execution_count": 29,
     "metadata": {},
     "output_type": "execute_result"
    }
   ],
   "source": [
    "df_movie_ratings = ratings.merge(movies, left_on='movie_id', right_on='movie_id')\n",
    "df = df_movie_ratings.merge(users, left_on='user_id', right_on='user_id')\n",
    "\n",
    "df.columns.values"
   ]
  },
  {
   "cell_type": "markdown",
   "metadata": {
    "slideshow": {
     "slide_type": "fragment"
    }
   },
   "source": [
    "What does the DataFrame 'df' contain?\n",
    "\n",
    "It has, for each rating given by a user to a movie, all details of the user _and_ the movie, alongside the details of the rating itself."
   ]
  },
  {
   "cell_type": "markdown",
   "metadata": {
    "slideshow": {
     "slide_type": "slide"
    }
   },
   "source": [
    "Returning to our question:\n",
    "\n",
    "#### Find the top-rated movies with at least 1000 ratings\n",
    "\n",
    "How do we do it?"
   ]
  },
  {
   "cell_type": "markdown",
   "metadata": {
    "slideshow": {
     "slide_type": "fragment"
    }
   },
   "source": [
    "1. Group the merged DataFrame (df) by movie\n",
    "2. Find the average rating and the number of ratings for each movie\n",
    "    * Each movie being each group\n",
    "3. Mask on movies with >= 1000 ratings, and sort by average rating"
   ]
  },
  {
   "cell_type": "markdown",
   "metadata": {
    "slideshow": {
     "slide_type": "fragment"
    }
   },
   "source": [
    "Steps 1 and 2 can be done together in one call to groupby()!"
   ]
  },
  {
   "cell_type": "markdown",
   "metadata": {
    "slideshow": {
     "slide_type": "slide"
    }
   },
   "source": [
    "**Steps 1 and 2:** Find the average rating and number of ratings for each movie.\n",
    "\n",
    "What is the correct groupby() statement?"
   ]
  },
  {
   "cell_type": "markdown",
   "metadata": {
    "slideshow": {
     "slide_type": "fragment"
    }
   },
   "source": [
    "Call groupby() on what data?"
   ]
  },
  {
   "cell_type": "markdown",
   "metadata": {
    "slideshow": {
     "slide_type": "fragment"
    }
   },
   "source": [
    "> df.groupby()"
   ]
  },
  {
   "cell_type": "markdown",
   "metadata": {
    "slideshow": {
     "slide_type": "fragment"
    }
   },
   "source": [
    "Group by what fields?"
   ]
  },
  {
   "cell_type": "markdown",
   "metadata": {
    "slideshow": {
     "slide_type": "fragment"
    }
   },
   "source": [
    "   * movie_id\n",
    "   * also title (we'll want it later...)\n",
    "Each movie_id corresponds to one movie title anyway.\n",
    "\n",
    "> df.groupby(['movie_id', 'title'])"
   ]
  },
  {
   "cell_type": "markdown",
   "metadata": {
    "slideshow": {
     "slide_type": "slide"
    }
   },
   "source": [
    "**Steps 1 and 2:** Find the average rating and number of ratings for each movie."
   ]
  },
  {
   "cell_type": "markdown",
   "metadata": {
    "slideshow": {
     "slide_type": "-"
    }
   },
   "source": [
    "Which field of each movie group do we care about?"
   ]
  },
  {
   "cell_type": "markdown",
   "metadata": {
    "slideshow": {
     "slide_type": "fragment"
    }
   },
   "source": [
    "   * rating\n",
    "\n",
    "> df.groupby(['movie_id', 'title'])[['rating']]"
   ]
  },
  {
   "cell_type": "markdown",
   "metadata": {
    "slideshow": {
     "slide_type": "fragment"
    }
   },
   "source": [
    "How do we want to aggregate the ratings for each group?"
   ]
  },
  {
   "cell_type": "markdown",
   "metadata": {
    "slideshow": {
     "slide_type": "fragment"
    }
   },
   "source": [
    "   * count (so we can mask out movies with at least 1000 ratings)\n",
    "   * mean (so we can sort these movies later)\n",
    "\n",
    "> df.groupby(['movie_id', 'title'])[['rating']].agg(['mean', 'count'])"
   ]
  },
  {
   "cell_type": "code",
   "execution_count": 30,
   "metadata": {
    "slideshow": {
     "slide_type": "slide"
    }
   },
   "outputs": [
    {
     "data": {
      "text/html": [
       "<div>\n",
       "<style scoped>\n",
       "    .dataframe tbody tr th:only-of-type {\n",
       "        vertical-align: middle;\n",
       "    }\n",
       "\n",
       "    .dataframe tbody tr th {\n",
       "        vertical-align: top;\n",
       "    }\n",
       "\n",
       "    .dataframe thead tr th {\n",
       "        text-align: left;\n",
       "    }\n",
       "\n",
       "    .dataframe thead tr:last-of-type th {\n",
       "        text-align: right;\n",
       "    }\n",
       "</style>\n",
       "<table border=\"1\" class=\"dataframe\">\n",
       "  <thead>\n",
       "    <tr>\n",
       "      <th></th>\n",
       "      <th></th>\n",
       "      <th colspan=\"2\" halign=\"left\">rating</th>\n",
       "    </tr>\n",
       "    <tr>\n",
       "      <th></th>\n",
       "      <th></th>\n",
       "      <th>mean</th>\n",
       "      <th>count</th>\n",
       "    </tr>\n",
       "    <tr>\n",
       "      <th>movie_id</th>\n",
       "      <th>title</th>\n",
       "      <th></th>\n",
       "      <th></th>\n",
       "    </tr>\n",
       "  </thead>\n",
       "  <tbody>\n",
       "    <tr>\n",
       "      <th>1</th>\n",
       "      <th>Toy Story (1995)</th>\n",
       "      <td>4.146846</td>\n",
       "      <td>2077</td>\n",
       "    </tr>\n",
       "    <tr>\n",
       "      <th>2</th>\n",
       "      <th>Jumanji (1995)</th>\n",
       "      <td>3.201141</td>\n",
       "      <td>701</td>\n",
       "    </tr>\n",
       "    <tr>\n",
       "      <th>3</th>\n",
       "      <th>Grumpier Old Men (1995)</th>\n",
       "      <td>3.016736</td>\n",
       "      <td>478</td>\n",
       "    </tr>\n",
       "    <tr>\n",
       "      <th>4</th>\n",
       "      <th>Waiting to Exhale (1995)</th>\n",
       "      <td>2.729412</td>\n",
       "      <td>170</td>\n",
       "    </tr>\n",
       "    <tr>\n",
       "      <th>5</th>\n",
       "      <th>Father of the Bride Part II (1995)</th>\n",
       "      <td>3.006757</td>\n",
       "      <td>296</td>\n",
       "    </tr>\n",
       "  </tbody>\n",
       "</table>\n",
       "</div>"
      ],
      "text/plain": [
       "                                               rating      \n",
       "                                                 mean count\n",
       "movie_id title                                             \n",
       "1        Toy Story (1995)                    4.146846  2077\n",
       "2        Jumanji (1995)                      3.201141   701\n",
       "3        Grumpier Old Men (1995)             3.016736   478\n",
       "4        Waiting to Exhale (1995)            2.729412   170\n",
       "5        Father of the Bride Part II (1995)  3.006757   296"
      ]
     },
     "execution_count": 30,
     "metadata": {},
     "output_type": "execute_result"
    }
   ],
   "source": [
    "mean_df = df.groupby(['movie_id', 'title'])[['rating']].agg(['mean', 'count'])\n",
    "mean_df[:5]"
   ]
  },
  {
   "cell_type": "markdown",
   "metadata": {
    "slideshow": {
     "slide_type": "fragment"
    }
   },
   "source": [
    "The columns are _hierarchical_:\n",
    "\n",
    "* First level is just 'rating'\n",
    "* Second level contains 'mean' and 'count'\n",
    "\n",
    "We will only to access the mean and count of the rating, so let us just select that."
   ]
  },
  {
   "cell_type": "code",
   "execution_count": 31,
   "metadata": {
    "slideshow": {
     "slide_type": "slide"
    }
   },
   "outputs": [
    {
     "data": {
      "text/html": [
       "<div>\n",
       "<style scoped>\n",
       "    .dataframe tbody tr th:only-of-type {\n",
       "        vertical-align: middle;\n",
       "    }\n",
       "\n",
       "    .dataframe tbody tr th {\n",
       "        vertical-align: top;\n",
       "    }\n",
       "\n",
       "    .dataframe thead th {\n",
       "        text-align: right;\n",
       "    }\n",
       "</style>\n",
       "<table border=\"1\" class=\"dataframe\">\n",
       "  <thead>\n",
       "    <tr style=\"text-align: right;\">\n",
       "      <th></th>\n",
       "      <th></th>\n",
       "      <th>mean</th>\n",
       "      <th>count</th>\n",
       "    </tr>\n",
       "    <tr>\n",
       "      <th>movie_id</th>\n",
       "      <th>title</th>\n",
       "      <th></th>\n",
       "      <th></th>\n",
       "    </tr>\n",
       "  </thead>\n",
       "  <tbody>\n",
       "    <tr>\n",
       "      <th>1</th>\n",
       "      <th>Toy Story (1995)</th>\n",
       "      <td>4.146846</td>\n",
       "      <td>2077</td>\n",
       "    </tr>\n",
       "    <tr>\n",
       "      <th>2</th>\n",
       "      <th>Jumanji (1995)</th>\n",
       "      <td>3.201141</td>\n",
       "      <td>701</td>\n",
       "    </tr>\n",
       "    <tr>\n",
       "      <th>3</th>\n",
       "      <th>Grumpier Old Men (1995)</th>\n",
       "      <td>3.016736</td>\n",
       "      <td>478</td>\n",
       "    </tr>\n",
       "    <tr>\n",
       "      <th>4</th>\n",
       "      <th>Waiting to Exhale (1995)</th>\n",
       "      <td>2.729412</td>\n",
       "      <td>170</td>\n",
       "    </tr>\n",
       "    <tr>\n",
       "      <th>5</th>\n",
       "      <th>Father of the Bride Part II (1995)</th>\n",
       "      <td>3.006757</td>\n",
       "      <td>296</td>\n",
       "    </tr>\n",
       "  </tbody>\n",
       "</table>\n",
       "</div>"
      ],
      "text/plain": [
       "                                                 mean  count\n",
       "movie_id title                                              \n",
       "1        Toy Story (1995)                    4.146846   2077\n",
       "2        Jumanji (1995)                      3.201141    701\n",
       "3        Grumpier Old Men (1995)             3.016736    478\n",
       "4        Waiting to Exhale (1995)            2.729412    170\n",
       "5        Father of the Bride Part II (1995)  3.006757    296"
      ]
     },
     "execution_count": 31,
     "metadata": {},
     "output_type": "execute_result"
    }
   ],
   "source": [
    "mean_ratings = mean_df['rating']\n",
    "mean_ratings[:5]"
   ]
  },
  {
   "cell_type": "markdown",
   "metadata": {
    "slideshow": {
     "slide_type": "fragment"
    }
   },
   "source": [
    "An alternative that accomplishes this same thing in one step is the following:"
   ]
  },
  {
   "cell_type": "code",
   "execution_count": 32,
   "metadata": {
    "slideshow": {
     "slide_type": "fragment"
    }
   },
   "outputs": [
    {
     "data": {
      "text/html": [
       "<div>\n",
       "<style scoped>\n",
       "    .dataframe tbody tr th:only-of-type {\n",
       "        vertical-align: middle;\n",
       "    }\n",
       "\n",
       "    .dataframe tbody tr th {\n",
       "        vertical-align: top;\n",
       "    }\n",
       "\n",
       "    .dataframe thead th {\n",
       "        text-align: right;\n",
       "    }\n",
       "</style>\n",
       "<table border=\"1\" class=\"dataframe\">\n",
       "  <thead>\n",
       "    <tr style=\"text-align: right;\">\n",
       "      <th></th>\n",
       "      <th></th>\n",
       "      <th>mean</th>\n",
       "      <th>count</th>\n",
       "    </tr>\n",
       "    <tr>\n",
       "      <th>movie_id</th>\n",
       "      <th>title</th>\n",
       "      <th></th>\n",
       "      <th></th>\n",
       "    </tr>\n",
       "  </thead>\n",
       "  <tbody>\n",
       "    <tr>\n",
       "      <th>1</th>\n",
       "      <th>Toy Story (1995)</th>\n",
       "      <td>4.146846</td>\n",
       "      <td>2077</td>\n",
       "    </tr>\n",
       "    <tr>\n",
       "      <th>2</th>\n",
       "      <th>Jumanji (1995)</th>\n",
       "      <td>3.201141</td>\n",
       "      <td>701</td>\n",
       "    </tr>\n",
       "    <tr>\n",
       "      <th>3</th>\n",
       "      <th>Grumpier Old Men (1995)</th>\n",
       "      <td>3.016736</td>\n",
       "      <td>478</td>\n",
       "    </tr>\n",
       "    <tr>\n",
       "      <th>4</th>\n",
       "      <th>Waiting to Exhale (1995)</th>\n",
       "      <td>2.729412</td>\n",
       "      <td>170</td>\n",
       "    </tr>\n",
       "    <tr>\n",
       "      <th>5</th>\n",
       "      <th>Father of the Bride Part II (1995)</th>\n",
       "      <td>3.006757</td>\n",
       "      <td>296</td>\n",
       "    </tr>\n",
       "  </tbody>\n",
       "</table>\n",
       "</div>"
      ],
      "text/plain": [
       "                                                 mean  count\n",
       "movie_id title                                              \n",
       "1        Toy Story (1995)                    4.146846   2077\n",
       "2        Jumanji (1995)                      3.201141    701\n",
       "3        Grumpier Old Men (1995)             3.016736    478\n",
       "4        Waiting to Exhale (1995)            2.729412    170\n",
       "5        Father of the Bride Part II (1995)  3.006757    296"
      ]
     },
     "execution_count": 32,
     "metadata": {},
     "output_type": "execute_result"
    }
   ],
   "source": [
    "mean_ratings = df.groupby(['movie_id', 'title'])['rating'].agg(['mean', 'count'])\n",
    "mean_ratings[:5]"
   ]
  },
  {
   "cell_type": "markdown",
   "metadata": {
    "slideshow": {
     "slide_type": "slide"
    }
   },
   "source": [
    "The difference is between saying\n",
    "\n",
    "    df.groupby(['movie_id', 'title'])['rating']\n",
    "\n",
    "versus \n",
    "\n",
    "    df.groupby(['movie_id', 'title'])[['rating']]\n",
    "\n",
    "In the former, Pandas understands we only want to work with the 'rating' column, so it doesn't create hierarchical columns."
   ]
  },
  {
   "cell_type": "markdown",
   "metadata": {
    "slideshow": {
     "slide_type": "slide"
    }
   },
   "source": [
    "**Step 3:** Mask on movies with >= 1000 ratings, and sort by average rating."
   ]
  },
  {
   "cell_type": "code",
   "execution_count": 33,
   "metadata": {
    "slideshow": {
     "slide_type": "fragment"
    }
   },
   "outputs": [
    {
     "data": {
      "text/html": [
       "<div>\n",
       "<style scoped>\n",
       "    .dataframe tbody tr th:only-of-type {\n",
       "        vertical-align: middle;\n",
       "    }\n",
       "\n",
       "    .dataframe tbody tr th {\n",
       "        vertical-align: top;\n",
       "    }\n",
       "\n",
       "    .dataframe thead th {\n",
       "        text-align: right;\n",
       "    }\n",
       "</style>\n",
       "<table border=\"1\" class=\"dataframe\">\n",
       "  <thead>\n",
       "    <tr style=\"text-align: right;\">\n",
       "      <th></th>\n",
       "      <th></th>\n",
       "      <th>mean</th>\n",
       "      <th>count</th>\n",
       "    </tr>\n",
       "    <tr>\n",
       "      <th>movie_id</th>\n",
       "      <th>title</th>\n",
       "      <th></th>\n",
       "      <th></th>\n",
       "    </tr>\n",
       "  </thead>\n",
       "  <tbody>\n",
       "    <tr>\n",
       "      <th>318</th>\n",
       "      <th>Shawshank Redemption, The (1994)</th>\n",
       "      <td>4.554558</td>\n",
       "      <td>2227</td>\n",
       "    </tr>\n",
       "    <tr>\n",
       "      <th>858</th>\n",
       "      <th>Godfather, The (1972)</th>\n",
       "      <td>4.524966</td>\n",
       "      <td>2223</td>\n",
       "    </tr>\n",
       "    <tr>\n",
       "      <th>50</th>\n",
       "      <th>Usual Suspects, The (1995)</th>\n",
       "      <td>4.517106</td>\n",
       "      <td>1783</td>\n",
       "    </tr>\n",
       "    <tr>\n",
       "      <th>527</th>\n",
       "      <th>Schindler's List (1993)</th>\n",
       "      <td>4.510417</td>\n",
       "      <td>2304</td>\n",
       "    </tr>\n",
       "    <tr>\n",
       "      <th>1198</th>\n",
       "      <th>Raiders of the Lost Ark (1981)</th>\n",
       "      <td>4.477725</td>\n",
       "      <td>2514</td>\n",
       "    </tr>\n",
       "    <tr>\n",
       "      <th>904</th>\n",
       "      <th>Rear Window (1954)</th>\n",
       "      <td>4.476190</td>\n",
       "      <td>1050</td>\n",
       "    </tr>\n",
       "    <tr>\n",
       "      <th>260</th>\n",
       "      <th>Star Wars: Episode IV - A New Hope (1977)</th>\n",
       "      <td>4.453694</td>\n",
       "      <td>2991</td>\n",
       "    </tr>\n",
       "    <tr>\n",
       "      <th>750</th>\n",
       "      <th>Dr. Strangelove or: How I Learned to Stop Worrying and Love the Bomb (1963)</th>\n",
       "      <td>4.449890</td>\n",
       "      <td>1367</td>\n",
       "    </tr>\n",
       "    <tr>\n",
       "      <th>912</th>\n",
       "      <th>Casablanca (1942)</th>\n",
       "      <td>4.412822</td>\n",
       "      <td>1669</td>\n",
       "    </tr>\n",
       "    <tr>\n",
       "      <th>2762</th>\n",
       "      <th>Sixth Sense, The (1999)</th>\n",
       "      <td>4.406263</td>\n",
       "      <td>2459</td>\n",
       "    </tr>\n",
       "  </tbody>\n",
       "</table>\n",
       "</div>"
      ],
      "text/plain": [
       "                                                                 mean  count\n",
       "movie_id title                                                              \n",
       "318      Shawshank Redemption, The (1994)                    4.554558   2227\n",
       "858      Godfather, The (1972)                               4.524966   2223\n",
       "50       Usual Suspects, The (1995)                          4.517106   1783\n",
       "527      Schindler's List (1993)                             4.510417   2304\n",
       "1198     Raiders of the Lost Ark (1981)                      4.477725   2514\n",
       "904      Rear Window (1954)                                  4.476190   1050\n",
       "260      Star Wars: Episode IV - A New Hope (1977)           4.453694   2991\n",
       "750      Dr. Strangelove or: How I Learned to Stop Worry...  4.449890   1367\n",
       "912      Casablanca (1942)                                   4.412822   1669\n",
       "2762     Sixth Sense, The (1999)                             4.406263   2459"
      ]
     },
     "execution_count": 33,
     "metadata": {},
     "output_type": "execute_result"
    }
   ],
   "source": [
    "# movie_ids with at least 100 ratings\n",
    "at_least_1000 = mean_ratings[mean_ratings['count'] >= 1000]\n",
    "\n",
    "# sort these by the mean\n",
    "at_least_1000.sort_values(by='mean', ascending=False)[:10]"
   ]
  },
  {
   "cell_type": "markdown",
   "metadata": {
    "slideshow": {
     "slide_type": "slide"
    }
   },
   "source": [
    "### Who rates more, men or women?"
   ]
  },
  {
   "cell_type": "code",
   "execution_count": 34,
   "metadata": {
    "slideshow": {
     "slide_type": "fragment"
    }
   },
   "outputs": [
    {
     "data": {
      "text/plain": [
       "M    753769\n",
       "F    246440\n",
       "Name: gender, dtype: int64"
      ]
     },
     "execution_count": 34,
     "metadata": {},
     "output_type": "execute_result"
    }
   ],
   "source": [
    "df['gender'].value_counts()"
   ]
  },
  {
   "cell_type": "markdown",
   "metadata": {
    "slideshow": {
     "slide_type": "fragment"
    }
   },
   "source": [
    "Roughly 75% or the ratings are by men."
   ]
  },
  {
   "cell_type": "markdown",
   "metadata": {
    "slideshow": {
     "slide_type": "fragment"
    }
   },
   "source": [
    "We could also have done:"
   ]
  },
  {
   "cell_type": "code",
   "execution_count": 35,
   "metadata": {
    "slideshow": {
     "slide_type": "fragment"
    }
   },
   "outputs": [
    {
     "data": {
      "text/plain": [
       "gender\n",
       "F    246440\n",
       "M    753769\n",
       "Name: gender, dtype: int64"
      ]
     },
     "execution_count": 35,
     "metadata": {},
     "output_type": "execute_result"
    }
   ],
   "source": [
    "df.groupby('gender')['gender'].count()"
   ]
  },
  {
   "cell_type": "markdown",
   "metadata": {
    "slideshow": {
     "slide_type": "fragment"
    }
   },
   "source": [
    "value_counts() is actually a groupby() function!"
   ]
  },
  {
   "cell_type": "markdown",
   "metadata": {
    "slideshow": {
     "slide_type": "slide"
    }
   },
   "source": [
    "### Find movies liked by both men and women"
   ]
  },
  {
   "cell_type": "markdown",
   "metadata": {
    "slideshow": {
     "slide_type": "fragment"
    }
   },
   "source": [
    "This is a bit vague, but let's formalize it this way:\n",
    "\n",
    "* Find movies that rated by at least 750 men and 250 women,\n",
    "* get their mean ratings among men and women, and\n",
    "* sort them by the minimum of these two mean ratings."
   ]
  },
  {
   "cell_type": "markdown",
   "metadata": {
    "slideshow": {
     "slide_type": "fragment"
    }
   },
   "source": [
    "How do we do the groupby() now?"
   ]
  },
  {
   "cell_type": "markdown",
   "metadata": {
    "slideshow": {
     "slide_type": "fragment"
    }
   },
   "source": [
    "* Need to group by movie,\n",
    "* **and** gender"
   ]
  },
  {
   "cell_type": "code",
   "execution_count": 36,
   "metadata": {
    "slideshow": {
     "slide_type": "slide"
    }
   },
   "outputs": [
    {
     "data": {
      "text/html": [
       "<div>\n",
       "<style scoped>\n",
       "    .dataframe tbody tr th:only-of-type {\n",
       "        vertical-align: middle;\n",
       "    }\n",
       "\n",
       "    .dataframe tbody tr th {\n",
       "        vertical-align: top;\n",
       "    }\n",
       "\n",
       "    .dataframe thead th {\n",
       "        text-align: right;\n",
       "    }\n",
       "</style>\n",
       "<table border=\"1\" class=\"dataframe\">\n",
       "  <thead>\n",
       "    <tr style=\"text-align: right;\">\n",
       "      <th></th>\n",
       "      <th></th>\n",
       "      <th></th>\n",
       "      <th>mean</th>\n",
       "      <th>count</th>\n",
       "    </tr>\n",
       "    <tr>\n",
       "      <th>movie_id</th>\n",
       "      <th>title</th>\n",
       "      <th>gender</th>\n",
       "      <th></th>\n",
       "      <th></th>\n",
       "    </tr>\n",
       "  </thead>\n",
       "  <tbody>\n",
       "    <tr>\n",
       "      <th rowspan=\"2\" valign=\"top\">1</th>\n",
       "      <th rowspan=\"2\" valign=\"top\">Toy Story (1995)</th>\n",
       "      <th>F</th>\n",
       "      <td>4.187817</td>\n",
       "      <td>591</td>\n",
       "    </tr>\n",
       "    <tr>\n",
       "      <th>M</th>\n",
       "      <td>4.130552</td>\n",
       "      <td>1486</td>\n",
       "    </tr>\n",
       "    <tr>\n",
       "      <th rowspan=\"2\" valign=\"top\">2</th>\n",
       "      <th rowspan=\"2\" valign=\"top\">Jumanji (1995)</th>\n",
       "      <th>F</th>\n",
       "      <td>3.278409</td>\n",
       "      <td>176</td>\n",
       "    </tr>\n",
       "    <tr>\n",
       "      <th>M</th>\n",
       "      <td>3.175238</td>\n",
       "      <td>525</td>\n",
       "    </tr>\n",
       "    <tr>\n",
       "      <th>3</th>\n",
       "      <th>Grumpier Old Men (1995)</th>\n",
       "      <th>F</th>\n",
       "      <td>3.073529</td>\n",
       "      <td>136</td>\n",
       "    </tr>\n",
       "  </tbody>\n",
       "</table>\n",
       "</div>"
      ],
      "text/plain": [
       "                                             mean  count\n",
       "movie_id title                   gender                 \n",
       "1        Toy Story (1995)        F       4.187817    591\n",
       "                                 M       4.130552   1486\n",
       "2        Jumanji (1995)          F       3.278409    176\n",
       "                                 M       3.175238    525\n",
       "3        Grumpier Old Men (1995) F       3.073529    136"
      ]
     },
     "execution_count": 36,
     "metadata": {},
     "output_type": "execute_result"
    }
   ],
   "source": [
    "means_by_gender = df.groupby(['movie_id', 'title', 'gender'])['rating'].agg(['mean', 'count'])\n",
    "means_by_gender[:5]"
   ]
  },
  {
   "cell_type": "markdown",
   "metadata": {
    "slideshow": {
     "slide_type": "fragment"
    }
   },
   "source": [
    "To find movies rated by 750 men and 250 women each, we need to have\n",
    "\n",
    "* one row per movie,\n",
    "* with the 'count' for men and the 'count' for women on the same row,\n",
    "* so that we can easily create a mask.\n",
    "\n",
    "How do we get counts for men and women on the same row?"
   ]
  },
  {
   "cell_type": "code",
   "execution_count": 37,
   "metadata": {
    "slideshow": {
     "slide_type": "slide"
    }
   },
   "outputs": [
    {
     "data": {
      "text/html": [
       "<div>\n",
       "<style scoped>\n",
       "    .dataframe tbody tr th:only-of-type {\n",
       "        vertical-align: middle;\n",
       "    }\n",
       "\n",
       "    .dataframe tbody tr th {\n",
       "        vertical-align: top;\n",
       "    }\n",
       "\n",
       "    .dataframe thead tr th {\n",
       "        text-align: left;\n",
       "    }\n",
       "\n",
       "    .dataframe thead tr:last-of-type th {\n",
       "        text-align: right;\n",
       "    }\n",
       "</style>\n",
       "<table border=\"1\" class=\"dataframe\">\n",
       "  <thead>\n",
       "    <tr>\n",
       "      <th></th>\n",
       "      <th></th>\n",
       "      <th colspan=\"2\" halign=\"left\">mean</th>\n",
       "      <th colspan=\"2\" halign=\"left\">count</th>\n",
       "    </tr>\n",
       "    <tr>\n",
       "      <th></th>\n",
       "      <th>gender</th>\n",
       "      <th>F</th>\n",
       "      <th>M</th>\n",
       "      <th>F</th>\n",
       "      <th>M</th>\n",
       "    </tr>\n",
       "    <tr>\n",
       "      <th>movie_id</th>\n",
       "      <th>title</th>\n",
       "      <th></th>\n",
       "      <th></th>\n",
       "      <th></th>\n",
       "      <th></th>\n",
       "    </tr>\n",
       "  </thead>\n",
       "  <tbody>\n",
       "    <tr>\n",
       "      <th>1</th>\n",
       "      <th>Toy Story (1995)</th>\n",
       "      <td>4.187817</td>\n",
       "      <td>4.130552</td>\n",
       "      <td>591.0</td>\n",
       "      <td>1486.0</td>\n",
       "    </tr>\n",
       "    <tr>\n",
       "      <th>2</th>\n",
       "      <th>Jumanji (1995)</th>\n",
       "      <td>3.278409</td>\n",
       "      <td>3.175238</td>\n",
       "      <td>176.0</td>\n",
       "      <td>525.0</td>\n",
       "    </tr>\n",
       "    <tr>\n",
       "      <th>3</th>\n",
       "      <th>Grumpier Old Men (1995)</th>\n",
       "      <td>3.073529</td>\n",
       "      <td>2.994152</td>\n",
       "      <td>136.0</td>\n",
       "      <td>342.0</td>\n",
       "    </tr>\n",
       "    <tr>\n",
       "      <th>4</th>\n",
       "      <th>Waiting to Exhale (1995)</th>\n",
       "      <td>2.976471</td>\n",
       "      <td>2.482353</td>\n",
       "      <td>85.0</td>\n",
       "      <td>85.0</td>\n",
       "    </tr>\n",
       "    <tr>\n",
       "      <th>5</th>\n",
       "      <th>Father of the Bride Part II (1995)</th>\n",
       "      <td>3.212963</td>\n",
       "      <td>2.888298</td>\n",
       "      <td>108.0</td>\n",
       "      <td>188.0</td>\n",
       "    </tr>\n",
       "  </tbody>\n",
       "</table>\n",
       "</div>"
      ],
      "text/plain": [
       "                                                 mean            count        \n",
       "gender                                              F         M      F       M\n",
       "movie_id title                                                                \n",
       "1        Toy Story (1995)                    4.187817  4.130552  591.0  1486.0\n",
       "2        Jumanji (1995)                      3.278409  3.175238  176.0   525.0\n",
       "3        Grumpier Old Men (1995)             3.073529  2.994152  136.0   342.0\n",
       "4        Waiting to Exhale (1995)            2.976471  2.482353   85.0    85.0\n",
       "5        Father of the Bride Part II (1995)  3.212963  2.888298  108.0   188.0"
      ]
     },
     "execution_count": 37,
     "metadata": {},
     "output_type": "execute_result"
    }
   ],
   "source": [
    "means_by_gender_unstacked = means_by_gender.unstack('gender')\n",
    "means_by_gender_unstacked[:5]"
   ]
  },
  {
   "cell_type": "markdown",
   "metadata": {
    "slideshow": {
     "slide_type": "slide"
    }
   },
   "source": [
    "Now, we can do the **filtering** of movies with enough ratings by both men and women."
   ]
  },
  {
   "cell_type": "code",
   "execution_count": 38,
   "metadata": {},
   "outputs": [
    {
     "data": {
      "text/html": [
       "<div>\n",
       "<style scoped>\n",
       "    .dataframe tbody tr th:only-of-type {\n",
       "        vertical-align: middle;\n",
       "    }\n",
       "\n",
       "    .dataframe tbody tr th {\n",
       "        vertical-align: top;\n",
       "    }\n",
       "\n",
       "    .dataframe thead tr th {\n",
       "        text-align: left;\n",
       "    }\n",
       "\n",
       "    .dataframe thead tr:last-of-type th {\n",
       "        text-align: right;\n",
       "    }\n",
       "</style>\n",
       "<table border=\"1\" class=\"dataframe\">\n",
       "  <thead>\n",
       "    <tr>\n",
       "      <th></th>\n",
       "      <th></th>\n",
       "      <th colspan=\"2\" halign=\"left\">mean</th>\n",
       "      <th colspan=\"2\" halign=\"left\">count</th>\n",
       "    </tr>\n",
       "    <tr>\n",
       "      <th></th>\n",
       "      <th>gender</th>\n",
       "      <th>F</th>\n",
       "      <th>M</th>\n",
       "      <th>F</th>\n",
       "      <th>M</th>\n",
       "    </tr>\n",
       "    <tr>\n",
       "      <th>movie_id</th>\n",
       "      <th>title</th>\n",
       "      <th></th>\n",
       "      <th></th>\n",
       "      <th></th>\n",
       "      <th></th>\n",
       "    </tr>\n",
       "  </thead>\n",
       "  <tbody>\n",
       "    <tr>\n",
       "      <th>1</th>\n",
       "      <th>Toy Story (1995)</th>\n",
       "      <td>4.187817</td>\n",
       "      <td>4.130552</td>\n",
       "      <td>591.0</td>\n",
       "      <td>1486.0</td>\n",
       "    </tr>\n",
       "    <tr>\n",
       "      <th>21</th>\n",
       "      <th>Get Shorty (1995)</th>\n",
       "      <td>3.597902</td>\n",
       "      <td>3.630841</td>\n",
       "      <td>286.0</td>\n",
       "      <td>1070.0</td>\n",
       "    </tr>\n",
       "    <tr>\n",
       "      <th>32</th>\n",
       "      <th>Twelve Monkeys (1995)</th>\n",
       "      <td>3.845324</td>\n",
       "      <td>3.968370</td>\n",
       "      <td>278.0</td>\n",
       "      <td>1233.0</td>\n",
       "    </tr>\n",
       "    <tr>\n",
       "      <th>34</th>\n",
       "      <th>Babe (1995)</th>\n",
       "      <td>3.953368</td>\n",
       "      <td>3.860922</td>\n",
       "      <td>579.0</td>\n",
       "      <td>1172.0</td>\n",
       "    </tr>\n",
       "    <tr>\n",
       "      <th>39</th>\n",
       "      <th>Clueless (1995)</th>\n",
       "      <td>3.827004</td>\n",
       "      <td>3.514640</td>\n",
       "      <td>474.0</td>\n",
       "      <td>888.0</td>\n",
       "    </tr>\n",
       "  </tbody>\n",
       "</table>\n",
       "</div>"
      ],
      "text/plain": [
       "                                    mean            count        \n",
       "gender                                 F         M      F       M\n",
       "movie_id title                                                   \n",
       "1        Toy Story (1995)       4.187817  4.130552  591.0  1486.0\n",
       "21       Get Shorty (1995)      3.597902  3.630841  286.0  1070.0\n",
       "32       Twelve Monkeys (1995)  3.845324  3.968370  278.0  1233.0\n",
       "34       Babe (1995)            3.953368  3.860922  579.0  1172.0\n",
       "39       Clueless (1995)        3.827004  3.514640  474.0   888.0"
      ]
     },
     "execution_count": 38,
     "metadata": {},
     "output_type": "execute_result"
    }
   ],
   "source": [
    "# Do the filtering\n",
    "men_mask = (means_by_gender_unstacked['count']['M'] >= 750)\n",
    "women_mask = (means_by_gender_unstacked['count']['F'] >= 250)\n",
    "means_by_gender_filtered = means_by_gender_unstacked[men_mask & women_mask]\n",
    "\n",
    "means_by_gender_filtered[:5]"
   ]
  },
  {
   "cell_type": "markdown",
   "metadata": {
    "slideshow": {
     "slide_type": "fragment"
    }
   },
   "source": [
    "Now we need the minimum of men's and women's ratings for each movie.\n",
    "\n",
    "How do we calculate the minimum?"
   ]
  },
  {
   "cell_type": "markdown",
   "metadata": {
    "slideshow": {
     "slide_type": "fragment"
    }
   },
   "source": [
    "* We want to select the 'mean' columns, and\n",
    "* apply the min() function to the two ratings"
   ]
  },
  {
   "cell_type": "code",
   "execution_count": 39,
   "metadata": {
    "slideshow": {
     "slide_type": "slide"
    }
   },
   "outputs": [
    {
     "data": {
      "text/html": [
       "<div>\n",
       "<style scoped>\n",
       "    .dataframe tbody tr th:only-of-type {\n",
       "        vertical-align: middle;\n",
       "    }\n",
       "\n",
       "    .dataframe tbody tr th {\n",
       "        vertical-align: top;\n",
       "    }\n",
       "\n",
       "    .dataframe thead tr th {\n",
       "        text-align: left;\n",
       "    }\n",
       "\n",
       "    .dataframe thead tr:last-of-type th {\n",
       "        text-align: right;\n",
       "    }\n",
       "</style>\n",
       "<table border=\"1\" class=\"dataframe\">\n",
       "  <thead>\n",
       "    <tr>\n",
       "      <th>movie_id</th>\n",
       "      <th>1</th>\n",
       "      <th>21</th>\n",
       "      <th>32</th>\n",
       "      <th>34</th>\n",
       "      <th>39</th>\n",
       "    </tr>\n",
       "    <tr>\n",
       "      <th>title</th>\n",
       "      <th>Toy Story (1995)</th>\n",
       "      <th>Get Shorty (1995)</th>\n",
       "      <th>Twelve Monkeys (1995)</th>\n",
       "      <th>Babe (1995)</th>\n",
       "      <th>Clueless (1995)</th>\n",
       "    </tr>\n",
       "    <tr>\n",
       "      <th>gender</th>\n",
       "      <th></th>\n",
       "      <th></th>\n",
       "      <th></th>\n",
       "      <th></th>\n",
       "      <th></th>\n",
       "    </tr>\n",
       "  </thead>\n",
       "  <tbody>\n",
       "    <tr>\n",
       "      <th>F</th>\n",
       "      <td>4.187817</td>\n",
       "      <td>3.597902</td>\n",
       "      <td>3.845324</td>\n",
       "      <td>3.953368</td>\n",
       "      <td>3.827004</td>\n",
       "    </tr>\n",
       "    <tr>\n",
       "      <th>M</th>\n",
       "      <td>4.130552</td>\n",
       "      <td>3.630841</td>\n",
       "      <td>3.968370</td>\n",
       "      <td>3.860922</td>\n",
       "      <td>3.514640</td>\n",
       "    </tr>\n",
       "  </tbody>\n",
       "</table>\n",
       "</div>"
      ],
      "text/plain": [
       "movie_id               1                 21                    32          34  \\\n",
       "title    Toy Story (1995) Get Shorty (1995) Twelve Monkeys (1995) Babe (1995)   \n",
       "gender                                                                          \n",
       "F                4.187817          3.597902              3.845324    3.953368   \n",
       "M                4.130552          3.630841              3.968370    3.860922   \n",
       "\n",
       "movie_id              39  \n",
       "title    Clueless (1995)  \n",
       "gender                    \n",
       "F               3.827004  \n",
       "M               3.514640  "
      ]
     },
     "execution_count": 39,
     "metadata": {},
     "output_type": "execute_result"
    }
   ],
   "source": [
    "men_women_ratings = means_by_gender_filtered['mean'].copy()\n",
    "men_women_ratings.T.iloc[0:5, 0:5]"
   ]
  },
  {
   "cell_type": "code",
   "execution_count": 40,
   "metadata": {
    "slideshow": {
     "slide_type": "fragment"
    }
   },
   "outputs": [
    {
     "data": {
      "text/plain": [
       "movie_id  title                \n",
       "1         Toy Story (1995)         4.130552\n",
       "21        Get Shorty (1995)        3.597902\n",
       "32        Twelve Monkeys (1995)    3.845324\n",
       "34        Babe (1995)              3.860922\n",
       "39        Clueless (1995)          3.514640\n",
       "dtype: float64"
      ]
     },
     "execution_count": 40,
     "metadata": {},
     "output_type": "execute_result"
    }
   ],
   "source": [
    "min_ratings = men_women_ratings.T.apply(min)\n",
    "min_ratings[:5]"
   ]
  },
  {
   "cell_type": "code",
   "execution_count": 41,
   "metadata": {
    "slideshow": {
     "slide_type": "slide"
    }
   },
   "outputs": [
    {
     "data": {
      "text/html": [
       "<div>\n",
       "<style scoped>\n",
       "    .dataframe tbody tr th:only-of-type {\n",
       "        vertical-align: middle;\n",
       "    }\n",
       "\n",
       "    .dataframe tbody tr th {\n",
       "        vertical-align: top;\n",
       "    }\n",
       "\n",
       "    .dataframe thead th {\n",
       "        text-align: right;\n",
       "    }\n",
       "</style>\n",
       "<table border=\"1\" class=\"dataframe\">\n",
       "  <thead>\n",
       "    <tr style=\"text-align: right;\">\n",
       "      <th></th>\n",
       "      <th>gender</th>\n",
       "      <th>F</th>\n",
       "      <th>M</th>\n",
       "      <th>min</th>\n",
       "    </tr>\n",
       "    <tr>\n",
       "      <th>movie_id</th>\n",
       "      <th>title</th>\n",
       "      <th></th>\n",
       "      <th></th>\n",
       "      <th></th>\n",
       "    </tr>\n",
       "  </thead>\n",
       "  <tbody>\n",
       "    <tr>\n",
       "      <th>1</th>\n",
       "      <th>Toy Story (1995)</th>\n",
       "      <td>4.187817</td>\n",
       "      <td>4.130552</td>\n",
       "      <td>4.130552</td>\n",
       "    </tr>\n",
       "    <tr>\n",
       "      <th>21</th>\n",
       "      <th>Get Shorty (1995)</th>\n",
       "      <td>3.597902</td>\n",
       "      <td>3.630841</td>\n",
       "      <td>3.597902</td>\n",
       "    </tr>\n",
       "    <tr>\n",
       "      <th>32</th>\n",
       "      <th>Twelve Monkeys (1995)</th>\n",
       "      <td>3.845324</td>\n",
       "      <td>3.968370</td>\n",
       "      <td>3.845324</td>\n",
       "    </tr>\n",
       "    <tr>\n",
       "      <th>34</th>\n",
       "      <th>Babe (1995)</th>\n",
       "      <td>3.953368</td>\n",
       "      <td>3.860922</td>\n",
       "      <td>3.860922</td>\n",
       "    </tr>\n",
       "    <tr>\n",
       "      <th>39</th>\n",
       "      <th>Clueless (1995)</th>\n",
       "      <td>3.827004</td>\n",
       "      <td>3.514640</td>\n",
       "      <td>3.514640</td>\n",
       "    </tr>\n",
       "  </tbody>\n",
       "</table>\n",
       "</div>"
      ],
      "text/plain": [
       "gender                                 F         M       min\n",
       "movie_id title                                              \n",
       "1        Toy Story (1995)       4.187817  4.130552  4.130552\n",
       "21       Get Shorty (1995)      3.597902  3.630841  3.597902\n",
       "32       Twelve Monkeys (1995)  3.845324  3.968370  3.845324\n",
       "34       Babe (1995)            3.953368  3.860922  3.860922\n",
       "39       Clueless (1995)        3.827004  3.514640  3.514640"
      ]
     },
     "execution_count": 41,
     "metadata": {},
     "output_type": "execute_result"
    }
   ],
   "source": [
    "# Let's add this as an extra column\n",
    "men_women_ratings['min'] = min_ratings\n",
    "men_women_ratings[:5]"
   ]
  },
  {
   "cell_type": "markdown",
   "metadata": {
    "slideshow": {
     "slide_type": "fragment"
    }
   },
   "source": [
    "Finally, we want to sort by the min rating."
   ]
  },
  {
   "cell_type": "code",
   "execution_count": 42,
   "metadata": {
    "slideshow": {
     "slide_type": "slide"
    }
   },
   "outputs": [
    {
     "data": {
      "text/html": [
       "<div>\n",
       "<style scoped>\n",
       "    .dataframe tbody tr th:only-of-type {\n",
       "        vertical-align: middle;\n",
       "    }\n",
       "\n",
       "    .dataframe tbody tr th {\n",
       "        vertical-align: top;\n",
       "    }\n",
       "\n",
       "    .dataframe thead th {\n",
       "        text-align: right;\n",
       "    }\n",
       "</style>\n",
       "<table border=\"1\" class=\"dataframe\">\n",
       "  <thead>\n",
       "    <tr style=\"text-align: right;\">\n",
       "      <th></th>\n",
       "      <th>gender</th>\n",
       "      <th>F</th>\n",
       "      <th>M</th>\n",
       "      <th>min</th>\n",
       "    </tr>\n",
       "    <tr>\n",
       "      <th>movie_id</th>\n",
       "      <th>title</th>\n",
       "      <th></th>\n",
       "      <th></th>\n",
       "      <th></th>\n",
       "    </tr>\n",
       "  </thead>\n",
       "  <tbody>\n",
       "    <tr>\n",
       "      <th>318</th>\n",
       "      <th>Shawshank Redemption, The (1994)</th>\n",
       "      <td>4.539075</td>\n",
       "      <td>4.560625</td>\n",
       "      <td>4.539075</td>\n",
       "    </tr>\n",
       "    <tr>\n",
       "      <th>50</th>\n",
       "      <th>Usual Suspects, The (1995)</th>\n",
       "      <td>4.513317</td>\n",
       "      <td>4.518248</td>\n",
       "      <td>4.513317</td>\n",
       "    </tr>\n",
       "    <tr>\n",
       "      <th>527</th>\n",
       "      <th>Schindler's List (1993)</th>\n",
       "      <td>4.562602</td>\n",
       "      <td>4.491415</td>\n",
       "      <td>4.491415</td>\n",
       "    </tr>\n",
       "    <tr>\n",
       "      <th>904</th>\n",
       "      <th>Rear Window (1954)</th>\n",
       "      <td>4.484536</td>\n",
       "      <td>4.472991</td>\n",
       "      <td>4.472991</td>\n",
       "    </tr>\n",
       "    <tr>\n",
       "      <th>2762</th>\n",
       "      <th>Sixth Sense, The (1999)</th>\n",
       "      <td>4.477410</td>\n",
       "      <td>4.379944</td>\n",
       "      <td>4.379944</td>\n",
       "    </tr>\n",
       "    <tr>\n",
       "      <th>908</th>\n",
       "      <th>North by Northwest (1959)</th>\n",
       "      <td>4.364458</td>\n",
       "      <td>4.390641</td>\n",
       "      <td>4.364458</td>\n",
       "    </tr>\n",
       "    <tr>\n",
       "      <th>1198</th>\n",
       "      <th>Raiders of the Lost Ark (1981)</th>\n",
       "      <td>4.332168</td>\n",
       "      <td>4.520597</td>\n",
       "      <td>4.332168</td>\n",
       "    </tr>\n",
       "    <tr>\n",
       "      <th>923</th>\n",
       "      <th>Citizen Kane (1941)</th>\n",
       "      <td>4.332143</td>\n",
       "      <td>4.407895</td>\n",
       "      <td>4.332143</td>\n",
       "    </tr>\n",
       "    <tr>\n",
       "      <th>858</th>\n",
       "      <th>Godfather, The (1972)</th>\n",
       "      <td>4.314700</td>\n",
       "      <td>4.583333</td>\n",
       "      <td>4.314700</td>\n",
       "    </tr>\n",
       "    <tr>\n",
       "      <th>1193</th>\n",
       "      <th>One Flew Over the Cuckoo's Nest (1975)</th>\n",
       "      <td>4.310811</td>\n",
       "      <td>4.418423</td>\n",
       "      <td>4.310811</td>\n",
       "    </tr>\n",
       "  </tbody>\n",
       "</table>\n",
       "</div>"
      ],
      "text/plain": [
       "gender                                                  F         M       min\n",
       "movie_id title                                                               \n",
       "318      Shawshank Redemption, The (1994)        4.539075  4.560625  4.539075\n",
       "50       Usual Suspects, The (1995)              4.513317  4.518248  4.513317\n",
       "527      Schindler's List (1993)                 4.562602  4.491415  4.491415\n",
       "904      Rear Window (1954)                      4.484536  4.472991  4.472991\n",
       "2762     Sixth Sense, The (1999)                 4.477410  4.379944  4.379944\n",
       "908      North by Northwest (1959)               4.364458  4.390641  4.364458\n",
       "1198     Raiders of the Lost Ark (1981)          4.332168  4.520597  4.332168\n",
       "923      Citizen Kane (1941)                     4.332143  4.407895  4.332143\n",
       "858      Godfather, The (1972)                   4.314700  4.583333  4.314700\n",
       "1193     One Flew Over the Cuckoo's Nest (1975)  4.310811  4.418423  4.310811"
      ]
     },
     "execution_count": 42,
     "metadata": {},
     "output_type": "execute_result"
    }
   ],
   "source": [
    "# Sort by the min ratings\n",
    "men_women_ratings.sort_values(by='min', ascending=False)[:10]"
   ]
  },
  {
   "cell_type": "markdown",
   "metadata": {
    "slideshow": {
     "slide_type": "slide"
    }
   },
   "source": [
    "### On what movies do men and women disagree the most?\n",
    "\n",
    "We already have the mean ratings for each movie, grouped by gender."
   ]
  },
  {
   "cell_type": "code",
   "execution_count": 43,
   "metadata": {},
   "outputs": [
    {
     "data": {
      "text/html": [
       "<div>\n",
       "<style scoped>\n",
       "    .dataframe tbody tr th:only-of-type {\n",
       "        vertical-align: middle;\n",
       "    }\n",
       "\n",
       "    .dataframe tbody tr th {\n",
       "        vertical-align: top;\n",
       "    }\n",
       "\n",
       "    .dataframe thead tr th {\n",
       "        text-align: left;\n",
       "    }\n",
       "\n",
       "    .dataframe thead tr:last-of-type th {\n",
       "        text-align: right;\n",
       "    }\n",
       "</style>\n",
       "<table border=\"1\" class=\"dataframe\">\n",
       "  <thead>\n",
       "    <tr>\n",
       "      <th>movie_id</th>\n",
       "      <th>1</th>\n",
       "      <th>21</th>\n",
       "      <th>32</th>\n",
       "      <th>34</th>\n",
       "      <th>39</th>\n",
       "    </tr>\n",
       "    <tr>\n",
       "      <th>title</th>\n",
       "      <th>Toy Story (1995)</th>\n",
       "      <th>Get Shorty (1995)</th>\n",
       "      <th>Twelve Monkeys (1995)</th>\n",
       "      <th>Babe (1995)</th>\n",
       "      <th>Clueless (1995)</th>\n",
       "    </tr>\n",
       "    <tr>\n",
       "      <th>gender</th>\n",
       "      <th></th>\n",
       "      <th></th>\n",
       "      <th></th>\n",
       "      <th></th>\n",
       "      <th></th>\n",
       "    </tr>\n",
       "  </thead>\n",
       "  <tbody>\n",
       "    <tr>\n",
       "      <th>F</th>\n",
       "      <td>4.187817</td>\n",
       "      <td>3.597902</td>\n",
       "      <td>3.845324</td>\n",
       "      <td>3.953368</td>\n",
       "      <td>3.827004</td>\n",
       "    </tr>\n",
       "    <tr>\n",
       "      <th>M</th>\n",
       "      <td>4.130552</td>\n",
       "      <td>3.630841</td>\n",
       "      <td>3.968370</td>\n",
       "      <td>3.860922</td>\n",
       "      <td>3.514640</td>\n",
       "    </tr>\n",
       "    <tr>\n",
       "      <th>min</th>\n",
       "      <td>4.130552</td>\n",
       "      <td>3.597902</td>\n",
       "      <td>3.845324</td>\n",
       "      <td>3.860922</td>\n",
       "      <td>3.514640</td>\n",
       "    </tr>\n",
       "  </tbody>\n",
       "</table>\n",
       "</div>"
      ],
      "text/plain": [
       "movie_id               1                 21                    32          34  \\\n",
       "title    Toy Story (1995) Get Shorty (1995) Twelve Monkeys (1995) Babe (1995)   \n",
       "gender                                                                          \n",
       "F                4.187817          3.597902              3.845324    3.953368   \n",
       "M                4.130552          3.630841              3.968370    3.860922   \n",
       "min              4.130552          3.597902              3.845324    3.860922   \n",
       "\n",
       "movie_id              39  \n",
       "title    Clueless (1995)  \n",
       "gender                    \n",
       "F               3.827004  \n",
       "M               3.514640  \n",
       "min             3.514640  "
      ]
     },
     "execution_count": 43,
     "metadata": {},
     "output_type": "execute_result"
    }
   ],
   "source": [
    "men_women_ratings.T.iloc[0:5, 0:5]"
   ]
  },
  {
   "cell_type": "markdown",
   "metadata": {
    "slideshow": {
     "slide_type": "fragment"
    }
   },
   "source": [
    "**Step 1:** We need to design a function that\n",
    "    \n",
    "* given each column (i.e., values for F, M, and min),\n",
    "* returns the absolute difference between F and M"
   ]
  },
  {
   "cell_type": "markdown",
   "metadata": {
    "slideshow": {
     "slide_type": "fragment"
    }
   },
   "source": [
    "**Step 2:** Then, we need to apply this function to all columns. How?"
   ]
  },
  {
   "cell_type": "markdown",
   "metadata": {
    "slideshow": {
     "slide_type": "fragment"
    }
   },
   "source": [
    "    the apply() method"
   ]
  },
  {
   "cell_type": "markdown",
   "metadata": {
    "slideshow": {
     "slide_type": "slide"
    }
   },
   "source": [
    "**Step 1:** A function that computes differences between F and M ratings."
   ]
  },
  {
   "cell_type": "markdown",
   "metadata": {},
   "source": [
    "The input to the function will be a column, expressed as a Series.\n",
    "\n",
    "What is in the Series?"
   ]
  },
  {
   "cell_type": "code",
   "execution_count": 44,
   "metadata": {},
   "outputs": [
    {
     "data": {
      "text/plain": [
       "array(['F', 'M', 'min'], dtype=object)"
      ]
     },
     "execution_count": 44,
     "metadata": {},
     "output_type": "execute_result"
    }
   ],
   "source": [
    "men_women_ratings.T.index.values"
   ]
  },
  {
   "cell_type": "code",
   "execution_count": 45,
   "metadata": {
    "slideshow": {
     "slide_type": "fragment"
    }
   },
   "outputs": [
    {
     "name": "stdout",
     "output_type": "stream",
     "text": [
      "gender\n",
      "F      4.187817\n",
      "M      4.130552\n",
      "min    4.130552\n",
      "Name: (1, Toy Story (1995)), dtype: float64\n"
     ]
    },
    {
     "data": {
      "text/plain": [
       "0.057265441924971405"
      ]
     },
     "execution_count": 45,
     "metadata": {},
     "output_type": "execute_result"
    }
   ],
   "source": [
    "# write a function for the difference between men's and women's ratings\n",
    "def rating_diff(gender_series):\n",
    "    \"\"\"Given an input Series of ratings for a movie,\n",
    "       return the absolute difference.\"\"\"\n",
    "    \n",
    "    # The input gender_seris has:\n",
    "    #   women's rating in index 'F'\n",
    "    #   men's rating in index 'M'\n",
    "    #   min rating in index 'min'\n",
    "    return abs(gender_series['F'] - gender_series['M'])\n",
    "\n",
    "# Test\n",
    "first_movie = men_women_ratings.index.values[0]\n",
    "test_series = men_women_ratings.T[first_movie]  # Select first movie column\n",
    "print test_series\n",
    "rating_diff(test_series)"
   ]
  },
  {
   "cell_type": "markdown",
   "metadata": {
    "slideshow": {
     "slide_type": "slide"
    }
   },
   "source": [
    "**Step 2:** Apply this function to the entire DataFrame."
   ]
  },
  {
   "cell_type": "code",
   "execution_count": 46,
   "metadata": {},
   "outputs": [
    {
     "data": {
      "text/plain": [
       "movie_id  title                \n",
       "1         Toy Story (1995)         0.057265\n",
       "21        Get Shorty (1995)        0.032939\n",
       "32        Twelve Monkeys (1995)    0.123046\n",
       "34        Babe (1995)              0.092446\n",
       "39        Clueless (1995)          0.312365\n",
       "dtype: float64"
      ]
     },
     "execution_count": 46,
     "metadata": {},
     "output_type": "execute_result"
    }
   ],
   "source": [
    "rating_differences = men_women_ratings.T.apply(rating_diff)\n",
    "rating_differences[:5]"
   ]
  },
  {
   "cell_type": "code",
   "execution_count": 47,
   "metadata": {
    "slideshow": {
     "slide_type": "fragment"
    }
   },
   "outputs": [
    {
     "data": {
      "text/html": [
       "<div>\n",
       "<style scoped>\n",
       "    .dataframe tbody tr th:only-of-type {\n",
       "        vertical-align: middle;\n",
       "    }\n",
       "\n",
       "    .dataframe tbody tr th {\n",
       "        vertical-align: top;\n",
       "    }\n",
       "\n",
       "    .dataframe thead th {\n",
       "        text-align: right;\n",
       "    }\n",
       "</style>\n",
       "<table border=\"1\" class=\"dataframe\">\n",
       "  <thead>\n",
       "    <tr style=\"text-align: right;\">\n",
       "      <th></th>\n",
       "      <th>gender</th>\n",
       "      <th>F</th>\n",
       "      <th>M</th>\n",
       "      <th>min</th>\n",
       "      <th>diff</th>\n",
       "    </tr>\n",
       "    <tr>\n",
       "      <th>movie_id</th>\n",
       "      <th>title</th>\n",
       "      <th></th>\n",
       "      <th></th>\n",
       "      <th></th>\n",
       "      <th></th>\n",
       "    </tr>\n",
       "  </thead>\n",
       "  <tbody>\n",
       "    <tr>\n",
       "      <th>1</th>\n",
       "      <th>Toy Story (1995)</th>\n",
       "      <td>4.187817</td>\n",
       "      <td>4.130552</td>\n",
       "      <td>4.130552</td>\n",
       "      <td>0.057265</td>\n",
       "    </tr>\n",
       "    <tr>\n",
       "      <th>21</th>\n",
       "      <th>Get Shorty (1995)</th>\n",
       "      <td>3.597902</td>\n",
       "      <td>3.630841</td>\n",
       "      <td>3.597902</td>\n",
       "      <td>0.032939</td>\n",
       "    </tr>\n",
       "    <tr>\n",
       "      <th>32</th>\n",
       "      <th>Twelve Monkeys (1995)</th>\n",
       "      <td>3.845324</td>\n",
       "      <td>3.968370</td>\n",
       "      <td>3.845324</td>\n",
       "      <td>0.123046</td>\n",
       "    </tr>\n",
       "    <tr>\n",
       "      <th>34</th>\n",
       "      <th>Babe (1995)</th>\n",
       "      <td>3.953368</td>\n",
       "      <td>3.860922</td>\n",
       "      <td>3.860922</td>\n",
       "      <td>0.092446</td>\n",
       "    </tr>\n",
       "    <tr>\n",
       "      <th>39</th>\n",
       "      <th>Clueless (1995)</th>\n",
       "      <td>3.827004</td>\n",
       "      <td>3.514640</td>\n",
       "      <td>3.514640</td>\n",
       "      <td>0.312365</td>\n",
       "    </tr>\n",
       "  </tbody>\n",
       "</table>\n",
       "</div>"
      ],
      "text/plain": [
       "gender                                 F         M       min      diff\n",
       "movie_id title                                                        \n",
       "1        Toy Story (1995)       4.187817  4.130552  4.130552  0.057265\n",
       "21       Get Shorty (1995)      3.597902  3.630841  3.597902  0.032939\n",
       "32       Twelve Monkeys (1995)  3.845324  3.968370  3.845324  0.123046\n",
       "34       Babe (1995)            3.953368  3.860922  3.860922  0.092446\n",
       "39       Clueless (1995)        3.827004  3.514640  3.514640  0.312365"
      ]
     },
     "execution_count": 47,
     "metadata": {},
     "output_type": "execute_result"
    }
   ],
   "source": [
    "# Add this as an extra column\n",
    "men_women_ratings['diff'] = rating_differences\n",
    "men_women_ratings[:5]"
   ]
  },
  {
   "cell_type": "code",
   "execution_count": 48,
   "metadata": {
    "slideshow": {
     "slide_type": "slide"
    }
   },
   "outputs": [],
   "source": [
    "# Alternatively, and more simply:\n",
    "# men_women_ratings['diff'] = abs(men_women_ratings['M'] - men_women_ratings['F'])"
   ]
  },
  {
   "cell_type": "code",
   "execution_count": 49,
   "metadata": {
    "slideshow": {
     "slide_type": "slide"
    }
   },
   "outputs": [
    {
     "data": {
      "text/html": [
       "<div>\n",
       "<style scoped>\n",
       "    .dataframe tbody tr th:only-of-type {\n",
       "        vertical-align: middle;\n",
       "    }\n",
       "\n",
       "    .dataframe tbody tr th {\n",
       "        vertical-align: top;\n",
       "    }\n",
       "\n",
       "    .dataframe thead th {\n",
       "        text-align: right;\n",
       "    }\n",
       "</style>\n",
       "<table border=\"1\" class=\"dataframe\">\n",
       "  <thead>\n",
       "    <tr style=\"text-align: right;\">\n",
       "      <th></th>\n",
       "      <th>gender</th>\n",
       "      <th>F</th>\n",
       "      <th>M</th>\n",
       "      <th>min</th>\n",
       "      <th>diff</th>\n",
       "    </tr>\n",
       "    <tr>\n",
       "      <th>movie_id</th>\n",
       "      <th>title</th>\n",
       "      <th></th>\n",
       "      <th></th>\n",
       "      <th></th>\n",
       "      <th></th>\n",
       "    </tr>\n",
       "  </thead>\n",
       "  <tbody>\n",
       "    <tr>\n",
       "      <th>3421</th>\n",
       "      <th>Animal House (1978)</th>\n",
       "      <td>3.628906</td>\n",
       "      <td>4.167192</td>\n",
       "      <td>3.628906</td>\n",
       "      <td>0.538286</td>\n",
       "    </tr>\n",
       "    <tr>\n",
       "      <th>2657</th>\n",
       "      <th>Rocky Horror Picture Show, The (1975)</th>\n",
       "      <td>3.673016</td>\n",
       "      <td>3.160131</td>\n",
       "      <td>3.160131</td>\n",
       "      <td>0.512885</td>\n",
       "    </tr>\n",
       "    <tr>\n",
       "      <th>2700</th>\n",
       "      <th>South Park: Bigger, Longer and Uncut (1999)</th>\n",
       "      <td>3.422481</td>\n",
       "      <td>3.846686</td>\n",
       "      <td>3.422481</td>\n",
       "      <td>0.424206</td>\n",
       "    </tr>\n",
       "    <tr>\n",
       "      <th>2791</th>\n",
       "      <th>Airplane! (1980)</th>\n",
       "      <td>3.656566</td>\n",
       "      <td>4.064419</td>\n",
       "      <td>3.656566</td>\n",
       "      <td>0.407854</td>\n",
       "    </tr>\n",
       "    <tr>\n",
       "      <th>1221</th>\n",
       "      <th>Godfather: Part II, The (1974)</th>\n",
       "      <td>4.040936</td>\n",
       "      <td>4.437778</td>\n",
       "      <td>4.040936</td>\n",
       "      <td>0.396842</td>\n",
       "    </tr>\n",
       "    <tr>\n",
       "      <th>1200</th>\n",
       "      <th>Aliens (1986)</th>\n",
       "      <td>3.802083</td>\n",
       "      <td>4.186684</td>\n",
       "      <td>3.802083</td>\n",
       "      <td>0.384601</td>\n",
       "    </tr>\n",
       "    <tr>\n",
       "      <th>1641</th>\n",
       "      <th>Full Monty, The (1997)</th>\n",
       "      <td>4.113456</td>\n",
       "      <td>3.760976</td>\n",
       "      <td>3.760976</td>\n",
       "      <td>0.352481</td>\n",
       "    </tr>\n",
       "    <tr>\n",
       "      <th>3418</th>\n",
       "      <th>Thelma &amp; Louise (1991)</th>\n",
       "      <td>3.916268</td>\n",
       "      <td>3.581582</td>\n",
       "      <td>3.581582</td>\n",
       "      <td>0.334686</td>\n",
       "    </tr>\n",
       "    <tr>\n",
       "      <th>589</th>\n",
       "      <th>Terminator 2: Judgment Day (1991)</th>\n",
       "      <td>3.785088</td>\n",
       "      <td>4.115367</td>\n",
       "      <td>3.785088</td>\n",
       "      <td>0.330279</td>\n",
       "    </tr>\n",
       "    <tr>\n",
       "      <th>1214</th>\n",
       "      <th>Alien (1979)</th>\n",
       "      <td>3.888252</td>\n",
       "      <td>4.216119</td>\n",
       "      <td>3.888252</td>\n",
       "      <td>0.327867</td>\n",
       "    </tr>\n",
       "  </tbody>\n",
       "</table>\n",
       "</div>"
      ],
      "text/plain": [
       "gender                                                       F         M  \\\n",
       "movie_id title                                                             \n",
       "3421     Animal House (1978)                          3.628906  4.167192   \n",
       "2657     Rocky Horror Picture Show, The (1975)        3.673016  3.160131   \n",
       "2700     South Park: Bigger, Longer and Uncut (1999)  3.422481  3.846686   \n",
       "2791     Airplane! (1980)                             3.656566  4.064419   \n",
       "1221     Godfather: Part II, The (1974)               4.040936  4.437778   \n",
       "1200     Aliens (1986)                                3.802083  4.186684   \n",
       "1641     Full Monty, The (1997)                       4.113456  3.760976   \n",
       "3418     Thelma & Louise (1991)                       3.916268  3.581582   \n",
       "589      Terminator 2: Judgment Day (1991)            3.785088  4.115367   \n",
       "1214     Alien (1979)                                 3.888252  4.216119   \n",
       "\n",
       "gender                                                     min      diff  \n",
       "movie_id title                                                            \n",
       "3421     Animal House (1978)                          3.628906  0.538286  \n",
       "2657     Rocky Horror Picture Show, The (1975)        3.160131  0.512885  \n",
       "2700     South Park: Bigger, Longer and Uncut (1999)  3.422481  0.424206  \n",
       "2791     Airplane! (1980)                             3.656566  0.407854  \n",
       "1221     Godfather: Part II, The (1974)               4.040936  0.396842  \n",
       "1200     Aliens (1986)                                3.802083  0.384601  \n",
       "1641     Full Monty, The (1997)                       3.760976  0.352481  \n",
       "3418     Thelma & Louise (1991)                       3.581582  0.334686  \n",
       "589      Terminator 2: Judgment Day (1991)            3.785088  0.330279  \n",
       "1214     Alien (1979)                                 3.888252  0.327867  "
      ]
     },
     "execution_count": 49,
     "metadata": {},
     "output_type": "execute_result"
    }
   ],
   "source": [
    "# Sort by diff to get the movies\n",
    "men_women_ratings.sort_values(by='diff', ascending=False)[:10]"
   ]
  }
 ],
 "metadata": {
  "anaconda-cloud": {},
  "celltoolbar": "Slideshow",
  "kernelspec": {
   "display_name": "Python 2",
   "language": "python",
   "name": "python2"
  },
  "language_info": {
   "codemirror_mode": {
    "name": "ipython",
    "version": 2
   },
   "file_extension": ".py",
   "mimetype": "text/x-python",
   "name": "python",
   "nbconvert_exporter": "python",
   "pygments_lexer": "ipython2",
   "version": "2.7.15"
  }
 },
 "nbformat": 4,
 "nbformat_minor": 1
}
