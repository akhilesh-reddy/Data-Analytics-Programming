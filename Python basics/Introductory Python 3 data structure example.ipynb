{
 "cells": [
  {
   "cell_type": "markdown",
   "metadata": {
    "slideshow": {
     "slide_type": "slide"
    }
   },
   "source": [
    "# Data structures example\n",
    "\n",
    "We will do a large example reviewing data structure concepts."
   ]
  },
  {
   "cell_type": "markdown",
   "metadata": {
    "slideshow": {
     "slide_type": "slide"
    }
   },
   "source": [
    "## Represent a customer's financial situation"
   ]
  },
  {
   "cell_type": "markdown",
   "metadata": {},
   "source": [
    "Suppose you are at a bank, and you want to analyze each customer's financial situation to offer targeted investment guidance. How do you represent the current financial situation?"
   ]
  },
  {
   "cell_type": "markdown",
   "metadata": {
    "slideshow": {
     "slide_type": "slide"
    }
   },
   "source": [
    "What are the things we need to consider?\n",
    "\n",
    "* Bank accounts: customers could have any number of bank accounts, or no bank accounts too\n",
    "* Real estate:\n",
    "    * Current value of property or multiple properties\n",
    "    * Mortgages on those properties\n",
    "* Retirement funds and IRA\n",
    "* Stocks\n",
    "* Foreign currency\n",
    "* Credit cards"
   ]
  },
  {
   "cell_type": "markdown",
   "metadata": {
    "slideshow": {
     "slide_type": "fragment"
    }
   },
   "source": [
    "How do we organize all this?"
   ]
  },
  {
   "cell_type": "markdown",
   "metadata": {
    "slideshow": {
     "slide_type": "slide"
    }
   },
   "source": [
    "Companies have a similar problem when they report their quarterly earnings. A nice organizational principle is to think hierarchically."
   ]
  },
  {
   "cell_type": "markdown",
   "metadata": {},
   "source": [
    "At the top, what we have are **Assets** and **Liabilities**.\n",
    "\n",
    "Assets:\n",
    "\n",
    "* Bank accounts\n",
    "* Real estate properties\n",
    "* Retirement funds\n",
    "* Stocks\n",
    "* Forex\n",
    "\n",
    "Liabilities:\n",
    "\n",
    "* Mortgages\n",
    "* Credit card debts"
   ]
  },
  {
   "cell_type": "markdown",
   "metadata": {
    "slideshow": {
     "slide_type": "fragment"
    }
   },
   "source": [
    "How should we represent the fact that the financial situation consists of Assets and Liabilities?"
   ]
  },
  {
   "cell_type": "markdown",
   "metadata": {
    "slideshow": {
     "slide_type": "fragment"
    }
   },
   "source": [
    "**Tuple** of exactly two items: **(Assets, Liabilities)**"
   ]
  },
  {
   "cell_type": "markdown",
   "metadata": {
    "slideshow": {
     "slide_type": "slide"
    }
   },
   "source": [
    "Assets:\n",
    "\n",
    "* Bank accounts\n",
    "* Real estate properties\n",
    "* Retirement funds\n",
    "* Stocks\n",
    "* Forex"
   ]
  },
  {
   "cell_type": "markdown",
   "metadata": {
    "slideshow": {
     "slide_type": "fragment"
    }
   },
   "source": [
    "#### How do we represent assets?"
   ]
  },
  {
   "cell_type": "markdown",
   "metadata": {
    "slideshow": {
     "slide_type": "fragment"
    }
   },
   "source": [
    "**Tuple** of (banks, real-estate, retirement-funds, stocks, forex)"
   ]
  },
  {
   "cell_type": "markdown",
   "metadata": {
    "slideshow": {
     "slide_type": "fragment"
    }
   },
   "source": [
    "#### How do we represent bank accounts?"
   ]
  },
  {
   "cell_type": "markdown",
   "metadata": {
    "slideshow": {
     "slide_type": "fragment"
    }
   },
   "source": [
    "We can have any number of accounts...\n"
   ]
  },
  {
   "cell_type": "markdown",
   "metadata": {
    "slideshow": {
     "slide_type": "fragment"
    }
   },
   "source": [
    "banks = **List** of account balances\n",
    "\n",
    "* banks = [] if no bank accounts"
   ]
  },
  {
   "cell_type": "markdown",
   "metadata": {
    "slideshow": {
     "slide_type": "fragment"
    }
   },
   "source": [
    "Real-estate and retirement funds can be considered similarly, and represented as lists..."
   ]
  },
  {
   "cell_type": "markdown",
   "metadata": {
    "slideshow": {
     "slide_type": "slide"
    }
   },
   "source": [
    "Assets:\n",
    "\n",
    "* Bank accounts\n",
    "* Real estate properties\n",
    "* Retirement funds\n",
    "* Stocks\n",
    "* Forex"
   ]
  },
  {
   "cell_type": "markdown",
   "metadata": {},
   "source": [
    "#### How do we represent stocks?"
   ]
  },
  {
   "cell_type": "markdown",
   "metadata": {
    "slideshow": {
     "slide_type": "fragment"
    }
   },
   "source": [
    "Will a list work?"
   ]
  },
  {
   "cell_type": "markdown",
   "metadata": {
    "slideshow": {
     "slide_type": "fragment"
    }
   },
   "source": [
    "Better:\n",
    "\n",
    "* a **dictionary**\n",
    "* key = stock ticker symbol\n",
    "* value = number of shares"
   ]
  },
  {
   "cell_type": "markdown",
   "metadata": {
    "slideshow": {
     "slide_type": "fragment"
    }
   },
   "source": [
    "From this, we can calculate the instantaneous value of all held stocks"
   ]
  },
  {
   "cell_type": "markdown",
   "metadata": {
    "slideshow": {
     "slide_type": "slide"
    }
   },
   "source": [
    "Assets:\n",
    "\n",
    "* Bank accounts\n",
    "* Real estate properties\n",
    "* Retirement funds\n",
    "* Stocks\n",
    "* Forex\n",
    "\n",
    "#### How do we represent foreign currencies?"
   ]
  },
  {
   "cell_type": "markdown",
   "metadata": {
    "slideshow": {
     "slide_type": "fragment"
    }
   },
   "source": [
    "This may look like:\n",
    "\n",
    "* 500 of EUR\n",
    "* 10,000 of JPY\n",
    "* 50,000 of INR\n",
    "* ..."
   ]
  },
  {
   "cell_type": "markdown",
   "metadata": {
    "slideshow": {
     "slide_type": "fragment"
    }
   },
   "source": [
    "Again best represented as a **dictionary**\n",
    "\n",
    "* key = currency symbol\n",
    "* value = amount\n",
    "\n",
    "The current value of all forex assets can be calculated using the current rates of USD:EUR, USD:JPY, ..."
   ]
  },
  {
   "cell_type": "markdown",
   "metadata": {
    "slideshow": {
     "slide_type": "slide"
    }
   },
   "source": [
    "Liabilities:\n",
    "\n",
    "* Mortgages\n",
    "* Credit card debts"
   ]
  },
  {
   "cell_type": "markdown",
   "metadata": {},
   "source": [
    "How do we represent these liabilities?"
   ]
  },
  {
   "cell_type": "markdown",
   "metadata": {
    "slideshow": {
     "slide_type": "fragment"
    }
   },
   "source": [
    "**Tuple** of (mortgages, credit-cards)"
   ]
  },
  {
   "cell_type": "markdown",
   "metadata": {
    "slideshow": {
     "slide_type": "fragment"
    }
   },
   "source": [
    "**Lists** should work for both."
   ]
  },
  {
   "cell_type": "markdown",
   "metadata": {
    "slideshow": {
     "slide_type": "slide"
    }
   },
   "source": [
    "To summarize:"
   ]
  },
  {
   "cell_type": "markdown",
   "metadata": {
    "slideshow": {
     "slide_type": "fragment"
    }
   },
   "source": [
    "Each customer represented as **(Assets, Liabilities)**."
   ]
  },
  {
   "cell_type": "markdown",
   "metadata": {
    "slideshow": {
     "slide_type": "fragment"
    }
   },
   "source": [
    "Assets = **tuple** of (banks, real_estate, retirement, stocks, forex)"
   ]
  },
  {
   "cell_type": "markdown",
   "metadata": {
    "slideshow": {
     "slide_type": "fragment"
    }
   },
   "source": [
    "banks = **list** of accounts balances"
   ]
  },
  {
   "cell_type": "markdown",
   "metadata": {
    "slideshow": {
     "slide_type": "fragment"
    }
   },
   "source": [
    "real_estate = **list** of property values"
   ]
  },
  {
   "cell_type": "markdown",
   "metadata": {
    "slideshow": {
     "slide_type": "fragment"
    }
   },
   "source": [
    "retirement = **list** of retirement funds and IRAs"
   ]
  },
  {
   "cell_type": "markdown",
   "metadata": {
    "slideshow": {
     "slide_type": "fragment"
    }
   },
   "source": [
    "stocks = **dictionary** of stock ticker mapped to number of shares"
   ]
  },
  {
   "cell_type": "markdown",
   "metadata": {
    "slideshow": {
     "slide_type": "fragment"
    }
   },
   "source": [
    "forex = **dictionary** of foreign currency symbol mapped to amount of foreign currency."
   ]
  },
  {
   "cell_type": "markdown",
   "metadata": {
    "slideshow": {
     "slide_type": "slide"
    }
   },
   "source": [
    "To summarize:\n",
    "\n",
    "Each customer represented as **(Assets, Liabilities)**."
   ]
  },
  {
   "cell_type": "markdown",
   "metadata": {
    "slideshow": {
     "slide_type": "fragment"
    }
   },
   "source": [
    "Liabilities = **tuple** of (mortgages, credit_cards)."
   ]
  },
  {
   "cell_type": "markdown",
   "metadata": {
    "slideshow": {
     "slide_type": "fragment"
    }
   },
   "source": [
    "mortgages = **list** of mortgage amounts on various properties."
   ]
  },
  {
   "cell_type": "markdown",
   "metadata": {
    "slideshow": {
     "slide_type": "fragment"
    }
   },
   "source": [
    "credit_cards = **list** of debts on various credit cards."
   ]
  },
  {
   "cell_type": "code",
   "execution_count": 1,
   "metadata": {
    "slideshow": {
     "slide_type": "slide"
    }
   },
   "outputs": [
    {
     "name": "stdout",
     "output_type": "stream",
     "text": [
      "Assets = ([10000, 20000], [50000, 80000], [100000], {'SPY': 500, 'AAPL': 50}, {'INR': 50000})\n"
     ]
    }
   ],
   "source": [
    "banks = [10000, 20000]             # 2 bank accounts\n",
    "real_estates = [50000, 80000]      # 2 properties\n",
    "retirements = [100000]             # one retirement account\n",
    "stocks = {'AAPL': 50, 'SPY': 500}  # Apple and S&P 500 held\n",
    "forex = {'INR': 50000}             # Some Indian Rupees too\n",
    "\n",
    "assets = (banks, real_estates, retirements, stocks, forex)\n",
    "print 'Assets =', assets"
   ]
  },
  {
   "cell_type": "code",
   "execution_count": 2,
   "metadata": {
    "slideshow": {
     "slide_type": "fragment"
    }
   },
   "outputs": [
    {
     "name": "stdout",
     "output_type": "stream",
     "text": [
      "Liabilities = ([], [2350, 4000])\n"
     ]
    }
   ],
   "source": [
    "mortgages = []                     # no current or previous mortgages\n",
    "credit_cards = [2350, 4000]        # two credit cards\n",
    "\n",
    "liabilities = (mortgages, credit_cards)\n",
    "print 'Liabilities =', liabilities"
   ]
  },
  {
   "cell_type": "code",
   "execution_count": 3,
   "metadata": {
    "slideshow": {
     "slide_type": "fragment"
    }
   },
   "outputs": [
    {
     "name": "stdout",
     "output_type": "stream",
     "text": [
      "Overall: (([10000, 20000], [50000, 80000], [100000], {'SPY': 500, 'AAPL': 50}, {'INR': 50000}), ([], [2350, 4000]))\n"
     ]
    }
   ],
   "source": [
    "customer_record = (assets, liabilities)\n",
    "print 'Overall:', customer_record"
   ]
  },
  {
   "cell_type": "markdown",
   "metadata": {
    "slideshow": {
     "slide_type": "slide"
    }
   },
   "source": [
    "#### What is the current value of a customer's stock portfolio?"
   ]
  },
  {
   "cell_type": "markdown",
   "metadata": {},
   "source": [
    "We will need:\n",
    "\n",
    "* the customer's record, and\n",
    "* current prices of all stocks."
   ]
  },
  {
   "cell_type": "markdown",
   "metadata": {
    "slideshow": {
     "slide_type": "fragment"
    }
   },
   "source": [
    "How do we represent the latter?"
   ]
  },
  {
   "cell_type": "markdown",
   "metadata": {
    "slideshow": {
     "slide_type": "fragment"
    }
   },
   "source": [
    "As a dictionary:\n",
    "\n",
    "* AAPL is 110.12\n",
    "* GOOG is 496.04\n",
    "* FB is 76.46\n",
    "* YHOO is 48.33 \n",
    "* SPY is 201.84\n",
    "* ..."
   ]
  },
  {
   "cell_type": "markdown",
   "metadata": {
    "slideshow": {
     "slide_type": "slide"
    }
   },
   "source": [
    "#### What is the current value of a customer's stock portfolio?"
   ]
  },
  {
   "cell_type": "markdown",
   "metadata": {
    "slideshow": {
     "slide_type": "fragment"
    }
   },
   "source": [
    "What are the steps?"
   ]
  },
  {
   "cell_type": "markdown",
   "metadata": {
    "slideshow": {
     "slide_type": "fragment"
    }
   },
   "source": [
    "1. A function to get stocks from the customer record\n",
    "2. A function to compute the value of shares of one stock held by the customer\n",
    "3. A glue function that computes the total value of all stocks."
   ]
  },
  {
   "cell_type": "markdown",
   "metadata": {
    "slideshow": {
     "slide_type": "slide"
    }
   },
   "source": [
    "**Step 1:** A function to get stocks from the customer record"
   ]
  },
  {
   "cell_type": "code",
   "execution_count": 4,
   "metadata": {
    "slideshow": {
     "slide_type": "fragment"
    }
   },
   "outputs": [],
   "source": [
    "def get_customer_stocks(customer_record):\n",
    "    \"\"\"Return the stocks part of the customer record.\"\"\"\n",
    "    \n",
    "    # customer_record = (assets, liabilities)\n",
    "    assets = customer_record[0]\n",
    "    \n",
    "    # assets = (banks, real_estates, retirements, stocks, forex)\n",
    "    stocks = assets[3]\n",
    "    \n",
    "    return stocks"
   ]
  },
  {
   "cell_type": "markdown",
   "metadata": {
    "slideshow": {
     "slide_type": "slide"
    }
   },
   "source": [
    "**Step 2:** A function to compute the value of shares of one stock held by the customer"
   ]
  },
  {
   "cell_type": "code",
   "execution_count": 5,
   "metadata": {
    "slideshow": {
     "slide_type": "fragment"
    }
   },
   "outputs": [],
   "source": [
    "def get_value_of_one_stock(stock_ticker, num_shares, current_stock_prices):\n",
    "    \"\"\"How much is num_shares shares of ticker worth\n",
    "       at current prices?\"\"\"\n",
    "    \n",
    "    if stock_ticker in current_stock_prices:\n",
    "        value_per_share = current_stock_prices[stock_ticker]\n",
    "    else:\n",
    "        print 'ERROR: Stock ticker', stock_ticker, 'not recognized'\n",
    "        return -1  # Use -1 to represent error signal (do you foresee any problems?)\n",
    "    \n",
    "    this_stock_value = num_shares * value_per_share\n",
    "    \n",
    "    return this_stock_value"
   ]
  },
  {
   "cell_type": "markdown",
   "metadata": {
    "slideshow": {
     "slide_type": "slide"
    }
   },
   "source": [
    "**Step 3:** A glue function that computes the total value of all stocks"
   ]
  },
  {
   "cell_type": "code",
   "execution_count": 6,
   "metadata": {
    "slideshow": {
     "slide_type": "fragment"
    }
   },
   "outputs": [],
   "source": [
    "def stock_value(customer_record, current_stock_prices):\n",
    "    \"\"\"Compute the customer's stock portfolio value given\n",
    "       the current stock prices.\"\"\"\n",
    "    \n",
    "    stocks = get_customer_stocks(customer_record)\n",
    "    \n",
    "    # Initialize portfolio value\n",
    "    portfolio_value = 0.0\n",
    "    \n",
    "    # For each stock in the portfolio, add it to the total value\n",
    "    for stock_ticker, num_shares in stocks.items():\n",
    "        this_stock_value = get_value_of_one_stock(stock_ticker,\n",
    "                                                  num_shares,\n",
    "                                                  current_stock_prices)\n",
    "        \n",
    "        if this_stock_value < 0:   # Error code!\n",
    "            return -1              # This function also returns Error\n",
    "        \n",
    "        # Add this to the portfolio\n",
    "        portfolio_value += this_stock_value\n",
    "        \n",
    "        print num_shares, 'shares of', stock_ticker, 'worth', this_stock_value\n",
    "    \n",
    "    print 'Overall portfolio value =', portfolio_value\n",
    "    return portfolio_value"
   ]
  },
  {
   "cell_type": "markdown",
   "metadata": {
    "slideshow": {
     "slide_type": "slide"
    }
   },
   "source": [
    "#### What is the current value of a customer's stock portfolio?"
   ]
  },
  {
   "cell_type": "markdown",
   "metadata": {},
   "source": [
    "Let's try this function"
   ]
  },
  {
   "cell_type": "code",
   "execution_count": 7,
   "metadata": {},
   "outputs": [
    {
     "name": "stdout",
     "output_type": "stream",
     "text": [
      "500 shares of SPY worth 100920.0\n",
      "50 shares of AAPL worth 5506.0\n",
      "Overall portfolio value = 106426.0\n"
     ]
    },
    {
     "data": {
      "text/plain": [
       "106426.0"
      ]
     },
     "execution_count": 7,
     "metadata": {},
     "output_type": "execute_result"
    }
   ],
   "source": [
    "# Create the dictionary of the current prices\n",
    "current_stock_prices = {'AAPL':110.12, 'GOOG':496.04, 'FB':76.46, 'YHOO':48.33 , 'SPY':201.84}\n",
    "\n",
    "# Call the function\n",
    "stock_value(customer_record, current_stock_prices)"
   ]
  },
  {
   "cell_type": "markdown",
   "metadata": {
    "slideshow": {
     "slide_type": "slide"
    }
   },
   "source": [
    "Let's create another customer who's similar, but with different stocks.\n",
    "\n",
    "How do we do this?"
   ]
  },
  {
   "cell_type": "markdown",
   "metadata": {
    "slideshow": {
     "slide_type": "fragment"
    }
   },
   "source": [
    "* we need a copy that we we can change\n",
    "* we need a **deep** copy"
   ]
  },
  {
   "cell_type": "code",
   "execution_count": 8,
   "metadata": {
    "slideshow": {
     "slide_type": "fragment"
    }
   },
   "outputs": [
    {
     "name": "stdout",
     "output_type": "stream",
     "text": [
      "500 shares of SPY worth 100920.0\n",
      "50 shares of AAPL worth 5506.0\n",
      "ERROR: Stock ticker SNE not recognized\n"
     ]
    },
    {
     "data": {
      "text/plain": [
       "-1"
      ]
     },
     "execution_count": 8,
     "metadata": {},
     "output_type": "execute_result"
    }
   ],
   "source": [
    "import copy\n",
    "\n",
    "# create a deep copy of this customer\n",
    "customer_record_2 = copy.deepcopy(customer_record)\n",
    "\n",
    "# Update his stock portfolio\n",
    "# Access the assets (index 0), the stocks (index 3), and change it\n",
    "customer_record_2[0][3]['SNE'] = 50  # 50 shares of SONY\n",
    "\n",
    "# Call the function\n",
    "stock_value(customer_record_2, current_stock_prices)"
   ]
  },
  {
   "cell_type": "markdown",
   "metadata": {
    "slideshow": {
     "slide_type": "slide"
    }
   },
   "source": [
    "#### What is the customer's overall real-estate value?"
   ]
  },
  {
   "cell_type": "markdown",
   "metadata": {},
   "source": [
    "We need to consider\n",
    "\n",
    "* all real-estate properties owned under assets,\n",
    "* minus all mortgages under liabilities."
   ]
  },
  {
   "cell_type": "code",
   "execution_count": 9,
   "metadata": {
    "slideshow": {
     "slide_type": "slide"
    }
   },
   "outputs": [],
   "source": [
    "def real_estate_value(customer_record):\n",
    "    \"\"\"Compute a customer's overall real-estate value.\"\"\"\n",
    "    \n",
    "    # We need to look at both assets and liabilities\n",
    "    assets, liabilities = customer_record\n",
    "    \n",
    "    # assets = (banks, real_estates, retirements, stocks, forex)\n",
    "    real_estate_assets = assets[1]\n",
    "    \n",
    "    print 'Real estate assets =', real_estate_assets\n",
    "    \n",
    "    # This is a list; compute total real-estate asset value\n",
    "    # Python provides a function for this: sum(real_estate_assets),\n",
    "    # but let's do it directly.\n",
    "    asset_value = 0\n",
    "    for value in real_estate_assets:\n",
    "        asset_value += value\n",
    "    \n",
    "    print 'Asset value =', asset_value\n",
    "    \n",
    "    # liabilities = (mortgages, credit_cards)\n",
    "    real_estate_liabilities = liabilities[0]\n",
    "    \n",
    "    print 'Real estate liabilities =', real_estate_liabilities\n",
    "    \n",
    "    # This is again a list\n",
    "    liability_value = 0\n",
    "    for value in real_estate_liabilities:\n",
    "        liability_value += value\n",
    "    \n",
    "    print 'Liability value =', liability_value\n",
    "    \n",
    "    overall_value = asset_value - liability_value    \n",
    "    print 'Overall value =', overall_value\n",
    "    \n",
    "    # Return everything\n",
    "    return asset_value, liability_value, overall_value\n",
    "    "
   ]
  },
  {
   "cell_type": "code",
   "execution_count": 10,
   "metadata": {
    "slideshow": {
     "slide_type": "slide"
    }
   },
   "outputs": [
    {
     "name": "stdout",
     "output_type": "stream",
     "text": [
      "Real estate assets = [50000, 80000]\n",
      "Asset value = 130000\n",
      "Real estate liabilities = []\n",
      "Liability value = 0\n",
      "Overall value = 130000\n"
     ]
    },
    {
     "data": {
      "text/plain": [
       "(130000, 0, 130000)"
      ]
     },
     "execution_count": 10,
     "metadata": {},
     "output_type": "execute_result"
    }
   ],
   "source": [
    "real_estate_value(customer_record)"
   ]
  },
  {
   "cell_type": "markdown",
   "metadata": {
    "slideshow": {
     "slide_type": "slide"
    }
   },
   "source": [
    "#### What would a customer's record be if he/she pays off as much credit card debt from her bank accounts?"
   ]
  },
  {
   "cell_type": "markdown",
   "metadata": {},
   "source": [
    "How would we do this?"
   ]
  },
  {
   "cell_type": "markdown",
   "metadata": {
    "slideshow": {
     "slide_type": "fragment"
    }
   },
   "source": [
    "* Compute total credit card amount and bank balance\n",
    "\n",
    "\n",
    "* Figure out how much money we must transfer from banks to credit cards:\n",
    "    * **bank balance >= debt**: zero out the debt, or\n",
    "    * **debt > bank balance**: zero out the bank accounts\n",
    "    * In both cases, we need to reduce amounts from a list.\n",
    "    \n",
    "    \n",
    "* Write a function that reduces amounts from a list\n",
    "\n",
    "\n",
    "* Put it all together using a \"glue\" function"
   ]
  },
  {
   "cell_type": "markdown",
   "metadata": {
    "slideshow": {
     "slide_type": "slide"
    }
   },
   "source": [
    "**Step 1:** Compute total credit card and bank balance"
   ]
  },
  {
   "cell_type": "code",
   "execution_count": 11,
   "metadata": {},
   "outputs": [
    {
     "data": {
      "text/plain": [
       "(30000, 6350)"
      ]
     },
     "execution_count": 11,
     "metadata": {},
     "output_type": "execute_result"
    }
   ],
   "source": [
    "def compute_bank_balance_and_debt(customer_record):\n",
    "    \n",
    "    # assets = (banks, real_estates, retirements, stocks, forex)\n",
    "    banks = customer_record[0][0]\n",
    "    total_bank_balance = sum(banks) # sum() is a special function that works on lists\n",
    "    \n",
    "    # liabilities = (mortgages, credit_cards)\n",
    "    credit_cards = customer_record[1][1]\n",
    "    total_credit_card_debt = sum(credit_cards)\n",
    "    \n",
    "    # Return a tuple\n",
    "    return total_bank_balance, total_credit_card_debt\n",
    "\n",
    "# Test\n",
    "compute_bank_balance_and_debt(customer_record)"
   ]
  },
  {
   "cell_type": "markdown",
   "metadata": {
    "slideshow": {
     "slide_type": "slide"
    }
   },
   "source": [
    "**Step 2:** What is the amount we can transfer from banks to credit cards?"
   ]
  },
  {
   "cell_type": "code",
   "execution_count": 12,
   "metadata": {},
   "outputs": [
    {
     "name": "stdout",
     "output_type": "stream",
     "text": [
      "Total bank = 30000\n",
      "Total credit = 6350\n",
      "Amount to transfer = 6350\n"
     ]
    }
   ],
   "source": [
    "def amount_to_transfer(total_bank_balance, total_credit_card_debt):\n",
    "    \n",
    "    # The amount we can transfer is the minimum of the two\n",
    "    # We can use the built-in min() function, but let's do it the hard way.\n",
    "    \n",
    "    if total_bank_balance >= total_credit_card_debt:\n",
    "        return total_credit_card_debt\n",
    "    else:\n",
    "        return total_bank_balance\n",
    "\n",
    "# Test\n",
    "total_bank, total_credit = compute_bank_balance_and_debt(customer_record)\n",
    "print 'Total bank =', total_bank\n",
    "print 'Total credit =', total_credit\n",
    "print 'Amount to transfer =', amount_to_transfer(total_bank, total_credit)"
   ]
  },
  {
   "cell_type": "markdown",
   "metadata": {
    "slideshow": {
     "slide_type": "slide"
    }
   },
   "source": [
    "**Step 3:** Define a function that reduces a given amount from a list (whether banks or credit cards)."
   ]
  },
  {
   "cell_type": "code",
   "execution_count": 13,
   "metadata": {},
   "outputs": [
    {
     "name": "stdout",
     "output_type": "stream",
     "text": [
      "List before update = [50, 40, 10, 20, 30]\n",
      "List after update = [50, 40, 5]\n",
      "List after second update = []\n"
     ]
    }
   ],
   "source": [
    "def reduce_list_amounts(either_list, amount):\n",
    "    \"\"\"either_list is either the bank balance list,\n",
    "       or the credit card list. Reduce the given amount\n",
    "       from this list.\"\"\"\n",
    "    \n",
    "    amount_still_left = amount\n",
    "    \n",
    "    while amount_still_left > 0:\n",
    "        # Work from the end of the list\n",
    "        last_item = either_list[-1]\n",
    "        \n",
    "        if last_item <= amount_still_left:\n",
    "            # We can remove this item from the list\n",
    "            either_list.pop()\n",
    "            amount_still_left -= last_item\n",
    "        \n",
    "        else:\n",
    "            # We need to only remove a partial amount from the last item\n",
    "            either_list[-1] -= amount_still_left\n",
    "            amount_still_left = 0\n",
    "\n",
    "# Test\n",
    "amount_list = [50, 40, 10, 20, 30]\n",
    "print 'List before update =', amount_list\n",
    "reduce_list_amounts(amount_list, 55)\n",
    "print 'List after update =', amount_list\n",
    "reduce_list_amounts(amount_list, 95)\n",
    "print 'List after second update =', amount_list"
   ]
  },
  {
   "cell_type": "markdown",
   "metadata": {
    "slideshow": {
     "slide_type": "slide"
    }
   },
   "source": [
    "**Step 4:** The \"glue\" function that calls all the previous functions."
   ]
  },
  {
   "cell_type": "code",
   "execution_count": 14,
   "metadata": {},
   "outputs": [
    {
     "name": "stdout",
     "output_type": "stream",
     "text": [
      "customer_record: banks = [10000, 20000] credit cards = [2350, 4000]\n",
      "After paying off credit cards: [10000, 13650] credit cards = []\n"
     ]
    }
   ],
   "source": [
    "def pay_off_credit_cards(customer_record):\n",
    "    \"\"\"Pay off as much credit card debt as possible\n",
    "       from bank accounts.\"\"\"\n",
    "    \n",
    "    total_bank, total_credit = compute_bank_balance_and_debt(customer_record)\n",
    "    to_transfer = amount_to_transfer(total_bank, total_credit)\n",
    "    \n",
    "    # Create a new record\n",
    "    resulting_customer_record = copy.deepcopy(customer_record)\n",
    "    \n",
    "    # Reduce the transferred amount from the bank balances\n",
    "    banks = resulting_customer_record[0][0]\n",
    "    reduce_list_amounts(banks, to_transfer)\n",
    "    \n",
    "    # Reduce the transferred amounts from the credit cards\n",
    "    credit_cards = resulting_customer_record[1][1]\n",
    "    reduce_list_amounts(credit_cards, to_transfer)\n",
    "    \n",
    "    return resulting_customer_record\n",
    "\n",
    "print 'customer_record: banks =', customer_record[0][0], 'credit cards =', customer_record[1][1]\n",
    "resulting_customer_record = pay_off_credit_cards(customer_record)\n",
    "print 'After paying off credit cards:', resulting_customer_record[0][0],\n",
    "print 'credit cards =', resulting_customer_record[1][1]"
   ]
  },
  {
   "cell_type": "markdown",
   "metadata": {
    "slideshow": {
     "slide_type": "slide"
    }
   },
   "source": [
    "#### What will the customer's real-estate portfolio look like in 5 years?\n",
    "\n",
    "We'll assume:\n",
    "\n",
    "* Each year, property values either increase by 10% or remain the same, both being equally likely\n",
    "* Mortgage interest grows at 5% each year\n",
    "\n",
    "_Simulate_ the change in value of the portfolio over time a 10,000 times, and return:\n",
    "\n",
    "* the average value after 10 years, and\n",
    "* the _median_ value (half the simulations are lower than the median, and the remaining half higher)\n",
    "\n",
    "How do we do this?"
   ]
  },
  {
   "cell_type": "markdown",
   "metadata": {
    "slideshow": {
     "slide_type": "fragment"
    }
   },
   "source": [
    "* Calculate the total property value and total mortgage now.\n",
    "* Define a function for one simulation:\n",
    "    * For 10 years:\n",
    "    * Grow property values by either 10% or 0% (using Python's random number generator)\n",
    "    * Grow mortgage by 5%\n",
    "* Run the simulation 10,000 times, and return the average and the median."
   ]
  },
  {
   "cell_type": "markdown",
   "metadata": {
    "slideshow": {
     "slide_type": "slide"
    }
   },
   "source": [
    "**Step 1:** Calculate starting property value and mortgage.\n",
    "\n",
    "We already did this earlier..."
   ]
  },
  {
   "cell_type": "code",
   "execution_count": 15,
   "metadata": {},
   "outputs": [
    {
     "name": "stdout",
     "output_type": "stream",
     "text": [
      "Real estate assets = [50000, 80000]\n",
      "Asset value = 130000\n",
      "Real estate liabilities = [50000, 80000]\n",
      "Liability value = 130000\n",
      "Overall value = 0\n"
     ]
    }
   ],
   "source": [
    "# Create a new customer record\n",
    "customer_record_3 = copy.deepcopy(customer_record)\n",
    "\n",
    "# Let's say this customer has just bought properties.\n",
    "# Set mortgage = property_value at starting point.\n",
    "mortgage_list = customer_record_3[1][0]\n",
    "mortgage_list.append(50000)\n",
    "mortgage_list.append(80000)  \n",
    "\n",
    "# See the real estate record\n",
    "properties, mortgages, overall = real_estate_value(customer_record_3)"
   ]
  },
  {
   "cell_type": "markdown",
   "metadata": {
    "slideshow": {
     "slide_type": "slide"
    }
   },
   "source": [
    "**Step 2:** Run a simulation."
   ]
  },
  {
   "cell_type": "code",
   "execution_count": 16,
   "metadata": {
    "slideshow": {
     "slide_type": "fragment"
    }
   },
   "outputs": [
    {
     "name": "stdout",
     "output_type": "stream",
     "text": [
      "(2143.5888100000006, 1628.8946267774422)\n",
      "(1771.5610000000004, 1628.8946267774422)\n",
      "(1610.5100000000002, 1628.8946267774422)\n"
     ]
    }
   ],
   "source": [
    "import random\n",
    "def simulate(property_value, mortgage):\n",
    "    \"\"\"Simulate property value either increasing by 10% or\n",
    "    staying the same each year, and mortgage increasing\n",
    "    by 4% per year. Do this for 10 years.\"\"\"\n",
    "\n",
    "    for year in range(10):\n",
    "        # random.random() means the random() function\n",
    "        # of the package named random\n",
    "        # This gives a random number between 0 and 1\n",
    "        if random.random() <= 0.5:\n",
    "            growth = 1.1  # 10% increase\n",
    "        else:\n",
    "            growth = 1.0  # no change\n",
    "        property_value *= growth\n",
    "        \n",
    "        mortgage *= 1.05  # always 5% increase\n",
    "        \n",
    "    return property_value, mortgage\n",
    "\n",
    "# Test; different simulations can give different results for property_value\n",
    "print simulate(1000, 1000)\n",
    "print simulate(1000, 1000)\n",
    "print simulate(1000, 1000)"
   ]
  },
  {
   "cell_type": "markdown",
   "metadata": {
    "slideshow": {
     "slide_type": "slide"
    }
   },
   "source": [
    "**Step 3:** Run the simulation 10,000 times, and find the average and median."
   ]
  },
  {
   "cell_type": "code",
   "execution_count": 17,
   "metadata": {
    "slideshow": {
     "slide_type": "fragment"
    }
   },
   "outputs": [
    {
     "name": "stdout",
     "output_type": "stream",
     "text": [
      "\n",
      "Average = 0.106073371628\n",
      "Median = -18.3846267774\n"
     ]
    }
   ],
   "source": [
    "def run_multiple_simulations(property_value, mortgage, num_simulations):\n",
    "    \"\"\"Run num_simulations of the growth of property_values\n",
    "    and mortgages.\"\"\"\n",
    "    \n",
    "    overall_values = []\n",
    "    for i in range(num_simulations):\n",
    "        property_after_10, mortgage_after_10 = simulate(property_value, mortgage)\n",
    "        overall_after_10 = property_after_10 - mortgage_after_10\n",
    "        overall_values.append(overall_after_10)\n",
    "    \n",
    "    # Now print statistics about overall_values\n",
    "    print\n",
    "    print 'Average =', sum(overall_values) * 1.0 / num_simulations\n",
    "    overall_values.sort()\n",
    "    print 'Median =', overall_values[num_simulations / 2]\n",
    "\n",
    "# Test\n",
    "run_multiple_simulations(property_value=1000, mortgage=1000, num_simulations=10000)"
   ]
  },
  {
   "cell_type": "code",
   "execution_count": 18,
   "metadata": {
    "slideshow": {
     "slide_type": "slide"
    }
   },
   "outputs": [
    {
     "name": "stdout",
     "output_type": "stream",
     "text": [
      "Real estate assets = [50000, 80000]\n",
      "Asset value = 130000\n",
      "Real estate liabilities = [50000, 80000]\n",
      "Liability value = 130000\n",
      "Overall value = 0\n",
      "\n",
      "Average = -241.488729704\n",
      "Median = -2390.00148107\n"
     ]
    }
   ],
   "source": [
    "property_value_at_start, mortgage_at_start, overall_at_start = real_estate_value(customer_record_3)\n",
    "run_multiple_simulations(property_value_at_start, mortgage_at_start, 10000)"
   ]
  },
  {
   "cell_type": "markdown",
   "metadata": {
    "collapsed": true,
    "slideshow": {
     "slide_type": "fragment"
    }
   },
   "source": [
    "Note that even though the \"average\" property value increase was 5%, the same as the mortgage increase, we still tend to end up with a loss.\n",
    "\n",
    "Can you guess the reason for this?"
   ]
  }
 ],
 "metadata": {
  "anaconda-cloud": {},
  "celltoolbar": "Slideshow",
  "kernelspec": {
   "display_name": "Python 2",
   "language": "python",
   "name": "python2"
  },
  "language_info": {
   "codemirror_mode": {
    "name": "ipython",
    "version": 2
   },
   "file_extension": ".py",
   "mimetype": "text/x-python",
   "name": "python",
   "nbconvert_exporter": "python",
   "pygments_lexer": "ipython2",
   "version": "2.7.15"
  }
 },
 "nbformat": 4,
 "nbformat_minor": 1
}
