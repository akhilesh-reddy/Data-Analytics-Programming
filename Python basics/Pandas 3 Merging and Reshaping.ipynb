{
 "cells": [
  {
   "cell_type": "markdown",
   "metadata": {
    "slideshow": {
     "slide_type": "slide"
    }
   },
   "source": [
    "# Pandas 3 (Merging and Reshaping)"
   ]
  },
  {
   "cell_type": "markdown",
   "metadata": {
    "slideshow": {
     "slide_type": "slide"
    }
   },
   "source": [
    "Sometimes, the way the data is stored in files or CSVs is not the way you need it for easy data processing. Often, one spends a lot of time \"wrangling\" the data into shape; the processing itself may even be easy in comparison.\n",
    "\n",
    "A big plus point of Pandas is that it offers many tools to make the most common data wrangling operations relatively painless."
   ]
  },
  {
   "cell_type": "markdown",
   "metadata": {
    "slideshow": {
     "slide_type": "fragment"
    }
   },
   "source": [
    "This lecture will look at some such problems:\n",
    "\n",
    "* Merging multiple DataFrames, \n",
    "* Transforming data using ranks and quantiles, and\n",
    "* Reshaping the data via pivot_table(), stack() and unstack()"
   ]
  },
  {
   "cell_type": "markdown",
   "metadata": {
    "slideshow": {
     "slide_type": "slide"
    }
   },
   "source": [
    "## Merging DataFrames"
   ]
  },
  {
   "cell_type": "markdown",
   "metadata": {},
   "source": [
    "Here's the setup: we have a bunch of DataFrames, each of which contains bits of the information we need. Ideally we want to combine them together into one DataFrame that we can easily work with. \n",
    "\n",
    "We will use a dataset of a Question-Answering service where users ask questions about Pandas, which are answered by other users (data [here](https://www.dropbox.com/s/zux0ed09j4fp5fy/tutorial_files.zip))."
   ]
  },
  {
   "cell_type": "code",
   "execution_count": 1,
   "metadata": {
    "slideshow": {
     "slide_type": "slide"
    }
   },
   "outputs": [
    {
     "name": "stdout",
     "output_type": "stream",
     "text": [
      "Populating the interactive namespace from numpy and matplotlib\n"
     ]
    }
   ],
   "source": [
    "from pandas import Series, DataFrame\n",
    "import pandas as pd\n",
    "%pylab inline"
   ]
  },
  {
   "cell_type": "code",
   "execution_count": 2,
   "metadata": {},
   "outputs": [],
   "source": [
    "askers = pd.read_csv('Pandas_3_data/PandasUsers.csv')\n",
    "questions = pd.read_csv('Pandas_3_data/PandasPosts.csv')\n",
    "helpers = pd.read_csv('Pandas_3_data/PandasAnswerers.csv')\n",
    "answers = pd.read_csv('Pandas_3_data/PandasAnswers.csv')"
   ]
  },
  {
   "cell_type": "code",
   "execution_count": 3,
   "metadata": {
    "slideshow": {
     "slide_type": "fragment"
    }
   },
   "outputs": [
    {
     "data": {
      "text/plain": [
       "array(['Id', 'Reputation', 'CreationDate', 'DisplayName',\n",
       "       'LastAccessDate', 'WebsiteUrl', 'Location', 'AboutMe', 'Views',\n",
       "       'UpVotes', 'DownVotes', 'EmailHash', 'Age'], dtype=object)"
      ]
     },
     "execution_count": 3,
     "metadata": {},
     "output_type": "execute_result"
    }
   ],
   "source": [
    "askers.columns.values"
   ]
  },
  {
   "cell_type": "code",
   "execution_count": 4,
   "metadata": {
    "slideshow": {
     "slide_type": "slide"
    }
   },
   "outputs": [
    {
     "data": {
      "text/plain": [
       "array(['Id', 'PostTypeId', 'AcceptedAnswerId', 'CreationDate', 'Score',\n",
       "       'ViewCount', 'Body', 'OwnerUserId', 'OwnerDisplayName',\n",
       "       'LastEditorUserId', 'LastEditDate', 'LastActivityDate', 'Title',\n",
       "       'Tags', 'AnswerCount', 'CommentCount', 'FavoriteCount',\n",
       "       'ClosedDate'], dtype=object)"
      ]
     },
     "execution_count": 4,
     "metadata": {},
     "output_type": "execute_result"
    }
   ],
   "source": [
    "questions.columns.values"
   ]
  },
  {
   "cell_type": "code",
   "execution_count": 5,
   "metadata": {
    "slideshow": {
     "slide_type": "fragment"
    }
   },
   "outputs": [
    {
     "data": {
      "text/plain": [
       "array(['Id', 'Reputation', 'CreationDate', 'DisplayName',\n",
       "       'LastAccessDate', 'WebsiteUrl', 'Location', 'AboutMe', 'Views',\n",
       "       'UpVotes', 'DownVotes', 'EmailHash', 'Age'], dtype=object)"
      ]
     },
     "execution_count": 5,
     "metadata": {},
     "output_type": "execute_result"
    }
   ],
   "source": [
    "helpers.columns.values"
   ]
  },
  {
   "cell_type": "code",
   "execution_count": 6,
   "metadata": {
    "slideshow": {
     "slide_type": "fragment"
    }
   },
   "outputs": [
    {
     "data": {
      "text/plain": [
       "array(['Id', 'PostTypeId', 'ParentId', 'CreationDate', 'Score', 'Body',\n",
       "       'OwnerUserId', 'OwnerDisplayName', 'LastEditorUserId',\n",
       "       'LastEditorDisplayName', 'LastEditDate', 'LastActivityDate',\n",
       "       'CommentCount'], dtype=object)"
      ]
     },
     "execution_count": 6,
     "metadata": {},
     "output_type": "execute_result"
    }
   ],
   "source": [
    "answers.columns.values"
   ]
  },
  {
   "cell_type": "code",
   "execution_count": 7,
   "metadata": {
    "slideshow": {
     "slide_type": "slide"
    }
   },
   "outputs": [
    {
     "data": {
      "text/plain": [
       "Id                                         1843099\n",
       "Reputation                                     100\n",
       "CreationDate                   2012-11-21 19:25:04\n",
       "DisplayName                            user1843099\n",
       "LastAccessDate                 2013-02-03 03:46:50\n",
       "WebsiteUrl                                     NaN\n",
       "Location                                       NaN\n",
       "AboutMe                                        NaN\n",
       "Views                                            0\n",
       "UpVotes                                         16\n",
       "DownVotes                                        0\n",
       "EmailHash         17a9c54b937f8b505dcb3b0b5b34cbb6\n",
       "Age                                            NaN\n",
       "Name: 0, dtype: object"
      ]
     },
     "execution_count": 7,
     "metadata": {},
     "output_type": "execute_result"
    }
   ],
   "source": [
    "askers.iloc[0]"
   ]
  },
  {
   "cell_type": "code",
   "execution_count": 8,
   "metadata": {
    "slideshow": {
     "slide_type": "slide"
    }
   },
   "outputs": [
    {
     "data": {
      "text/plain": [
       "Id                                                           13446791\n",
       "PostTypeId                                                          1\n",
       "AcceptedAnswerId                                                  NaN\n",
       "CreationDate                                      2012-11-19 02:12:10\n",
       "Score                                                               1\n",
       "ViewCount                                                          74\n",
       "Body                I have a pandas dataframe with 2 columns (snip...\n",
       "OwnerUserId                                                   1438637\n",
       "OwnerDisplayName                                                  NaN\n",
       "LastEditorUserId                                          1.43864e+06\n",
       "LastEditDate                                      2012-11-19 21:41:54\n",
       "LastActivityDate                                  2012-11-19 21:41:54\n",
       "Title               Group Pandas dataframe based on highest occurr...\n",
       "Tags                                                 <python><pandas>\n",
       "AnswerCount                                                         1\n",
       "CommentCount                                                        2\n",
       "FavoriteCount                                                     NaN\n",
       "ClosedDate                                                        NaN\n",
       "Name: 0, dtype: object"
      ]
     },
     "execution_count": 8,
     "metadata": {},
     "output_type": "execute_result"
    }
   ],
   "source": [
    "questions.iloc[0]"
   ]
  },
  {
   "cell_type": "markdown",
   "metadata": {
    "slideshow": {
     "slide_type": "slide"
    }
   },
   "source": [
    "_Example:_ What questions did the first asker ask?"
   ]
  },
  {
   "cell_type": "markdown",
   "metadata": {
    "slideshow": {
     "slide_type": "fragment"
    }
   },
   "source": [
    "This is an example of combining data across multiple DataFrames. We must\n",
    "\n",
    "* pick the asker ID from the askers DataFrame, and\n",
    "* query for it in the questions DataFrame."
   ]
  },
  {
   "cell_type": "code",
   "execution_count": 9,
   "metadata": {
    "slideshow": {
     "slide_type": "slide"
    }
   },
   "outputs": [
    {
     "data": {
      "text/plain": [
       "1843099"
      ]
     },
     "execution_count": 9,
     "metadata": {},
     "output_type": "execute_result"
    }
   ],
   "source": [
    "asker_id = askers.iloc[0]['Id']\n",
    "asker_id"
   ]
  },
  {
   "cell_type": "code",
   "execution_count": 10,
   "metadata": {
    "slideshow": {
     "slide_type": "fragment"
    }
   },
   "outputs": [
    {
     "data": {
      "text/html": [
       "<div>\n",
       "<style scoped>\n",
       "    .dataframe tbody tr th:only-of-type {\n",
       "        vertical-align: middle;\n",
       "    }\n",
       "\n",
       "    .dataframe tbody tr th {\n",
       "        vertical-align: top;\n",
       "    }\n",
       "\n",
       "    .dataframe thead th {\n",
       "        text-align: right;\n",
       "    }\n",
       "</style>\n",
       "<table border=\"1\" class=\"dataframe\">\n",
       "  <thead>\n",
       "    <tr style=\"text-align: right;\">\n",
       "      <th></th>\n",
       "      <th>CreationDate</th>\n",
       "      <th>Body</th>\n",
       "    </tr>\n",
       "  </thead>\n",
       "  <tbody>\n",
       "    <tr>\n",
       "      <th>65</th>\n",
       "      <td>2012-12-03 15:51:59</td>\n",
       "      <td>I have the following data:\\n\\nStart Time=2012-...</td>\n",
       "    </tr>\n",
       "    <tr>\n",
       "      <th>70</th>\n",
       "      <td>2012-12-06 04:29:37</td>\n",
       "      <td>I try to read-in a file by pandas like this:\\n...</td>\n",
       "    </tr>\n",
       "    <tr>\n",
       "      <th>79</th>\n",
       "      <td>2012-12-12 04:44:03</td>\n",
       "      <td>I read-in a file and plot it with pandas DataF...</td>\n",
       "    </tr>\n",
       "    <tr>\n",
       "      <th>96</th>\n",
       "      <td>2012-12-14 20:47:09</td>\n",
       "      <td>after plotting a figure I get a figure legend ...</td>\n",
       "    </tr>\n",
       "    <tr>\n",
       "      <th>106</th>\n",
       "      <td>2012-12-14 04:13:35</td>\n",
       "      <td>I have a temperature file with many years temp...</td>\n",
       "    </tr>\n",
       "    <tr>\n",
       "      <th>294</th>\n",
       "      <td>2013-01-24 23:51:14</td>\n",
       "      <td>I have a data file that includes several years...</td>\n",
       "    </tr>\n",
       "    <tr>\n",
       "      <th>332</th>\n",
       "      <td>2013-01-28 20:14:49</td>\n",
       "      <td>I have a DataFrame 'tso':\\n\\ntso=DataFrame(tem...</td>\n",
       "    </tr>\n",
       "  </tbody>\n",
       "</table>\n",
       "</div>"
      ],
      "text/plain": [
       "            CreationDate                                               Body\n",
       "65   2012-12-03 15:51:59  I have the following data:\\n\\nStart Time=2012-...\n",
       "70   2012-12-06 04:29:37  I try to read-in a file by pandas like this:\\n...\n",
       "79   2012-12-12 04:44:03  I read-in a file and plot it with pandas DataF...\n",
       "96   2012-12-14 20:47:09  after plotting a figure I get a figure legend ...\n",
       "106  2012-12-14 04:13:35  I have a temperature file with many years temp...\n",
       "294  2013-01-24 23:51:14  I have a data file that includes several years...\n",
       "332  2013-01-28 20:14:49  I have a DataFrame 'tso':\\n\\ntso=DataFrame(tem..."
      ]
     },
     "execution_count": 10,
     "metadata": {},
     "output_type": "execute_result"
    }
   ],
   "source": [
    "questions_by_this_person = questions[questions['OwnerUserId'] == asker_id]\n",
    "questions_by_this_person[['CreationDate', 'Body']]"
   ]
  },
  {
   "cell_type": "markdown",
   "metadata": {
    "slideshow": {
     "slide_type": "slide"
    }
   },
   "source": [
    "### How many questions are asked on average by people with reputation >= 1000?"
   ]
  },
  {
   "cell_type": "markdown",
   "metadata": {
    "slideshow": {
     "slide_type": "fragment"
    }
   },
   "source": [
    "We have a similar problem:\n",
    "\n",
    "* The 'reputation' exists in the askers DataFrame, while\n",
    "* the number of questions can only be found in the questions DataFrame.\n"
   ]
  },
  {
   "cell_type": "code",
   "execution_count": 11,
   "metadata": {
    "slideshow": {
     "slide_type": "slide"
    }
   },
   "outputs": [
    {
     "data": {
      "text/html": [
       "<div>\n",
       "<style scoped>\n",
       "    .dataframe tbody tr th:only-of-type {\n",
       "        vertical-align: middle;\n",
       "    }\n",
       "\n",
       "    .dataframe tbody tr th {\n",
       "        vertical-align: top;\n",
       "    }\n",
       "\n",
       "    .dataframe thead th {\n",
       "        text-align: right;\n",
       "    }\n",
       "</style>\n",
       "<table border=\"1\" class=\"dataframe\">\n",
       "  <thead>\n",
       "    <tr style=\"text-align: right;\">\n",
       "      <th></th>\n",
       "      <th>Id</th>\n",
       "      <th>PostTypeId</th>\n",
       "      <th>AcceptedAnswerId</th>\n",
       "      <th>CreationDate</th>\n",
       "      <th>Score</th>\n",
       "      <th>ViewCount</th>\n",
       "      <th>Body</th>\n",
       "      <th>OwnerUserId</th>\n",
       "      <th>OwnerDisplayName</th>\n",
       "      <th>LastEditorUserId</th>\n",
       "      <th>LastEditDate</th>\n",
       "      <th>LastActivityDate</th>\n",
       "      <th>Title</th>\n",
       "      <th>Tags</th>\n",
       "      <th>AnswerCount</th>\n",
       "      <th>CommentCount</th>\n",
       "      <th>FavoriteCount</th>\n",
       "      <th>ClosedDate</th>\n",
       "    </tr>\n",
       "  </thead>\n",
       "  <tbody>\n",
       "    <tr>\n",
       "      <th>30</th>\n",
       "      <td>13457335</td>\n",
       "      <td>1</td>\n",
       "      <td>NaN</td>\n",
       "      <td>2012-11-19 15:50:40</td>\n",
       "      <td>0</td>\n",
       "      <td>58</td>\n",
       "      <td>After seeing this question about replicating S...</td>\n",
       "      <td>567620</td>\n",
       "      <td>NaN</td>\n",
       "      <td>NaN</td>\n",
       "      <td>NaN</td>\n",
       "      <td>2012-11-19 16:01:45</td>\n",
       "      <td>Python Pandas: What causes slowdown in differe...</td>\n",
       "      <td>&lt;python&gt;&lt;benchmarking&gt;&lt;pandas&gt;&lt;apply&gt;</td>\n",
       "      <td>1.0</td>\n",
       "      <td>NaN</td>\n",
       "      <td>NaN</td>\n",
       "      <td>NaN</td>\n",
       "    </tr>\n",
       "    <tr>\n",
       "      <th>42</th>\n",
       "      <td>13675749</td>\n",
       "      <td>1</td>\n",
       "      <td>13708892.0</td>\n",
       "      <td>2012-12-03 00:58:53</td>\n",
       "      <td>2</td>\n",
       "      <td>147</td>\n",
       "      <td>I have inhomogeneous ~secondly data with a tim...</td>\n",
       "      <td>128508</td>\n",
       "      <td>NaN</td>\n",
       "      <td>1452002.0</td>\n",
       "      <td>2012-12-04 11:06:21</td>\n",
       "      <td>2012-12-04 17:50:04</td>\n",
       "      <td>Resample Searies/DataFrame with frequency anch...</td>\n",
       "      <td>&lt;pandas&gt;</td>\n",
       "      <td>1.0</td>\n",
       "      <td>2.0</td>\n",
       "      <td>NaN</td>\n",
       "      <td>NaN</td>\n",
       "    </tr>\n",
       "    <tr>\n",
       "      <th>51</th>\n",
       "      <td>13740672</td>\n",
       "      <td>1</td>\n",
       "      <td>13741439.0</td>\n",
       "      <td>2012-12-06 09:36:35</td>\n",
       "      <td>0</td>\n",
       "      <td>64</td>\n",
       "      <td>I'd like to filter out weekend data and only l...</td>\n",
       "      <td>24718</td>\n",
       "      <td>NaN</td>\n",
       "      <td>NaN</td>\n",
       "      <td>NaN</td>\n",
       "      <td>2012-12-06 10:19:32</td>\n",
       "      <td>in pandas how can I groupby weekday() for a da...</td>\n",
       "      <td>&lt;python&gt;&lt;pandas&gt;</td>\n",
       "      <td>1.0</td>\n",
       "      <td>1.0</td>\n",
       "      <td>1.0</td>\n",
       "      <td>NaN</td>\n",
       "    </tr>\n",
       "  </tbody>\n",
       "</table>\n",
       "</div>"
      ],
      "text/plain": [
       "          Id  PostTypeId  AcceptedAnswerId         CreationDate  Score  \\\n",
       "30  13457335           1               NaN  2012-11-19 15:50:40      0   \n",
       "42  13675749           1        13708892.0  2012-12-03 00:58:53      2   \n",
       "51  13740672           1        13741439.0  2012-12-06 09:36:35      0   \n",
       "\n",
       "    ViewCount                                               Body  OwnerUserId  \\\n",
       "30         58  After seeing this question about replicating S...       567620   \n",
       "42        147  I have inhomogeneous ~secondly data with a tim...       128508   \n",
       "51         64  I'd like to filter out weekend data and only l...        24718   \n",
       "\n",
       "   OwnerDisplayName  LastEditorUserId         LastEditDate  \\\n",
       "30              NaN               NaN                  NaN   \n",
       "42              NaN         1452002.0  2012-12-04 11:06:21   \n",
       "51              NaN               NaN                  NaN   \n",
       "\n",
       "       LastActivityDate                                              Title  \\\n",
       "30  2012-11-19 16:01:45  Python Pandas: What causes slowdown in differe...   \n",
       "42  2012-12-04 17:50:04  Resample Searies/DataFrame with frequency anch...   \n",
       "51  2012-12-06 10:19:32  in pandas how can I groupby weekday() for a da...   \n",
       "\n",
       "                                     Tags  AnswerCount  CommentCount  \\\n",
       "30  <python><benchmarking><pandas><apply>          1.0           NaN   \n",
       "42                               <pandas>          1.0           2.0   \n",
       "51                       <python><pandas>          1.0           1.0   \n",
       "\n",
       "    FavoriteCount ClosedDate  \n",
       "30            NaN        NaN  \n",
       "42            NaN        NaN  \n",
       "51            1.0        NaN  "
      ]
     },
     "execution_count": 11,
     "metadata": {},
     "output_type": "execute_result"
    }
   ],
   "source": [
    "def is_reputed_asker(x):\n",
    "    \"\"\"Find all reputed asker IDs, and then check if x is among those IDs\"\"\"\n",
    "    reputed_askers = askers[askers['Reputation'] >= 1000]\n",
    "    ids_of_all_reputed_askers = reputed_askers['Id'].values\n",
    "    return (x in ids_of_all_reputed_askers)\n",
    "\n",
    "mask_questions_by_reputed_askers = questions['OwnerUserId'].map(is_reputed_asker)\n",
    "questions[mask_questions_by_reputed_askers][:3]"
   ]
  },
  {
   "cell_type": "markdown",
   "metadata": {
    "slideshow": {
     "slide_type": "slide"
    }
   },
   "source": [
    "* Super messy.\n",
    "* Hard to see the question and the asker's reputation all in one table\n",
    "\n",
    "We need to **merge** the two DataFrames."
   ]
  },
  {
   "cell_type": "code",
   "execution_count": 12,
   "metadata": {
    "slideshow": {
     "slide_type": "slide"
    }
   },
   "outputs": [],
   "source": [
    "questions_askers = questions.merge(askers,\n",
    "                                   left_on='OwnerUserId',\n",
    "                                   right_on='Id',\n",
    "                                   suffixes=['_question', '_asker'])"
   ]
  },
  {
   "cell_type": "markdown",
   "metadata": {
    "slideshow": {
     "slide_type": "fragment"
    }
   },
   "source": [
    "Let's analyze the previous statement closely. There are several arguments to the DataFrame.merge() function:\n",
    "\n",
    "#### Which DataFrames?"
   ]
  },
  {
   "cell_type": "markdown",
   "metadata": {
    "slideshow": {
     "slide_type": "fragment"
    }
   },
   "source": [
    "We must first specify the DataFrames to be merged. The \"left\" DataFrame is questions, and the \"right\" DataFrame is askers."
   ]
  },
  {
   "cell_type": "markdown",
   "metadata": {
    "slideshow": {
     "slide_type": "slide"
    }
   },
   "source": [
    "    questions_askers = questions.merge(askers,\n",
    "                                       left_on='OwnerUserId',\n",
    "                                       right_on='Id',\n",
    "                                       suffixes=['_question', '_asker'])"
   ]
  },
  {
   "cell_type": "markdown",
   "metadata": {
    "slideshow": {
     "slide_type": "fragment"
    }
   },
   "source": [
    "#### How to merge?"
   ]
  },
  {
   "cell_type": "markdown",
   "metadata": {
    "slideshow": {
     "slide_type": "fragment"
    }
   },
   "source": [
    "In this case, we want the question owner (i.e., the person who asked the question) to be the same as the user in the askers DataFrame:\n",
    "\n",
    "    > question['OwnerUserId'] = askers['Id'].\n",
    "\n",
    "That is, we want\n",
    "\n",
    "* the 'OwnerUserId' field from the \"left\" DataFrame to match (left_on)\n",
    "* the 'Id' column of the \"right\" DataFrame (right_on)."
   ]
  },
  {
   "cell_type": "markdown",
   "metadata": {
    "slideshow": {
     "slide_type": "slide"
    }
   },
   "source": [
    "    questions_askers = questions.merge(askers,\n",
    "                                       left_on='OwnerUserId',\n",
    "                                       right_on='Id',\n",
    "                                       suffixes=['_question', '_asker'])"
   ]
  },
  {
   "cell_type": "markdown",
   "metadata": {
    "slideshow": {
     "slide_type": "fragment"
    }
   },
   "source": [
    "#### What about columns with the same names?"
   ]
  },
  {
   "cell_type": "markdown",
   "metadata": {
    "slideshow": {
     "slide_type": "fragment"
    }
   },
   "source": [
    "The questions DataFrame has an 'Id' column, as does the askers DataFrame. Which field do we keep in the merged DataFrame? \n",
    "\n",
    "The suffixes argument says that in the merged DataFrame:\n",
    "\n",
    "* the 'Id' from questions will be called 'Id_question'\n",
    "* the 'Id' from askers will be called 'Id_asker'"
   ]
  },
  {
   "cell_type": "code",
   "execution_count": 13,
   "metadata": {
    "slideshow": {
     "slide_type": "fragment"
    }
   },
   "outputs": [
    {
     "data": {
      "text/plain": [
       "array(['Id_question', 'PostTypeId', 'AcceptedAnswerId',\n",
       "       'CreationDate_question', 'Score', 'ViewCount', 'Body',\n",
       "       'OwnerUserId', 'OwnerDisplayName', 'LastEditorUserId',\n",
       "       'LastEditDate', 'LastActivityDate', 'Title', 'Tags', 'AnswerCount',\n",
       "       'CommentCount', 'FavoriteCount', 'ClosedDate', 'Id_asker',\n",
       "       'Reputation', 'CreationDate_asker', 'DisplayName',\n",
       "       'LastAccessDate', 'WebsiteUrl', 'Location', 'AboutMe', 'Views',\n",
       "       'UpVotes', 'DownVotes', 'EmailHash', 'Age'], dtype=object)"
      ]
     },
     "execution_count": 13,
     "metadata": {},
     "output_type": "execute_result"
    }
   ],
   "source": [
    "questions_askers.columns.values"
   ]
  },
  {
   "cell_type": "markdown",
   "metadata": {
    "slideshow": {
     "slide_type": "slide"
    }
   },
   "source": [
    "What does the table look like?"
   ]
  },
  {
   "cell_type": "code",
   "execution_count": 14,
   "metadata": {},
   "outputs": [
    {
     "data": {
      "text/html": [
       "<div>\n",
       "<style scoped>\n",
       "    .dataframe tbody tr th:only-of-type {\n",
       "        vertical-align: middle;\n",
       "    }\n",
       "\n",
       "    .dataframe tbody tr th {\n",
       "        vertical-align: top;\n",
       "    }\n",
       "\n",
       "    .dataframe thead th {\n",
       "        text-align: right;\n",
       "    }\n",
       "</style>\n",
       "<table border=\"1\" class=\"dataframe\">\n",
       "  <thead>\n",
       "    <tr style=\"text-align: right;\">\n",
       "      <th></th>\n",
       "      <th>Id_asker</th>\n",
       "      <th>OwnerUserId</th>\n",
       "      <th>Body</th>\n",
       "    </tr>\n",
       "  </thead>\n",
       "  <tbody>\n",
       "    <tr>\n",
       "      <th>182</th>\n",
       "      <td>1843099</td>\n",
       "      <td>1843099</td>\n",
       "      <td>I have the following data:\\n\\nStart Time=2012-...</td>\n",
       "    </tr>\n",
       "    <tr>\n",
       "      <th>183</th>\n",
       "      <td>1843099</td>\n",
       "      <td>1843099</td>\n",
       "      <td>I try to read-in a file by pandas like this:\\n...</td>\n",
       "    </tr>\n",
       "    <tr>\n",
       "      <th>184</th>\n",
       "      <td>1843099</td>\n",
       "      <td>1843099</td>\n",
       "      <td>I read-in a file and plot it with pandas DataF...</td>\n",
       "    </tr>\n",
       "    <tr>\n",
       "      <th>185</th>\n",
       "      <td>1843099</td>\n",
       "      <td>1843099</td>\n",
       "      <td>after plotting a figure I get a figure legend ...</td>\n",
       "    </tr>\n",
       "    <tr>\n",
       "      <th>186</th>\n",
       "      <td>1843099</td>\n",
       "      <td>1843099</td>\n",
       "      <td>I have a temperature file with many years temp...</td>\n",
       "    </tr>\n",
       "    <tr>\n",
       "      <th>187</th>\n",
       "      <td>1843099</td>\n",
       "      <td>1843099</td>\n",
       "      <td>I have a data file that includes several years...</td>\n",
       "    </tr>\n",
       "    <tr>\n",
       "      <th>188</th>\n",
       "      <td>1843099</td>\n",
       "      <td>1843099</td>\n",
       "      <td>I have a DataFrame 'tso':\\n\\ntso=DataFrame(tem...</td>\n",
       "    </tr>\n",
       "  </tbody>\n",
       "</table>\n",
       "</div>"
      ],
      "text/plain": [
       "     Id_asker  OwnerUserId                                               Body\n",
       "182   1843099      1843099  I have the following data:\\n\\nStart Time=2012-...\n",
       "183   1843099      1843099  I try to read-in a file by pandas like this:\\n...\n",
       "184   1843099      1843099  I read-in a file and plot it with pandas DataF...\n",
       "185   1843099      1843099  after plotting a figure I get a figure legend ...\n",
       "186   1843099      1843099  I have a temperature file with many years temp...\n",
       "187   1843099      1843099  I have a data file that includes several years...\n",
       "188   1843099      1843099  I have a DataFrame 'tso':\\n\\ntso=DataFrame(tem..."
      ]
     },
     "execution_count": 14,
     "metadata": {},
     "output_type": "execute_result"
    }
   ],
   "source": [
    "mask_one_asker = (questions_askers['Id_asker'] == askers.iloc[0]['Id'])\n",
    "questions_askers[mask_one_asker][['Id_asker', 'OwnerUserId', 'Body']]"
   ]
  },
  {
   "cell_type": "markdown",
   "metadata": {},
   "source": [
    "* Id\\_asker is the same as OwnerUserId; that is because we _merged_ on these two fields\n",
    "* There was one Id\\_asker but 7 questions corresponding to him\n",
    "    * In the merged table, there are 7 rows."
   ]
  },
  {
   "cell_type": "markdown",
   "metadata": {
    "slideshow": {
     "slide_type": "slide"
    }
   },
   "source": [
    "#### Example 1: Merge **askers** and **questions** based on ID_asker and QuestionOwnerID.\n",
    "\n",
    "**askers Table**\n",
    "\n",
    "ID_asker | Asker_city | Asker_name\n",
    "--------:|:----------:|:-----------:|\n",
    "1 | NYC | John\n",
    "2 | SFO | John\n",
    "\n",
    "**questions Table**\n",
    "\n",
    "QuestionOwnerID | QuestionOwnerName | Question_data \n",
    "--------:|:----------:|:-------------:|\n",
    "1 | John | Pandas problem \n",
    "1 | John | R question \n",
    "2 | John | love-life troubles "
   ]
  },
  {
   "cell_type": "markdown",
   "metadata": {
    "slideshow": {
     "slide_type": "slide"
    }
   },
   "source": [
    "#### Answer: Merged Table has 3 rows\n",
    "\n",
    "ID_asker | QuestionOwnerID | Asker_city | Asker_name | QuestionOwnerName | Question_data \n",
    "--------:|:---------------:|:----------:|:----------:|:--------------:|:--------------:|\n",
    "1 | 1 | NYC | John | John | Pandas problem \n",
    "1 | 1 | NYC | John | John | R question \n",
    "2 | 2 | SFO | John | John | love-life troubles "
   ]
  },
  {
   "cell_type": "markdown",
   "metadata": {
    "slideshow": {
     "slide_type": "slide"
    }
   },
   "source": [
    "#### Example 2: Merge based on Asker_name and QuestionOwnerName.\n",
    "\n",
    "**askers Table**\n",
    "\n",
    "ID_asker | Asker_city | Asker_name\n",
    "--------:|:----------:|:-----------:|\n",
    "1 | NYC | John\n",
    "2 | SFO | John\n",
    "\n",
    "**questions Table**\n",
    "\n",
    "QuestionOwnerID | QuestionOwnerName | Question_data \n",
    "--------:|:----------:|:-------------:|\n",
    "1 | John | Pandas problem \n",
    "1 | John | R question \n",
    "2 | John | love-life troubles "
   ]
  },
  {
   "cell_type": "markdown",
   "metadata": {
    "slideshow": {
     "slide_type": "slide"
    }
   },
   "source": [
    "#### Answer: Merged Table has 6 rows\n",
    "\n",
    "ID_asker | QuestionOwnerID | Asker_city | Asker_name | QuestionOwnerName | Question_data \n",
    "--------:|:---------------:|:----------:|:----------:|:--------------:|:--------------:|\n",
    "1 | 1 | NYC | John | John | Pandas problem \n",
    "1 | 1 | NYC | John | John | R question \n",
    "1 | 2 | NYC | John | John | love-life trouble\n",
    "2 | 1 | SFO | John | John | Pandas problem \n",
    "2 | 1 | SFO | John | John | R question \n",
    "2 | 2 | SFO | John | John | love-life trouble"
   ]
  },
  {
   "cell_type": "markdown",
   "metadata": {
    "slideshow": {
     "slide_type": "slide"
    }
   },
   "source": [
    "#### How many questions are asked by people with reputation >= 1000?\n",
    "\n",
    "How do we answer this?"
   ]
  },
  {
   "cell_type": "markdown",
   "metadata": {
    "slideshow": {
     "slide_type": "fragment"
    }
   },
   "source": [
    "* Mask by question asker's reputation\n",
    "* Each row remaining corresponds to one question asked by a reputed asker\n",
    "    * Count the number of such rows"
   ]
  },
  {
   "cell_type": "code",
   "execution_count": 15,
   "metadata": {
    "slideshow": {
     "slide_type": "fragment"
    }
   },
   "outputs": [
    {
     "name": "stdout",
     "output_type": "stream",
     "text": [
      "Number of questions by reputed askers = 119\n"
     ]
    }
   ],
   "source": [
    "# How many questions are asked by reputed askers?\n",
    "mask = (questions_askers['Reputation'] >= 1000)\n",
    "num_questions_reputed_askers = len(questions_askers[mask])\n",
    "print 'Number of questions by reputed askers =', num_questions_reputed_askers"
   ]
  },
  {
   "cell_type": "markdown",
   "metadata": {
    "slideshow": {
     "slide_type": "slide"
    }
   },
   "source": [
    "#### How many askers have reputation >= 1000?\n",
    "\n",
    "How do we answer this?"
   ]
  },
  {
   "cell_type": "markdown",
   "metadata": {
    "slideshow": {
     "slide_type": "fragment"
    }
   },
   "source": [
    "* By a mask, but on which table?\n",
    "    * The questions_askers merged table?\n",
    "    * The askers table?"
   ]
  },
  {
   "cell_type": "code",
   "execution_count": 16,
   "metadata": {
    "slideshow": {
     "slide_type": "fragment"
    }
   },
   "outputs": [
    {
     "name": "stdout",
     "output_type": "stream",
     "text": [
      "Number of reputed askers = 59\n"
     ]
    }
   ],
   "source": [
    "# How many reputed askers are there overall?\n",
    "mask = (askers['Reputation'] >= 1000)\n",
    "num_reputed_askers = len(askers[mask])\n",
    "print 'Number of reputed askers =', num_reputed_askers"
   ]
  },
  {
   "cell_type": "markdown",
   "metadata": {
    "slideshow": {
     "slide_type": "slide"
    }
   },
   "source": [
    "Now we can answer our original question.\n",
    "\n",
    "#### How many questions are asked on average by people with reputation >= 1000?"
   ]
  },
  {
   "cell_type": "code",
   "execution_count": 17,
   "metadata": {
    "slideshow": {
     "slide_type": "fragment"
    }
   },
   "outputs": [
    {
     "name": "stdout",
     "output_type": "stream",
     "text": [
      "Average questions per reputed asker = 2.01694915254\n"
     ]
    }
   ],
   "source": [
    "print 'Average questions per reputed asker =', float(num_questions_reputed_askers) / num_reputed_askers"
   ]
  },
  {
   "cell_type": "markdown",
   "metadata": {
    "slideshow": {
     "slide_type": "fragment"
    }
   },
   "source": [
    "We answered the question, but is 2.017 questions per asker high or low?"
   ]
  },
  {
   "cell_type": "markdown",
   "metadata": {
    "slideshow": {
     "slide_type": "fragment"
    }
   },
   "source": [
    "#### How many questions are asked on average by askers?"
   ]
  },
  {
   "cell_type": "code",
   "execution_count": 18,
   "metadata": {
    "slideshow": {
     "slide_type": "fragment"
    }
   },
   "outputs": [
    {
     "data": {
      "text/plain": [
       "1.9428571428571428"
      ]
     },
     "execution_count": 18,
     "metadata": {},
     "output_type": "execute_result"
    }
   ],
   "source": [
    "float(len(questions_askers)) / len(askers)"
   ]
  },
  {
   "cell_type": "markdown",
   "metadata": {
    "slideshow": {
     "slide_type": "fragment"
    }
   },
   "source": [
    "* Doesn't seem to be that much of a difference\n",
    "* But then, we picked a reputation threshold of 1000 randomly\n",
    "    * Later on, we'll ask: What is the right way?"
   ]
  },
  {
   "cell_type": "markdown",
   "metadata": {
    "slideshow": {
     "slide_type": "slide"
    }
   },
   "source": [
    "## Reshaping the data\n",
    "\n",
    "* Often the data we get will be in _long_ form, where each row represents one item\n",
    "    * In the New York complaints dataset seen earlier, each row was one individual complaint.\n",
    "* However, for analysis, the data is best represented in other ways.\n",
    "\n",
    "Pandas makes this _reshaping_ easy.\n",
    "\n",
    "Let us revisit the NY complaints dataset. I have a created a small CSV that contains only noise-related complaints."
   ]
  },
  {
   "cell_type": "code",
   "execution_count": 19,
   "metadata": {
    "slideshow": {
     "slide_type": "slide"
    }
   },
   "outputs": [
    {
     "data": {
      "text/plain": [
       "array(['Complaint Type', 'Borough', 'Status', 'Agency', 'count'],\n",
       "      dtype=object)"
      ]
     },
     "execution_count": 19,
     "metadata": {},
     "output_type": "execute_result"
    }
   ],
   "source": [
    "complaints = pd.read_csv('Pandas_3_data/311-requests-pivot.csv')\n",
    "complaints.columns.values"
   ]
  },
  {
   "cell_type": "code",
   "execution_count": 20,
   "metadata": {},
   "outputs": [
    {
     "data": {
      "text/html": [
       "<div>\n",
       "<style scoped>\n",
       "    .dataframe tbody tr th:only-of-type {\n",
       "        vertical-align: middle;\n",
       "    }\n",
       "\n",
       "    .dataframe tbody tr th {\n",
       "        vertical-align: top;\n",
       "    }\n",
       "\n",
       "    .dataframe thead th {\n",
       "        text-align: right;\n",
       "    }\n",
       "</style>\n",
       "<table border=\"1\" class=\"dataframe\">\n",
       "  <thead>\n",
       "    <tr style=\"text-align: right;\">\n",
       "      <th></th>\n",
       "      <th>Complaint Type</th>\n",
       "      <th>Borough</th>\n",
       "      <th>Status</th>\n",
       "      <th>Agency</th>\n",
       "      <th>count</th>\n",
       "    </tr>\n",
       "  </thead>\n",
       "  <tbody>\n",
       "    <tr>\n",
       "      <th>0</th>\n",
       "      <td>Collection Truck Noise</td>\n",
       "      <td>BROOKLYN</td>\n",
       "      <td>Closed</td>\n",
       "      <td>DSNY</td>\n",
       "      <td>6</td>\n",
       "    </tr>\n",
       "    <tr>\n",
       "      <th>1</th>\n",
       "      <td>Collection Truck Noise</td>\n",
       "      <td>MANHATTAN</td>\n",
       "      <td>Closed</td>\n",
       "      <td>DSNY</td>\n",
       "      <td>5</td>\n",
       "    </tr>\n",
       "    <tr>\n",
       "      <th>2</th>\n",
       "      <td>Collection Truck Noise</td>\n",
       "      <td>QUEENS</td>\n",
       "      <td>Closed</td>\n",
       "      <td>DSNY</td>\n",
       "      <td>4</td>\n",
       "    </tr>\n",
       "    <tr>\n",
       "      <th>3</th>\n",
       "      <td>Collection Truck Noise</td>\n",
       "      <td>STATEN ISLAND</td>\n",
       "      <td>Closed</td>\n",
       "      <td>DSNY</td>\n",
       "      <td>1</td>\n",
       "    </tr>\n",
       "    <tr>\n",
       "      <th>4</th>\n",
       "      <td>Noise</td>\n",
       "      <td>BRONX</td>\n",
       "      <td>Closed</td>\n",
       "      <td>DEP</td>\n",
       "      <td>40</td>\n",
       "    </tr>\n",
       "    <tr>\n",
       "      <th>5</th>\n",
       "      <td>Noise</td>\n",
       "      <td>BRONX</td>\n",
       "      <td>Open</td>\n",
       "      <td>DEP</td>\n",
       "      <td>75</td>\n",
       "    </tr>\n",
       "    <tr>\n",
       "      <th>6</th>\n",
       "      <td>Noise</td>\n",
       "      <td>BROOKLYN</td>\n",
       "      <td>Closed</td>\n",
       "      <td>DEP</td>\n",
       "      <td>85</td>\n",
       "    </tr>\n",
       "    <tr>\n",
       "      <th>7</th>\n",
       "      <td>Noise</td>\n",
       "      <td>BROOKLYN</td>\n",
       "      <td>Open</td>\n",
       "      <td>DEP</td>\n",
       "      <td>442</td>\n",
       "    </tr>\n",
       "    <tr>\n",
       "      <th>8</th>\n",
       "      <td>Noise</td>\n",
       "      <td>BROOKLYN</td>\n",
       "      <td>Started</td>\n",
       "      <td>DEP</td>\n",
       "      <td>9</td>\n",
       "    </tr>\n",
       "    <tr>\n",
       "      <th>9</th>\n",
       "      <td>Noise</td>\n",
       "      <td>MANHATTAN</td>\n",
       "      <td>Closed</td>\n",
       "      <td>DEP</td>\n",
       "      <td>131</td>\n",
       "    </tr>\n",
       "  </tbody>\n",
       "</table>\n",
       "</div>"
      ],
      "text/plain": [
       "           Complaint Type        Borough   Status Agency  count\n",
       "0  Collection Truck Noise       BROOKLYN   Closed   DSNY      6\n",
       "1  Collection Truck Noise      MANHATTAN   Closed   DSNY      5\n",
       "2  Collection Truck Noise         QUEENS   Closed   DSNY      4\n",
       "3  Collection Truck Noise  STATEN ISLAND   Closed   DSNY      1\n",
       "4                   Noise          BRONX   Closed    DEP     40\n",
       "5                   Noise          BRONX     Open    DEP     75\n",
       "6                   Noise       BROOKLYN   Closed    DEP     85\n",
       "7                   Noise       BROOKLYN     Open    DEP    442\n",
       "8                   Noise       BROOKLYN  Started    DEP      9\n",
       "9                   Noise      MANHATTAN   Closed    DEP    131"
      ]
     },
     "execution_count": 20,
     "metadata": {},
     "output_type": "execute_result"
    }
   ],
   "source": [
    "complaints[:10]"
   ]
  },
  {
   "cell_type": "markdown",
   "metadata": {},
   "source": [
    "This is typically how a database will store the data."
   ]
  },
  {
   "cell_type": "markdown",
   "metadata": {
    "slideshow": {
     "slide_type": "slide"
    }
   },
   "source": [
    "### How many complaints of each type occur in each Borough?\n",
    "\n",
    "In Excel, we have pivot tables to do this. Pandas gives us the same power."
   ]
  },
  {
   "cell_type": "code",
   "execution_count": 21,
   "metadata": {
    "slideshow": {
     "slide_type": "fragment"
    }
   },
   "outputs": [
    {
     "data": {
      "text/html": [
       "<div>\n",
       "<style scoped>\n",
       "    .dataframe tbody tr th:only-of-type {\n",
       "        vertical-align: middle;\n",
       "    }\n",
       "\n",
       "    .dataframe tbody tr th {\n",
       "        vertical-align: top;\n",
       "    }\n",
       "\n",
       "    .dataframe thead th {\n",
       "        text-align: right;\n",
       "    }\n",
       "</style>\n",
       "<table border=\"1\" class=\"dataframe\">\n",
       "  <thead>\n",
       "    <tr style=\"text-align: right;\">\n",
       "      <th>Borough</th>\n",
       "      <th>BRONX</th>\n",
       "      <th>BROOKLYN</th>\n",
       "      <th>MANHATTAN</th>\n",
       "      <th>QUEENS</th>\n",
       "      <th>STATEN ISLAND</th>\n",
       "    </tr>\n",
       "    <tr>\n",
       "      <th>Complaint Type</th>\n",
       "      <th></th>\n",
       "      <th></th>\n",
       "      <th></th>\n",
       "      <th></th>\n",
       "      <th></th>\n",
       "    </tr>\n",
       "  </thead>\n",
       "  <tbody>\n",
       "    <tr>\n",
       "      <th>Collection Truck Noise</th>\n",
       "      <td>NaN</td>\n",
       "      <td>6.0</td>\n",
       "      <td>5.0</td>\n",
       "      <td>4.0</td>\n",
       "      <td>1.0</td>\n",
       "    </tr>\n",
       "    <tr>\n",
       "      <th>Noise</th>\n",
       "      <td>115.0</td>\n",
       "      <td>536.0</td>\n",
       "      <td>1061.0</td>\n",
       "      <td>400.0</td>\n",
       "      <td>72.0</td>\n",
       "    </tr>\n",
       "    <tr>\n",
       "      <th>Noise - Commercial</th>\n",
       "      <td>163.0</td>\n",
       "      <td>698.0</td>\n",
       "      <td>1223.0</td>\n",
       "      <td>406.0</td>\n",
       "      <td>42.0</td>\n",
       "    </tr>\n",
       "    <tr>\n",
       "      <th>Noise - Helicopter</th>\n",
       "      <td>NaN</td>\n",
       "      <td>21.0</td>\n",
       "      <td>63.0</td>\n",
       "      <td>9.0</td>\n",
       "      <td>NaN</td>\n",
       "    </tr>\n",
       "    <tr>\n",
       "      <th>Noise - House of Worship</th>\n",
       "      <td>1.0</td>\n",
       "      <td>24.0</td>\n",
       "      <td>3.0</td>\n",
       "      <td>7.0</td>\n",
       "      <td>NaN</td>\n",
       "    </tr>\n",
       "    <tr>\n",
       "      <th>Noise - Park</th>\n",
       "      <td>2.0</td>\n",
       "      <td>NaN</td>\n",
       "      <td>17.0</td>\n",
       "      <td>11.0</td>\n",
       "      <td>NaN</td>\n",
       "    </tr>\n",
       "    <tr>\n",
       "      <th>Noise - Street/Sidewalk</th>\n",
       "      <td>109.0</td>\n",
       "      <td>208.0</td>\n",
       "      <td>609.0</td>\n",
       "      <td>100.0</td>\n",
       "      <td>19.0</td>\n",
       "    </tr>\n",
       "    <tr>\n",
       "      <th>Noise - Vehicle</th>\n",
       "      <td>53.0</td>\n",
       "      <td>183.0</td>\n",
       "      <td>228.0</td>\n",
       "      <td>75.0</td>\n",
       "      <td>18.0</td>\n",
       "    </tr>\n",
       "  </tbody>\n",
       "</table>\n",
       "</div>"
      ],
      "text/plain": [
       "Borough                   BRONX  BROOKLYN  MANHATTAN  QUEENS  STATEN ISLAND\n",
       "Complaint Type                                                             \n",
       "Collection Truck Noise      NaN       6.0        5.0     4.0            1.0\n",
       "Noise                     115.0     536.0     1061.0   400.0           72.0\n",
       "Noise - Commercial        163.0     698.0     1223.0   406.0           42.0\n",
       "Noise - Helicopter          NaN      21.0       63.0     9.0            NaN\n",
       "Noise - House of Worship    1.0      24.0        3.0     7.0            NaN\n",
       "Noise - Park                2.0       NaN       17.0    11.0            NaN\n",
       "Noise - Street/Sidewalk   109.0     208.0      609.0   100.0           19.0\n",
       "Noise - Vehicle            53.0     183.0      228.0    75.0           18.0"
      ]
     },
     "execution_count": 21,
     "metadata": {},
     "output_type": "execute_result"
    }
   ],
   "source": [
    "pivoted = pd.pivot_table(complaints,\n",
    "                         index='Complaint Type',\n",
    "                         columns='Borough',\n",
    "                         values='count',\n",
    "                         aggfunc=sum)\n",
    "pivoted"
   ]
  },
  {
   "cell_type": "markdown",
   "metadata": {
    "slideshow": {
     "slide_type": "slide"
    }
   },
   "source": [
    "Let us look at the pivot_table() function in more detail.\n",
    "\n",
    "    pivoted = pd.pivot_table(complaints,\n",
    "                             index='Complaint Type',\n",
    "                             columns='Borough',\n",
    "                             values='count',\n",
    "                             aggfunc=sum)\n",
    "\n",
    "This creates a pivot table where\n",
    "\n",
    "* the rows are all the possible complaint types,\n",
    "* the columns are all possible values of the Boroughs, and\n",
    "* the values are 'counts'.\n",
    "\n",
    "But there is a problem.\n",
    "    \n",
    "Complaint Type | Borough | Agency | Status | count\n",
    "-------------- | ------- | ------ | ------ | -----:\n",
    "Noise | BRONX | Closed | DEP | 40\n",
    "Noise | BRONX | Open | DEP | 75\n",
    "\n",
    "Since we are only looking at 'Complaint Type' and 'Borough', both count=40 and count=50 go to the same cell of the pivot table.\n",
    "\n",
    "* the aggfunc (short for aggregator function) says hows to combine these values. aggfunc=sum says take the total number of noise complaints.\n",
    "    "
   ]
  },
  {
   "cell_type": "markdown",
   "metadata": {
    "slideshow": {
     "slide_type": "slide"
    }
   },
   "source": [
    "More complicated pivot tables are also possible."
   ]
  },
  {
   "cell_type": "code",
   "execution_count": 22,
   "metadata": {
    "slideshow": {
     "slide_type": "-"
    }
   },
   "outputs": [
    {
     "data": {
      "text/html": [
       "<div>\n",
       "<style scoped>\n",
       "    .dataframe tbody tr th:only-of-type {\n",
       "        vertical-align: middle;\n",
       "    }\n",
       "\n",
       "    .dataframe tbody tr th {\n",
       "        vertical-align: top;\n",
       "    }\n",
       "\n",
       "    .dataframe thead tr th {\n",
       "        text-align: left;\n",
       "    }\n",
       "\n",
       "    .dataframe thead tr:last-of-type th {\n",
       "        text-align: right;\n",
       "    }\n",
       "</style>\n",
       "<table border=\"1\" class=\"dataframe\">\n",
       "  <thead>\n",
       "    <tr>\n",
       "      <th></th>\n",
       "      <th>Agency</th>\n",
       "      <th colspan=\"3\" halign=\"left\">DEP</th>\n",
       "      <th>DSNY</th>\n",
       "      <th>EDC</th>\n",
       "      <th colspan=\"3\" halign=\"left\">NYPD</th>\n",
       "    </tr>\n",
       "    <tr>\n",
       "      <th></th>\n",
       "      <th>Status</th>\n",
       "      <th>Closed</th>\n",
       "      <th>Open</th>\n",
       "      <th>Started</th>\n",
       "      <th>Closed</th>\n",
       "      <th>Open</th>\n",
       "      <th>Assigned</th>\n",
       "      <th>Closed</th>\n",
       "      <th>Open</th>\n",
       "    </tr>\n",
       "    <tr>\n",
       "      <th>Complaint Type</th>\n",
       "      <th>Borough</th>\n",
       "      <th></th>\n",
       "      <th></th>\n",
       "      <th></th>\n",
       "      <th></th>\n",
       "      <th></th>\n",
       "      <th></th>\n",
       "      <th></th>\n",
       "      <th></th>\n",
       "    </tr>\n",
       "  </thead>\n",
       "  <tbody>\n",
       "    <tr>\n",
       "      <th rowspan=\"4\" valign=\"top\">Collection Truck Noise</th>\n",
       "      <th>BROOKLYN</th>\n",
       "      <td>0</td>\n",
       "      <td>0</td>\n",
       "      <td>0</td>\n",
       "      <td>6</td>\n",
       "      <td>0</td>\n",
       "      <td>0</td>\n",
       "      <td>0</td>\n",
       "      <td>0</td>\n",
       "    </tr>\n",
       "    <tr>\n",
       "      <th>MANHATTAN</th>\n",
       "      <td>0</td>\n",
       "      <td>0</td>\n",
       "      <td>0</td>\n",
       "      <td>5</td>\n",
       "      <td>0</td>\n",
       "      <td>0</td>\n",
       "      <td>0</td>\n",
       "      <td>0</td>\n",
       "    </tr>\n",
       "    <tr>\n",
       "      <th>QUEENS</th>\n",
       "      <td>0</td>\n",
       "      <td>0</td>\n",
       "      <td>0</td>\n",
       "      <td>4</td>\n",
       "      <td>0</td>\n",
       "      <td>0</td>\n",
       "      <td>0</td>\n",
       "      <td>0</td>\n",
       "    </tr>\n",
       "    <tr>\n",
       "      <th>STATEN ISLAND</th>\n",
       "      <td>0</td>\n",
       "      <td>0</td>\n",
       "      <td>0</td>\n",
       "      <td>1</td>\n",
       "      <td>0</td>\n",
       "      <td>0</td>\n",
       "      <td>0</td>\n",
       "      <td>0</td>\n",
       "    </tr>\n",
       "    <tr>\n",
       "      <th rowspan=\"3\" valign=\"top\">Noise</th>\n",
       "      <th>BRONX</th>\n",
       "      <td>40</td>\n",
       "      <td>75</td>\n",
       "      <td>0</td>\n",
       "      <td>0</td>\n",
       "      <td>0</td>\n",
       "      <td>0</td>\n",
       "      <td>0</td>\n",
       "      <td>0</td>\n",
       "    </tr>\n",
       "    <tr>\n",
       "      <th>BROOKLYN</th>\n",
       "      <td>85</td>\n",
       "      <td>442</td>\n",
       "      <td>9</td>\n",
       "      <td>0</td>\n",
       "      <td>0</td>\n",
       "      <td>0</td>\n",
       "      <td>0</td>\n",
       "      <td>0</td>\n",
       "    </tr>\n",
       "    <tr>\n",
       "      <th>MANHATTAN</th>\n",
       "      <td>131</td>\n",
       "      <td>928</td>\n",
       "      <td>2</td>\n",
       "      <td>0</td>\n",
       "      <td>0</td>\n",
       "      <td>0</td>\n",
       "      <td>0</td>\n",
       "      <td>0</td>\n",
       "    </tr>\n",
       "  </tbody>\n",
       "</table>\n",
       "</div>"
      ],
      "text/plain": [
       "Agency                                  DEP                DSNY  EDC     NYPD  \\\n",
       "Status                               Closed Open Started Closed Open Assigned   \n",
       "Complaint Type         Borough                                                  \n",
       "Collection Truck Noise BROOKLYN           0    0       0      6    0        0   \n",
       "                       MANHATTAN          0    0       0      5    0        0   \n",
       "                       QUEENS             0    0       0      4    0        0   \n",
       "                       STATEN ISLAND      0    0       0      1    0        0   \n",
       "Noise                  BRONX             40   75       0      0    0        0   \n",
       "                       BROOKLYN          85  442       9      0    0        0   \n",
       "                       MANHATTAN        131  928       2      0    0        0   \n",
       "\n",
       "Agency                                            \n",
       "Status                               Closed Open  \n",
       "Complaint Type         Borough                    \n",
       "Collection Truck Noise BROOKLYN           0    0  \n",
       "                       MANHATTAN          0    0  \n",
       "                       QUEENS             0    0  \n",
       "                       STATEN ISLAND      0    0  \n",
       "Noise                  BRONX              0    0  \n",
       "                       BROOKLYN           0    0  \n",
       "                       MANHATTAN          0    0  "
      ]
     },
     "execution_count": 22,
     "metadata": {},
     "output_type": "execute_result"
    }
   ],
   "source": [
    "pivot_all = pd.pivot_table(complaints,\n",
    "                           index=['Complaint Type', 'Borough'],\n",
    "                           columns=['Agency', 'Status'],\n",
    "                           values='count',\n",
    "                           fill_value=0)  # fill in missing values\n",
    "pivot_all[:7]"
   ]
  },
  {
   "cell_type": "markdown",
   "metadata": {
    "slideshow": {
     "slide_type": "-"
    }
   },
   "source": [
    "This yields a _hierarchical_ index on both rows and columns."
   ]
  },
  {
   "cell_type": "markdown",
   "metadata": {
    "slideshow": {
     "slide_type": "slide"
    }
   },
   "source": [
    "### Which agency is most responsible for each type of complaint?"
   ]
  },
  {
   "cell_type": "code",
   "execution_count": 23,
   "metadata": {
    "slideshow": {
     "slide_type": "fragment"
    }
   },
   "outputs": [
    {
     "data": {
      "text/html": [
       "<div>\n",
       "<style scoped>\n",
       "    .dataframe tbody tr th:only-of-type {\n",
       "        vertical-align: middle;\n",
       "    }\n",
       "\n",
       "    .dataframe tbody tr th {\n",
       "        vertical-align: top;\n",
       "    }\n",
       "\n",
       "    .dataframe thead th {\n",
       "        text-align: right;\n",
       "    }\n",
       "</style>\n",
       "<table border=\"1\" class=\"dataframe\">\n",
       "  <thead>\n",
       "    <tr style=\"text-align: right;\">\n",
       "      <th>Agency</th>\n",
       "      <th>DEP</th>\n",
       "      <th>DSNY</th>\n",
       "      <th>EDC</th>\n",
       "      <th>NYPD</th>\n",
       "    </tr>\n",
       "    <tr>\n",
       "      <th>Complaint Type</th>\n",
       "      <th></th>\n",
       "      <th></th>\n",
       "      <th></th>\n",
       "      <th></th>\n",
       "    </tr>\n",
       "  </thead>\n",
       "  <tbody>\n",
       "    <tr>\n",
       "      <th>Collection Truck Noise</th>\n",
       "      <td>0</td>\n",
       "      <td>16</td>\n",
       "      <td>0</td>\n",
       "      <td>0</td>\n",
       "    </tr>\n",
       "    <tr>\n",
       "      <th>Noise</th>\n",
       "      <td>2184</td>\n",
       "      <td>0</td>\n",
       "      <td>0</td>\n",
       "      <td>0</td>\n",
       "    </tr>\n",
       "    <tr>\n",
       "      <th>Noise - Commercial</th>\n",
       "      <td>0</td>\n",
       "      <td>0</td>\n",
       "      <td>0</td>\n",
       "      <td>2532</td>\n",
       "    </tr>\n",
       "    <tr>\n",
       "      <th>Noise - Helicopter</th>\n",
       "      <td>0</td>\n",
       "      <td>0</td>\n",
       "      <td>93</td>\n",
       "      <td>0</td>\n",
       "    </tr>\n",
       "    <tr>\n",
       "      <th>Noise - House of Worship</th>\n",
       "      <td>0</td>\n",
       "      <td>0</td>\n",
       "      <td>0</td>\n",
       "      <td>35</td>\n",
       "    </tr>\n",
       "    <tr>\n",
       "      <th>Noise - Park</th>\n",
       "      <td>0</td>\n",
       "      <td>0</td>\n",
       "      <td>0</td>\n",
       "      <td>30</td>\n",
       "    </tr>\n",
       "    <tr>\n",
       "      <th>Noise - Street/Sidewalk</th>\n",
       "      <td>0</td>\n",
       "      <td>0</td>\n",
       "      <td>0</td>\n",
       "      <td>1045</td>\n",
       "    </tr>\n",
       "    <tr>\n",
       "      <th>Noise - Vehicle</th>\n",
       "      <td>0</td>\n",
       "      <td>0</td>\n",
       "      <td>0</td>\n",
       "      <td>557</td>\n",
       "    </tr>\n",
       "  </tbody>\n",
       "</table>\n",
       "</div>"
      ],
      "text/plain": [
       "Agency                     DEP  DSNY  EDC  NYPD\n",
       "Complaint Type                                 \n",
       "Collection Truck Noise       0    16    0     0\n",
       "Noise                     2184     0    0     0\n",
       "Noise - Commercial           0     0    0  2532\n",
       "Noise - Helicopter           0     0   93     0\n",
       "Noise - House of Worship     0     0    0    35\n",
       "Noise - Park                 0     0    0    30\n",
       "Noise - Street/Sidewalk      0     0    0  1045\n",
       "Noise - Vehicle              0     0    0   557"
      ]
     },
     "execution_count": 23,
     "metadata": {},
     "output_type": "execute_result"
    }
   ],
   "source": [
    "complaint_agency = pd.pivot_table(complaints,\n",
    "                                  index='Complaint Type',\n",
    "                                  columns='Agency',\n",
    "                                  values='count',\n",
    "                                  aggfunc=sum,\n",
    "                                  fill_value=0)\n",
    "complaint_agency"
   ]
  },
  {
   "cell_type": "markdown",
   "metadata": {
    "slideshow": {
     "slide_type": "slide"
    }
   },
   "source": [
    "We now have a pivot table of agency versus noise complaint type. What do we do now?"
   ]
  },
  {
   "cell_type": "markdown",
   "metadata": {
    "slideshow": {
     "slide_type": "fragment"
    }
   },
   "source": [
    "    The idxmax() method"
   ]
  },
  {
   "cell_type": "code",
   "execution_count": 24,
   "metadata": {
    "slideshow": {
     "slide_type": "slide"
    }
   },
   "outputs": [
    {
     "data": {
      "text/plain": [
       "Agency\n",
       "DEP                      Noise\n",
       "DSNY    Collection Truck Noise\n",
       "EDC         Noise - Helicopter\n",
       "NYPD        Noise - Commercial\n",
       "dtype: object"
      ]
     },
     "execution_count": 24,
     "metadata": {},
     "output_type": "execute_result"
    }
   ],
   "source": [
    "complaint_agency.idxmax()  # Oops"
   ]
  },
  {
   "cell_type": "markdown",
   "metadata": {
    "slideshow": {
     "slide_type": "fragment"
    }
   },
   "source": [
    "**Oops!** This gave the most common complaint for each agency; we want the most common agency for each complaint.\n",
    "\n",
    "How do we get this?"
   ]
  },
  {
   "cell_type": "markdown",
   "metadata": {
    "slideshow": {
     "slide_type": "fragment"
    }
   },
   "source": [
    "We want to convert this to a matrix with the rows and columns _transposed_"
   ]
  },
  {
   "cell_type": "markdown",
   "metadata": {
    "slideshow": {
     "slide_type": "fragment"
    }
   },
   "source": [
    "    complaint_agency.T"
   ]
  },
  {
   "cell_type": "code",
   "execution_count": 25,
   "metadata": {
    "slideshow": {
     "slide_type": "slide"
    }
   },
   "outputs": [
    {
     "data": {
      "text/plain": [
       "Complaint Type\n",
       "Collection Truck Noise      DSNY\n",
       "Noise                        DEP\n",
       "Noise - Commercial          NYPD\n",
       "Noise - Helicopter           EDC\n",
       "Noise - House of Worship    NYPD\n",
       "Noise - Park                NYPD\n",
       "Noise - Street/Sidewalk     NYPD\n",
       "Noise - Vehicle             NYPD\n",
       "dtype: object"
      ]
     },
     "execution_count": 25,
     "metadata": {},
     "output_type": "execute_result"
    }
   ],
   "source": [
    "complaint_agency.T.idxmax()"
   ]
  },
  {
   "cell_type": "markdown",
   "metadata": {
    "slideshow": {
     "slide_type": "slide"
    }
   },
   "source": [
    "![DSNY](Pandas_3_data/DSNY.png)"
   ]
  },
  {
   "cell_type": "markdown",
   "metadata": {
    "slideshow": {
     "slide_type": "slide"
    }
   },
   "source": [
    "![EDC](Pandas_3_data/EDC.png)"
   ]
  },
  {
   "cell_type": "markdown",
   "metadata": {
    "slideshow": {
     "slide_type": "slide"
    }
   },
   "source": [
    "### Summary so far\n",
    "\n",
    "* pivot_table(index='X', columns='Y')\n",
    "    * gives us a table where each row is an individual value from column X,\n",
    "    * and each column is an individual value from column Y\n",
    "* idxmax() picks the _index_ corresponding to the maximum value for each column\n",
    "    * which _value_ of X is greatest for each _value_ of Y"
   ]
  },
  {
   "cell_type": "markdown",
   "metadata": {
    "slideshow": {
     "slide_type": "slide"
    }
   },
   "source": [
    "## Ranks and Quantiles"
   ]
  },
  {
   "cell_type": "markdown",
   "metadata": {
    "slideshow": {
     "slide_type": "fragment"
    }
   },
   "source": [
    "Let's work with a concrete question.\n",
    "\n",
    "### Do those with greater reputation ask more questions, or less?"
   ]
  },
  {
   "cell_type": "markdown",
   "metadata": {
    "slideshow": {
     "slide_type": "fragment"
    }
   },
   "source": [
    "We have to do this in three steps:\n",
    "\n",
    "1.  Split askers by the percentile of their reputation, that is,\n",
    "    * tag each asker by whether he/she is in the top-10%, top-20%, ... of all askers by reputation.\n",
    "2.  Merge this percentile information against questions\n",
    "3.  Count questions per asker for each percentile."
   ]
  },
  {
   "cell_type": "markdown",
   "metadata": {
    "slideshow": {
     "slide_type": "slide"
    }
   },
   "source": [
    "**Step 1:** Split askers by the percentile of their reputation\n",
    "\n",
    "We do this in two pieces:"
   ]
  },
  {
   "cell_type": "markdown",
   "metadata": {
    "slideshow": {
     "slide_type": "fragment"
    }
   },
   "source": [
    "* First, _rank_ every asker by reputation\n",
    "    * rank 1 for the asker with the highest reputation,\n",
    "    * and so on."
   ]
  },
  {
   "cell_type": "markdown",
   "metadata": {
    "slideshow": {
     "slide_type": "fragment"
    }
   },
   "source": [
    "* Second, we use the ranks to split askers into buckets\n",
    "    * If there are 1000 askers and we want 10 buckets\n",
    "        * the top-100 ranked askers go into the top bucket\n",
    "        * the next 100 ranked askers into the second bucket\n",
    "        * and so on."
   ]
  },
  {
   "cell_type": "code",
   "execution_count": 26,
   "metadata": {
    "slideshow": {
     "slide_type": "slide"
    }
   },
   "outputs": [
    {
     "name": "stdout",
     "output_type": "stream",
     "text": [
      "0    193.0\n",
      "1     72.0\n",
      "2    102.0\n",
      "3    148.0\n",
      "4    405.5\n",
      "Name: Reputation, dtype: float64\n"
     ]
    }
   ],
   "source": [
    "# rank users via rank()\n",
    "reputation_rank = askers['Reputation'].rank(ascending=False)\n",
    "print reputation_rank[:5]"
   ]
  },
  {
   "cell_type": "code",
   "execution_count": 27,
   "metadata": {
    "slideshow": {
     "slide_type": "fragment"
    }
   },
   "outputs": [
    {
     "data": {
      "text/plain": [
       "0    30-40\n",
       "1    10-20\n",
       "2    20-30\n",
       "3    30-40\n",
       "4    80-90\n",
       "Name: Reputation, dtype: category\n",
       "Categories (10, object): [0-10 < 10-20 < 20-30 < 30-40 ... 60-70 < 70-80 < 80-90 < 90-100]"
      ]
     },
     "execution_count": 27,
     "metadata": {},
     "output_type": "execute_result"
    }
   ],
   "source": [
    "# Get percentiles via qcut\n",
    "reputation_percentile = pd.qcut(reputation_rank,\n",
    "                                10,\n",
    "                                labels=['0-10', '10-20', '20-30',\n",
    "                                        '30-40', '40-50', '50-60',\n",
    "                                        '60-70', '70-80', '80-90', '90-100'])\n",
    "reputation_percentile[:5]\n"
   ]
  },
  {
   "cell_type": "markdown",
   "metadata": {
    "slideshow": {
     "slide_type": "slide"
    }
   },
   "source": [
    "We could also just have done\n",
    "\n",
    "> pd.qcut(df['Reputation'], 10)\n",
    "\n",
    "but I wanted to talk about _rank()_ too :-)"
   ]
  },
  {
   "cell_type": "code",
   "execution_count": 28,
   "metadata": {
    "slideshow": {
     "slide_type": "slide"
    }
   },
   "outputs": [
    {
     "data": {
      "text/html": [
       "<div>\n",
       "<style scoped>\n",
       "    .dataframe tbody tr th:only-of-type {\n",
       "        vertical-align: middle;\n",
       "    }\n",
       "\n",
       "    .dataframe tbody tr th {\n",
       "        vertical-align: top;\n",
       "    }\n",
       "\n",
       "    .dataframe thead th {\n",
       "        text-align: right;\n",
       "    }\n",
       "</style>\n",
       "<table border=\"1\" class=\"dataframe\">\n",
       "  <thead>\n",
       "    <tr style=\"text-align: right;\">\n",
       "      <th></th>\n",
       "      <th>Reputation</th>\n",
       "      <th>Reputation Percentile</th>\n",
       "    </tr>\n",
       "  </thead>\n",
       "  <tbody>\n",
       "    <tr>\n",
       "      <th>0</th>\n",
       "      <td>100</td>\n",
       "      <td>30-40</td>\n",
       "    </tr>\n",
       "    <tr>\n",
       "      <th>1</th>\n",
       "      <td>766</td>\n",
       "      <td>10-20</td>\n",
       "    </tr>\n",
       "    <tr>\n",
       "      <th>2</th>\n",
       "      <td>472</td>\n",
       "      <td>20-30</td>\n",
       "    </tr>\n",
       "    <tr>\n",
       "      <th>3</th>\n",
       "      <td>188</td>\n",
       "      <td>30-40</td>\n",
       "    </tr>\n",
       "    <tr>\n",
       "      <th>4</th>\n",
       "      <td>13</td>\n",
       "      <td>80-90</td>\n",
       "    </tr>\n",
       "  </tbody>\n",
       "</table>\n",
       "</div>"
      ],
      "text/plain": [
       "   Reputation Reputation Percentile\n",
       "0         100                 30-40\n",
       "1         766                 10-20\n",
       "2         472                 20-30\n",
       "3         188                 30-40\n",
       "4          13                 80-90"
      ]
     },
     "execution_count": 28,
     "metadata": {},
     "output_type": "execute_result"
    }
   ],
   "source": [
    "# Add this as a new column to askers\n",
    "askers['Reputation Percentile'] = reputation_percentile\n",
    "askers[['Reputation', 'Reputation Percentile']][:5]"
   ]
  },
  {
   "cell_type": "markdown",
   "metadata": {
    "slideshow": {
     "slide_type": "fragment"
    }
   },
   "source": [
    "We can check that each percentile has approximately the same number of askers."
   ]
  },
  {
   "cell_type": "code",
   "execution_count": 29,
   "metadata": {
    "slideshow": {
     "slide_type": "fragment"
    }
   },
   "outputs": [
    {
     "data": {
      "text/plain": [
       "60-70     52\n",
       "40-50     52\n",
       "80-90     51\n",
       "50-60     50\n",
       "30-40     49\n",
       "20-30     49\n",
       "10-20     49\n",
       "0-10      49\n",
       "90-100    47\n",
       "70-80     42\n",
       "Name: Reputation Percentile, dtype: int64"
      ]
     },
     "execution_count": 29,
     "metadata": {},
     "output_type": "execute_result"
    }
   ],
   "source": [
    "askers_by_percentile = askers['Reputation Percentile'].value_counts()\n",
    "askers_by_percentile"
   ]
  },
  {
   "cell_type": "markdown",
   "metadata": {
    "slideshow": {
     "slide_type": "slide"
    }
   },
   "source": [
    "**Step 2:** Merge this percentile information against questions."
   ]
  },
  {
   "cell_type": "code",
   "execution_count": 30,
   "metadata": {},
   "outputs": [],
   "source": [
    "# Step 2: Merge this with questions\n",
    "questions_askers = questions.merge(askers,\n",
    "                                   left_on='OwnerUserId',\n",
    "                                   right_on='Id',\n",
    "                                   suffixes=['_question', '_asker'])"
   ]
  },
  {
   "cell_type": "markdown",
   "metadata": {
    "slideshow": {
     "slide_type": "slide"
    }
   },
   "source": [
    "**Step 3:** Count questions per asker for each percentile."
   ]
  },
  {
   "cell_type": "code",
   "execution_count": 31,
   "metadata": {},
   "outputs": [],
   "source": [
    "# Step 3: Get number of questions by Reputation Percentile.\n",
    "questions_by_percentile = questions_askers['Reputation Percentile'].value_counts()\n",
    "questions_per_asker_percentiles = questions_by_percentile / askers_by_percentile"
   ]
  },
  {
   "cell_type": "code",
   "execution_count": 32,
   "metadata": {
    "slideshow": {
     "slide_type": "fragment"
    }
   },
   "outputs": [
    {
     "data": {
      "text/plain": [
       "<matplotlib.axes._subplots.AxesSubplot at 0xbfe2860>"
      ]
     },
     "execution_count": 32,
     "metadata": {},
     "output_type": "execute_result"
    },
    {
     "data": {
      "image/png": "[encoded data removed]",
      "text/plain": [
       "<Figure size 432x288 with 1 Axes>"
      ]
     },
     "metadata": {},
     "output_type": "display_data"
    }
   ],
   "source": [
    "questions_per_asker_percentiles.plot(kind='bar')"
   ]
  },
  {
   "cell_type": "markdown",
   "metadata": {
    "slideshow": {
     "slide_type": "fragment"
    }
   },
   "source": [
    "**Answer:** Questions per asker is highest for the top 20-30% of askers by reputation.\n",
    "\n",
    "* Why is it less for the less reputed? Maybe because they are less engaged.\n",
    "* Why is it less for the more reputed? Maybe they are the experts, who answer more questions than they ask."
   ]
  },
  {
   "cell_type": "code",
   "execution_count": 33,
   "metadata": {
    "slideshow": {
     "slide_type": "slide"
    }
   },
   "outputs": [
    {
     "name": "stdout",
     "output_type": "stream",
     "text": [
      "490 askers\n",
      "952 questions\n"
     ]
    }
   ],
   "source": [
    "print len(askers), 'askers'\n",
    "print len(questions), 'questions'"
   ]
  },
  {
   "cell_type": "markdown",
   "metadata": {},
   "source": [
    "_Caveat:_ It's a pretty small sample. Don't believe it too much..."
   ]
  },
  {
   "cell_type": "markdown",
   "metadata": {
    "slideshow": {
     "slide_type": "slide"
    }
   },
   "source": [
    "### Which questions are viewed the most?"
   ]
  },
  {
   "cell_type": "markdown",
   "metadata": {
    "slideshow": {
     "slide_type": "fragment"
    }
   },
   "source": [
    "Answer 1: Rank questions by ViewCount, and select the top few ranks using a mask."
   ]
  },
  {
   "cell_type": "code",
   "execution_count": 34,
   "metadata": {
    "slideshow": {
     "slide_type": "fragment"
    }
   },
   "outputs": [
    {
     "data": {
      "text/html": [
       "<div>\n",
       "<style scoped>\n",
       "    .dataframe tbody tr th:only-of-type {\n",
       "        vertical-align: middle;\n",
       "    }\n",
       "\n",
       "    .dataframe tbody tr th {\n",
       "        vertical-align: top;\n",
       "    }\n",
       "\n",
       "    .dataframe thead th {\n",
       "        text-align: right;\n",
       "    }\n",
       "</style>\n",
       "<table border=\"1\" class=\"dataframe\">\n",
       "  <thead>\n",
       "    <tr style=\"text-align: right;\">\n",
       "      <th></th>\n",
       "      <th>Title</th>\n",
       "      <th>ViewCount</th>\n",
       "    </tr>\n",
       "  </thead>\n",
       "  <tbody>\n",
       "    <tr>\n",
       "      <th>339</th>\n",
       "      <td>Sort a pandas DataMatrix in ascending order</td>\n",
       "      <td>2484</td>\n",
       "    </tr>\n",
       "    <tr>\n",
       "      <th>347</th>\n",
       "      <td>append two data frame with pandas</td>\n",
       "      <td>2913</td>\n",
       "    </tr>\n",
       "    <tr>\n",
       "      <th>348</th>\n",
       "      <td>What is the most efficient way to loop through...</td>\n",
       "      <td>4228</td>\n",
       "    </tr>\n",
       "    <tr>\n",
       "      <th>354</th>\n",
       "      <td>Tutorial on PANDAS and PYTABLES</td>\n",
       "      <td>6454</td>\n",
       "    </tr>\n",
       "    <tr>\n",
       "      <th>367</th>\n",
       "      <td>How to get the correlation between two timeser...</td>\n",
       "      <td>2035</td>\n",
       "    </tr>\n",
       "    <tr>\n",
       "      <th>400</th>\n",
       "      <td>Add indexed column to DataFrame with pandas</td>\n",
       "      <td>2624</td>\n",
       "    </tr>\n",
       "    <tr>\n",
       "      <th>460</th>\n",
       "      <td>iterating row by row through a pandas dataframe</td>\n",
       "      <td>2052</td>\n",
       "    </tr>\n",
       "    <tr>\n",
       "      <th>463</th>\n",
       "      <td>add one row in a pandas.DataFrame</td>\n",
       "      <td>3238</td>\n",
       "    </tr>\n",
       "    <tr>\n",
       "      <th>516</th>\n",
       "      <td>Renaming columns in pandas</td>\n",
       "      <td>2422</td>\n",
       "    </tr>\n",
       "    <tr>\n",
       "      <th>723</th>\n",
       "      <td>How to fix Python Numpy/Pandas installation?</td>\n",
       "      <td>2066</td>\n",
       "    </tr>\n",
       "  </tbody>\n",
       "</table>\n",
       "</div>"
      ],
      "text/plain": [
       "                                                 Title  ViewCount\n",
       "339        Sort a pandas DataMatrix in ascending order       2484\n",
       "347                  append two data frame with pandas       2913\n",
       "348  What is the most efficient way to loop through...       4228\n",
       "354                    Tutorial on PANDAS and PYTABLES       6454\n",
       "367  How to get the correlation between two timeser...       2035\n",
       "400        Add indexed column to DataFrame with pandas       2624\n",
       "460    iterating row by row through a pandas dataframe       2052\n",
       "463                  add one row in a pandas.DataFrame       3238\n",
       "516                         Renaming columns in pandas       2422\n",
       "723       How to fix Python Numpy/Pandas installation?       2066"
      ]
     },
     "execution_count": 34,
     "metadata": {},
     "output_type": "execute_result"
    }
   ],
   "source": [
    "# Rank the questions by ViewCount\n",
    "count_ranks = questions['ViewCount'].rank(ascending=False)\n",
    "# Make a mask of the top 10 ranks\n",
    "mask = (count_ranks <= 10)\n",
    "# Display the questions\n",
    "questions[mask][['Title', 'ViewCount']]"
   ]
  },
  {
   "cell_type": "markdown",
   "metadata": {
    "slideshow": {
     "slide_type": "fragment"
    }
   },
   "source": [
    "Works, but not pleasing. What we want is to _sort_ by ViewCount."
   ]
  },
  {
   "cell_type": "code",
   "execution_count": 35,
   "metadata": {
    "slideshow": {
     "slide_type": "slide"
    }
   },
   "outputs": [
    {
     "data": {
      "text/html": [
       "<div>\n",
       "<style scoped>\n",
       "    .dataframe tbody tr th:only-of-type {\n",
       "        vertical-align: middle;\n",
       "    }\n",
       "\n",
       "    .dataframe tbody tr th {\n",
       "        vertical-align: top;\n",
       "    }\n",
       "\n",
       "    .dataframe thead th {\n",
       "        text-align: right;\n",
       "    }\n",
       "</style>\n",
       "<table border=\"1\" class=\"dataframe\">\n",
       "  <thead>\n",
       "    <tr style=\"text-align: right;\">\n",
       "      <th></th>\n",
       "      <th>Title</th>\n",
       "      <th>ViewCount</th>\n",
       "    </tr>\n",
       "  </thead>\n",
       "  <tbody>\n",
       "    <tr>\n",
       "      <th>354</th>\n",
       "      <td>Tutorial on PANDAS and PYTABLES</td>\n",
       "      <td>6454</td>\n",
       "    </tr>\n",
       "    <tr>\n",
       "      <th>348</th>\n",
       "      <td>What is the most efficient way to loop through...</td>\n",
       "      <td>4228</td>\n",
       "    </tr>\n",
       "    <tr>\n",
       "      <th>463</th>\n",
       "      <td>add one row in a pandas.DataFrame</td>\n",
       "      <td>3238</td>\n",
       "    </tr>\n",
       "    <tr>\n",
       "      <th>347</th>\n",
       "      <td>append two data frame with pandas</td>\n",
       "      <td>2913</td>\n",
       "    </tr>\n",
       "    <tr>\n",
       "      <th>400</th>\n",
       "      <td>Add indexed column to DataFrame with pandas</td>\n",
       "      <td>2624</td>\n",
       "    </tr>\n",
       "    <tr>\n",
       "      <th>339</th>\n",
       "      <td>Sort a pandas DataMatrix in ascending order</td>\n",
       "      <td>2484</td>\n",
       "    </tr>\n",
       "    <tr>\n",
       "      <th>516</th>\n",
       "      <td>Renaming columns in pandas</td>\n",
       "      <td>2422</td>\n",
       "    </tr>\n",
       "    <tr>\n",
       "      <th>723</th>\n",
       "      <td>How to fix Python Numpy/Pandas installation?</td>\n",
       "      <td>2066</td>\n",
       "    </tr>\n",
       "    <tr>\n",
       "      <th>460</th>\n",
       "      <td>iterating row by row through a pandas dataframe</td>\n",
       "      <td>2052</td>\n",
       "    </tr>\n",
       "    <tr>\n",
       "      <th>367</th>\n",
       "      <td>How to get the correlation between two timeser...</td>\n",
       "      <td>2035</td>\n",
       "    </tr>\n",
       "  </tbody>\n",
       "</table>\n",
       "</div>"
      ],
      "text/plain": [
       "                                                 Title  ViewCount\n",
       "354                    Tutorial on PANDAS and PYTABLES       6454\n",
       "348  What is the most efficient way to loop through...       4228\n",
       "463                  add one row in a pandas.DataFrame       3238\n",
       "347                  append two data frame with pandas       2913\n",
       "400        Add indexed column to DataFrame with pandas       2624\n",
       "339        Sort a pandas DataMatrix in ascending order       2484\n",
       "516                         Renaming columns in pandas       2422\n",
       "723       How to fix Python Numpy/Pandas installation?       2066\n",
       "460    iterating row by row through a pandas dataframe       2052\n",
       "367  How to get the correlation between two timeser...       2035"
      ]
     },
     "execution_count": 35,
     "metadata": {},
     "output_type": "execute_result"
    }
   ],
   "source": [
    "questions.sort_values(by='ViewCount', ascending=False)[:10][['Title', 'ViewCount']]"
   ]
  },
  {
   "cell_type": "markdown",
   "metadata": {
    "slideshow": {
     "slide_type": "slide"
    }
   },
   "source": [
    "## Other reshaping methods"
   ]
  },
  {
   "cell_type": "markdown",
   "metadata": {
    "slideshow": {
     "slide_type": "-"
    }
   },
   "source": [
    "<br />\n",
    "Apart from pivot_table(), there are two main ways to reshape the data:\n",
    "\n",
    "* **stack**, which \"rotates\" or pivots from columns to index, and\n",
    "* **unstack**, which does the opposite.\n",
    "\n",
    "It's easier with examples."
   ]
  },
  {
   "cell_type": "code",
   "execution_count": 36,
   "metadata": {
    "slideshow": {
     "slide_type": "fragment"
    }
   },
   "outputs": [
    {
     "data": {
      "text/html": [
       "<div>\n",
       "<style scoped>\n",
       "    .dataframe tbody tr th:only-of-type {\n",
       "        vertical-align: middle;\n",
       "    }\n",
       "\n",
       "    .dataframe tbody tr th {\n",
       "        vertical-align: top;\n",
       "    }\n",
       "\n",
       "    .dataframe thead th {\n",
       "        text-align: right;\n",
       "    }\n",
       "</style>\n",
       "<table border=\"1\" class=\"dataframe\">\n",
       "  <thead>\n",
       "    <tr style=\"text-align: right;\">\n",
       "      <th>Borough</th>\n",
       "      <th>BRONX</th>\n",
       "      <th>BROOKLYN</th>\n",
       "      <th>MANHATTAN</th>\n",
       "      <th>QUEENS</th>\n",
       "      <th>STATEN ISLAND</th>\n",
       "    </tr>\n",
       "    <tr>\n",
       "      <th>Complaint Type</th>\n",
       "      <th></th>\n",
       "      <th></th>\n",
       "      <th></th>\n",
       "      <th></th>\n",
       "      <th></th>\n",
       "    </tr>\n",
       "  </thead>\n",
       "  <tbody>\n",
       "    <tr>\n",
       "      <th>Collection Truck Noise</th>\n",
       "      <td>NaN</td>\n",
       "      <td>6.0</td>\n",
       "      <td>5.0</td>\n",
       "      <td>4.0</td>\n",
       "      <td>1.0</td>\n",
       "    </tr>\n",
       "    <tr>\n",
       "      <th>Noise</th>\n",
       "      <td>115.0</td>\n",
       "      <td>536.0</td>\n",
       "      <td>1061.0</td>\n",
       "      <td>400.0</td>\n",
       "      <td>72.0</td>\n",
       "    </tr>\n",
       "    <tr>\n",
       "      <th>Noise - Commercial</th>\n",
       "      <td>163.0</td>\n",
       "      <td>698.0</td>\n",
       "      <td>1223.0</td>\n",
       "      <td>406.0</td>\n",
       "      <td>42.0</td>\n",
       "    </tr>\n",
       "    <tr>\n",
       "      <th>Noise - Helicopter</th>\n",
       "      <td>NaN</td>\n",
       "      <td>21.0</td>\n",
       "      <td>63.0</td>\n",
       "      <td>9.0</td>\n",
       "      <td>NaN</td>\n",
       "    </tr>\n",
       "    <tr>\n",
       "      <th>Noise - House of Worship</th>\n",
       "      <td>1.0</td>\n",
       "      <td>24.0</td>\n",
       "      <td>3.0</td>\n",
       "      <td>7.0</td>\n",
       "      <td>NaN</td>\n",
       "    </tr>\n",
       "    <tr>\n",
       "      <th>Noise - Park</th>\n",
       "      <td>2.0</td>\n",
       "      <td>NaN</td>\n",
       "      <td>17.0</td>\n",
       "      <td>11.0</td>\n",
       "      <td>NaN</td>\n",
       "    </tr>\n",
       "    <tr>\n",
       "      <th>Noise - Street/Sidewalk</th>\n",
       "      <td>109.0</td>\n",
       "      <td>208.0</td>\n",
       "      <td>609.0</td>\n",
       "      <td>100.0</td>\n",
       "      <td>19.0</td>\n",
       "    </tr>\n",
       "    <tr>\n",
       "      <th>Noise - Vehicle</th>\n",
       "      <td>53.0</td>\n",
       "      <td>183.0</td>\n",
       "      <td>228.0</td>\n",
       "      <td>75.0</td>\n",
       "      <td>18.0</td>\n",
       "    </tr>\n",
       "  </tbody>\n",
       "</table>\n",
       "</div>"
      ],
      "text/plain": [
       "Borough                   BRONX  BROOKLYN  MANHATTAN  QUEENS  STATEN ISLAND\n",
       "Complaint Type                                                             \n",
       "Collection Truck Noise      NaN       6.0        5.0     4.0            1.0\n",
       "Noise                     115.0     536.0     1061.0   400.0           72.0\n",
       "Noise - Commercial        163.0     698.0     1223.0   406.0           42.0\n",
       "Noise - Helicopter          NaN      21.0       63.0     9.0            NaN\n",
       "Noise - House of Worship    1.0      24.0        3.0     7.0            NaN\n",
       "Noise - Park                2.0       NaN       17.0    11.0            NaN\n",
       "Noise - Street/Sidewalk   109.0     208.0      609.0   100.0           19.0\n",
       "Noise - Vehicle            53.0     183.0      228.0    75.0           18.0"
      ]
     },
     "execution_count": 36,
     "metadata": {},
     "output_type": "execute_result"
    }
   ],
   "source": [
    "pivoted"
   ]
  },
  {
   "cell_type": "markdown",
   "metadata": {
    "slideshow": {
     "slide_type": "slide"
    }
   },
   "source": [
    "### Stack"
   ]
  },
  {
   "cell_type": "code",
   "execution_count": 37,
   "metadata": {},
   "outputs": [
    {
     "data": {
      "text/plain": [
       "Complaint Type          Borough      \n",
       "Collection Truck Noise  BROOKLYN            6.0\n",
       "                        MANHATTAN           5.0\n",
       "                        QUEENS              4.0\n",
       "                        STATEN ISLAND       1.0\n",
       "Noise                   BRONX             115.0\n",
       "                        BROOKLYN          536.0\n",
       "                        MANHATTAN        1061.0\n",
       "                        QUEENS            400.0\n",
       "                        STATEN ISLAND      72.0\n",
       "Noise - Commercial      BRONX             163.0\n",
       "dtype: float64"
      ]
     },
     "execution_count": 37,
     "metadata": {},
     "output_type": "execute_result"
    }
   ],
   "source": [
    "stacked = pivoted.stack()\n",
    "stacked[:10]"
   ]
  },
  {
   "cell_type": "markdown",
   "metadata": {
    "slideshow": {
     "slide_type": "fragment"
    }
   },
   "source": [
    "We originally had:\n",
    "\n",
    "* index = noise complaint type\n",
    "* columns = borough\n",
    "\n",
    "After stacking, the 'Borough' column becomes an extra level of the index; we get a _hierarchical_ index.\n",
    "\n",
    "* first level of index = noise complaint type\n",
    "* second level of index = borough\n",
    "\n",
    "Notice that the NaN values are smoothly hidden in the stacked view."
   ]
  },
  {
   "cell_type": "markdown",
   "metadata": {
    "slideshow": {
     "slide_type": "slide"
    }
   },
   "source": [
    "### Unstack\n",
    "\n",
    "Unstacking is the opposite of stacking; we move something from index to column.\n",
    "In a hierarchical index, we can choose what to send from index to column."
   ]
  },
  {
   "cell_type": "code",
   "execution_count": 38,
   "metadata": {},
   "outputs": [
    {
     "data": {
      "text/html": [
       "<div>\n",
       "<style scoped>\n",
       "    .dataframe tbody tr th:only-of-type {\n",
       "        vertical-align: middle;\n",
       "    }\n",
       "\n",
       "    .dataframe tbody tr th {\n",
       "        vertical-align: top;\n",
       "    }\n",
       "\n",
       "    .dataframe thead th {\n",
       "        text-align: right;\n",
       "    }\n",
       "</style>\n",
       "<table border=\"1\" class=\"dataframe\">\n",
       "  <thead>\n",
       "    <tr style=\"text-align: right;\">\n",
       "      <th>Borough</th>\n",
       "      <th>BRONX</th>\n",
       "      <th>BROOKLYN</th>\n",
       "      <th>MANHATTAN</th>\n",
       "      <th>QUEENS</th>\n",
       "      <th>STATEN ISLAND</th>\n",
       "    </tr>\n",
       "    <tr>\n",
       "      <th>Complaint Type</th>\n",
       "      <th></th>\n",
       "      <th></th>\n",
       "      <th></th>\n",
       "      <th></th>\n",
       "      <th></th>\n",
       "    </tr>\n",
       "  </thead>\n",
       "  <tbody>\n",
       "    <tr>\n",
       "      <th>Collection Truck Noise</th>\n",
       "      <td>NaN</td>\n",
       "      <td>6.0</td>\n",
       "      <td>5.0</td>\n",
       "      <td>4.0</td>\n",
       "      <td>1.0</td>\n",
       "    </tr>\n",
       "    <tr>\n",
       "      <th>Noise</th>\n",
       "      <td>115.0</td>\n",
       "      <td>536.0</td>\n",
       "      <td>1061.0</td>\n",
       "      <td>400.0</td>\n",
       "      <td>72.0</td>\n",
       "    </tr>\n",
       "    <tr>\n",
       "      <th>Noise - Commercial</th>\n",
       "      <td>163.0</td>\n",
       "      <td>698.0</td>\n",
       "      <td>1223.0</td>\n",
       "      <td>406.0</td>\n",
       "      <td>42.0</td>\n",
       "    </tr>\n",
       "  </tbody>\n",
       "</table>\n",
       "</div>"
      ],
      "text/plain": [
       "Borough                 BRONX  BROOKLYN  MANHATTAN  QUEENS  STATEN ISLAND\n",
       "Complaint Type                                                           \n",
       "Collection Truck Noise    NaN       6.0        5.0     4.0            1.0\n",
       "Noise                   115.0     536.0     1061.0   400.0           72.0\n",
       "Noise - Commercial      163.0     698.0     1223.0   406.0           42.0"
      ]
     },
     "execution_count": 38,
     "metadata": {},
     "output_type": "execute_result"
    }
   ],
   "source": [
    "stacked.unstack('Borough')[:3]  # we get back the pivoted DataFrame"
   ]
  },
  {
   "cell_type": "code",
   "execution_count": 39,
   "metadata": {
    "slideshow": {
     "slide_type": "fragment"
    }
   },
   "outputs": [
    {
     "data": {
      "text/html": [
       "<div>\n",
       "<style scoped>\n",
       "    .dataframe tbody tr th:only-of-type {\n",
       "        vertical-align: middle;\n",
       "    }\n",
       "\n",
       "    .dataframe tbody tr th {\n",
       "        vertical-align: top;\n",
       "    }\n",
       "\n",
       "    .dataframe thead th {\n",
       "        text-align: right;\n",
       "    }\n",
       "</style>\n",
       "<table border=\"1\" class=\"dataframe\">\n",
       "  <thead>\n",
       "    <tr style=\"text-align: right;\">\n",
       "      <th>Complaint Type</th>\n",
       "      <th>Collection Truck Noise</th>\n",
       "      <th>Noise</th>\n",
       "      <th>Noise - Commercial</th>\n",
       "      <th>Noise - Helicopter</th>\n",
       "      <th>Noise - House of Worship</th>\n",
       "      <th>Noise - Park</th>\n",
       "      <th>Noise - Street/Sidewalk</th>\n",
       "      <th>Noise - Vehicle</th>\n",
       "    </tr>\n",
       "    <tr>\n",
       "      <th>Borough</th>\n",
       "      <th></th>\n",
       "      <th></th>\n",
       "      <th></th>\n",
       "      <th></th>\n",
       "      <th></th>\n",
       "      <th></th>\n",
       "      <th></th>\n",
       "      <th></th>\n",
       "    </tr>\n",
       "  </thead>\n",
       "  <tbody>\n",
       "    <tr>\n",
       "      <th>BRONX</th>\n",
       "      <td>NaN</td>\n",
       "      <td>115.0</td>\n",
       "      <td>163.0</td>\n",
       "      <td>NaN</td>\n",
       "      <td>1.0</td>\n",
       "      <td>2.0</td>\n",
       "      <td>109.0</td>\n",
       "      <td>53.0</td>\n",
       "    </tr>\n",
       "    <tr>\n",
       "      <th>BROOKLYN</th>\n",
       "      <td>6.0</td>\n",
       "      <td>536.0</td>\n",
       "      <td>698.0</td>\n",
       "      <td>21.0</td>\n",
       "      <td>24.0</td>\n",
       "      <td>NaN</td>\n",
       "      <td>208.0</td>\n",
       "      <td>183.0</td>\n",
       "    </tr>\n",
       "    <tr>\n",
       "      <th>MANHATTAN</th>\n",
       "      <td>5.0</td>\n",
       "      <td>1061.0</td>\n",
       "      <td>1223.0</td>\n",
       "      <td>63.0</td>\n",
       "      <td>3.0</td>\n",
       "      <td>17.0</td>\n",
       "      <td>609.0</td>\n",
       "      <td>228.0</td>\n",
       "    </tr>\n",
       "  </tbody>\n",
       "</table>\n",
       "</div>"
      ],
      "text/plain": [
       "Complaint Type  Collection Truck Noise   Noise  Noise - Commercial  \\\n",
       "Borough                                                              \n",
       "BRONX                              NaN   115.0               163.0   \n",
       "BROOKLYN                           6.0   536.0               698.0   \n",
       "MANHATTAN                          5.0  1061.0              1223.0   \n",
       "\n",
       "Complaint Type  Noise - Helicopter  Noise - House of Worship  Noise - Park  \\\n",
       "Borough                                                                      \n",
       "BRONX                          NaN                       1.0           2.0   \n",
       "BROOKLYN                      21.0                      24.0           NaN   \n",
       "MANHATTAN                     63.0                       3.0          17.0   \n",
       "\n",
       "Complaint Type  Noise - Street/Sidewalk  Noise - Vehicle  \n",
       "Borough                                                   \n",
       "BRONX                             109.0             53.0  \n",
       "BROOKLYN                          208.0            183.0  \n",
       "MANHATTAN                         609.0            228.0  "
      ]
     },
     "execution_count": 39,
     "metadata": {},
     "output_type": "execute_result"
    }
   ],
   "source": [
    "stacked.unstack('Complaint Type')[:3]  # we can also get it the other way"
   ]
  },
  {
   "cell_type": "markdown",
   "metadata": {
    "slideshow": {
     "slide_type": "slide"
    }
   },
   "source": [
    "### Which type of noise complaint is most prevalent in each Borough?"
   ]
  },
  {
   "cell_type": "code",
   "execution_count": 40,
   "metadata": {},
   "outputs": [
    {
     "data": {
      "text/html": [
       "<div>\n",
       "<style scoped>\n",
       "    .dataframe tbody tr th:only-of-type {\n",
       "        vertical-align: middle;\n",
       "    }\n",
       "\n",
       "    .dataframe tbody tr th {\n",
       "        vertical-align: top;\n",
       "    }\n",
       "\n",
       "    .dataframe thead th {\n",
       "        text-align: right;\n",
       "    }\n",
       "</style>\n",
       "<table border=\"1\" class=\"dataframe\">\n",
       "  <thead>\n",
       "    <tr style=\"text-align: right;\">\n",
       "      <th>Borough</th>\n",
       "      <th>BRONX</th>\n",
       "      <th>BROOKLYN</th>\n",
       "      <th>MANHATTAN</th>\n",
       "      <th>QUEENS</th>\n",
       "      <th>STATEN ISLAND</th>\n",
       "    </tr>\n",
       "    <tr>\n",
       "      <th>Complaint Type</th>\n",
       "      <th></th>\n",
       "      <th></th>\n",
       "      <th></th>\n",
       "      <th></th>\n",
       "      <th></th>\n",
       "    </tr>\n",
       "  </thead>\n",
       "  <tbody>\n",
       "    <tr>\n",
       "      <th>Collection Truck Noise</th>\n",
       "      <td>NaN</td>\n",
       "      <td>6.0</td>\n",
       "      <td>5.0</td>\n",
       "      <td>4.0</td>\n",
       "      <td>1.0</td>\n",
       "    </tr>\n",
       "    <tr>\n",
       "      <th>Noise</th>\n",
       "      <td>115.0</td>\n",
       "      <td>536.0</td>\n",
       "      <td>1061.0</td>\n",
       "      <td>400.0</td>\n",
       "      <td>72.0</td>\n",
       "    </tr>\n",
       "    <tr>\n",
       "      <th>Noise - Commercial</th>\n",
       "      <td>163.0</td>\n",
       "      <td>698.0</td>\n",
       "      <td>1223.0</td>\n",
       "      <td>406.0</td>\n",
       "      <td>42.0</td>\n",
       "    </tr>\n",
       "    <tr>\n",
       "      <th>Noise - Helicopter</th>\n",
       "      <td>NaN</td>\n",
       "      <td>21.0</td>\n",
       "      <td>63.0</td>\n",
       "      <td>9.0</td>\n",
       "      <td>NaN</td>\n",
       "    </tr>\n",
       "    <tr>\n",
       "      <th>Noise - House of Worship</th>\n",
       "      <td>1.0</td>\n",
       "      <td>24.0</td>\n",
       "      <td>3.0</td>\n",
       "      <td>7.0</td>\n",
       "      <td>NaN</td>\n",
       "    </tr>\n",
       "  </tbody>\n",
       "</table>\n",
       "</div>"
      ],
      "text/plain": [
       "Borough                   BRONX  BROOKLYN  MANHATTAN  QUEENS  STATEN ISLAND\n",
       "Complaint Type                                                             \n",
       "Collection Truck Noise      NaN       6.0        5.0     4.0            1.0\n",
       "Noise                     115.0     536.0     1061.0   400.0           72.0\n",
       "Noise - Commercial        163.0     698.0     1223.0   406.0           42.0\n",
       "Noise - Helicopter          NaN      21.0       63.0     9.0            NaN\n",
       "Noise - House of Worship    1.0      24.0        3.0     7.0            NaN"
      ]
     },
     "execution_count": 40,
     "metadata": {},
     "output_type": "execute_result"
    }
   ],
   "source": [
    "pivoted[:5]"
   ]
  },
  {
   "cell_type": "markdown",
   "metadata": {
    "slideshow": {
     "slide_type": "fragment"
    }
   },
   "source": [
    "If we only wanted the most prevalent complaint for one Borough (say, Bronx), what would we do?"
   ]
  },
  {
   "cell_type": "code",
   "execution_count": 41,
   "metadata": {
    "slideshow": {
     "slide_type": "fragment"
    }
   },
   "outputs": [
    {
     "name": "stdout",
     "output_type": "stream",
     "text": [
      "Most prevalent complaint for BRONX is Noise - Commercial\n",
      "which occurred 163.0 times.\n"
     ]
    }
   ],
   "source": [
    "# Getting the max value or index for a Series is easy.\n",
    "print 'Most prevalent complaint for BRONX is', pivoted['BRONX'].idxmax()\n",
    "print 'which occurred', pivoted['BRONX'].max(), 'times.'"
   ]
  },
  {
   "cell_type": "markdown",
   "metadata": {
    "slideshow": {
     "slide_type": "slide"
    }
   },
   "source": [
    "The same _idxmax()_ function works for DataFrames as well"
   ]
  },
  {
   "cell_type": "code",
   "execution_count": 42,
   "metadata": {},
   "outputs": [
    {
     "data": {
      "text/plain": [
       "Borough\n",
       "BRONX            Noise - Commercial\n",
       "BROOKLYN         Noise - Commercial\n",
       "MANHATTAN        Noise - Commercial\n",
       "QUEENS           Noise - Commercial\n",
       "STATEN ISLAND                 Noise\n",
       "dtype: object"
      ]
     },
     "execution_count": 42,
     "metadata": {},
     "output_type": "execute_result"
    }
   ],
   "source": [
    "# For a DataFrame, the same thing works.\n",
    "pivoted.idxmax()"
   ]
  },
  {
   "cell_type": "code",
   "execution_count": 43,
   "metadata": {
    "slideshow": {
     "slide_type": "slide"
    }
   },
   "outputs": [
    {
     "data": {
      "text/plain": [
       "Borough\n",
       "BRONX             163.0\n",
       "BROOKLYN          698.0\n",
       "MANHATTAN        1223.0\n",
       "QUEENS            406.0\n",
       "STATEN ISLAND      72.0\n",
       "dtype: float64"
      ]
     },
     "execution_count": 43,
     "metadata": {},
     "output_type": "execute_result"
    }
   ],
   "source": [
    "# Similarly, getting the max value is easy.\n",
    "pivoted.max()"
   ]
  },
  {
   "cell_type": "code",
   "execution_count": 44,
   "metadata": {
    "slideshow": {
     "slide_type": "fragment"
    }
   },
   "outputs": [
    {
     "data": {
      "text/html": [
       "<div>\n",
       "<style scoped>\n",
       "    .dataframe tbody tr th:only-of-type {\n",
       "        vertical-align: middle;\n",
       "    }\n",
       "\n",
       "    .dataframe tbody tr th {\n",
       "        vertical-align: top;\n",
       "    }\n",
       "\n",
       "    .dataframe thead th {\n",
       "        text-align: right;\n",
       "    }\n",
       "</style>\n",
       "<table border=\"1\" class=\"dataframe\">\n",
       "  <thead>\n",
       "    <tr style=\"text-align: right;\">\n",
       "      <th></th>\n",
       "      <th>Most common complaint</th>\n",
       "      <th>Num complaints</th>\n",
       "    </tr>\n",
       "    <tr>\n",
       "      <th>Borough</th>\n",
       "      <th></th>\n",
       "      <th></th>\n",
       "    </tr>\n",
       "  </thead>\n",
       "  <tbody>\n",
       "    <tr>\n",
       "      <th>BRONX</th>\n",
       "      <td>Noise - Commercial</td>\n",
       "      <td>163.0</td>\n",
       "    </tr>\n",
       "    <tr>\n",
       "      <th>BROOKLYN</th>\n",
       "      <td>Noise - Commercial</td>\n",
       "      <td>698.0</td>\n",
       "    </tr>\n",
       "    <tr>\n",
       "      <th>MANHATTAN</th>\n",
       "      <td>Noise - Commercial</td>\n",
       "      <td>1223.0</td>\n",
       "    </tr>\n",
       "    <tr>\n",
       "      <th>QUEENS</th>\n",
       "      <td>Noise - Commercial</td>\n",
       "      <td>406.0</td>\n",
       "    </tr>\n",
       "    <tr>\n",
       "      <th>STATEN ISLAND</th>\n",
       "      <td>Noise</td>\n",
       "      <td>72.0</td>\n",
       "    </tr>\n",
       "  </tbody>\n",
       "</table>\n",
       "</div>"
      ],
      "text/plain": [
       "              Most common complaint  Num complaints\n",
       "Borough                                            \n",
       "BRONX            Noise - Commercial           163.0\n",
       "BROOKLYN         Noise - Commercial           698.0\n",
       "MANHATTAN        Noise - Commercial          1223.0\n",
       "QUEENS           Noise - Commercial           406.0\n",
       "STATEN ISLAND                 Noise            72.0"
      ]
     },
     "execution_count": 44,
     "metadata": {},
     "output_type": "execute_result"
    }
   ],
   "source": [
    "# How do we get both together?\n",
    "most_common = DataFrame({'Most common complaint':pivoted.idxmax(), 'Num complaints':pivoted.max()})\n",
    "most_common"
   ]
  },
  {
   "cell_type": "markdown",
   "metadata": {
    "slideshow": {
     "slide_type": "slide"
    }
   },
   "source": [
    "### Summary\n",
    "\n",
    "* **merge** combines multiple DataFrames into one\n",
    "    * Useful when you want to ask questions whose answers lie in different DataFrames\n",
    "* **rank**, which ranks the values in a Series\n",
    "* **qcut**, which splits the values of a Series into percentiles\n",
    "* **pivot_table**, which gives a break-up according to _values_ of columns in a DataFrame"
   ]
  }
 ],
 "metadata": {
  "anaconda-cloud": {},
  "celltoolbar": "Slideshow",
  "kernelspec": {
   "display_name": "Python 2",
   "language": "python",
   "name": "python2"
  },
  "language_info": {
   "codemirror_mode": {
    "name": "ipython",
    "version": 2
   },
   "file_extension": ".py",
   "mimetype": "text/x-python",
   "name": "python",
   "nbconvert_exporter": "python",
   "pygments_lexer": "ipython2",
   "version": "2.7.15"
  }
 },
 "nbformat": 4,
 "nbformat_minor": 1
}
