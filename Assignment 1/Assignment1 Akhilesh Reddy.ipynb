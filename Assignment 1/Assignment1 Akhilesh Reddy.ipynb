{
 "cells": [
  {
   "cell_type": "markdown",
   "metadata": {},
   "source": [
    "## Problem #1: Rock, Paper, Scissors"
   ]
  },
  {
   "cell_type": "markdown",
   "metadata": {},
   "source": [
    "This is a popular game (see here), and you must create a computer player.\n",
    "Game setup. Each game round consists two turns, the first by the computer and the second by a human. The computer continues playing rounds until the human chooses to quit.  \n",
    "* The computer chooses one of Rock, Paper, and Scissors, but keeps its choice secret.  \n",
    "* The computer asks for the human’s input.\n",
    "* The human chooses one of Rock, Paper, and Scissors, or Quit.\n",
    "* Unless the human quits, the computer figures out the result of the game, as follows:  \n",
    "    * Rock smashes Scissors, so Rock beats Scissors.  \n",
    "    * Scissors can cut up paper, so Scissors beat Paper.  \n",
    "    * Paper covers Rock, so Paper beats Rock.  \n",
    "    \n",
    "If both players chose the same, it is a draw. The computer reports the\n",
    "result of this round.  \n",
    "* If the human chooses to quit, the computer reports:\n",
    "    – the number of games played, and  \n",
    "    – the number of times the human won.  \n",
    "\n",
    "\n",
    "Computer’s brains. The computer must be able to exploit some human biases. If the human has played Rock most often, the computer should assume that he or she will play Rock in the next round, so the computer should play Paper. If the human has played Rock and Paper equally often, and Scissors less often, the computer should assume that the human is going\n",
    "to play either Rock or Paper (both equally likely) in the next round. (What should the computer play?)\n",
    "Hence, your program should remember how many Rock, Paper, or Scissors were played by the human. Note that we don’t need to\n",
    "remember the order in which the human chooses these; the total counts so far for each choice will be enough.  \n",
    "\n",
    "\n",
    "**User input:**  \n",
    "How you want to receive the user’s input is up to you,\n",
    "but you must check the user’s input to make sure it is valid (you can\n",
    "assume that the user input is of the correct type). If it isn’t, request\n",
    "the user for input again.\n"
   ]
  },
  {
   "cell_type": "code",
   "execution_count": 2,
   "metadata": {},
   "outputs": [
    {
     "name": "stdout",
     "output_type": "stream",
     "text": [
      "Please Choose: Rock, Paper, Scissors, or Quit: Paper\n",
      "Paper Covers Rock, you WIN\n",
      "Please Choose: Rock, Paper, Scissors, Quit: Paper\n",
      "Scissors cut Paper, you LOSE\n",
      "Please Choose: Rock, Paper, Scissors, Quit: Rock\n",
      "Rock smashes Scissors, you WIN\n",
      "Please Choose: Rock, Paper, Scissors, Quit: Rock\n",
      "Rock smashes Scissors, you WIN\n",
      "Please Choose: Rock, Paper, Scissors, Quit: Rock\n",
      "Rock smashes Scissors, you WIN\n",
      "Please Choose: Rock, Paper, Scissors, Quit: Rock\n",
      "Paper Covers Rock, you LOSE\n",
      "Please Choose: Rock, Paper, Scissors, Quit: Quit\n",
      "Thanks for playing! You played 6 games, and won 4 of them\n"
     ]
    }
   ],
   "source": [
    "\"\"\"Begin by calling the random module to play Rock, Paper, Scissors\"\"\"\n",
    "import random\n",
    "\n",
    "\"\"\"Define the Global Variables\"\"\"\n",
    "games = 0\n",
    "wins = 0\n",
    "number_of_rocks = 0\n",
    "number_of_papers = 0\n",
    "number_of_scissors = 0\n",
    "\n",
    "\"\"\"Have the computer randomly select their choice to play the game\"\"\"\n",
    "def game():\n",
    "    #computer_choice = random.randint(0,2)\n",
    "    \n",
    "    if number_of_scissors >= number_of_rocks and  number_of_scissors >= number_of_papers:\n",
    "        computer_choice_rock()\n",
    "    elif number_of_papers >= number_of_rocks and number_of_papers >= number_of_rocks:\n",
    "        computer_choice_scissors()\n",
    "    else:\n",
    "        computer_choice_paper()\n",
    "\n",
    "\"\"\"If the computer chooses Rock, then this is the function that will execute\"\"\"\n",
    "def computer_choice_rock():\n",
    "    user_choice = raw_input(\"Please Choose: Rock, Paper, Scissors, or Quit: \")\n",
    "    global wins\n",
    "    global games\n",
    "    global number_of_rocks\n",
    "    global number_of_papers\n",
    "    global number_of_scissors\n",
    "    \n",
    "    if user_choice == \"Rock\":\n",
    "        games += 1\n",
    "        number_of_rocks += 1\n",
    "        print \"It is a Tie\"\n",
    "        game()\n",
    "    elif user_choice == \"Paper\":\n",
    "        wins += 1\n",
    "        games += 1\n",
    "        number_of_papers += 1\n",
    "        print \"Paper Covers Rock, you WIN\"\n",
    "        game()\n",
    "    elif user_choice == \"Scissors\":\n",
    "        games += 1\n",
    "        number_of_scissors += 1\n",
    "        print \"Rock smashes Scissors, you LOSE\"\n",
    "        game()\n",
    "    elif user_choice == \"Quit\":\n",
    "        print \"Thanks for playing! You played\" ,games, \"games, and won\", wins, \"of them\"\n",
    "    else:\n",
    "        print user_choice + \" is not a valid selection\"\n",
    "        game()\n",
    "        \n",
    "\"\"\"If the computer chooses Paper, then this is the function that will execute\"\"\"        \n",
    "def computer_choice_paper():\n",
    "    user_choice = raw_input(\"Please Choose: Rock, Paper, Scissors, Quit: \")\n",
    "    global wins\n",
    "    global games\n",
    "    global number_of_rocks\n",
    "    global number_of_papers\n",
    "    global number_of_scissors\n",
    "    \n",
    "    if user_choice == \"Rock\":\n",
    "        games += 1\n",
    "        number_of_rocks += 1\n",
    "        print \"Paper Covers Rock, you LOSE\"\n",
    "        game()\n",
    "    elif user_choice == \"Paper\":\n",
    "        games += 1\n",
    "        number_of_papers += 1\n",
    "        print \"It is a Tie\"\n",
    "        game()\n",
    "    elif user_choice == \"Scissors\":\n",
    "        wins += 1\n",
    "        games += 1\n",
    "        number_of_scissors += 1\n",
    "        print \"Scissors cut Paper, you WIN\"\n",
    "        game()\n",
    "    elif user_choice == \"Quit\":\n",
    "        print \"Thanks for playing! You played\" ,games, \"games, and won\", wins, \"of them\"\n",
    "    else:\n",
    "        print user_choice, \" is not a valid selection\"\n",
    "        game()\n",
    "        \n",
    "\"\"\"If the computer chooses Scissors, then this is the function that will execute\"\"\"\n",
    "def computer_choice_scissors():\n",
    "    user_choice = raw_input(\"Please Choose: Rock, Paper, Scissors, Quit: \")\n",
    "    global wins\n",
    "    global games\n",
    "    global number_of_rocks\n",
    "    global number_of_papers\n",
    "    global number_of_scissors\n",
    "    \n",
    "    if user_choice == \"Rock\":\n",
    "        wins += 1\n",
    "        games += 1\n",
    "        number_of_rocks += 1\n",
    "        print \"Rock smashes Scissors, you WIN\"\n",
    "        game()\n",
    "    elif user_choice == \"Paper\":\n",
    "        games += 1\n",
    "        number_of_papers += 1\n",
    "        print \"Scissors cut Paper, you LOSE\"\n",
    "        game()\n",
    "    elif user_choice == \"Scissors\":\n",
    "        games += 1\n",
    "        number_of_scissors += 1\n",
    "        print \"It is a Tie\"\n",
    "        game()\n",
    "    elif user_choice == \"Quit\":\n",
    "        print \"Thanks for playing! You played\" ,games, \"games, and won\", wins, \"of them\"\n",
    "    else:\n",
    "        print user_choice + \" is not a valid selection\"\n",
    "        game()\n",
    "\n",
    "\"\"\"This is calling the original function to play the game\"\"\"        \n",
    "game()"
   ]
  },
  {
   "cell_type": "markdown",
   "metadata": {
    "collapsed": true
   },
   "source": [
    "## Problem #2: Voters in Florida\n",
    "\n",
    "The file *FloridaVoters.html* contains a Web Table of republican and democratic voters in various counties in Florida. Write code that reads in this file as a standard text file and prints out the counties, along with the number of republican and democratic voters in those counties, sorted by the number of democratic voters. The output should look like this:\n",
    "\n",
    "LAFAYETTE 1373 2672  \n",
    "GLADES 2190 3110  \n",
    "LIBERTY 720 3372  \n",
    "...  \n",
    "\n",
    "MIAMI-DADE 362161 539367  \n",
    "BROWARD 249762 566185  \n",
    "Total 4377713 4637026  \n",
    "\n",
    "Note that the numbers in the HTML file contain commas, but we got rid of them in order to do the sorting. Also, while we should technically ignore the data for Total, let’s not worry about it here.  \n",
    "\n",
    "**Please note:** There are many libraries for automatically reading and parsing HTML. You should not use them. You must read in the HTML file as a plain text file, and figure out the correct regular expressions to extract the county names and the numbers of voters.  \n",
    "\n",
    "**Hint:** You may want to read in the file and create a list of tuples of\n",
    "the form [(’ALACHUA’, 47329, 77996), (’BAKER’, 6963, 5813), ...]\n",
    "and then do the sorting and printing.\n"
   ]
  },
  {
   "cell_type": "code",
   "execution_count": 2,
   "metadata": {},
   "outputs": [],
   "source": [
    "\"\"\"This reads in the html file\"\"\"\n",
    "\n",
    "data=open('FloridaVoters.html','r')\n",
    "import re\n",
    "lines=data.read()"
   ]
  },
  {
   "cell_type": "code",
   "execution_count": 3,
   "metadata": {},
   "outputs": [],
   "source": [
    "\"\"\"This creates a list that uses regular expression to extract counties & voters\"\"\"\n",
    "\n",
    "list=[]\n",
    "def find(data):\n",
    "    temp=re.findall('<td>(.+)</td>\\n',data)\n",
    "    list=[temp[i:i+3] for i in range(0,len(temp),6)]\n",
    "    for i in list:\n",
    "        for j in [1,2]:\n",
    "            list[list.index(i)][j]=int(\"\".join(list[list.index(i)][j].split(',')))\n",
    "    return list\n",
    "final_list=find(lines)"
   ]
  },
  {
   "cell_type": "code",
   "execution_count": 4,
   "metadata": {},
   "outputs": [
    {
     "name": "stdout",
     "output_type": "stream",
     "text": [
      "LAFAYETTE 1373 2672\n",
      "GLADES 2190 3110\n",
      "LIBERTY 720 3372\n",
      "UNION 2752 3579\n",
      "GILCHRIST 5789 3652\n",
      "FRANKLIN 2234 4319\n",
      "HOLMES 5282 4434\n",
      "GULF 4234 4521\n",
      "HARDEE 4859 4702\n",
      "HAMILTON 2154 4796\n",
      "DIXIE 3314 4839\n",
      "CALHOUN 2201 5324\n",
      "WASHINGTON 7101 5687\n",
      "JEFFERSON 2636 5802\n",
      "BAKER 6963 5813\n",
      "BRADFORD 6878 6533\n",
      "TAYLOR 3950 6915\n",
      "MADISON 2992 7158\n",
      "DESOTO 4870 7181\n",
      "OKEECHOBEE 7755 7756\n",
      "HENDRY 5862 7999\n",
      "WAKULLA 7374 8889\n",
      "LEVY 11665 9509\n",
      "WALTON 25609 10013\n",
      "SUWANNEE 10745 11126\n",
      "NASSAU 32958 14013\n",
      "COLUMBIA 15790 14797\n",
      "JACKSON 9626 15706\n",
      "MONROE 20602 17614\n",
      "HIGHLANDS 27100 19997\n",
      "PUTNAM 17067 20606\n",
      "GADSDEN 4372 22161\n",
      "SUMTER 47158 22977\n",
      "FLAGLER 30047 24734\n",
      "OKALOOSA 75154 25172\n",
      "SANTA ROSA 73627 26114\n",
      "MARTIN 53800 27358\n",
      "INDIAN RIVER 47794 28204\n",
      "CITRUS 46373 30440\n",
      "BAY 57456 30733\n",
      "CLAY 76584 31285\n",
      "CHARLOTTE 54421 35602\n",
      "ST. JOHNS 88385 39531\n",
      "HERNANDO 51254 42499\n",
      "COLLIER 100167 45511\n",
      "LAKE 93604 67237\n",
      "MANATEE 96063 67926\n",
      "ESCAMBIA 90265 70180\n",
      "OSCEOLA 44594 75657\n",
      "ST. LUCIE 59626 76163\n",
      "MARION 97306 76268\n",
      "ALACHUA 47329 77996\n",
      "SARASOTA 125872 89711\n",
      "SEMINOLE 107833 91686\n",
      "LEON 54554 103140\n",
      "PASCO 125305 104324\n",
      "LEE 180718 114633\n",
      "VOLUSIA 121402 124136\n",
      "BREVARD 167129 127435\n",
      "POLK 140619 143799\n",
      "PINELLAS 223077 221968\n",
      "DUVAL 210195 229501\n",
      "ORANGE 206174 303458\n",
      "HILLSBOROUGH 257436 314265\n",
      "PALM BEACH 245452 367236\n",
      "MIAMI-DADE 362161 539367\n",
      "BROWARD 249762 566185\n",
      "Total 4377713 4637026\n"
     ]
    }
   ],
   "source": [
    "\"\"\"This sorts the list by the 3rd index in the list- which is Democrats\"\"\"\n",
    "\n",
    "final_list=sorted(final_list,key=lambda x:x[2])\n",
    "for i in final_list:\n",
    "    print i[0],i[1],i[2]"
   ]
  },
  {
   "cell_type": "markdown",
   "metadata": {},
   "source": [
    "## Problem #3- The Google of Quotes\n",
    "The file “quotes.txt” contains pairs of lines, with the first line being a quote and the following line being the person who said it. We want to build a search engine that, given a word or words, finds the best matching quotes"
   ]
  },
  {
   "cell_type": "markdown",
   "metadata": {},
   "source": [
    "## 3a\n",
    "**Build a list of full quotes (5 points).**  \n",
    "Read in the file, and create\n",
    "a list of full quotes of the form “quote - speaker”. For example, “The heart\n",
    "has its reasons, of which the mind knows nothing. - Blaise Pascal”"
   ]
  },
  {
   "cell_type": "code",
   "execution_count": 35,
   "metadata": {},
   "outputs": [],
   "source": [
    "\"\"\"Read in the quotes file\"\"\"\n",
    "\n",
    "fp = open('quotes.txt','r')\n",
    "linelist = fp.readlines()\n",
    "\n",
    "\"\"\"For loop to read lines alternatively and form a string to read from that\"\"\"\n",
    "i = 0\n",
    "full_quotes=[]\n",
    "for i in range((len(linelist))/2):\n",
    "    quote = linelist[2*i].strip('\\n')\n",
    "    auth = linelist[2*i+1].strip('\\n')\n",
    "    final_quote = quote+\"- \"+auth\n",
    "    full_quotes.append(final_quote)\n",
    "\n",
    "import re"
   ]
  },
  {
   "cell_type": "markdown",
   "metadata": {},
   "source": [
    "## 3b\n",
    "\n",
    "**Words from full quotes (5 points).**  \n",
    "Write a function that takes a full quote as argument and outputs a list of the words in the it. The words should all be lower-case, and should contain only characters, digits, or underscore.  \n",
    "\n",
    "**Hint:** Use the lower() function of strings, and re.split() to split into\n",
    "words, but you must figure out the regular expression for re.split()."
   ]
  },
  {
   "cell_type": "code",
   "execution_count": 55,
   "metadata": {},
   "outputs": [],
   "source": [
    "\"\"\"Use regular expression to split the original list to a list of lowercased words\"\"\"\n",
    "\n",
    "def word_split(l):\n",
    "    result = re.sub('[^\\w\\s]','',l.lower())\n",
    "    k = result.split()\n",
    "    return k\n"
   ]
  },
  {
   "cell_type": "markdown",
   "metadata": {},
   "source": [
    "## 3c\n",
    "\n",
    "**Build the postings-list dictionary (6 points).**  \n",
    "A postings-list is a dictionary whose keys are full quotes, and whose values are themselves dictionaries with key being a word, and value being the number of times the word occurs in the full quote. So, for the key “The heart has its reasons, of which the mind knows nothing. - Blaise Pascal”, the value will itself be the following dictionary: {’the’:2, ’heart’:1, ’has’:1, ’its’:1, ’reasons’:1, ’of’:1, ’which’:1, ’mind’:1, ’knows’:1, ’nothing’:1, ’blaise’:1, ’pascal’:1}."
   ]
  },
  {
   "cell_type": "code",
   "execution_count": 56,
   "metadata": {},
   "outputs": [],
   "source": [
    "\"\"\"Creates a dictionary that splits the quotes to be separate keys\"\"\"\n",
    "\n",
    "postings_list = {}\n",
    "for i in range(len(full_quotes)):\n",
    "    word_list = word_split(full_quotes[i])\n",
    "    dict1 = {}\n",
    "    for w in word_list:\n",
    "        dict1[w] = word_list.count(w)\n",
    "    \n",
    "    postings_list[full_quotes[i]] = dict1"
   ]
  },
  {
   "cell_type": "markdown",
   "metadata": {},
   "source": [
    "## 3d\n",
    "\n",
    "**Build the reverse postings-list dictionary (6 points).**  \n",
    "A reverse postings-list is a dictionary whose keys are the words, and the values are themselves dictionaries with the key being a full quote, and the value being the number of times the word appeared in the full quote.  \n",
    "\n",
    "So, for the key “entertainer”, the value is the dictionary {’An actor is at most a poet and at least an entertainer. - Marlon Brando’: 1} (only this quote contains the word “entertainer”)."
   ]
  },
  {
   "cell_type": "code",
   "execution_count": 57,
   "metadata": {},
   "outputs": [],
   "source": [
    "\"\"\"Create a dictionary that reverses the indexes in the original dictionary\"\"\"\n",
    "rp_dict = {}\n",
    "for i in full_quotes:\n",
    "    word_list = word_split(i)\n",
    "    for j in word_list:\n",
    "        if j in rp_dict:\n",
    "            if i in rp_dict[j]:\n",
    "                rp_dict[j][i] +=1\n",
    "            else:\n",
    "                rp_dict[j][i] = 1\n",
    "        else: \n",
    "            rp_dict[j] = {}\n",
    "            rp_dict[j][i] = 1"
   ]
  },
  {
   "cell_type": "markdown",
   "metadata": {},
   "source": [
    "## 3e\n",
    "\n",
    "**Write a TF-IDF function (8 points).**  \n",
    "To measure how much a full quote is about a particular word, one typically uses the TF-IDF measure.  \n",
    "* TF stands for “term frequency”; the term frequency of a word w in a full quote q is the number of times w occurs in q, divided by the maximum number of times any word occurs in q.  \n",
    "* IDF stands for “inverse document frequency”: the IDF of a word w is the logarithm of the ratio of the total number N of full quotes to the number of full quotes in that contain the word w.  \n",
    "* TF-IDF of a word w for a full quote q is just the product of the TF and IDF.  \n",
    "\n",
    "So, for the word “entertainer” in the Marlon Brando quote of part (d):\n",
    "* The TF is 0.5 (it occurs once, while the most frequent word in that quote is “at”, which occurs twice, so the TF ratio is 0.5)\n",
    "* The IDF is log (895/1), since there are 895 documents and the word “entertainer ” occurs in only one full quote.  \n",
    "\n",
    "Write a function to compute the TF-IDF of any word in any full quote, using the postings and reverse-postings.    \n",
    "**Hint:** Do import math and use math.log() to get logarithms.  \n"
   ]
  },
  {
   "cell_type": "code",
   "execution_count": 50,
   "metadata": {},
   "outputs": [
    {
     "data": {
      "text/plain": [
       "3.3933584753025405"
      ]
     },
     "execution_count": 50,
     "metadata": {},
     "output_type": "execute_result"
    }
   ],
   "source": [
    "\"\"\"Define the expression for determining TF\"\"\"\n",
    "\n",
    "import math\n",
    "def cal_TF_IDF(w,k):\n",
    "    v1 = postings_list[k][w]\n",
    "    v2 = max(postings_list[k].values())\n",
    "    TF = float(v1)/v2\n",
    "    \n",
    "# IDF\n",
    "    quo_occ = len(rp_dict[w])\n",
    "    IDF = math.log(len(full_quotes)/quo_occ)\n",
    "    TF_IDF = TF*IDF\n",
    "    return TF_IDF\n",
    "\n",
    "cal_TF_IDF(\"entertainer\", full_quotes[16])"
   ]
  },
  {
   "cell_type": "markdown",
   "metadata": {},
   "source": [
    "## 3f\n",
    "\n",
    "**Quote search using a single word (5 points).**  \n",
    "Write a function that takes a word as argument, and returns a dictionary whose keys are full quotes containing that word, and whose values are the TF-IDF score of that word for that full quote."
   ]
  },
  {
   "cell_type": "code",
   "execution_count": 51,
   "metadata": {},
   "outputs": [
    {
     "data": {
      "text/plain": [
       "{'An actor is at most a poet and at least an entertainer.- Marlon Brando': 1.5222612188617115,\n",
       " 'Back in the old days, most families were close-knit. Grown children and their parents continued to live together, under the same roof, sometimes in the same small, crowded room, year in and year out, until they died, frequently by strangulation.- Dave Barry': 1.0148408125744743,\n",
       " 'Children are innocent and love justice, while most adults are wicked and prefer mercy.- GK Chesterton': 1.5222612188617115,\n",
       " 'Dying is the most embarrassing thing that can ever happen to you, because someone`s got to take care of all your details.- Andy Warhol': 1.5222612188617115,\n",
       " 'Egalitarians create the most dangerous inequality of all -- inequality of power. Allowing politicians to determine what all other human beings will be allowed to earn is one of the most reckless gambles imaginable. Like the income tax, it may start off being applied only to the rich but it will inevitably reach us all.- Thomas Sowell': 1.5222612188617115,\n",
       " 'Fatherhood is pretending the present you love most is soap on-a-rope.- Bill Cosby': 1.5222612188617115,\n",
       " 'For a time, at least, I was the most famous person in the entire world.- Jesse Owens': 1.5222612188617115,\n",
       " 'He therefore is the truest friend to the liberty of this country who tries most to promote its virtue, and who, so far as his power and influence extend, will not suffer a man to be chosen into any office of power and trust who is not a wise and virtuous man.- Samuel Adams': 0.7611306094308558,\n",
       " 'I arrive at the end of this review having done my duty as a critic. I have described the movie accurately and you have a good idea what you are in for if you go to see it. Most of you will not. I cannot argue with you. Some of you will--the brave and the curious. You embody the spirit of the man who first wondered what it would taste like to eat an oyster.- Roger Ebert': 0.43493177681763184,\n",
       " 'I like television. I still believe that television is the most powerful form of communication on Earth -- I just hate what is being done with it.- Alton Brown': 1.0148408125744743,\n",
       " 'I think, at a child`s birth, if a mother could ask a fairy godmother to endow it with the most useful gift, that gift should be curiosity.- Eleanor Roosevelt': 1.0148408125744743,\n",
       " 'I`m a middle age white guy, which means I`m constantly reminded that my particular group is responsible for the oppression of every known minority PLUS most wars PLUS government corruption PLUS pollution of the environment, not to mention that it was middle-age white guys who killed Bambi`s mom.- Dave Barry': 1.0148408125744743,\n",
       " 'If all our misfortunes were laid in one common heap, whence everyone must take an equal portion, most people would be content to take their own and depart.- Socrates': 1.5222612188617115,\n",
       " 'If you could kick the person in the pants responsible for most of your trouble, you wouldn`t sit for a month.- Theodore Roosevelt': 1.5222612188617115,\n",
       " 'It is most unwise for people in love to marry.- George Bernard Shaw': 3.044522437723423,\n",
       " 'Let us not forget that the cultivation of the earth is the most important labor of man. When tillage begins, other arts will follow. The farmers, therefore, are the founders of civilization.- Daniel Webster': 0.6089044875446846,\n",
       " 'Life`s most persistent and urgent question is, `What are you doing for others?`- Martin Luther King Jr.': 3.044522437723423,\n",
       " 'Man was made for action, and to promote by the exertion of his faculties such changes in the external circumstances both of himself and others, as may seem most favourable to the happiness of all.- Adam Smith': 1.0148408125744743,\n",
       " 'Most football teams are temperamental. That`s 90% temper and 10% mental.- Doug Plank': 3.044522437723423,\n",
       " 'Most modern freedom is at root fear. It is not so much that we are too bold to endure rules; it is rather that we are too timid to endure responsibilities.- GK Chesterton': 1.0148408125744743,\n",
       " 'My most brilliant achievement was my ability to be able to persuade my wife to marry me.- Winston Churchill': 1.0148408125744743,\n",
       " 'New knowledge is the most valuable commodity on earth. The more truth we have to work with, the richer we become.- Kurt Vonnegut': 1.0148408125744743,\n",
       " 'Of all tyrannies, a tyranny exercised for the good of its victims may be the most oppressive. It may be better to live under robber barons than under omnipotent moral busybodies. The robber baron`s cruelty may sometimes sleep, his cupidity may at some point be satiated; but those who torment us for our own good will torment us without end, for they do so with the approval of their own conscience.- C.S. Lewis': 0.7611306094308558,\n",
       " 'Perhaps one of the most important accomplishments of my administration has been minding my own business.- Calvin Coolidge': 1.5222612188617115,\n",
       " 'Regarding the debate about faith and works: It\\x92s like asking which blade in a pair of scissors is most important.- C.S. Lewis': 3.044522437723423,\n",
       " 'Talent alone won`t make you a success. Neither will being in the right place at the right time, unless you are ready. The most important question is: `Are you ready?`- Johnny Carson': 1.0148408125744743,\n",
       " 'That men do not learn very much from the lessons of history is the most important of all the lessons of history.- Aldous Huxley': 1.0148408125744743,\n",
       " 'That the innocent, though they may have some connexion or dependency upon the guilty (which, perhaps, they themselves cannot help), should not, upon that account, suffer or be punished for the guilty, is one of the plainest and most obvious rules of justice.- Adam Smith': 0.7611306094308558,\n",
       " 'The ACLU is always yakking about the Constitution, and most of us are getting mighty tired of it. I mean, if the Constitution is so great, how come it was amended so many times? Huh?- Dave Barry': 1.0148408125744743,\n",
       " 'The best and most beautiful things in the world cannot be seen or even touched. They must be felt with the heart.- Helen Keller': 1.0148408125744743,\n",
       " 'The function of RAM is to give us guys a way of deciding whose computer has the biggest, studliest, most tumescent MEMORY. This is important, because with today`s complex software, the more memory a computer has, the faster it can produce error messages. So the bottom line is, if you`re a guy, you cannot have enough RAM.- Dave Barry': 0.6089044875446846,\n",
       " 'The most exciting phrase to hear in science, the one that heralds new discoveries, is not `Eureka!` (I found it!) but `That`s funny...`- Isaac Asimov': 1.5222612188617115,\n",
       " 'The most incomprehensible thing about the world is that it is at all comprehensible.- Albert Einstein': 1.5222612188617115,\n",
       " 'This is the second most exciting indoor sport, and the other one shouldn`t have spectators.- Dick Vertleib': 1.5222612188617115,\n",
       " 'To be prepared for war is one of the most effectual means of preserving peace.- George Washington': 1.5222612188617115,\n",
       " 'To have the reputation of possessing the most perfect social tact, talk to every woman as if you loved her, and to every man as if he bored you.- Oscar Wilde': 1.0148408125744743,\n",
       " 'To know what is impenetrable to us really exists, manifesting itself as the highest wisdom and the most radiant beauty...this knowledge, this feeling is at the center of true religiousness.- Albert Einstein': 1.0148408125744743,\n",
       " 'We all want progress, but if you`re on the wrong road, progress means doing an about-turn and walking back to the right road; in that case, the man who turns back soonest is the most progressive.- C.S. Lewis': 0.7611306094308558,\n",
       " 'What is the most important for democracy is not that great fortunes should not exist, but that great fortunes should not remain in the same hands. In that way there are rich men, but they do not form a class.- Alexis de Tocqueville': 0.7611306094308558,\n",
       " 'When we got into office, the thing that surprised me the most was that things were as bad as we`d been saying they were.- John F. Kennedy': 1.5222612188617115,\n",
       " 'Why, you can take the most gallant sailor, the most intrepid airman or the most audacious soldier, put them at a table together - what do you get? The sum of their fears.- Winston Churchill': 2.2833918282925674,\n",
       " 'You know, there`s a million fine looking women in the world, dude. But they don`t all bring you lasagna at work. Most of `em just cheat on you.- Kevin Smith': 1.0148408125744743}"
      ]
     },
     "execution_count": 51,
     "metadata": {},
     "output_type": "execute_result"
    }
   ],
   "source": [
    "\"\"\"Create a function that calls on the original dictionary for the word, & then returns the TF-IDF score\"\"\"\n",
    "def word_search(w):\n",
    "    dictionary = {}\n",
    "    for k in rp_dict[w]:\n",
    "        dictionary[k] = cal_TF_IDF(w,k)\n",
    "    return dictionary\n",
    "\n",
    "word_search('most')"
   ]
  },
  {
   "cell_type": "markdown",
   "metadata": {},
   "source": [
    "## 3g\n",
    "\n",
    "**Quote search using multiple words (5 points).**  \n",
    "Write a function that takes a list of words as argument, and returns a dictionary whose keys are full quotes containing one or more of the words in that list, and whose values are the sum of TF-IDF scores of the words in that list for that full\n",
    "quote. \n",
    "\n",
    "For example, if you called the function with the list of words [heart, mind, disease], and you have a full quote “The heart has its reasons, of which the mind knows nothing - Blaise Pascal”, then you want to compute the sum of TF-IDF scores of heart and mind for this full quote."
   ]
  },
  {
   "cell_type": "code",
   "execution_count": 52,
   "metadata": {},
   "outputs": [
    {
     "data": {
      "text/plain": [
       "{'An actor is at most a poet and at least an entertainer.- Marlon Brando': 6.236846153472451,\n",
       " 'Never confuse the size of your paycheck with the size of your talent.- Marlon Brando': 2.84348767816991,\n",
       " 'To grasp the full significance of life is the actor`s duty, to interpret it is his problem and to express it his dedication.- Marlon Brando': 1.8956584521132733}"
      ]
     },
     "execution_count": 52,
     "metadata": {},
     "output_type": "execute_result"
    }
   ],
   "source": [
    "\"\"\"creates a final function that takes a list of words and returns a dictionary that has full quotes & TF-IDF scores\"\"\"\n",
    "words = []\n",
    "from collections import Counter\n",
    "def search_mul_wor(w):\n",
    "    x ={}\n",
    "    for i in range(len(w)):\n",
    "        x = dict(Counter(word_search(w[i]))+Counter(x))\n",
    "    return x\n",
    "\n",
    "w = ['entertainer','marlon']\n",
    "search_mul_wor(w)"
   ]
  }
 ],
 "metadata": {
  "kernelspec": {
   "display_name": "Python 2",
   "language": "python",
   "name": "python2"
  },
  "language_info": {
   "codemirror_mode": {
    "name": "ipython",
    "version": 2
   },
   "file_extension": ".py",
   "mimetype": "text/x-python",
   "name": "python",
   "nbconvert_exporter": "python",
   "pygments_lexer": "ipython2",
   "version": "2.7.15"
  }
 },
 "nbformat": 4,
 "nbformat_minor": 2
}
